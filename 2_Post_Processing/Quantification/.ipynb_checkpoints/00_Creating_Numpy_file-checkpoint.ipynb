{
 "cells": [
  {
   "cell_type": "code",
   "execution_count": 1,
   "id": "1a80000c-cd55-41c5-aa3d-3a624cf4d573",
   "metadata": {},
   "outputs": [],
   "source": [
    "import netCDF4\n",
    "import numpy as np\n",
    "import matplotlib.pyplot as plt\n",
    "import pandas as pd\n",
    "import os\n",
    "\n",
    "import subprocess\n",
    "from matplotlib.animation import FuncAnimation\n",
    "import matplotlib.patches as patches\n",
    "from matplotlib.colors import ListedColormap\n",
    "from scipy.io import loadmat\n",
    "import natsort, pathlib\n",
    "import os\n",
    "import glob"
   ]
  },
  {
   "cell_type": "code",
   "execution_count": 2,
   "id": "c0df41fe-9900-408a-a1cd-049934e6d94a",
   "metadata": {},
   "outputs": [],
   "source": [
    "colormap_data = loadmat('cold2hot.mat')\n",
    "cold2hot = ListedColormap(colormap_data['colormap'])\n",
    "hot2cold = ListedColormap(colormap_data['colormap'][::-1])"
   ]
  },
  {
   "cell_type": "markdown",
   "id": "07228fc0-3228-4858-9928-ca9635917f9a",
   "metadata": {},
   "source": [
    "# Gaussian HS"
   ]
  },
  {
   "cell_type": "markdown",
   "id": "07ca0ce8-dc06-4773-81f2-8c20b0f5d54c",
   "metadata": {},
   "source": [
    "## TDB Free Energy"
   ]
  },
  {
   "cell_type": "code",
   "execution_count": 3,
   "id": "7714beb4-5dbb-4cc1-856c-722fa4aaf9c1",
   "metadata": {},
   "outputs": [],
   "source": [
    "path = os.path.abspath('../../0_MOOSE_Input_Files/Heat_Sources/Gaussian/TDB/exodus/')"
   ]
  },
  {
   "cell_type": "code",
   "execution_count": 4,
   "id": "f40caff5-2ddb-454d-a27c-4ad8efb82b1c",
   "metadata": {},
   "outputs": [],
   "source": [
    "model_path = path+'/Au-Au.e'\n",
    "model = netCDF4.Dataset(model_path)"
   ]
  },
  {
   "cell_type": "code",
   "execution_count": 5,
   "id": "1b53039c-f327-49e2-befd-4fe34f04012c",
   "metadata": {},
   "outputs": [
    {
     "data": {
      "text/plain": [
       "{'len_name': <class 'netCDF4._netCDF4.Dimension'>: name = 'len_name', size = 256,\n",
       " 'time_step': <class 'netCDF4._netCDF4.Dimension'> (unlimited): name = 'time_step', size = 453,\n",
       " 'num_dim': <class 'netCDF4._netCDF4.Dimension'>: name = 'num_dim', size = 2,\n",
       " 'num_nodes': <class 'netCDF4._netCDF4.Dimension'>: name = 'num_nodes', size = 80601,\n",
       " 'num_elem': <class 'netCDF4._netCDF4.Dimension'>: name = 'num_elem', size = 20000,\n",
       " 'num_el_blk': <class 'netCDF4._netCDF4.Dimension'>: name = 'num_el_blk', size = 1,\n",
       " 'num_node_sets': <class 'netCDF4._netCDF4.Dimension'>: name = 'num_node_sets', size = 4,\n",
       " 'num_side_sets': <class 'netCDF4._netCDF4.Dimension'>: name = 'num_side_sets', size = 4,\n",
       " 'num_el_in_blk1': <class 'netCDF4._netCDF4.Dimension'>: name = 'num_el_in_blk1', size = 20000,\n",
       " 'num_nod_per_el1': <class 'netCDF4._netCDF4.Dimension'>: name = 'num_nod_per_el1', size = 9,\n",
       " 'num_side_ss1': <class 'netCDF4._netCDF4.Dimension'>: name = 'num_side_ss1', size = 200,\n",
       " 'num_side_ss2': <class 'netCDF4._netCDF4.Dimension'>: name = 'num_side_ss2', size = 100,\n",
       " 'num_side_ss3': <class 'netCDF4._netCDF4.Dimension'>: name = 'num_side_ss3', size = 200,\n",
       " 'num_side_ss4': <class 'netCDF4._netCDF4.Dimension'>: name = 'num_side_ss4', size = 100,\n",
       " 'num_nod_ns1': <class 'netCDF4._netCDF4.Dimension'>: name = 'num_nod_ns1', size = 401,\n",
       " 'num_nod_ns2': <class 'netCDF4._netCDF4.Dimension'>: name = 'num_nod_ns2', size = 201,\n",
       " 'num_nod_ns3': <class 'netCDF4._netCDF4.Dimension'>: name = 'num_nod_ns3', size = 401,\n",
       " 'num_nod_ns4': <class 'netCDF4._netCDF4.Dimension'>: name = 'num_nod_ns4', size = 201,\n",
       " 'num_nod_var': <class 'netCDF4._netCDF4.Dimension'>: name = 'num_nod_var', size = 5,\n",
       " 'num_elem_var': <class 'netCDF4._netCDF4.Dimension'>: name = 'num_elem_var', size = 1,\n",
       " 'num_glo_var': <class 'netCDF4._netCDF4.Dimension'>: name = 'num_glo_var', size = 4,\n",
       " 'num_info': <class 'netCDF4._netCDF4.Dimension'>: name = 'num_info', size = 2328,\n",
       " 'len_line': <class 'netCDF4._netCDF4.Dimension'>: name = 'len_line', size = 81}"
      ]
     },
     "execution_count": 5,
     "metadata": {},
     "output_type": "execute_result"
    }
   ],
   "source": [
    "model.dimensions"
   ]
  },
  {
   "cell_type": "code",
   "execution_count": 6,
   "id": "a17dba23-32cf-4ff2-8b69-d47f8643ab61",
   "metadata": {},
   "outputs": [
    {
     "data": {
      "text/plain": [
       "dict_keys(['time_whole', 'eb_status', 'eb_prop1', 'ns_status', 'ns_prop1', 'ss_status', 'ss_prop1', 'coordx', 'coordy', 'eb_names', 'ns_names', 'ss_names', 'coor_names', 'node_num_map', 'connect1', 'elem_num_map', 'elem_ss1', 'side_ss1', 'elem_ss2', 'side_ss2', 'elem_ss3', 'side_ss3', 'elem_ss4', 'side_ss4', 'node_ns1', 'node_ns2', 'node_ns3', 'node_ns4', 'name_nod_var', 'vals_nod_var1', 'vals_nod_var2', 'vals_nod_var3', 'vals_nod_var4', 'vals_nod_var5', 'name_elem_var', 'vals_elem_var1eb1', 'elem_var_tab', 'name_glo_var', 'vals_glo_var', 'info_records'])"
      ]
     },
     "execution_count": 6,
     "metadata": {},
     "output_type": "execute_result"
    }
   ],
   "source": [
    "model.variables.keys()"
   ]
  },
  {
   "cell_type": "code",
   "execution_count": 7,
   "id": "65904b59-9535-4c3f-b211-1a82e4af3ca5",
   "metadata": {},
   "outputs": [
    {
     "name": "stdout",
     "output_type": "stream",
     "text": [
      "['eta1', 'p', 'temp', 'vel_x', 'vel_y']\n"
     ]
    }
   ],
   "source": [
    "names = model.variables[\"name_nod_var\"]\n",
    "names.set_auto_mask(False)\n",
    "param_in_exodus = [b\"\".join(c).decode(\"latin1\") for c in names[:]]\n",
    "print(param_in_exodus)"
   ]
  },
  {
   "cell_type": "code",
   "execution_count": 8,
   "id": "9e6e17f3-11b2-4b38-98cb-7a3c5c99eab3",
   "metadata": {},
   "outputs": [],
   "source": [
    "parameters = ['vals_nod_var1', 'vals_nod_var2', 'vals_nod_var3', 'vals_nod_var4', 'vals_nod_var5',]"
   ]
  },
  {
   "cell_type": "code",
   "execution_count": 9,
   "id": "15e7b576-3700-4323-9516-1210f2012194",
   "metadata": {},
   "outputs": [
    {
     "data": {
      "text/html": [
       "<div>\n",
       "<style scoped>\n",
       "    .dataframe tbody tr th:only-of-type {\n",
       "        vertical-align: middle;\n",
       "    }\n",
       "\n",
       "    .dataframe tbody tr th {\n",
       "        vertical-align: top;\n",
       "    }\n",
       "\n",
       "    .dataframe thead th {\n",
       "        text-align: right;\n",
       "    }\n",
       "</style>\n",
       "<table border=\"1\" class=\"dataframe\">\n",
       "  <thead>\n",
       "    <tr style=\"text-align: right;\">\n",
       "      <th></th>\n",
       "      <th>time</th>\n",
       "      <th>area_h1</th>\n",
       "      <th>temp_avg</th>\n",
       "      <th>temp_max</th>\n",
       "      <th>temp_min</th>\n",
       "    </tr>\n",
       "  </thead>\n",
       "  <tbody>\n",
       "    <tr>\n",
       "      <th>0</th>\n",
       "      <td>0.000000</td>\n",
       "      <td>2680.208333</td>\n",
       "      <td>0.000000</td>\n",
       "      <td>0.000000</td>\n",
       "      <td>0.000000</td>\n",
       "    </tr>\n",
       "    <tr>\n",
       "      <th>1</th>\n",
       "      <td>0.003750</td>\n",
       "      <td>2674.076641</td>\n",
       "      <td>311.828548</td>\n",
       "      <td>413.862730</td>\n",
       "      <td>300.001329</td>\n",
       "    </tr>\n",
       "    <tr>\n",
       "      <th>2</th>\n",
       "      <td>0.007500</td>\n",
       "      <td>2667.848677</td>\n",
       "      <td>317.610919</td>\n",
       "      <td>464.817085</td>\n",
       "      <td>300.002214</td>\n",
       "    </tr>\n",
       "    <tr>\n",
       "      <th>3</th>\n",
       "      <td>0.009375</td>\n",
       "      <td>2664.702717</td>\n",
       "      <td>320.619362</td>\n",
       "      <td>495.943443</td>\n",
       "      <td>300.002608</td>\n",
       "    </tr>\n",
       "    <tr>\n",
       "      <th>4</th>\n",
       "      <td>0.011250</td>\n",
       "      <td>2661.543817</td>\n",
       "      <td>324.365336</td>\n",
       "      <td>541.564286</td>\n",
       "      <td>300.003048</td>\n",
       "    </tr>\n",
       "  </tbody>\n",
       "</table>\n",
       "</div>"
      ],
      "text/plain": [
       "       time      area_h1    temp_avg    temp_max    temp_min\n",
       "0  0.000000  2680.208333    0.000000    0.000000    0.000000\n",
       "1  0.003750  2674.076641  311.828548  413.862730  300.001329\n",
       "2  0.007500  2667.848677  317.610919  464.817085  300.002214\n",
       "3  0.009375  2664.702717  320.619362  495.943443  300.002608\n",
       "4  0.011250  2661.543817  324.365336  541.564286  300.003048"
      ]
     },
     "execution_count": 9,
     "metadata": {},
     "output_type": "execute_result"
    }
   ],
   "source": [
    "area_df1 = pd.read_csv(path+'/Au-Au.csv',  encoding='utf-8')\n",
    "real_time = np.array(area_df1['time'])\n",
    "area_df1.head()"
   ]
  },
  {
   "cell_type": "code",
   "execution_count": 10,
   "id": "405d05bf-304e-48fc-9638-022765dc0f22",
   "metadata": {},
   "outputs": [],
   "source": [
    "LIQ, press, temp, velX, velY = [], [], [], [], []\n",
    "\n",
    "for i in range(5):\n",
    "    param = model.variables[parameters[i]][:]\n",
    "\n",
    "    X_all = model.variables['coordx'][:]\n",
    "    Y_all = model.variables['coordy'][:]\n",
    "    \n",
    "    points = np.vstack([Y_all,X_all,param]).T\n",
    "    \n",
    "    column_names = ['X', 'Y'] + list(range(param.shape[0]))\n",
    "    df = pd.DataFrame(points, columns=column_names)\n",
    "    df = df.sort_values(by = ['X', 'Y'], ascending = [True, True], ignore_index=True)\n",
    "    df_param = df.iloc[:, 2:]\n",
    "    \n",
    "    x_dim  = model.dimensions['num_nod_ns1'].size\n",
    "    y_dim =  model.dimensions['num_nod_ns2'].size\n",
    "    time_steps = model.dimensions['time_step'].size\n",
    "    array_ = df_param.to_numpy().flatten().reshape(y_dim, x_dim, time_steps)\n",
    "    array = np.flip(array_, axis=0)\n",
    "    if i == 0:\n",
    "        LIQ.append(array)\n",
    "    elif i == 1:\n",
    "        press.append(array)\n",
    "    elif i == 2:\n",
    "        temp.append(array)\n",
    "    elif i == 3:\n",
    "        velX.append(array)\n",
    "    else:\n",
    "        velY.append(array)\n",
    "\n",
    "time = np.array(model.variables['time_whole'][:]).reshape((-1, ))\n",
    "\n",
    "# time = np.array(model.variables['time_whole'][:]).reshape((-1, ))\n",
    "LIQ, press, temp, velX, velY, = np.clip(LIQ[0][:,:,:], 0, 1), press[0][:,:,:], temp[0][:,:,:], velX[0][:,:,:], velY[0][:,:,:]\n",
    "FCC = 1 - LIQ\n",
    "\n",
    "vel = (velX**2 + velY**2)**0.5"
   ]
  },
  {
   "cell_type": "code",
   "execution_count": 11,
   "id": "2bb9099d-d113-464f-a6f5-659e41b2d3e3",
   "metadata": {},
   "outputs": [],
   "source": [
    "##########################################\n",
    "# Saving as Npmpy Files\n",
    "path = os.path.abspath('../../1_Simulation_Results/numpy_files/Gaussian/TDB/')\n",
    "np.save(path+'/LIQ.npy', LIQ)\n",
    "np.save(path+'/FCC.npy', FCC)\n",
    "np.save(path+'/vel.npy', vel)\n",
    "np.save(path+'/temp.npy', temp)\n",
    "np.save(path+'/time.npy', time)\n",
    "\n",
    "np.savez(path+'/Gaussian_TDB.npz', arr1=LIQ, arr2=FCC, arr3=vel, arr4=temp, arr5=time)"
   ]
  },
  {
   "cell_type": "code",
   "execution_count": 12,
   "id": "ee5203d6-98a3-4c00-88f6-68411e341eff",
   "metadata": {},
   "outputs": [
    {
     "data": {
      "image/png": "[encoded data removed]",
      "text/plain": [
       "<Figure size 1200x800 with 1 Axes>"
      ]
     },
     "metadata": {},
     "output_type": "display_data"
    }
   ],
   "source": [
    "fig, ax1 = plt.subplots(1,1, figsize=(12,8), frameon=True)\n",
    "cmap = cold2hot\n",
    "cmap.set_under('white', alpha=0)\n",
    "hmap1 = ax1.imshow(FCC[:,:,200], cmap=cmap, vmin=0.5, vmax=1.0, aspect=0.5,  interpolation='bilinear')\n",
    "cmap = plt.get_cmap('RdYlGn_r')\n",
    "cmap.set_under('white', alpha=0) \n",
    "hmap2 = ax1.imshow(LIQ[:,:,200], cmap=cmap, vmin=0.5, vmax=1.0, aspect=0.5, interpolation='bilinear')"
   ]
  },
  {
   "cell_type": "code",
   "execution_count": null,
   "id": "f84ae584-b13a-424f-97da-173c1f47f4de",
   "metadata": {},
   "outputs": [],
   "source": []
  },
  {
   "cell_type": "markdown",
   "id": "19c09d69-14a2-4ed9-94b5-6d12cfbbc1d9",
   "metadata": {
    "jp-MarkdownHeadingCollapsed": true
   },
   "source": [
    "## Fitted Free Energy"
   ]
  },
  {
   "cell_type": "code",
   "execution_count": null,
   "id": "4e708f95-a72e-46d3-aa11-41476ea7e413",
   "metadata": {},
   "outputs": [],
   "source": [
    "path = os.path.abspath('../../0_MOOSE_Input_Files/Heat_Sources/Gaussian/Fitting/exodus/')"
   ]
  },
  {
   "cell_type": "code",
   "execution_count": null,
   "id": "684303ff-58d7-4d2a-b277-68a37281d543",
   "metadata": {},
   "outputs": [],
   "source": [
    "model_path = path+'/Au-Au.e'\n",
    "model = netCDF4.Dataset(model_path)"
   ]
  },
  {
   "cell_type": "code",
   "execution_count": null,
   "id": "32c73056-8883-468b-a9b6-f8741493f603",
   "metadata": {},
   "outputs": [],
   "source": [
    "model.dimensions"
   ]
  },
  {
   "cell_type": "code",
   "execution_count": null,
   "id": "ccd1f21e-2553-4d0f-8b3c-d7f58f2a0732",
   "metadata": {},
   "outputs": [],
   "source": [
    "model.variables.keys()"
   ]
  },
  {
   "cell_type": "code",
   "execution_count": null,
   "id": "3198db0d-c4e2-42e2-bd1d-e44c5d6caa6b",
   "metadata": {},
   "outputs": [],
   "source": [
    "names = model.variables[\"name_nod_var\"]\n",
    "names.set_auto_mask(False)\n",
    "param_in_exodus = [b\"\".join(c).decode(\"latin1\") for c in names[:]]\n",
    "print(param_in_exodus)"
   ]
  },
  {
   "cell_type": "code",
   "execution_count": null,
   "id": "625fe6d6-d9a7-49ef-8a50-2fadeba7e243",
   "metadata": {},
   "outputs": [],
   "source": [
    "parameters = ['vals_nod_var1', 'vals_nod_var2', 'vals_nod_var3', 'vals_nod_var4', 'vals_nod_var5',]"
   ]
  },
  {
   "cell_type": "code",
   "execution_count": null,
   "id": "0336768d-531f-468a-8ce3-5ac421a3991a",
   "metadata": {},
   "outputs": [],
   "source": [
    "area_df1 = pd.read_csv(path+'/Au-Au.csv',  encoding='utf-8')\n",
    "real_time = np.array(area_df1['time'])\n",
    "area_df1.head()"
   ]
  },
  {
   "cell_type": "code",
   "execution_count": null,
   "id": "c5ed42e2-03aa-4a5e-b439-a05a8e87c777",
   "metadata": {},
   "outputs": [],
   "source": [
    "LIQ, press, temp, velX, velY = [], [], [], [], []\n",
    "\n",
    "for i in range(5):\n",
    "    param = model.variables[parameters[i]][:]\n",
    "\n",
    "    X_all = model.variables['coordx'][:]\n",
    "    Y_all = model.variables['coordy'][:]\n",
    "    \n",
    "    points = np.vstack([Y_all,X_all,param]).T\n",
    "    \n",
    "    column_names = ['X', 'Y'] + list(range(param.shape[0]))\n",
    "    df = pd.DataFrame(points, columns=column_names)\n",
    "    df = df.sort_values(by = ['X', 'Y'], ascending = [True, True], ignore_index=True)\n",
    "    df_param = df.iloc[:, 2:]\n",
    "    \n",
    "    x_dim  = model.dimensions['num_nod_ns1'].size\n",
    "    y_dim =  model.dimensions['num_nod_ns2'].size\n",
    "    time_steps = model.dimensions['time_step'].size\n",
    "    array_ = df_param.to_numpy().flatten().reshape(y_dim, x_dim, time_steps)\n",
    "    array = np.flip(array_, axis=0)\n",
    "    if i == 0:\n",
    "        LIQ.append(array)\n",
    "    elif i == 1:\n",
    "        press.append(array)\n",
    "    elif i == 2:\n",
    "        temp.append(array)\n",
    "    elif i == 3:\n",
    "        velX.append(array)\n",
    "    else:\n",
    "        velY.append(array)\n",
    "\n",
    "time = np.array(model.variables['time_whole'][:]).reshape((-1, ))\n",
    "\n",
    "# time = np.array(model.variables['time_whole'][:]).reshape((-1, ))\n",
    "LIQ, press, temp, velX, velY, = np.clip(LIQ[0][:,:,:], 0, 1), press[0][:,:,:], temp[0][:,:,:], velX[0][:,:,:], velY[0][:,:,:]\n",
    "FCC = 1- LIQ\n",
    "\n",
    "vel = (velX**2 + velY**2)**0.5"
   ]
  },
  {
   "cell_type": "code",
   "execution_count": null,
   "id": "125afb5a-f252-4b7e-b752-ad3a3f85dc6e",
   "metadata": {},
   "outputs": [],
   "source": [
    "##########################################\n",
    "# Saving as Npmpy Files\n",
    "path = os.path.abspath('../../1_Simulation_Results/numpy_files/Gaussian/Fitting/')\n",
    "np.save(path+'/LIQ.npy', LIQ)\n",
    "np.save(path+'/FCC.npy', FCC)\n",
    "np.save(path+'/vel.npy', vel)\n",
    "np.save(path+'/temp.npy', temp)\n",
    "np.save(path+'/time.npy', time)\n",
    "\n",
    "np.savez(path+'/Gaussian_Fitting.npz', arr1=LIQ, arr2=FCC, arr3=vel, arr4=temp, arr5=time)"
   ]
  },
  {
   "cell_type": "code",
   "execution_count": null,
   "id": "167c654b-571c-438e-b287-ec74e81c4034",
   "metadata": {},
   "outputs": [],
   "source": [
    "fig, ax1 = plt.subplots(1,1, figsize=(12,8), frameon=True)\n",
    "cmap = cold2hot\n",
    "cmap.set_under('white', alpha=0)\n",
    "hmap1 = ax1.imshow(FCC[:,:,200], cmap=cmap, vmin=0.5, vmax=1.0, aspect=0.5,  interpolation='bilinear')\n",
    "cmap = plt.get_cmap('RdYlGn_r')\n",
    "cmap.set_under('white', alpha=0) \n",
    "hmap2 = ax1.imshow(LIQ[:,:,200], cmap=cmap, vmin=0.5, vmax=1.0, aspect=0.5, interpolation='bilinear')"
   ]
  },
  {
   "cell_type": "code",
   "execution_count": null,
   "id": "b3234ba9-675e-45d9-8a78-c2e07bdb8ffc",
   "metadata": {},
   "outputs": [],
   "source": []
  },
  {
   "cell_type": "code",
   "execution_count": null,
   "id": "b665f3cc-f958-47d7-9505-9f46e1c498e0",
   "metadata": {},
   "outputs": [],
   "source": []
  },
  {
   "cell_type": "markdown",
   "id": "eeccdde2-b075-4970-9284-257f82c65947",
   "metadata": {
    "jp-MarkdownHeadingCollapsed": true
   },
   "source": [
    "# FlatTop HS"
   ]
  },
  {
   "cell_type": "markdown",
   "id": "0af5d058-327c-40c3-aca1-360663abbbfb",
   "metadata": {},
   "source": [
    "## TDB Free Energy"
   ]
  },
  {
   "cell_type": "code",
   "execution_count": 3,
   "id": "6c0941e2-2d6d-44b0-bd07-cc81c102e12d",
   "metadata": {},
   "outputs": [],
   "source": [
    "path = os.path.abspath('../../0_MOOSE_Input_Files/Heat_Sources/FlatTop/TDB/exodus/')"
   ]
  },
  {
   "cell_type": "code",
   "execution_count": 4,
   "id": "7a6da92b-d779-4267-a810-eea1e2c992f3",
   "metadata": {},
   "outputs": [],
   "source": [
    "model_path = path+'/Au-Au.e'\n",
    "model = netCDF4.Dataset(model_path)"
   ]
  },
  {
   "cell_type": "code",
   "execution_count": 5,
   "id": "173a49df-30d8-44dc-bdc3-f6bc2e400c8f",
   "metadata": {},
   "outputs": [
    {
     "data": {
      "text/plain": [
       "{'len_name': <class 'netCDF4._netCDF4.Dimension'>: name = 'len_name', size = 256,\n",
       " 'time_step': <class 'netCDF4._netCDF4.Dimension'> (unlimited): name = 'time_step', size = 453,\n",
       " 'num_dim': <class 'netCDF4._netCDF4.Dimension'>: name = 'num_dim', size = 2,\n",
       " 'num_nodes': <class 'netCDF4._netCDF4.Dimension'>: name = 'num_nodes', size = 80601,\n",
       " 'num_elem': <class 'netCDF4._netCDF4.Dimension'>: name = 'num_elem', size = 20000,\n",
       " 'num_el_blk': <class 'netCDF4._netCDF4.Dimension'>: name = 'num_el_blk', size = 1,\n",
       " 'num_node_sets': <class 'netCDF4._netCDF4.Dimension'>: name = 'num_node_sets', size = 4,\n",
       " 'num_side_sets': <class 'netCDF4._netCDF4.Dimension'>: name = 'num_side_sets', size = 4,\n",
       " 'num_el_in_blk1': <class 'netCDF4._netCDF4.Dimension'>: name = 'num_el_in_blk1', size = 20000,\n",
       " 'num_nod_per_el1': <class 'netCDF4._netCDF4.Dimension'>: name = 'num_nod_per_el1', size = 9,\n",
       " 'num_side_ss1': <class 'netCDF4._netCDF4.Dimension'>: name = 'num_side_ss1', size = 200,\n",
       " 'num_side_ss2': <class 'netCDF4._netCDF4.Dimension'>: name = 'num_side_ss2', size = 100,\n",
       " 'num_side_ss3': <class 'netCDF4._netCDF4.Dimension'>: name = 'num_side_ss3', size = 200,\n",
       " 'num_side_ss4': <class 'netCDF4._netCDF4.Dimension'>: name = 'num_side_ss4', size = 100,\n",
       " 'num_nod_ns1': <class 'netCDF4._netCDF4.Dimension'>: name = 'num_nod_ns1', size = 401,\n",
       " 'num_nod_ns2': <class 'netCDF4._netCDF4.Dimension'>: name = 'num_nod_ns2', size = 201,\n",
       " 'num_nod_ns3': <class 'netCDF4._netCDF4.Dimension'>: name = 'num_nod_ns3', size = 401,\n",
       " 'num_nod_ns4': <class 'netCDF4._netCDF4.Dimension'>: name = 'num_nod_ns4', size = 201,\n",
       " 'num_nod_var': <class 'netCDF4._netCDF4.Dimension'>: name = 'num_nod_var', size = 5,\n",
       " 'num_elem_var': <class 'netCDF4._netCDF4.Dimension'>: name = 'num_elem_var', size = 1,\n",
       " 'num_glo_var': <class 'netCDF4._netCDF4.Dimension'>: name = 'num_glo_var', size = 4,\n",
       " 'num_info': <class 'netCDF4._netCDF4.Dimension'>: name = 'num_info', size = 2328,\n",
       " 'len_line': <class 'netCDF4._netCDF4.Dimension'>: name = 'len_line', size = 81}"
      ]
     },
     "execution_count": 5,
     "metadata": {},
     "output_type": "execute_result"
    }
   ],
   "source": [
    "model.dimensions"
   ]
  },
  {
   "cell_type": "code",
   "execution_count": 6,
   "id": "659c52e9-86b0-445b-97e3-c19eff7208ab",
   "metadata": {},
   "outputs": [
    {
     "data": {
      "text/plain": [
       "dict_keys(['time_whole', 'eb_status', 'eb_prop1', 'ns_status', 'ns_prop1', 'ss_status', 'ss_prop1', 'coordx', 'coordy', 'eb_names', 'ns_names', 'ss_names', 'coor_names', 'node_num_map', 'connect1', 'elem_num_map', 'elem_ss1', 'side_ss1', 'elem_ss2', 'side_ss2', 'elem_ss3', 'side_ss3', 'elem_ss4', 'side_ss4', 'node_ns1', 'node_ns2', 'node_ns3', 'node_ns4', 'name_nod_var', 'vals_nod_var1', 'vals_nod_var2', 'vals_nod_var3', 'vals_nod_var4', 'vals_nod_var5', 'name_elem_var', 'vals_elem_var1eb1', 'elem_var_tab', 'name_glo_var', 'vals_glo_var', 'info_records'])"
      ]
     },
     "execution_count": 6,
     "metadata": {},
     "output_type": "execute_result"
    }
   ],
   "source": [
    "model.variables.keys()"
   ]
  },
  {
   "cell_type": "code",
   "execution_count": 7,
   "id": "d2c7d89b-3840-40ee-9e06-9440748ae979",
   "metadata": {},
   "outputs": [
    {
     "name": "stdout",
     "output_type": "stream",
     "text": [
      "['eta1', 'p', 'temp', 'vel_x', 'vel_y']\n"
     ]
    }
   ],
   "source": [
    "names = model.variables[\"name_nod_var\"]\n",
    "names.set_auto_mask(False)\n",
    "param_in_exodus = [b\"\".join(c).decode(\"latin1\") for c in names[:]]\n",
    "print(param_in_exodus)"
   ]
  },
  {
   "cell_type": "code",
   "execution_count": 8,
   "id": "99fc1125-4e95-4795-8cba-4d43c156c6f8",
   "metadata": {},
   "outputs": [],
   "source": [
    "parameters = ['vals_nod_var1', 'vals_nod_var2', 'vals_nod_var3', 'vals_nod_var4', 'vals_nod_var5',]"
   ]
  },
  {
   "cell_type": "code",
   "execution_count": 9,
   "id": "06dd284e-429c-443e-97c4-4bab12d5afe6",
   "metadata": {},
   "outputs": [
    {
     "data": {
      "text/html": [
       "<div>\n",
       "<style scoped>\n",
       "    .dataframe tbody tr th:only-of-type {\n",
       "        vertical-align: middle;\n",
       "    }\n",
       "\n",
       "    .dataframe tbody tr th {\n",
       "        vertical-align: top;\n",
       "    }\n",
       "\n",
       "    .dataframe thead th {\n",
       "        text-align: right;\n",
       "    }\n",
       "</style>\n",
       "<table border=\"1\" class=\"dataframe\">\n",
       "  <thead>\n",
       "    <tr style=\"text-align: right;\">\n",
       "      <th></th>\n",
       "      <th>time</th>\n",
       "      <th>area_h1</th>\n",
       "      <th>temp_avg</th>\n",
       "      <th>temp_max</th>\n",
       "      <th>temp_min</th>\n",
       "    </tr>\n",
       "  </thead>\n",
       "  <tbody>\n",
       "    <tr>\n",
       "      <th>0</th>\n",
       "      <td>0.000000</td>\n",
       "      <td>2680.208333</td>\n",
       "      <td>0.000000</td>\n",
       "      <td>0.000000</td>\n",
       "      <td>0.000000</td>\n",
       "    </tr>\n",
       "    <tr>\n",
       "      <th>1</th>\n",
       "      <td>0.003750</td>\n",
       "      <td>2674.076641</td>\n",
       "      <td>311.828548</td>\n",
       "      <td>413.862730</td>\n",
       "      <td>300.001329</td>\n",
       "    </tr>\n",
       "    <tr>\n",
       "      <th>2</th>\n",
       "      <td>0.007500</td>\n",
       "      <td>2667.848677</td>\n",
       "      <td>317.610919</td>\n",
       "      <td>464.817085</td>\n",
       "      <td>300.002214</td>\n",
       "    </tr>\n",
       "    <tr>\n",
       "      <th>3</th>\n",
       "      <td>0.009375</td>\n",
       "      <td>2664.702717</td>\n",
       "      <td>320.619362</td>\n",
       "      <td>495.943443</td>\n",
       "      <td>300.002608</td>\n",
       "    </tr>\n",
       "    <tr>\n",
       "      <th>4</th>\n",
       "      <td>0.011250</td>\n",
       "      <td>2661.543817</td>\n",
       "      <td>324.365336</td>\n",
       "      <td>541.564286</td>\n",
       "      <td>300.003048</td>\n",
       "    </tr>\n",
       "  </tbody>\n",
       "</table>\n",
       "</div>"
      ],
      "text/plain": [
       "       time      area_h1    temp_avg    temp_max    temp_min\n",
       "0  0.000000  2680.208333    0.000000    0.000000    0.000000\n",
       "1  0.003750  2674.076641  311.828548  413.862730  300.001329\n",
       "2  0.007500  2667.848677  317.610919  464.817085  300.002214\n",
       "3  0.009375  2664.702717  320.619362  495.943443  300.002608\n",
       "4  0.011250  2661.543817  324.365336  541.564286  300.003048"
      ]
     },
     "execution_count": 9,
     "metadata": {},
     "output_type": "execute_result"
    }
   ],
   "source": [
    "area_df1 = pd.read_csv(path+'/Au-Au.csv',  encoding='utf-8')\n",
    "real_time = np.array(area_df1['time'])\n",
    "area_df1.head()"
   ]
  },
  {
   "cell_type": "code",
   "execution_count": 10,
   "id": "779ade44-2bb2-4893-bb48-83a7be1e7a64",
   "metadata": {},
   "outputs": [],
   "source": [
    "LIQ, press, temp, velX, velY = [], [], [], [], []\n",
    "\n",
    "for i in range(5):\n",
    "    param = model.variables[parameters[i]][:]\n",
    "\n",
    "    X_all = model.variables['coordx'][:]\n",
    "    Y_all = model.variables['coordy'][:]\n",
    "    \n",
    "    points = np.vstack([Y_all,X_all,param]).T\n",
    "    \n",
    "    column_names = ['X', 'Y'] + list(range(param.shape[0]))\n",
    "    df = pd.DataFrame(points, columns=column_names)\n",
    "    df = df.sort_values(by = ['X', 'Y'], ascending = [True, True], ignore_index=True)\n",
    "    df_param = df.iloc[:, 2:]\n",
    "    \n",
    "    x_dim  = model.dimensions['num_nod_ns1'].size\n",
    "    y_dim =  model.dimensions['num_nod_ns2'].size\n",
    "    time_steps = model.dimensions['time_step'].size\n",
    "    array_ = df_param.to_numpy().flatten().reshape(y_dim, x_dim, time_steps)\n",
    "    array = np.flip(array_, axis=0)\n",
    "    if i == 0:\n",
    "        LIQ.append(array)\n",
    "    elif i == 1:\n",
    "        press.append(array)\n",
    "    elif i == 2:\n",
    "        temp.append(array)\n",
    "    elif i == 3:\n",
    "        velX.append(array)\n",
    "    else:\n",
    "        velY.append(array)\n",
    "\n",
    "time = np.array(model.variables['time_whole'][:]).reshape((-1, ))\n",
    "\n",
    "# time = np.array(model.variables['time_whole'][:]).reshape((-1, ))\n",
    "LIQ, press, temp, velX, velY, = np.clip(LIQ[0][:,:,:], 0, 1), press[0][:,:,:], temp[0][:,:,:], velX[0][:,:,:], velY[0][:,:,:]\n",
    "FCC = 1 - LIQ\n",
    "\n",
    "vel = (velX**2 + velY**2)**0.5"
   ]
  },
  {
   "cell_type": "code",
   "execution_count": 11,
   "id": "365e2b6c-b153-441c-a77f-90ebbe96739b",
   "metadata": {},
   "outputs": [],
   "source": [
    "##########################################\n",
    "# Saving as Npmpy Files\n",
    "path = os.path.abspath('../../1_Simulation_Results/numpy_files/FlatTop/TDB/')\n",
    "np.save(path+'/LIQ.npy', LIQ)\n",
    "np.save(path+'/FCC.npy', FCC)\n",
    "np.save(path+'/vel.npy', vel)\n",
    "np.save(path+'/temp.npy', temp)\n",
    "np.save(path+'/time.npy', time)\n",
    "\n",
    "np.savez(path+'/FlatTop_TDB.npz', arr1=LIQ, arr2=FCC, arr3=vel, arr4=temp, arr5=time)"
   ]
  },
  {
   "cell_type": "code",
   "execution_count": 12,
   "id": "bf79e252-8115-4567-a8f2-4ded97e0ed19",
   "metadata": {},
   "outputs": [
    {
     "data": {
      "image/png": "[encoded data removed]",
      "text/plain": [
       "<Figure size 1200x800 with 1 Axes>"
      ]
     },
     "metadata": {},
     "output_type": "display_data"
    }
   ],
   "source": [
    "fig, ax1 = plt.subplots(1,1, figsize=(12,8), frameon=True)\n",
    "cmap = cold2hot\n",
    "cmap.set_under('white', alpha=0)\n",
    "hmap1 = ax1.imshow(FCC[:,:,200], cmap=cmap, vmin=0.5, vmax=1.0, aspect=0.5,  interpolation='bilinear')\n",
    "cmap = plt.get_cmap('RdYlGn_r')\n",
    "cmap.set_under('white', alpha=0) \n",
    "hmap2 = ax1.imshow(LIQ[:,:,200], cmap=cmap, vmin=0.5, vmax=1.0, aspect=0.5, interpolation='bilinear')"
   ]
  },
  {
   "cell_type": "code",
   "execution_count": null,
   "id": "19a96ca8-0fda-47bb-9476-f472de093abf",
   "metadata": {},
   "outputs": [],
   "source": []
  },
  {
   "cell_type": "markdown",
   "id": "0a470b65-be3c-49ca-a59b-eccd9e3189d2",
   "metadata": {
    "jp-MarkdownHeadingCollapsed": true
   },
   "source": [
    "## Fitted Free Energy"
   ]
  },
  {
   "cell_type": "code",
   "execution_count": null,
   "id": "6261a4a9-b0ac-4ff2-b888-152280c6197c",
   "metadata": {},
   "outputs": [],
   "source": [
    "path = os.path.abspath('../../0_MOOSE_Input_Files/Heat_Sources/FlatTop/Fitting/exodus/')"
   ]
  },
  {
   "cell_type": "code",
   "execution_count": null,
   "id": "13a5ddbe-4780-4707-af22-817f352fca6b",
   "metadata": {},
   "outputs": [],
   "source": [
    "model_path = path+'/Au-Au.e'\n",
    "model = netCDF4.Dataset(model_path)"
   ]
  },
  {
   "cell_type": "code",
   "execution_count": null,
   "id": "fb861bde-02cf-470c-816d-bdc7e237da1c",
   "metadata": {},
   "outputs": [],
   "source": [
    "model.dimensions"
   ]
  },
  {
   "cell_type": "code",
   "execution_count": null,
   "id": "48d6f5bf-bb08-4bbd-8f13-e109d0b98944",
   "metadata": {},
   "outputs": [],
   "source": [
    "model.variables.keys()"
   ]
  },
  {
   "cell_type": "code",
   "execution_count": null,
   "id": "39a9c44e-bd40-4ff3-955f-d71649df11a0",
   "metadata": {},
   "outputs": [],
   "source": [
    "names = model.variables[\"name_nod_var\"]\n",
    "names.set_auto_mask(False)\n",
    "param_in_exodus = [b\"\".join(c).decode(\"latin1\") for c in names[:]]\n",
    "print(param_in_exodus)"
   ]
  },
  {
   "cell_type": "code",
   "execution_count": null,
   "id": "708227b5-d599-473f-a861-e094693d15ea",
   "metadata": {},
   "outputs": [],
   "source": [
    "parameters = ['vals_nod_var1', 'vals_nod_var2', 'vals_nod_var3', 'vals_nod_var4', 'vals_nod_var5',]"
   ]
  },
  {
   "cell_type": "code",
   "execution_count": null,
   "id": "7613fafe-2af6-4d3e-9fb8-e833c4262e73",
   "metadata": {},
   "outputs": [],
   "source": [
    "area_df1 = pd.read_csv(path+'/Au-Au.csv',  encoding='utf-8')\n",
    "real_time = np.array(area_df1['time'])\n",
    "area_df1.head()"
   ]
  },
  {
   "cell_type": "code",
   "execution_count": null,
   "id": "fa587ce9-724c-480d-805b-12d6b6069205",
   "metadata": {},
   "outputs": [],
   "source": [
    "LIQ, press, temp, velX, velY = [], [], [], [], []\n",
    "\n",
    "for i in range(5):\n",
    "    param = model.variables[parameters[i]][:]\n",
    "\n",
    "    X_all = model.variables['coordx'][:]\n",
    "    Y_all = model.variables['coordy'][:]\n",
    "    \n",
    "    points = np.vstack([Y_all,X_all,param]).T\n",
    "    \n",
    "    column_names = ['X', 'Y'] + list(range(param.shape[0]))\n",
    "    df = pd.DataFrame(points, columns=column_names)\n",
    "    df = df.sort_values(by = ['X', 'Y'], ascending = [True, True], ignore_index=True)\n",
    "    df_param = df.iloc[:, 2:]\n",
    "    \n",
    "    x_dim  = model.dimensions['num_nod_ns1'].size\n",
    "    y_dim =  model.dimensions['num_nod_ns2'].size\n",
    "    time_steps = model.dimensions['time_step'].size\n",
    "    array_ = df_param.to_numpy().flatten().reshape(y_dim, x_dim, time_steps)\n",
    "    array = np.flip(array_, axis=0)\n",
    "    if i == 0:\n",
    "        LIQ.append(array)\n",
    "    elif i == 1:\n",
    "        press.append(array)\n",
    "    elif i == 2:\n",
    "        temp.append(array)\n",
    "    elif i == 3:\n",
    "        velX.append(array)\n",
    "    else:\n",
    "        velY.append(array)\n",
    "\n",
    "time = np.array(model.variables['time_whole'][:]).reshape((-1, ))\n",
    "\n",
    "# time = np.array(model.variables['time_whole'][:]).reshape((-1, ))\n",
    "LIQ, press, temp, velX, velY, = np.clip(LIQ[0][:,:,:], 0, 1), press[0][:,:,:], temp[0][:,:,:], velX[0][:,:,:], velY[0][:,:,:]\n",
    "FCC = 1- LIQ\n",
    "\n",
    "vel = (velX**2 + velY**2)**0.5"
   ]
  },
  {
   "cell_type": "code",
   "execution_count": null,
   "id": "f35c8e89-183f-4880-81dd-709032932e97",
   "metadata": {},
   "outputs": [],
   "source": [
    "##########################################\n",
    "# Saving as Npmpy Files\n",
    "path = os.path.abspath('../../1_Simulation_Results/numpy_files/FlatTop/Fitting/')\n",
    "np.save(path+'/LIQ.npy', LIQ)\n",
    "np.save(path+'/FCC.npy', FCC)\n",
    "np.save(path+'/vel.npy', vel)\n",
    "np.save(path+'/temp.npy', temp)\n",
    "np.save(path+'/time.npy', time)\n",
    "\n",
    "np.savez(path+'/FlatTop_Fitting.npz', arr1=LIQ, arr2=FCC, arr3=vel, arr4=temp, arr5=time)"
   ]
  },
  {
   "cell_type": "code",
   "execution_count": null,
   "id": "6504abb0-d85a-41b8-969e-ff1e3aa5bff1",
   "metadata": {},
   "outputs": [],
   "source": [
    "fig, ax1 = plt.subplots(1,1, figsize=(12,8), frameon=True)\n",
    "cmap = cold2hot\n",
    "cmap.set_under('white', alpha=0)\n",
    "hmap1 = ax1.imshow(FCC[:,:,200], cmap=cmap, vmin=0.5, vmax=1.0, aspect=0.5,  interpolation='bilinear')\n",
    "cmap = plt.get_cmap('RdYlGn_r')\n",
    "cmap.set_under('white', alpha=0) \n",
    "hmap2 = ax1.imshow(LIQ[:,:,200], cmap=cmap, vmin=0.5, vmax=1.0, aspect=0.5, interpolation='bilinear')"
   ]
  },
  {
   "cell_type": "code",
   "execution_count": null,
   "id": "c3def011-c893-4991-80ef-90cdb89740b2",
   "metadata": {},
   "outputs": [],
   "source": []
  },
  {
   "cell_type": "markdown",
   "id": "cdc422c4-38f5-4c41-bcd2-f0725f99a8c3",
   "metadata": {},
   "source": [
    "# Ring HS"
   ]
  },
  {
   "cell_type": "markdown",
   "id": "105dee63-23de-419e-85bb-1b99d454f0f6",
   "metadata": {},
   "source": [
    "## TDB Free Energy"
   ]
  },
  {
   "cell_type": "code",
   "execution_count": 13,
   "id": "3c3e99f3-492f-4b55-ac60-22497201ed9a",
   "metadata": {},
   "outputs": [],
   "source": [
    "path = os.path.abspath('../../0_MOOSE_Input_Files/Heat_Sources/Ring/TDB/exodus/')"
   ]
  },
  {
   "cell_type": "code",
   "execution_count": 14,
   "id": "7bbd68c6-fabf-405a-8b63-3cb97ab65b46",
   "metadata": {},
   "outputs": [],
   "source": [
    "model_path = path+'/Au-Au.e'\n",
    "model = netCDF4.Dataset(model_path)"
   ]
  },
  {
   "cell_type": "code",
   "execution_count": 15,
   "id": "c750a19c-51bc-4315-a137-417e1141cf6b",
   "metadata": {},
   "outputs": [
    {
     "data": {
      "text/plain": [
       "{'len_name': <class 'netCDF4._netCDF4.Dimension'>: name = 'len_name', size = 256,\n",
       " 'time_step': <class 'netCDF4._netCDF4.Dimension'> (unlimited): name = 'time_step', size = 462,\n",
       " 'num_dim': <class 'netCDF4._netCDF4.Dimension'>: name = 'num_dim', size = 2,\n",
       " 'num_nodes': <class 'netCDF4._netCDF4.Dimension'>: name = 'num_nodes', size = 80601,\n",
       " 'num_elem': <class 'netCDF4._netCDF4.Dimension'>: name = 'num_elem', size = 20000,\n",
       " 'num_el_blk': <class 'netCDF4._netCDF4.Dimension'>: name = 'num_el_blk', size = 1,\n",
       " 'num_node_sets': <class 'netCDF4._netCDF4.Dimension'>: name = 'num_node_sets', size = 4,\n",
       " 'num_side_sets': <class 'netCDF4._netCDF4.Dimension'>: name = 'num_side_sets', size = 4,\n",
       " 'num_el_in_blk1': <class 'netCDF4._netCDF4.Dimension'>: name = 'num_el_in_blk1', size = 20000,\n",
       " 'num_nod_per_el1': <class 'netCDF4._netCDF4.Dimension'>: name = 'num_nod_per_el1', size = 9,\n",
       " 'num_side_ss1': <class 'netCDF4._netCDF4.Dimension'>: name = 'num_side_ss1', size = 200,\n",
       " 'num_side_ss2': <class 'netCDF4._netCDF4.Dimension'>: name = 'num_side_ss2', size = 100,\n",
       " 'num_side_ss3': <class 'netCDF4._netCDF4.Dimension'>: name = 'num_side_ss3', size = 200,\n",
       " 'num_side_ss4': <class 'netCDF4._netCDF4.Dimension'>: name = 'num_side_ss4', size = 100,\n",
       " 'num_nod_ns1': <class 'netCDF4._netCDF4.Dimension'>: name = 'num_nod_ns1', size = 401,\n",
       " 'num_nod_ns2': <class 'netCDF4._netCDF4.Dimension'>: name = 'num_nod_ns2', size = 201,\n",
       " 'num_nod_ns3': <class 'netCDF4._netCDF4.Dimension'>: name = 'num_nod_ns3', size = 401,\n",
       " 'num_nod_ns4': <class 'netCDF4._netCDF4.Dimension'>: name = 'num_nod_ns4', size = 201,\n",
       " 'num_nod_var': <class 'netCDF4._netCDF4.Dimension'>: name = 'num_nod_var', size = 5,\n",
       " 'num_elem_var': <class 'netCDF4._netCDF4.Dimension'>: name = 'num_elem_var', size = 1,\n",
       " 'num_glo_var': <class 'netCDF4._netCDF4.Dimension'>: name = 'num_glo_var', size = 4,\n",
       " 'num_info': <class 'netCDF4._netCDF4.Dimension'>: name = 'num_info', size = 2368,\n",
       " 'len_line': <class 'netCDF4._netCDF4.Dimension'>: name = 'len_line', size = 81}"
      ]
     },
     "execution_count": 15,
     "metadata": {},
     "output_type": "execute_result"
    }
   ],
   "source": [
    "model.dimensions"
   ]
  },
  {
   "cell_type": "code",
   "execution_count": 16,
   "id": "b79011cc-ece0-4445-a455-8a6954927b45",
   "metadata": {},
   "outputs": [
    {
     "data": {
      "text/plain": [
       "dict_keys(['time_whole', 'eb_status', 'eb_prop1', 'ns_status', 'ns_prop1', 'ss_status', 'ss_prop1', 'coordx', 'coordy', 'eb_names', 'ns_names', 'ss_names', 'coor_names', 'node_num_map', 'connect1', 'elem_num_map', 'elem_ss1', 'side_ss1', 'elem_ss2', 'side_ss2', 'elem_ss3', 'side_ss3', 'elem_ss4', 'side_ss4', 'node_ns1', 'node_ns2', 'node_ns3', 'node_ns4', 'name_nod_var', 'vals_nod_var1', 'vals_nod_var2', 'vals_nod_var3', 'vals_nod_var4', 'vals_nod_var5', 'name_elem_var', 'vals_elem_var1eb1', 'elem_var_tab', 'name_glo_var', 'vals_glo_var', 'info_records'])"
      ]
     },
     "execution_count": 16,
     "metadata": {},
     "output_type": "execute_result"
    }
   ],
   "source": [
    "model.variables.keys()"
   ]
  },
  {
   "cell_type": "code",
   "execution_count": 17,
   "id": "cc676453-259d-4626-8bb2-1d7385df631a",
   "metadata": {},
   "outputs": [
    {
     "name": "stdout",
     "output_type": "stream",
     "text": [
      "['eta1', 'p', 'temp', 'vel_x', 'vel_y']\n"
     ]
    }
   ],
   "source": [
    "names = model.variables[\"name_nod_var\"]\n",
    "names.set_auto_mask(False)\n",
    "param_in_exodus = [b\"\".join(c).decode(\"latin1\") for c in names[:]]\n",
    "print(param_in_exodus)"
   ]
  },
  {
   "cell_type": "code",
   "execution_count": 18,
   "id": "139563b8-0af0-4005-87e8-6ff544769bd9",
   "metadata": {},
   "outputs": [],
   "source": [
    "parameters = ['vals_nod_var1', 'vals_nod_var2', 'vals_nod_var3', 'vals_nod_var4', 'vals_nod_var5',]"
   ]
  },
  {
   "cell_type": "code",
   "execution_count": 19,
   "id": "38ca5e6c-1d72-402c-9c57-7f07e17a5396",
   "metadata": {},
   "outputs": [
    {
     "data": {
      "text/html": [
       "<div>\n",
       "<style scoped>\n",
       "    .dataframe tbody tr th:only-of-type {\n",
       "        vertical-align: middle;\n",
       "    }\n",
       "\n",
       "    .dataframe tbody tr th {\n",
       "        vertical-align: top;\n",
       "    }\n",
       "\n",
       "    .dataframe thead th {\n",
       "        text-align: right;\n",
       "    }\n",
       "</style>\n",
       "<table border=\"1\" class=\"dataframe\">\n",
       "  <thead>\n",
       "    <tr style=\"text-align: right;\">\n",
       "      <th></th>\n",
       "      <th>time</th>\n",
       "      <th>area_h1</th>\n",
       "      <th>temp_avg</th>\n",
       "      <th>temp_max</th>\n",
       "      <th>temp_min</th>\n",
       "    </tr>\n",
       "  </thead>\n",
       "  <tbody>\n",
       "    <tr>\n",
       "      <th>0</th>\n",
       "      <td>0.000000</td>\n",
       "      <td>2680.208333</td>\n",
       "      <td>0.000000</td>\n",
       "      <td>0.000000</td>\n",
       "      <td>0.000000</td>\n",
       "    </tr>\n",
       "    <tr>\n",
       "      <th>1</th>\n",
       "      <td>0.003750</td>\n",
       "      <td>2674.150827</td>\n",
       "      <td>352.409278</td>\n",
       "      <td>689.777899</td>\n",
       "      <td>300.005608</td>\n",
       "    </tr>\n",
       "    <tr>\n",
       "      <th>2</th>\n",
       "      <td>0.005625</td>\n",
       "      <td>2671.184154</td>\n",
       "      <td>366.769734</td>\n",
       "      <td>766.540643</td>\n",
       "      <td>300.007807</td>\n",
       "    </tr>\n",
       "    <tr>\n",
       "      <th>3</th>\n",
       "      <td>0.007500</td>\n",
       "      <td>2668.382708</td>\n",
       "      <td>381.222712</td>\n",
       "      <td>847.677367</td>\n",
       "      <td>300.009620</td>\n",
       "    </tr>\n",
       "    <tr>\n",
       "      <th>4</th>\n",
       "      <td>0.009375</td>\n",
       "      <td>2665.874525</td>\n",
       "      <td>397.283372</td>\n",
       "      <td>939.411451</td>\n",
       "      <td>300.011419</td>\n",
       "    </tr>\n",
       "  </tbody>\n",
       "</table>\n",
       "</div>"
      ],
      "text/plain": [
       "       time      area_h1    temp_avg    temp_max    temp_min\n",
       "0  0.000000  2680.208333    0.000000    0.000000    0.000000\n",
       "1  0.003750  2674.150827  352.409278  689.777899  300.005608\n",
       "2  0.005625  2671.184154  366.769734  766.540643  300.007807\n",
       "3  0.007500  2668.382708  381.222712  847.677367  300.009620\n",
       "4  0.009375  2665.874525  397.283372  939.411451  300.011419"
      ]
     },
     "execution_count": 19,
     "metadata": {},
     "output_type": "execute_result"
    }
   ],
   "source": [
    "area_df1 = pd.read_csv(path+'/Au-Au.csv',  encoding='utf-8')\n",
    "real_time = np.array(area_df1['time'])\n",
    "area_df1.head()"
   ]
  },
  {
   "cell_type": "code",
   "execution_count": 20,
   "id": "9ef1d5ee-a70d-41a5-9fcc-0e79105d3cdb",
   "metadata": {},
   "outputs": [],
   "source": [
    "LIQ, press, temp, velX, velY = [], [], [], [], []\n",
    "\n",
    "for i in range(5):\n",
    "    param = model.variables[parameters[i]][:]\n",
    "\n",
    "    X_all = model.variables['coordx'][:]\n",
    "    Y_all = model.variables['coordy'][:]\n",
    "    \n",
    "    points = np.vstack([Y_all,X_all,param]).T\n",
    "    \n",
    "    column_names = ['X', 'Y'] + list(range(param.shape[0]))\n",
    "    df = pd.DataFrame(points, columns=column_names)\n",
    "    df = df.sort_values(by = ['X', 'Y'], ascending = [True, True], ignore_index=True)\n",
    "    df_param = df.iloc[:, 2:]\n",
    "    \n",
    "    x_dim  = model.dimensions['num_nod_ns1'].size\n",
    "    y_dim =  model.dimensions['num_nod_ns2'].size\n",
    "    time_steps = model.dimensions['time_step'].size\n",
    "    array_ = df_param.to_numpy().flatten().reshape(y_dim, x_dim, time_steps)\n",
    "    array = np.flip(array_, axis=0)\n",
    "    if i == 0:\n",
    "        LIQ.append(array)\n",
    "    elif i == 1:\n",
    "        press.append(array)\n",
    "    elif i == 2:\n",
    "        temp.append(array)\n",
    "    elif i == 3:\n",
    "        velX.append(array)\n",
    "    else:\n",
    "        velY.append(array)\n",
    "\n",
    "time = np.array(model.variables['time_whole'][:]).reshape((-1, ))\n",
    "\n",
    "# time = np.array(model.variables['time_whole'][:]).reshape((-1, ))\n",
    "LIQ, press, temp, velX, velY, = np.clip(LIQ[0][:,:,:], 0, 1), press[0][:,:,:], temp[0][:,:,:], velX[0][:,:,:], velY[0][:,:,:]\n",
    "FCC = 1 - LIQ\n",
    "\n",
    "vel = (velX**2 + velY**2)**0.5"
   ]
  },
  {
   "cell_type": "code",
   "execution_count": 21,
   "id": "2d018aa9-2276-4266-bf7c-7e2a51e48922",
   "metadata": {},
   "outputs": [],
   "source": [
    "##########################################\n",
    "# Saving as Npmpy Files\n",
    "path = os.path.abspath('../../1_Simulation_Results/numpy_files/Ring/TDB/')\n",
    "np.save(path+'/LIQ.npy', LIQ)\n",
    "np.save(path+'/FCC.npy', FCC)\n",
    "np.save(path+'/vel.npy', vel)\n",
    "np.save(path+'/temp.npy', temp)\n",
    "np.save(path+'/time.npy', time)\n",
    "\n",
    "np.savez(path+'/Ring_TDB.npz', arr1=LIQ, arr2=FCC, arr3=vel, arr4=temp, arr5=time)"
   ]
  },
  {
   "cell_type": "code",
   "execution_count": 22,
   "id": "bbad507b-757f-438b-856a-4ba6c1e1ec01",
   "metadata": {},
   "outputs": [
    {
     "data": {
      "image/png": "[encoded data removed]",
      "text/plain": [
       "<Figure size 1200x800 with 1 Axes>"
      ]
     },
     "metadata": {},
     "output_type": "display_data"
    }
   ],
   "source": [
    "fig, ax1 = plt.subplots(1,1, figsize=(12,8), frameon=True)\n",
    "cmap = cold2hot\n",
    "cmap.set_under('white', alpha=0)\n",
    "hmap1 = ax1.imshow(FCC[:,:,200], cmap=cmap, vmin=0.5, vmax=1.0, aspect=0.5,  interpolation='bilinear')\n",
    "cmap = plt.get_cmap('RdYlGn_r')\n",
    "cmap.set_under('white', alpha=0) \n",
    "hmap2 = ax1.imshow(LIQ[:,:,200], cmap=cmap, vmin=0.5, vmax=1.0, aspect=0.5, interpolation='bilinear')"
   ]
  },
  {
   "cell_type": "code",
   "execution_count": null,
   "id": "7929f535-02bc-4132-8b72-2765d1e564e3",
   "metadata": {},
   "outputs": [],
   "source": []
  },
  {
   "cell_type": "markdown",
   "id": "a6b8ea62-4616-4934-b4ef-9521c8fc0761",
   "metadata": {
    "jp-MarkdownHeadingCollapsed": true
   },
   "source": [
    "## Fitted Free Energy"
   ]
  },
  {
   "cell_type": "code",
   "execution_count": null,
   "id": "8ec25767-1199-4369-be21-a761c1ac867e",
   "metadata": {},
   "outputs": [],
   "source": [
    "path = os.path.abspath('../../0_MOOSE_Input_Files/Heat_Sources/Ring/Fitting/exodus/')"
   ]
  },
  {
   "cell_type": "code",
   "execution_count": null,
   "id": "eeacd32b-95d7-4f9f-a1ac-d23d2fe1de3a",
   "metadata": {},
   "outputs": [],
   "source": [
    "model_path = path+'/Au-Au.e'\n",
    "model = netCDF4.Dataset(model_path)"
   ]
  },
  {
   "cell_type": "code",
   "execution_count": null,
   "id": "02430a54-f4c1-4161-bde9-97739fa17f44",
   "metadata": {},
   "outputs": [],
   "source": [
    "model.dimensions"
   ]
  },
  {
   "cell_type": "code",
   "execution_count": null,
   "id": "de0ac1aa-4f89-419a-94cd-024c9efc2807",
   "metadata": {},
   "outputs": [],
   "source": [
    "model.variables.keys()"
   ]
  },
  {
   "cell_type": "code",
   "execution_count": null,
   "id": "9139b2e2-a720-491b-a511-83e38fde189d",
   "metadata": {},
   "outputs": [],
   "source": [
    "names = model.variables[\"name_nod_var\"]\n",
    "names.set_auto_mask(False)\n",
    "param_in_exodus = [b\"\".join(c).decode(\"latin1\") for c in names[:]]\n",
    "print(param_in_exodus)"
   ]
  },
  {
   "cell_type": "code",
   "execution_count": null,
   "id": "78f7caf3-7572-485f-8c91-3768f140b6bc",
   "metadata": {},
   "outputs": [],
   "source": [
    "parameters = ['vals_nod_var1', 'vals_nod_var2', 'vals_nod_var3', 'vals_nod_var4', 'vals_nod_var5',]"
   ]
  },
  {
   "cell_type": "code",
   "execution_count": null,
   "id": "6f3eec9b-7395-40b8-946d-5dc4a64773a2",
   "metadata": {},
   "outputs": [],
   "source": [
    "area_df1 = pd.read_csv(path+'/Au-Au.csv',  encoding='utf-8')\n",
    "real_time = np.array(area_df1['time'])\n",
    "area_df1.head()"
   ]
  },
  {
   "cell_type": "code",
   "execution_count": null,
   "id": "cac40cc4-88ce-463c-bb8c-575758bc358a",
   "metadata": {},
   "outputs": [],
   "source": [
    "LIQ, press, temp, velX, velY = [], [], [], [], []\n",
    "\n",
    "for i in range(5):\n",
    "    param = model.variables[parameters[i]][:]\n",
    "\n",
    "    X_all = model.variables['coordx'][:]\n",
    "    Y_all = model.variables['coordy'][:]\n",
    "    \n",
    "    points = np.vstack([Y_all,X_all,param]).T\n",
    "    \n",
    "    column_names = ['X', 'Y'] + list(range(param.shape[0]))\n",
    "    df = pd.DataFrame(points, columns=column_names)\n",
    "    df = df.sort_values(by = ['X', 'Y'], ascending = [True, True], ignore_index=True)\n",
    "    df_param = df.iloc[:, 2:]\n",
    "    \n",
    "    x_dim  = model.dimensions['num_nod_ns1'].size\n",
    "    y_dim =  model.dimensions['num_nod_ns2'].size\n",
    "    time_steps = model.dimensions['time_step'].size\n",
    "    array_ = df_param.to_numpy().flatten().reshape(y_dim, x_dim, time_steps)\n",
    "    array = np.flip(array_, axis=0)\n",
    "    if i == 0:\n",
    "        LIQ.append(array)\n",
    "    elif i == 1:\n",
    "        press.append(array)\n",
    "    elif i == 2:\n",
    "        temp.append(array)\n",
    "    elif i == 3:\n",
    "        velX.append(array)\n",
    "    else:\n",
    "        velY.append(array)\n",
    "\n",
    "time = np.array(model.variables['time_whole'][:]).reshape((-1, ))\n",
    "\n",
    "# time = np.array(model.variables['time_whole'][:]).reshape((-1, ))\n",
    "LIQ, press, temp, velX, velY, = np.clip(LIQ[0][:,:,:], 0, 1), press[0][:,:,:], temp[0][:,:,:], velX[0][:,:,:], velY[0][:,:,:]\n",
    "FCC = 1- LIQ\n",
    "\n",
    "vel = (velX**2 + velY**2)**0.5"
   ]
  },
  {
   "cell_type": "code",
   "execution_count": null,
   "id": "44bea187-945d-4bbf-82cd-439532ff3e48",
   "metadata": {},
   "outputs": [],
   "source": [
    "##########################################\n",
    "# Saving as Npmpy Files\n",
    "path = os.path.abspath('../../1_Simulation_Results/numpy_files/Ring/Fitting/')\n",
    "np.save(path+'/LIQ.npy', LIQ)\n",
    "np.save(path+'/FCC.npy', FCC)\n",
    "np.save(path+'/vel.npy', vel)\n",
    "np.save(path+'/temp.npy', temp)\n",
    "np.save(path+'/time.npy', time)\n",
    "\n",
    "np.savez(path+'/Ring_Fitting.npz', arr1=LIQ, arr2=FCC, arr3=vel, arr4=temp, arr5=time)"
   ]
  },
  {
   "cell_type": "code",
   "execution_count": null,
   "id": "6596f457-3b7d-4133-94d2-666255f257fa",
   "metadata": {},
   "outputs": [],
   "source": [
    "fig, ax1 = plt.subplots(1,1, figsize=(12,8), frameon=True)\n",
    "cmap = cold2hot\n",
    "cmap.set_under('white', alpha=0)\n",
    "hmap1 = ax1.imshow(FCC[:,:,200], cmap=cmap, vmin=0.5, vmax=1.0, aspect=0.5,  interpolation='bilinear')\n",
    "cmap = plt.get_cmap('RdYlGn_r')\n",
    "cmap.set_under('white', alpha=0) \n",
    "hmap2 = ax1.imshow(LIQ[:,:,200], cmap=cmap, vmin=0.5, vmax=1.0, aspect=0.5, interpolation='bilinear')"
   ]
  },
  {
   "cell_type": "code",
   "execution_count": null,
   "id": "c8b7e5a0-d30f-4e7a-ac2e-62da8487a5ee",
   "metadata": {},
   "outputs": [],
   "source": []
  },
  {
   "cell_type": "markdown",
   "id": "78b5e3be-0299-4789-bea6-57f2c10d48de",
   "metadata": {},
   "source": [
    "# Bessel HS"
   ]
  },
  {
   "cell_type": "markdown",
   "id": "803b6b69-1bae-45f4-9a3d-5f45a5081f72",
   "metadata": {},
   "source": [
    "## TDB Free Energy"
   ]
  },
  {
   "cell_type": "code",
   "execution_count": 23,
   "id": "f791c959-7bf5-4eb5-92ca-7ec168c57426",
   "metadata": {},
   "outputs": [],
   "source": [
    "path = os.path.abspath('../../0_MOOSE_Input_Files/Heat_Sources/Bessel/TDB/exodus/')"
   ]
  },
  {
   "cell_type": "code",
   "execution_count": 24,
   "id": "f5fd27c9-6634-481c-aeac-7d866bc9790d",
   "metadata": {},
   "outputs": [],
   "source": [
    "model_path = path+'/Au-Au.e'\n",
    "model = netCDF4.Dataset(model_path)"
   ]
  },
  {
   "cell_type": "code",
   "execution_count": 25,
   "id": "10df57ba-2d92-4a9d-9362-3428be3b5631",
   "metadata": {},
   "outputs": [
    {
     "data": {
      "text/plain": [
       "{'len_name': <class 'netCDF4._netCDF4.Dimension'>: name = 'len_name', size = 256,\n",
       " 'time_step': <class 'netCDF4._netCDF4.Dimension'> (unlimited): name = 'time_step', size = 460,\n",
       " 'num_dim': <class 'netCDF4._netCDF4.Dimension'>: name = 'num_dim', size = 2,\n",
       " 'num_nodes': <class 'netCDF4._netCDF4.Dimension'>: name = 'num_nodes', size = 80601,\n",
       " 'num_elem': <class 'netCDF4._netCDF4.Dimension'>: name = 'num_elem', size = 20000,\n",
       " 'num_el_blk': <class 'netCDF4._netCDF4.Dimension'>: name = 'num_el_blk', size = 1,\n",
       " 'num_node_sets': <class 'netCDF4._netCDF4.Dimension'>: name = 'num_node_sets', size = 4,\n",
       " 'num_side_sets': <class 'netCDF4._netCDF4.Dimension'>: name = 'num_side_sets', size = 4,\n",
       " 'num_el_in_blk1': <class 'netCDF4._netCDF4.Dimension'>: name = 'num_el_in_blk1', size = 20000,\n",
       " 'num_nod_per_el1': <class 'netCDF4._netCDF4.Dimension'>: name = 'num_nod_per_el1', size = 9,\n",
       " 'num_side_ss1': <class 'netCDF4._netCDF4.Dimension'>: name = 'num_side_ss1', size = 200,\n",
       " 'num_side_ss2': <class 'netCDF4._netCDF4.Dimension'>: name = 'num_side_ss2', size = 100,\n",
       " 'num_side_ss3': <class 'netCDF4._netCDF4.Dimension'>: name = 'num_side_ss3', size = 200,\n",
       " 'num_side_ss4': <class 'netCDF4._netCDF4.Dimension'>: name = 'num_side_ss4', size = 100,\n",
       " 'num_nod_ns1': <class 'netCDF4._netCDF4.Dimension'>: name = 'num_nod_ns1', size = 401,\n",
       " 'num_nod_ns2': <class 'netCDF4._netCDF4.Dimension'>: name = 'num_nod_ns2', size = 201,\n",
       " 'num_nod_ns3': <class 'netCDF4._netCDF4.Dimension'>: name = 'num_nod_ns3', size = 401,\n",
       " 'num_nod_ns4': <class 'netCDF4._netCDF4.Dimension'>: name = 'num_nod_ns4', size = 201,\n",
       " 'num_nod_var': <class 'netCDF4._netCDF4.Dimension'>: name = 'num_nod_var', size = 5,\n",
       " 'num_elem_var': <class 'netCDF4._netCDF4.Dimension'>: name = 'num_elem_var', size = 1,\n",
       " 'num_glo_var': <class 'netCDF4._netCDF4.Dimension'>: name = 'num_glo_var', size = 4,\n",
       " 'num_info': <class 'netCDF4._netCDF4.Dimension'>: name = 'num_info', size = 2496,\n",
       " 'len_line': <class 'netCDF4._netCDF4.Dimension'>: name = 'len_line', size = 81}"
      ]
     },
     "execution_count": 25,
     "metadata": {},
     "output_type": "execute_result"
    }
   ],
   "source": [
    "model.dimensions"
   ]
  },
  {
   "cell_type": "code",
   "execution_count": 26,
   "id": "0bb0cbdc-a94a-4159-901e-5e184993fc17",
   "metadata": {},
   "outputs": [
    {
     "data": {
      "text/plain": [
       "dict_keys(['time_whole', 'eb_status', 'eb_prop1', 'ns_status', 'ns_prop1', 'ss_status', 'ss_prop1', 'coordx', 'coordy', 'eb_names', 'ns_names', 'ss_names', 'coor_names', 'node_num_map', 'connect1', 'elem_num_map', 'elem_ss1', 'side_ss1', 'elem_ss2', 'side_ss2', 'elem_ss3', 'side_ss3', 'elem_ss4', 'side_ss4', 'node_ns1', 'node_ns2', 'node_ns3', 'node_ns4', 'name_nod_var', 'vals_nod_var1', 'vals_nod_var2', 'vals_nod_var3', 'vals_nod_var4', 'vals_nod_var5', 'name_elem_var', 'vals_elem_var1eb1', 'elem_var_tab', 'name_glo_var', 'vals_glo_var', 'info_records'])"
      ]
     },
     "execution_count": 26,
     "metadata": {},
     "output_type": "execute_result"
    }
   ],
   "source": [
    "model.variables.keys()"
   ]
  },
  {
   "cell_type": "code",
   "execution_count": 27,
   "id": "275a204a-c64d-4765-ae60-40d0faf8b627",
   "metadata": {},
   "outputs": [
    {
     "name": "stdout",
     "output_type": "stream",
     "text": [
      "['eta1', 'p', 'temp', 'vel_x', 'vel_y']\n"
     ]
    }
   ],
   "source": [
    "names = model.variables[\"name_nod_var\"]\n",
    "names.set_auto_mask(False)\n",
    "param_in_exodus = [b\"\".join(c).decode(\"latin1\") for c in names[:]]\n",
    "print(param_in_exodus)"
   ]
  },
  {
   "cell_type": "code",
   "execution_count": 28,
   "id": "c00d9d51-9bdc-478a-bdd2-0559fb05acac",
   "metadata": {},
   "outputs": [],
   "source": [
    "parameters = ['vals_nod_var1', 'vals_nod_var2', 'vals_nod_var3', 'vals_nod_var4', 'vals_nod_var5',]"
   ]
  },
  {
   "cell_type": "code",
   "execution_count": 29,
   "id": "deb7f7d6-b910-4c2e-b546-db9a5be2464e",
   "metadata": {},
   "outputs": [
    {
     "data": {
      "text/html": [
       "<div>\n",
       "<style scoped>\n",
       "    .dataframe tbody tr th:only-of-type {\n",
       "        vertical-align: middle;\n",
       "    }\n",
       "\n",
       "    .dataframe tbody tr th {\n",
       "        vertical-align: top;\n",
       "    }\n",
       "\n",
       "    .dataframe thead th {\n",
       "        text-align: right;\n",
       "    }\n",
       "</style>\n",
       "<table border=\"1\" class=\"dataframe\">\n",
       "  <thead>\n",
       "    <tr style=\"text-align: right;\">\n",
       "      <th></th>\n",
       "      <th>time</th>\n",
       "      <th>area_h1</th>\n",
       "      <th>temp_avg</th>\n",
       "      <th>temp_max</th>\n",
       "      <th>temp_min</th>\n",
       "    </tr>\n",
       "  </thead>\n",
       "  <tbody>\n",
       "    <tr>\n",
       "      <th>0</th>\n",
       "      <td>0.000000</td>\n",
       "      <td>2680.208333</td>\n",
       "      <td>0.000000</td>\n",
       "      <td>0.000000</td>\n",
       "      <td>0.000000</td>\n",
       "    </tr>\n",
       "    <tr>\n",
       "      <th>1</th>\n",
       "      <td>0.003750</td>\n",
       "      <td>2674.073707</td>\n",
       "      <td>319.270168</td>\n",
       "      <td>480.812971</td>\n",
       "      <td>300.002142</td>\n",
       "    </tr>\n",
       "    <tr>\n",
       "      <th>2</th>\n",
       "      <td>0.007500</td>\n",
       "      <td>2667.857703</td>\n",
       "      <td>328.851122</td>\n",
       "      <td>542.739832</td>\n",
       "      <td>300.003574</td>\n",
       "    </tr>\n",
       "    <tr>\n",
       "      <th>3</th>\n",
       "      <td>0.009375</td>\n",
       "      <td>2664.728000</td>\n",
       "      <td>333.745939</td>\n",
       "      <td>576.441012</td>\n",
       "      <td>300.004204</td>\n",
       "    </tr>\n",
       "    <tr>\n",
       "      <th>4</th>\n",
       "      <td>0.011250</td>\n",
       "      <td>2661.604831</td>\n",
       "      <td>339.583917</td>\n",
       "      <td>618.674344</td>\n",
       "      <td>300.004883</td>\n",
       "    </tr>\n",
       "  </tbody>\n",
       "</table>\n",
       "</div>"
      ],
      "text/plain": [
       "       time      area_h1    temp_avg    temp_max    temp_min\n",
       "0  0.000000  2680.208333    0.000000    0.000000    0.000000\n",
       "1  0.003750  2674.073707  319.270168  480.812971  300.002142\n",
       "2  0.007500  2667.857703  328.851122  542.739832  300.003574\n",
       "3  0.009375  2664.728000  333.745939  576.441012  300.004204\n",
       "4  0.011250  2661.604831  339.583917  618.674344  300.004883"
      ]
     },
     "execution_count": 29,
     "metadata": {},
     "output_type": "execute_result"
    }
   ],
   "source": [
    "area_df1 = pd.read_csv(path+'/Au-Au.csv',  encoding='utf-8')\n",
    "real_time = np.array(area_df1['time'])\n",
    "area_df1.head()"
   ]
  },
  {
   "cell_type": "code",
   "execution_count": 30,
   "id": "02ce30ea-f1de-4c1d-8669-6dc756f5cead",
   "metadata": {},
   "outputs": [],
   "source": [
    "LIQ, press, temp, velX, velY = [], [], [], [], []\n",
    "\n",
    "for i in range(5):\n",
    "    param = model.variables[parameters[i]][:]\n",
    "\n",
    "    X_all = model.variables['coordx'][:]\n",
    "    Y_all = model.variables['coordy'][:]\n",
    "    \n",
    "    points = np.vstack([Y_all,X_all,param]).T\n",
    "    \n",
    "    column_names = ['X', 'Y'] + list(range(param.shape[0]))\n",
    "    df = pd.DataFrame(points, columns=column_names)\n",
    "    df = df.sort_values(by = ['X', 'Y'], ascending = [True, True], ignore_index=True)\n",
    "    df_param = df.iloc[:, 2:]\n",
    "    \n",
    "    x_dim  = model.dimensions['num_nod_ns1'].size\n",
    "    y_dim =  model.dimensions['num_nod_ns2'].size\n",
    "    time_steps = model.dimensions['time_step'].size\n",
    "    array_ = df_param.to_numpy().flatten().reshape(y_dim, x_dim, time_steps)\n",
    "    array = np.flip(array_, axis=0)\n",
    "    if i == 0:\n",
    "        LIQ.append(array)\n",
    "    elif i == 1:\n",
    "        press.append(array)\n",
    "    elif i == 2:\n",
    "        temp.append(array)\n",
    "    elif i == 3:\n",
    "        velX.append(array)\n",
    "    else:\n",
    "        velY.append(array)\n",
    "\n",
    "time = np.array(model.variables['time_whole'][:]).reshape((-1, ))\n",
    "\n",
    "# time = np.array(model.variables['time_whole'][:]).reshape((-1, ))\n",
    "LIQ, press, temp, velX, velY, = np.clip(LIQ[0][:,:,:], 0, 1), press[0][:,:,:], temp[0][:,:,:], velX[0][:,:,:], velY[0][:,:,:]\n",
    "FCC = 1 - LIQ\n",
    "\n",
    "vel = (velX**2 + velY**2)**0.5"
   ]
  },
  {
   "cell_type": "code",
   "execution_count": 31,
   "id": "c8ba8c1c-3f48-4480-9795-53b896584458",
   "metadata": {},
   "outputs": [],
   "source": [
    "##########################################\n",
    "# Saving as Npmpy Files\n",
    "path = os.path.abspath('../../1_Simulation_Results/numpy_files/Bessel/TDB/')\n",
    "np.save(path+'/LIQ.npy', LIQ)\n",
    "np.save(path+'/FCC.npy', FCC)\n",
    "np.save(path+'/vel.npy', vel)\n",
    "np.save(path+'/temp.npy', temp)\n",
    "np.save(path+'/time.npy', time)\n",
    "\n",
    "np.savez(path+'/Bessel_TDB.npz', arr1=LIQ, arr2=FCC, arr3=vel, arr4=temp, arr5=time)"
   ]
  },
  {
   "cell_type": "code",
   "execution_count": 32,
   "id": "134313c1-539d-470e-b002-d4e68eb079bf",
   "metadata": {},
   "outputs": [
    {
     "data": {
      "image/png": "[encoded data removed]",
      "text/plain": [
       "<Figure size 1200x800 with 1 Axes>"
      ]
     },
     "metadata": {},
     "output_type": "display_data"
    }
   ],
   "source": [
    "fig, ax1 = plt.subplots(1,1, figsize=(12,8), frameon=True)\n",
    "cmap = cold2hot\n",
    "cmap.set_under('white', alpha=0)\n",
    "hmap1 = ax1.imshow(FCC[:,:,200], cmap=cmap, vmin=0.5, vmax=1.0, aspect=0.5,  interpolation='bilinear')\n",
    "cmap = plt.get_cmap('RdYlGn_r')\n",
    "cmap.set_under('white', alpha=0) \n",
    "hmap2 = ax1.imshow(LIQ[:,:,200], cmap=cmap, vmin=0.5, vmax=1.0, aspect=0.5, interpolation='bilinear')"
   ]
  },
  {
   "cell_type": "code",
   "execution_count": null,
   "id": "0d32cf23-28a0-47bf-96e7-5249b98a9cf5",
   "metadata": {},
   "outputs": [],
   "source": []
  },
  {
   "cell_type": "markdown",
   "id": "3d0a76ea-90ee-4bb8-bb42-18cdab58edc1",
   "metadata": {
    "jp-MarkdownHeadingCollapsed": true
   },
   "source": [
    "## Fitted Free Energy"
   ]
  },
  {
   "cell_type": "code",
   "execution_count": null,
   "id": "59e72a34-5793-4a66-9822-2e207e2997f7",
   "metadata": {},
   "outputs": [],
   "source": [
    "path = os.path.abspath('../../0_MOOSE_Input_Files/Heat_Sources/Bessel/Fitting/exodus/')"
   ]
  },
  {
   "cell_type": "code",
   "execution_count": null,
   "id": "46605c3e-1659-4c96-bea2-bb92d2e70423",
   "metadata": {},
   "outputs": [],
   "source": [
    "model_path = path+'/Au-Au.e'\n",
    "model = netCDF4.Dataset(model_path)"
   ]
  },
  {
   "cell_type": "code",
   "execution_count": null,
   "id": "28e2e33b-701a-485b-91ae-2c5523c89c20",
   "metadata": {},
   "outputs": [],
   "source": [
    "model.dimensions"
   ]
  },
  {
   "cell_type": "code",
   "execution_count": null,
   "id": "bba91d28-fd7a-4929-9c5e-ebeb3e4dbdf8",
   "metadata": {},
   "outputs": [],
   "source": [
    "model.variables.keys()"
   ]
  },
  {
   "cell_type": "code",
   "execution_count": null,
   "id": "a276ad61-def0-4cb2-8ee4-d75f50a47b6a",
   "metadata": {},
   "outputs": [],
   "source": [
    "names = model.variables[\"name_nod_var\"]\n",
    "names.set_auto_mask(False)\n",
    "param_in_exodus = [b\"\".join(c).decode(\"latin1\") for c in names[:]]\n",
    "print(param_in_exodus)"
   ]
  },
  {
   "cell_type": "code",
   "execution_count": null,
   "id": "4cff4af5-3a75-4ade-94b2-7ffd793f5bf8",
   "metadata": {},
   "outputs": [],
   "source": [
    "parameters = ['vals_nod_var1', 'vals_nod_var2', 'vals_nod_var3', 'vals_nod_var4', 'vals_nod_var5',]"
   ]
  },
  {
   "cell_type": "code",
   "execution_count": null,
   "id": "969b9e0c-d4bb-4aa6-a5ba-0a18dcdb3db5",
   "metadata": {},
   "outputs": [],
   "source": [
    "area_df1 = pd.read_csv(path+'/Au-Au.csv',  encoding='utf-8')\n",
    "real_time = np.array(area_df1['time'])\n",
    "area_df1.head()"
   ]
  },
  {
   "cell_type": "code",
   "execution_count": null,
   "id": "d39f664b-c5e7-4363-a4d9-2076f7dc3c5c",
   "metadata": {},
   "outputs": [],
   "source": [
    "LIQ, press, temp, velX, velY = [], [], [], [], []\n",
    "\n",
    "for i in range(5):\n",
    "    param = model.variables[parameters[i]][:]\n",
    "\n",
    "    X_all = model.variables['coordx'][:]\n",
    "    Y_all = model.variables['coordy'][:]\n",
    "    \n",
    "    points = np.vstack([Y_all,X_all,param]).T\n",
    "    \n",
    "    column_names = ['X', 'Y'] + list(range(param.shape[0]))\n",
    "    df = pd.DataFrame(points, columns=column_names)\n",
    "    df = df.sort_values(by = ['X', 'Y'], ascending = [True, True], ignore_index=True)\n",
    "    df_param = df.iloc[:, 2:]\n",
    "    \n",
    "    x_dim  = model.dimensions['num_nod_ns1'].size\n",
    "    y_dim =  model.dimensions['num_nod_ns2'].size\n",
    "    time_steps = model.dimensions['time_step'].size\n",
    "    array_ = df_param.to_numpy().flatten().reshape(y_dim, x_dim, time_steps)\n",
    "    array = np.flip(array_, axis=0)\n",
    "    if i == 0:\n",
    "        LIQ.append(array)\n",
    "    elif i == 1:\n",
    "        press.append(array)\n",
    "    elif i == 2:\n",
    "        temp.append(array)\n",
    "    elif i == 3:\n",
    "        velX.append(array)\n",
    "    else:\n",
    "        velY.append(array)\n",
    "\n",
    "time = np.array(model.variables['time_whole'][:]).reshape((-1, ))\n",
    "\n",
    "# time = np.array(model.variables['time_whole'][:]).reshape((-1, ))\n",
    "LIQ, press, temp, velX, velY, = np.clip(LIQ[0][:,:,:], 0, 1), press[0][:,:,:], temp[0][:,:,:], velX[0][:,:,:], velY[0][:,:,:]\n",
    "FCC = 1- LIQ\n",
    "\n",
    "vel = (velX**2 + velY**2)**0.5"
   ]
  },
  {
   "cell_type": "code",
   "execution_count": null,
   "id": "5efd052f-3a15-43a5-9e1f-4c3e662742c7",
   "metadata": {},
   "outputs": [],
   "source": [
    "##########################################\n",
    "# Saving as Npmpy Files\n",
    "path = os.path.abspath('../../1_Simulation_Results/numpy_files/Bessel/Fitting/')\n",
    "np.save(path+'/LIQ.npy', LIQ)\n",
    "np.save(path+'/FCC.npy', FCC)\n",
    "np.save(path+'/vel.npy', vel)\n",
    "np.save(path+'/temp.npy', temp)\n",
    "np.save(path+'/time.npy', time)\n",
    "\n",
    "np.savez(path+'/Bessel_Fitting.npz', arr1=LIQ, arr2=FCC, arr3=vel, arr4=temp, arr5=time)"
   ]
  },
  {
   "cell_type": "code",
   "execution_count": null,
   "id": "830778de-3e22-426f-b45e-4eef2b224837",
   "metadata": {},
   "outputs": [],
   "source": [
    "fig, ax1 = plt.subplots(1,1, figsize=(12,8), frameon=True)\n",
    "cmap = cold2hot\n",
    "cmap.set_under('white', alpha=0)\n",
    "hmap1 = ax1.imshow(FCC[:,:,200], cmap=cmap, vmin=0.5, vmax=1.0, aspect=0.5,  interpolation='bilinear')\n",
    "cmap = plt.get_cmap('RdYlGn_r')\n",
    "cmap.set_under('white', alpha=0) \n",
    "hmap2 = ax1.imshow(LIQ[:,:,200], cmap=cmap, vmin=0.5, vmax=1.0, aspect=0.5, interpolation='bilinear')"
   ]
  },
  {
   "cell_type": "code",
   "execution_count": null,
   "id": "fbad97d6-cca9-4ed4-8a25-70945089615e",
   "metadata": {},
   "outputs": [],
   "source": []
  }
 ],
 "metadata": {
  "kernelspec": {
   "display_name": "Python 3 (ipykernel)",
   "language": "python",
   "name": "python3"
  },
  "language_info": {
   "codemirror_mode": {
    "name": "ipython",
    "version": 3
   },
   "file_extension": ".py",
   "mimetype": "text/x-python",
   "name": "python",
   "nbconvert_exporter": "python",
   "pygments_lexer": "ipython3",
   "version": "3.10.12"
  }
 },
 "nbformat": 4,
 "nbformat_minor": 5
}
