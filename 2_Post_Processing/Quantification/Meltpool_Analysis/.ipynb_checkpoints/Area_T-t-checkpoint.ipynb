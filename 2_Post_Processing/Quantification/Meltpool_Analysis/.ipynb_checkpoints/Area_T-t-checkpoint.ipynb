{
 "cells": [
  {
   "cell_type": "code",
   "execution_count": 1,
   "id": "5429a233-7011-4fde-8367-7b5ddb650218",
   "metadata": {},
   "outputs": [],
   "source": [
    "import numpy as np\n",
    "import pandas as pd\n",
    "import matplotlib.pyplot as plt\n",
    "import os\n",
    "import matplotlib.patches as patches\n",
    "from scipy.io import loadmat\n",
    "from matplotlib.colors import ListedColormap\n",
    "from matplotlib.lines import Line2D\n",
    "from matplotlib.text import Text\n",
    "from matplotlib.legend_handler import HandlerLine2D"
   ]
  },
  {
   "cell_type": "code",
   "execution_count": 2,
   "id": "ff5731ce-113b-4169-9b9f-6e4cf4eb6f33",
   "metadata": {},
   "outputs": [],
   "source": [
    "path_np = os.path.abspath('../../../1_Simulation_Results/numpy_files/')\n",
    "path_csv = os.path.abspath('../../../0_MOOSE_Input_Files/Heat_Sources/')\n",
    "\n",
    "colormap_data = loadmat('../cold2hot.mat')\n",
    "cold2hot = ListedColormap(colormap_data['colormap'])\n",
    "hot2cold = ListedColormap(colormap_data['colormap'][::-1])"
   ]
  },
  {
   "cell_type": "code",
   "execution_count": 3,
   "id": "0c34bacf-b8b9-4637-8fb0-9147278eb468",
   "metadata": {},
   "outputs": [],
   "source": [
    "timeS_GF = np.load(path_np+'/Gaussian/Fitting/time.npy')\n",
    "temp_GF = np.load(path_np+'/Gaussian/Fitting/temp.npy')\n",
    "timeS_FF = np.load(path_np+'/FlatTop/Fitting/time.npy')\n",
    "temp_FF = np.load(path_np+'/FlatTop/Fitting/temp.npy')\n",
    "timeS_RF = np.load(path_np+'/Ring/Fitting/time.npy')\n",
    "temp_RF = np.load(path_np+'/Ring/Fitting/temp.npy')\n",
    "timeS_BT = np.load(path_np+'/Bessel/TDB/time.npy')\n",
    "temp_BT = np.load(path_np+'/Bessel/TDB/temp.npy')"
   ]
  },
  {
   "cell_type": "code",
   "execution_count": 4,
   "id": "3fde0562-ce99-4846-9aac-7e67230a63f4",
   "metadata": {},
   "outputs": [],
   "source": [
    "G_Tdb = pd.read_csv(path_csv+'/Gaussian/TDB/exodus/Au-Au.csv',     encoding='utf-8')\n",
    "G_Fit = pd.read_csv(path_csv+'/Gaussian/Fitting/exodus/Au-Au.csv', encoding='utf-8')\n",
    "F_Tdb = pd.read_csv(path_csv+'/FlatTop/TDB/exodus/Au-Au.csv',      encoding='utf-8')\n",
    "R_Tdb = pd.read_csv(path_csv+'/Ring/TDB/exodus/Au-Au.csv',         encoding='utf-8')"
   ]
  },
  {
   "cell_type": "code",
   "execution_count": null,
   "id": "2db402b5-690b-4d3c-ab40-d228121cfaf3",
   "metadata": {},
   "outputs": [],
   "source": []
  },
  {
   "cell_type": "code",
   "execution_count": null,
   "id": "01dd1163-52da-4874-a85f-8365636d945c",
   "metadata": {},
   "outputs": [],
   "source": [
    "fig, ((ax1, ax2), (ax3, ax4)) = plt.subplots(2, 2, figsize=[16, 12], frameon=False)\n",
    "ax1.set_facecolor((0, 0, 0, 0))\n",
    "ax2.set_facecolor((0, 0, 0, 0))\n",
    "ax3.set_facecolor((0, 0, 0, 0))\n",
    "ax4.set_facecolor((0, 0, 0, 0))\n",
    "plt.subplots_adjust(left=None, bottom=None, right=None, top=None, wspace=0.35, hspace=0.5)\n",
    "\n",
    "x = int((401/1000)*500) # x-coordinate of point of interest\n",
    "y = 0 # y coordinate of point of interest ## origin is at top left corner\n",
    "\n",
    "FT, = ax1.plot(F_Tdb['time'].iloc[::15], F_Tdb['area_h1'].iloc[::15], linewidth=1, linestyle='-', marker='o', markersize=8, color = 'blue', label =r'FTHS$\\mathbf{_{\\psi}}$')\n",
    "RT, = ax1.plot(R_Tdb['time'].iloc[::15], R_Tdb['area_h1'].iloc[::15], linewidth=1, linestyle='-', marker='d', markersize=8, color = 'magenta', label =r'RHS$\\mathbf{_{\\psi}}$')\n",
    "ax1.set_ylabel(r\"Area $ \\mathbf{ [\\mu m^2] \\longrightarrow}$\", loc='center',  weight = 'bold', labelpad=0, size=30, color='k')\n",
    "ax1.set_xlabel(r\"t [s]$ \\mathbf{\\longrightarrow}$\", loc='center',  weight = 'bold', labelpad=10, size=30, color='k')\n",
    "ax1.set_xticks([0, 5, 10, 15, 20, 25], labels=['0', '5', '10', '15', '20', '25'], size=20, weight='bold', color='k')\n",
    "ax1.set_yticks([0, 5_000, 10_000, 15_000, 20_000, 25_000], labels=['0', '5', '10', '15', '20', '25'], size=20, color='k', weight='bold')\n",
    "ax1.set_title(r'$\\times$10$^3$', pad=0, loc='left', color='k', fontsize=20, weight='bold')\n",
    "# ax1.set_title(\"Flat-Top HS\", fontsize=30, weight='bold', pad=10)\n",
    "ax1.set_ylim(-1500, 21000)\n",
    "ax1.set_xlim(-2, 29)\n",
    "ax1.spines[:].set_linewidth(4)\n",
    "ax1.tick_params(axis='both', which='both', direction='inout', length=15, width=3, color='k')\n",
    "legend_FR = ax1.legend(loc=(0.30, 0.15), ncol=1,  columnspacing=1.0, prop={'weight':'bold', 'size':'22',}, handler_map={FT: HandlerLine2D(numpoints=3), RT: HandlerLine2D(numpoints=3)}, handletextpad=0.5, handlelength=2.5, handleheight=1, edgecolor=\"black\", facecolor='None', frameon=True)\n",
    "[line.set_linewidth(3.0) for line in legend_FR.get_lines()]\n",
    "\n",
    "GT, = ax2.plot(G_Tdb['time'].iloc[::15], G_Tdb['area_h1'].iloc[::15], linewidth=1, linestyle='-', mec='red', mfc='red', color = 'red',  marker='s', markersize=8, label =r'GHS$\\mathbf{_{\\psi}}$')\n",
    "GF, = ax2.plot(G_Fit['time'].iloc[::15], G_Fit['area_h1'].iloc[::15], linewidth=1, linestyle='-', color='green',  marker='^', markersize=10, label=r'GHS$\\mathbf{_{\\theta}}$')\n",
    "ax2.set_ylabel(r\"Area $ \\mathbf{ [\\mu m^2] \\longrightarrow}$\", loc='center',  weight = 'bold', labelpad=0, size=30, color='k')\n",
    "ax2.set_xlabel(r\"t [s]$ \\mathbf{\\longrightarrow}$\", loc='center',  weight = 'bold', labelpad=10, size=30, color='k')\n",
    "ax2.set_xticks([0, 5, 10, 15, 20, 25], labels=['0', '5', '10', '15', '20', '25'], size=20, weight='bold', color='k')\n",
    "ax2.set_yticks([0, 5_000, 10_000, 15_000, 20_000, 25_000], labels=['0', '5', '10', '15', '20', '25'], size=20, color='k', weight='bold')\n",
    "ax2.set_title(r'$\\times$10$^3$', pad=0, loc='left', color='k', fontsize=20, weight='bold')\n",
    "# ax2.set_title(\"Gaussian HS\", fontsize=30, weight='bold', pad=10)\n",
    "ax2.set_ylim(-1500, 21000)\n",
    "ax2.set_xlim(-2, 29)\n",
    "ax2.spines[:].set_linewidth(4)\n",
    "ax2.tick_params(axis='both', which='both', direction='inout', length=15, width=3, color='k')\n",
    "legend_G = ax2.legend(loc=(0.30, 0.15), ncol=1,  columnspacing=1.0, prop={'weight':'bold', 'size':'22',}, handler_map={GT: HandlerLine2D(numpoints=3), GF: HandlerLine2D(numpoints=3)}, handletextpad=0.5, handlelength=2.5, handleheight=1, edgecolor=\"black\", facecolor='None', frameon=True)\n",
    "[line.set_linewidth(3.0) for line in legend_G.get_lines()]\n",
    "\n",
    "\n",
    "FF, = ax3.plot(timeS_FF, temp_FF[0,200,:], linewidth=5, linestyle='-',  color = 'brown', label =r'FTHS$\\mathbf{_{\\theta}}$')\n",
    "BT, = ax3.plot(timeS_BT, temp_BT[0,200,:], linewidth=5, linestyle='--',  color='hotpink', label=r'BHS$\\mathbf{_{\\psi}}$')\n",
    "ax3.set_ylabel(r\"T [K] $\\longrightarrow$\", loc='center',  weight = 'bold', labelpad=0, size=30, color='k')\n",
    "ax3.set_xlabel(r\"t [s]$ \\mathbf{\\longrightarrow}$\", loc='center',  weight = 'bold', labelpad=10, size=30, color='k')\n",
    "ax3.set_xticks([0, 5, 10, 15, 20, 25], labels=['0', '5', '10', '15', '20', '25'], size=20, weight='bold', color='k')\n",
    "ax3.set_yticks([300, 1_200, 2_100, 3_000], labels=['300', '1200', '2100', '3000'], size=20, color='k', weight='bold')\n",
    "ax3.set_ylim(100, 3100)\n",
    "ax3.set_xlim(-2, 29)\n",
    "ax3.spines[:].set_linewidth(4)\n",
    "ax3.tick_params(axis='both', which='both', direction='inout', length=15, width=3, color='k')\n",
    "legend_FB = ax3.legend(loc=(0.56, 0.67), ncol=1,  columnspacing=1.0, prop={'weight':'bold', 'size':'22',}, handler_map={FF: HandlerLine2D(numpoints=3), BT: HandlerLine2D(numpoints=3)}, handletextpad=0.5, handlelength=2.5, handleheight=1, edgecolor=\"black\", facecolor='None', frameon=True)\n",
    "[line.set_linewidth(5) for line in legend_FB.get_lines()]\n",
    "\n",
    "\n",
    "GF, = ax4.plot(timeS_GF, temp_GF[0,x,:], linewidth=5, linestyle='-',  color = 'tomato', label =r'GHS$\\mathbf{_{\\theta}}$')\n",
    "RF, = ax4.plot(timeS_RF, temp_RF[0,x,:], linewidth=5, linestyle='--',  color='navy', label=r'RHS$\\mathbf{_{\\theta}}$')\n",
    "ax4.set_ylabel(r\"T [K] $\\longrightarrow$\", loc='center',  weight = 'bold', labelpad=0, size=30, color='k')\n",
    "ax4.set_xlabel(r\"t [s]$ \\mathbf{\\longrightarrow}$\", loc='center',  weight = 'bold', labelpad=10, size=30, color='k')\n",
    "ax4.set_xticks([0, 5, 10, 15, 20, 25], labels=['0', '5', '10', '15', '20', '25'], size=20, weight='bold', color='k')\n",
    "ax4.set_yticks([300, 1_200, 2_100, 3_000], labels=['300', '1200', '2100', '3000'], size=20, color='k', weight='bold')\n",
    "ax4.set_ylim(100, 3100)\n",
    "ax4.set_xlim(-2, 29)\n",
    "ax4.spines[:].set_linewidth(4)\n",
    "ax4.tick_params(axis='both', which='both', direction='inout', length=15, width=3, color='k')\n",
    "legend_GR = ax4.legend(loc=(0.59, 0.67), ncol=1,  columnspacing=1.0, prop={'weight':'bold', 'size':'22',}, handler_map={GF: HandlerLine2D(numpoints=3), RF: HandlerLine2D(numpoints=3)}, handletextpad=0.5, handlelength=2.5, handleheight=1, edgecolor=\"black\", facecolor='None', frameon=True)\n",
    "[line.set_linewidth(5) for line in legend_GR.get_lines()]\n",
    "\n",
    "# plt.savefig('../../figures/Area_Tt.png',bbox_inches='tight', dpi=800)\n",
    "# plt.savefig('../../figures/jpg/Area_Tt.jpg',bbox_inches='tight',)\n",
    "\n",
    "plt.show()"
   ]
  },
  {
   "cell_type": "code",
   "execution_count": null,
   "id": "f741b057-e105-4820-a563-c0a35cb6a4fd",
   "metadata": {},
   "outputs": [],
   "source": []
  },
  {
   "cell_type": "code",
   "execution_count": null,
   "id": "8eb8f9eb-5f4c-499e-8236-c8d8ea428b2e",
   "metadata": {},
   "outputs": [],
   "source": []
  },
  {
   "cell_type": "code",
   "execution_count": null,
   "id": "d657da32-3323-488b-9946-e9b272ce43d4",
   "metadata": {},
   "outputs": [],
   "source": []
  }
 ],
 "metadata": {
  "kernelspec": {
   "display_name": "Python 3 (ipykernel)",
   "language": "python",
   "name": "python3"
  },
  "language_info": {
   "codemirror_mode": {
    "name": "ipython",
    "version": 3
   },
   "file_extension": ".py",
   "mimetype": "text/x-python",
   "name": "python",
   "nbconvert_exporter": "python",
   "pygments_lexer": "ipython3",
   "version": "3.10.12"
  }
 },
 "nbformat": 4,
 "nbformat_minor": 5
}
