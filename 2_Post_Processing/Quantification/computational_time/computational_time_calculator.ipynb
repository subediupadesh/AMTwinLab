{
 "cells": [
  {
   "cell_type": "code",
   "execution_count": 3,
   "id": "4a15f188-62bf-4560-a7bb-8ce567d72adc",
   "metadata": {},
   "outputs": [],
   "source": [
    "from datetime import datetime, timedelta\n",
    "\n",
    "def time_difference(time1, time2):\n",
    "    # Convert the time strings to datetime objects\n",
    "    time_format = \"%H:%M:%S\"\n",
    "    t1 = datetime.strptime(time1, time_format)\n",
    "    t2 = datetime.strptime(time2, time_format)\n",
    "    \n",
    "    # Check if the second time is earlier than the first time\n",
    "    if t2 <= t1:\n",
    "        # Add one day to t2\n",
    "        t2 += timedelta(days=1)\n",
    "    \n",
    "    # Calculate the difference\n",
    "    delta = t2 - t1\n",
    "    \n",
    "    # Extract hours, minutes, and seconds from the difference\n",
    "    hours, remainder = divmod(delta.seconds, 3600)\n",
    "    minutes, seconds = divmod(remainder, 60)\n",
    "    \n",
    "    return hours, minutes, seconds"
   ]
  },
  {
   "cell_type": "markdown",
   "id": "3c076887-fc73-4b2b-b7dc-2283f57c1d93",
   "metadata": {},
   "source": [
    "### Bessel Fitting "
   ]
  },
  {
   "cell_type": "markdown",
   "id": "d5ef8c92-90c8-45ac-ad15-a15239f8b3f0",
   "metadata": {},
   "source": [
    "##### 0 - 1 sec"
   ]
  },
  {
   "cell_type": "code",
   "execution_count": 4,
   "id": "b0872826-b756-4cc0-a339-6a362ebc6873",
   "metadata": {},
   "outputs": [
    {
     "name": "stdout",
     "output_type": "stream",
     "text": [
      "Difference: 13 hours, 26 minutes, and 4 seconds\n"
     ]
    }
   ],
   "source": [
    "time1 = \"21:48:46\"\n",
    "time2 = \"11:14:50\"\n",
    "\n",
    "hours, minutes, seconds = time_difference(time1, time2)\n",
    "print(f\"Difference: {hours} hours, {minutes} minutes, and {seconds} seconds\")"
   ]
  },
  {
   "cell_type": "markdown",
   "id": "44c98d74-ea2b-4572-bcab-16af400b3023",
   "metadata": {},
   "source": [
    "##### 1 - 25 sec"
   ]
  },
  {
   "cell_type": "code",
   "execution_count": 5,
   "id": "2642de7b-27f1-4bcf-8bd1-ed730bca5d4d",
   "metadata": {},
   "outputs": [
    {
     "name": "stdout",
     "output_type": "stream",
     "text": [
      "Difference: 6 hours, 28 minutes, and 41 seconds\n"
     ]
    }
   ],
   "source": [
    "time1 = \"11:48:23\"\n",
    "time2 = \"18:17:04\"\n",
    "\n",
    "hours, minutes, seconds = time_difference(time1, time2)\n",
    "print(f\"Difference: {hours} hours, {minutes} minutes, and {seconds} seconds\")"
   ]
  },
  {
   "cell_type": "markdown",
   "id": "06f4f015-37f9-40bb-9c8b-9931308c67d5",
   "metadata": {},
   "source": [
    "##### 25 - 28 sec"
   ]
  },
  {
   "cell_type": "code",
   "execution_count": 6,
   "id": "552127dd-1261-4159-a127-42e26ba2e913",
   "metadata": {},
   "outputs": [
    {
     "name": "stdout",
     "output_type": "stream",
     "text": [
      "Difference: 12 hours, 7 minutes, and 1 seconds\n"
     ]
    }
   ],
   "source": [
    "time1 = \"19:12:41\"\n",
    "time2 = \"07:19:42\"\n",
    "\n",
    "hours, minutes, seconds = time_difference(time1, time2)\n",
    "print(f\"Difference: {hours} hours, {minutes} minutes, and {seconds} seconds\")"
   ]
  },
  {
   "cell_type": "markdown",
   "id": "4a0efc5f-db04-44ae-bdaa-d4c1d7afeadb",
   "metadata": {},
   "source": [
    "### Bessel TDB "
   ]
  },
  {
   "cell_type": "markdown",
   "id": "b54824d8-81a5-4758-89e3-391465419641",
   "metadata": {},
   "source": [
    "##### 0 - 1 sec"
   ]
  },
  {
   "cell_type": "code",
   "execution_count": 7,
   "id": "30627495-bc8d-4fd7-97fe-de5181c6892d",
   "metadata": {},
   "outputs": [
    {
     "name": "stdout",
     "output_type": "stream",
     "text": [
      "Difference: 5 hours, 59 minutes, and 22 seconds\n"
     ]
    }
   ],
   "source": [
    "time1 = \"08:09:38\"\n",
    "time2 = \"14:09:00\"\n",
    "\n",
    "hours, minutes, seconds = time_difference(time1, time2)\n",
    "print(f\"Difference: {hours} hours, {minutes} minutes, and {seconds} seconds\")"
   ]
  },
  {
   "cell_type": "markdown",
   "id": "d6ad8081-248f-41fe-b763-6bf29e3bd2a7",
   "metadata": {},
   "source": [
    "##### 1 - 25 sec"
   ]
  },
  {
   "cell_type": "code",
   "execution_count": 8,
   "id": "1342cf74-6019-4921-8f0b-b844c4be8715",
   "metadata": {},
   "outputs": [
    {
     "name": "stdout",
     "output_type": "stream",
     "text": [
      "Difference: 6 hours, 42 minutes, and 9 seconds\n"
     ]
    }
   ],
   "source": [
    "time1 = \"17:51:32\"\n",
    "time2 = \"00:33:41\"\n",
    "\n",
    "hours, minutes, seconds = time_difference(time1, time2)\n",
    "print(f\"Difference: {hours} hours, {minutes} minutes, and {seconds} seconds\")"
   ]
  },
  {
   "cell_type": "markdown",
   "id": "4e1a59e3-a775-4884-bd06-aae9569c517f",
   "metadata": {},
   "source": [
    "##### 25 - 28 sec"
   ]
  },
  {
   "cell_type": "code",
   "execution_count": 9,
   "id": "29278dc8-a830-4d7d-bf9d-d7056df1b5ad",
   "metadata": {},
   "outputs": [
    {
     "name": "stdout",
     "output_type": "stream",
     "text": [
      "Difference: 13 hours, 4 minutes, and 21 seconds\n"
     ]
    }
   ],
   "source": [
    "time1 = \"12:21:51\"\n",
    "time2 = \"01:26:12\"\n",
    "\n",
    "hours, minutes, seconds = time_difference(time1, time2)\n",
    "print(f\"Difference: {hours} hours, {minutes} minutes, and {seconds} seconds\")"
   ]
  },
  {
   "cell_type": "markdown",
   "id": "a06d7914-7093-47fb-82b1-37cfbc16be32",
   "metadata": {},
   "source": [
    "### Only Temperature "
   ]
  },
  {
   "cell_type": "markdown",
   "id": "7c6faf6f-6813-431d-a4d4-98b23d6d8da1",
   "metadata": {},
   "source": [
    "##### 0 - 1 sec"
   ]
  },
  {
   "cell_type": "code",
   "execution_count": 10,
   "id": "17fdb988-8baf-4481-839f-96e3df256738",
   "metadata": {},
   "outputs": [
    {
     "name": "stdout",
     "output_type": "stream",
     "text": [
      "Difference: 0 hours, 4 minutes, and 57 seconds\n"
     ]
    }
   ],
   "source": [
    "time1 = \"06:04:23\"\n",
    "time2 = \"06:09:20\"\n",
    "\n",
    "hours, minutes, seconds = time_difference(time1, time2)\n",
    "print(f\"Difference: {hours} hours, {minutes} minutes, and {seconds} seconds\")"
   ]
  },
  {
   "cell_type": "markdown",
   "id": "504dcc9b-c5f7-412c-8914-41f8665287d9",
   "metadata": {},
   "source": [
    "##### 1 - 25 sec"
   ]
  },
  {
   "cell_type": "code",
   "execution_count": 11,
   "id": "ad7a2947-097f-4717-84be-a58610759653",
   "metadata": {},
   "outputs": [
    {
     "name": "stdout",
     "output_type": "stream",
     "text": [
      "Difference: 3 hours, 32 minutes, and 44 seconds\n"
     ]
    }
   ],
   "source": [
    "time1 = \"06:23:51\"\n",
    "time2 = \"09:56:35\"\n",
    "\n",
    "hours, minutes, seconds = time_difference(time1, time2)\n",
    "print(f\"Difference: {hours} hours, {minutes} minutes, and {seconds} seconds\")"
   ]
  },
  {
   "cell_type": "markdown",
   "id": "06111f9b-2a93-4326-a3be-19c6c4b27e07",
   "metadata": {},
   "source": [
    "##### 25 - 28 sec"
   ]
  },
  {
   "cell_type": "code",
   "execution_count": 13,
   "id": "e87fa0d4-997c-41fa-87f3-0ce5ecfbce54",
   "metadata": {},
   "outputs": [
    {
     "name": "stdout",
     "output_type": "stream",
     "text": [
      "Difference: 1 hours, 3 minutes, and 54 seconds\n"
     ]
    }
   ],
   "source": [
    "\n",
    "time1 = \"10:00:03\"\n",
    "time2 = \"11:03:57\"\n",
    "\n",
    "hours, minutes, seconds = time_difference(time1, time2)\n",
    "print(f\"Difference: {hours} hours, {minutes} minutes, and {seconds} seconds\")\n"
   ]
  },
  {
   "cell_type": "code",
   "execution_count": null,
   "id": "2e0ebb64-74c6-4ee8-b5ca-71053b7bf756",
   "metadata": {},
   "outputs": [],
   "source": []
  },
  {
   "cell_type": "code",
   "execution_count": null,
   "id": "9f043def-333e-4f9f-9ea8-23a11d6291a8",
   "metadata": {},
   "outputs": [],
   "source": []
  }
 ],
 "metadata": {
  "kernelspec": {
   "display_name": "Python 3 (ipykernel)",
   "language": "python",
   "name": "python3"
  },
  "language_info": {
   "codemirror_mode": {
    "name": "ipython",
    "version": 3
   },
   "file_extension": ".py",
   "mimetype": "text/x-python",
   "name": "python",
   "nbconvert_exporter": "python",
   "pygments_lexer": "ipython3",
   "version": "3.11.8"
  }
 },
 "nbformat": 4,
 "nbformat_minor": 5
}
