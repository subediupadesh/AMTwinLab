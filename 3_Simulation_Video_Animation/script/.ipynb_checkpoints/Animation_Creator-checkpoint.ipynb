{
 "cells": [
  {
   "cell_type": "markdown",
   "id": "44f6ecc5-3295-42b6-a375-ff74251a0e18",
   "metadata": {},
   "source": [
    "# GIF Creator"
   ]
  },
  {
   "cell_type": "code",
   "execution_count": 1,
   "id": "1df466a2-276f-4aa0-b184-08f62059fa09",
   "metadata": {},
   "outputs": [],
   "source": [
    "import cv2\n",
    "import imageio\n",
    "import os\n",
    "from natsort import natsorted\n",
    "\n",
    "def create_gif_from_pngs(IP_folder, OP_folder, FPS=30, resize_factor=0.5):\n",
    "    images = []\n",
    "    png_files = natsorted([f for f in os.listdir(IP_folder) if f.endswith('.png')])\n",
    "\n",
    "    for file_name in png_files:\n",
    "        img_path = os.path.join(IP_folder, file_name)\n",
    "        img = cv2.imread(img_path)\n",
    "\n",
    "        if resize_factor != 1.0:\n",
    "            img = cv2.resize(img, None, fx=resize_factor, fy=resize_factor, interpolation=cv2.INTER_AREA)\n",
    "        \n",
    "        # Convert the image from BGR (OpenCV format) to RGB (imageio format)\n",
    "        img_rgb = cv2.cvtColor(img, cv2.COLOR_BGR2RGB)\n",
    "        images.append(img_rgb)\n",
    "\n",
    "    imageio.mimsave(OP_folder, images, format='GIF', fps=FPS,  loop=0)\n",
    "    print(f\"GIF created successfully: {OP_folder}\")"
   ]
  },
  {
   "cell_type": "markdown",
   "id": "512bd2d6-32e8-489f-9944-614dfde437db",
   "metadata": {},
   "source": [
    "## Gaussian"
   ]
  },
  {
   "cell_type": "markdown",
   "id": "a9ba917e-3e80-47df-87e1-b572be86a508",
   "metadata": {},
   "source": [
    "### TDB"
   ]
  },
  {
   "cell_type": "code",
   "execution_count": null,
   "id": "388d2f99-e378-440d-b08a-5b54cd2a6ecc",
   "metadata": {},
   "outputs": [],
   "source": [
    "heat_source = 'Gaussian'\n",
    "free_energy = 'TDB'\n",
    "\n",
    "import subprocess\n",
    "subprocess.call(['ffmpeg', '-y', '-framerate', '25.000', '-i', f'../temperoray_figures/{heat_source}/{free_energy}/temperature/f_%d.png', '-c:v', 'libx264', '-r', '25.000', '-s', '1920x1080', '-pix_fmt', 'yuv420p', f'../video_animations/{heat_source}/{free_energy}/TEMPERATURE.mp4'])\n",
    "subprocess.call(['ffmpeg', '-y', '-framerate', '25.000', '-i', f'../temperoray_figures/{heat_source}/{free_energy}/phase/f_%d.png',      '-c:v', 'libx264', '-r', '25.000', '-s', '1920x1080', '-pix_fmt', 'yuv420p', f'../video_animations/{heat_source}/{free_energy}/PHASE.mp4'])\n",
    "subprocess.call(['ffmpeg', '-y', '-framerate', '25.000', '-i', f'../temperoray_figures/{heat_source}/{free_energy}/velocity/f_%d.png',    '-c:v', 'libx264', '-r', '25.000', '-s', '1920x1080', '-pix_fmt', 'yuv420p', f'../video_animations/{heat_source}/{free_energy}/VELOCITY.mp4'])\n"
   ]
  },
  {
   "cell_type": "code",
   "execution_count": null,
   "id": "87f4338d-d5dd-401c-a0b3-53f7db239b45",
   "metadata": {},
   "outputs": [],
   "source": [
    "heat_source = 'Gaussian'\n",
    "free_energy = 'TDB'\n",
    "\n",
    "phase_in = f'../temperoray_figures/{heat_source}/{free_energy}/phase/'\n",
    "temp_in = f'../temperoray_figures/{heat_source}/{free_energy}/temperature/'\n",
    "vel_in = f'../temperoray_figures/{heat_source}/{free_energy}/velocity/'\n",
    "\n",
    "phase_out = f'../video_animations/{heat_source}/{free_energy}/gif/Phase.gif'\n",
    "temp_out = f'../video_animations/{heat_source}/{free_energy}/gif/Temperature.gif'\n",
    "vel_out = f'../video_animations/{heat_source}/{free_energy}/gif/Velocity.gif'\n",
    "\n",
    "create_gif_from_pngs(IP_folder=phase_in, OP_folder=phase_out, FPS=30, resize_factor=0.5)\n",
    "create_gif_from_pngs(IP_folder=temp_in, OP_folder=temp_out, FPS=30, resize_factor=0.5)\n",
    "create_gif_from_pngs(IP_folder=vel_in, OP_folder=vel_out, FPS=30, resize_factor=0.5)"
   ]
  },
  {
   "cell_type": "code",
   "execution_count": null,
   "id": "75e0977c-61b2-4939-b7eb-edf423e6ba1a",
   "metadata": {},
   "outputs": [],
   "source": []
  },
  {
   "cell_type": "markdown",
   "id": "e5add405-dbf8-4123-935c-8b167ae45528",
   "metadata": {},
   "source": [
    "### Fitting"
   ]
  },
  {
   "cell_type": "code",
   "execution_count": null,
   "id": "cde6951a-2e5b-4e34-a534-fc3e261706a3",
   "metadata": {},
   "outputs": [],
   "source": [
    "heat_source = 'Gaussian'\n",
    "free_energy = 'Fitting'\n",
    "\n",
    "import subprocess\n",
    "subprocess.call(['ffmpeg', '-y', '-framerate', '25.000', '-i', f'../temperoray_figures/{heat_source}/{free_energy}/temperature/f_%d.png', '-c:v', 'libx264', '-r', '25.000', '-s', '1920x1080', '-pix_fmt', 'yuv420p', f'../video_animations/{heat_source}/{free_energy}/TEMPERATURE.mp4'])\n",
    "subprocess.call(['ffmpeg', '-y', '-framerate', '25.000', '-i', f'../temperoray_figures/{heat_source}/{free_energy}/phase/f_%d.png',      '-c:v', 'libx264', '-r', '25.000', '-s', '1920x1080', '-pix_fmt', 'yuv420p', f'../video_animations/{heat_source}/{free_energy}/PHASE.mp4'])\n",
    "subprocess.call(['ffmpeg', '-y', '-framerate', '25.000', '-i', f'../temperoray_figures/{heat_source}/{free_energy}/velocity/f_%d.png',    '-c:v', 'libx264', '-r', '25.000', '-s', '1920x1080', '-pix_fmt', 'yuv420p', f'../video_animations/{heat_source}/{free_energy}/VELOCITY.mp4'])\n"
   ]
  },
  {
   "cell_type": "code",
   "execution_count": null,
   "id": "88a083c4-1ecb-4d4e-bd76-cb0fa942afe1",
   "metadata": {},
   "outputs": [],
   "source": [
    "heat_source = 'Gaussian'\n",
    "free_energy = 'Fitting'\n",
    "\n",
    "phase_in = f'../temperoray_figures/{heat_source}/{free_energy}/phase/'\n",
    "temp_in = f'../temperoray_figures/{heat_source}/{free_energy}/temperature/'\n",
    "vel_in = f'../temperoray_figures/{heat_source}/{free_energy}/velocity/'\n",
    "\n",
    "phase_out = f'../video_animations/{heat_source}/{free_energy}/gif/Phase.gif'\n",
    "temp_out = f'../video_animations/{heat_source}/{free_energy}/gif/Temperature.gif'\n",
    "vel_out = f'../video_animations/{heat_source}/{free_energy}/gif/Velocity.gif'\n",
    "\n",
    "create_gif_from_pngs(IP_folder=phase_in, OP_folder=phase_out, FPS=30, resize_factor=0.5)\n",
    "create_gif_from_pngs(IP_folder=temp_in, OP_folder=temp_out, FPS=30, resize_factor=0.5)\n",
    "create_gif_from_pngs(IP_folder=vel_in, OP_folder=vel_out, FPS=30, resize_factor=0.5)"
   ]
  },
  {
   "cell_type": "markdown",
   "id": "d3d5ebb8-0b14-4055-bcf5-6fc5a03bd557",
   "metadata": {},
   "source": [
    "## FlatTop"
   ]
  },
  {
   "cell_type": "markdown",
   "id": "bb93b0b1-7f42-4a49-8184-ef4bd3b241af",
   "metadata": {},
   "source": [
    "### TDB"
   ]
  },
  {
   "cell_type": "code",
   "execution_count": null,
   "id": "a3e21322-85a6-4427-be54-4e260cc0a327",
   "metadata": {},
   "outputs": [],
   "source": [
    "heat_source = 'FlatTop'\n",
    "free_energy = 'TDB'\n",
    "\n",
    "import subprocess\n",
    "subprocess.call(['ffmpeg', '-y', '-framerate', '25.000', '-i', f'../temperoray_figures/{heat_source}/{free_energy}/temperature/f_%d.png', '-c:v', 'libx264', '-r', '25.000', '-s', '1920x1080', '-pix_fmt', 'yuv420p', f'../video_animations/{heat_source}/{free_energy}/TEMPERATURE.mp4'])\n",
    "subprocess.call(['ffmpeg', '-y', '-framerate', '25.000', '-i', f'../temperoray_figures/{heat_source}/{free_energy}/phase/f_%d.png',      '-c:v', 'libx264', '-r', '25.000', '-s', '1920x1080', '-pix_fmt', 'yuv420p', f'../video_animations/{heat_source}/{free_energy}/PHASE.mp4'])\n",
    "subprocess.call(['ffmpeg', '-y', '-framerate', '25.000', '-i', f'../temperoray_figures/{heat_source}/{free_energy}/velocity/f_%d.png',    '-c:v', 'libx264', '-r', '25.000', '-s', '1920x1080', '-pix_fmt', 'yuv420p', f'../video_animations/{heat_source}/{free_energy}/VELOCITY.mp4'])\n"
   ]
  },
  {
   "cell_type": "code",
   "execution_count": null,
   "id": "7832fb66-b776-4bf0-9088-6f217cf40bf0",
   "metadata": {},
   "outputs": [],
   "source": [
    "heat_source = 'FlatTop'\n",
    "free_energy = 'TDB'\n",
    "\n",
    "phase_in = f'../temperoray_figures/{heat_source}/{free_energy}/phase/'\n",
    "temp_in = f'../temperoray_figures/{heat_source}/{free_energy}/temperature/'\n",
    "vel_in = f'../temperoray_figures/{heat_source}/{free_energy}/velocity/'\n",
    "\n",
    "phase_out = f'../video_animations/{heat_source}/{free_energy}/gif/Phase.gif'\n",
    "temp_out = f'../video_animations/{heat_source}/{free_energy}/gif/Temperature.gif'\n",
    "vel_out = f'../video_animations/{heat_source}/{free_energy}/gif/Velocity.gif'\n",
    "\n",
    "create_gif_from_pngs(IP_folder=phase_in, OP_folder=phase_out, FPS=30, resize_factor=0.5)\n",
    "create_gif_from_pngs(IP_folder=temp_in, OP_folder=temp_out, FPS=30, resize_factor=0.5)\n",
    "create_gif_from_pngs(IP_folder=vel_in, OP_folder=vel_out, FPS=30, resize_factor=0.5)"
   ]
  },
  {
   "cell_type": "markdown",
   "id": "4e9ca5a5-39d7-49db-986e-0fe90c599f94",
   "metadata": {},
   "source": [
    "### Fitting"
   ]
  },
  {
   "cell_type": "code",
   "execution_count": null,
   "id": "a6525a03-3efc-4bef-9463-32b623fbe3d9",
   "metadata": {},
   "outputs": [],
   "source": [
    "heat_source = 'FlatTop'\n",
    "free_energy = 'Fitting'\n",
    "\n",
    "import subprocess\n",
    "subprocess.call(['ffmpeg', '-y', '-framerate', '25.000', '-i', f'../temperoray_figures/{heat_source}/{free_energy}/temperature/f_%d.png', '-c:v', 'libx264', '-r', '25.000', '-s', '1920x1080', '-pix_fmt', 'yuv420p', f'../video_animations/{heat_source}/{free_energy}/TEMPERATURE.mp4'])\n",
    "subprocess.call(['ffmpeg', '-y', '-framerate', '25.000', '-i', f'../temperoray_figures/{heat_source}/{free_energy}/phase/f_%d.png',      '-c:v', 'libx264', '-r', '25.000', '-s', '1920x1080', '-pix_fmt', 'yuv420p', f'../video_animations/{heat_source}/{free_energy}/PHASE.mp4'])\n",
    "subprocess.call(['ffmpeg', '-y', '-framerate', '25.000', '-i', f'../temperoray_figures/{heat_source}/{free_energy}/velocity/f_%d.png',    '-c:v', 'libx264', '-r', '25.000', '-s', '1920x1080', '-pix_fmt', 'yuv420p', f'../video_animations/{heat_source}/{free_energy}/VELOCITY.mp4'])"
   ]
  },
  {
   "cell_type": "code",
   "execution_count": null,
   "id": "a837abf1-64fd-4e32-a3c3-6bbc16adcd10",
   "metadata": {},
   "outputs": [],
   "source": [
    "heat_source = 'FlatTop'\n",
    "free_energy = 'Fitting'\n",
    "\n",
    "phase_in = f'../temperoray_figures/{heat_source}/{free_energy}/phase/'\n",
    "temp_in = f'../temperoray_figures/{heat_source}/{free_energy}/temperature/'\n",
    "vel_in = f'../temperoray_figures/{heat_source}/{free_energy}/velocity/'\n",
    "\n",
    "phase_out = f'../video_animations/{heat_source}/{free_energy}/gif/Phase.gif'\n",
    "temp_out = f'../video_animations/{heat_source}/{free_energy}/gif/Temperature.gif'\n",
    "vel_out = f'../video_animations/{heat_source}/{free_energy}/gif/Velocity.gif'\n",
    "\n",
    "create_gif_from_pngs(IP_folder=phase_in, OP_folder=phase_out, FPS=30, resize_factor=0.5)\n",
    "create_gif_from_pngs(IP_folder=temp_in, OP_folder=temp_out, FPS=30, resize_factor=0.5)\n",
    "create_gif_from_pngs(IP_folder=vel_in, OP_folder=vel_out, FPS=30, resize_factor=0.5)"
   ]
  },
  {
   "cell_type": "markdown",
   "id": "0bdfca66-8dcd-4ea7-a168-5d5cb7f0a01e",
   "metadata": {},
   "source": [
    "## Ring"
   ]
  },
  {
   "cell_type": "markdown",
   "id": "9d9dcc28-aed1-4bf5-9534-b9e85c891b7d",
   "metadata": {},
   "source": [
    "### TDB"
   ]
  },
  {
   "cell_type": "code",
   "execution_count": null,
   "id": "320c239d-05ca-42bd-947f-a308436d1b42",
   "metadata": {},
   "outputs": [],
   "source": [
    "heat_source = 'Ring'\n",
    "free_energy = 'TDB'\n",
    "\n",
    "import subprocess\n",
    "subprocess.call(['ffmpeg', '-y', '-framerate', '25.000', '-i', f'../temperoray_figures/{heat_source}/{free_energy}/temperature/f_%d.png', '-c:v', 'libx264', '-r', '25.000', '-s', '1920x1080', '-pix_fmt', 'yuv420p', f'../video_animations/{heat_source}/{free_energy}/TEMPERATURE.mp4'])\n",
    "subprocess.call(['ffmpeg', '-y', '-framerate', '25.000', '-i', f'../temperoray_figures/{heat_source}/{free_energy}/phase/f_%d.png',      '-c:v', 'libx264', '-r', '25.000', '-s', '1920x1080', '-pix_fmt', 'yuv420p', f'../video_animations/{heat_source}/{free_energy}/PHASE.mp4'])\n",
    "subprocess.call(['ffmpeg', '-y', '-framerate', '25.000', '-i', f'../temperoray_figures/{heat_source}/{free_energy}/velocity/f_%d.png',    '-c:v', 'libx264', '-r', '25.000', '-s', '1920x1080', '-pix_fmt', 'yuv420p', f'../video_animations/{heat_source}/{free_energy}/VELOCITY.mp4'])"
   ]
  },
  {
   "cell_type": "code",
   "execution_count": null,
   "id": "8f37537d-048f-4e48-b051-434651cbd985",
   "metadata": {},
   "outputs": [],
   "source": [
    "heat_source = 'Ring'\n",
    "free_energy = 'TDB'\n",
    "\n",
    "phase_in = f'../temperoray_figures/{heat_source}/{free_energy}/phase/'\n",
    "temp_in = f'../temperoray_figures/{heat_source}/{free_energy}/temperature/'\n",
    "vel_in = f'../temperoray_figures/{heat_source}/{free_energy}/velocity/'\n",
    "\n",
    "phase_out = f'../video_animations/{heat_source}/{free_energy}/gif/Phase.gif'\n",
    "temp_out = f'../video_animations/{heat_source}/{free_energy}/gif/Temperature.gif'\n",
    "vel_out = f'../video_animations/{heat_source}/{free_energy}/gif/Velocity.gif'\n",
    "\n",
    "create_gif_from_pngs(IP_folder=phase_in, OP_folder=phase_out, FPS=30, resize_factor=0.5)\n",
    "create_gif_from_pngs(IP_folder=temp_in, OP_folder=temp_out, FPS=30, resize_factor=0.5)\n",
    "create_gif_from_pngs(IP_folder=vel_in, OP_folder=vel_out, FPS=30, resize_factor=0.5)"
   ]
  },
  {
   "cell_type": "markdown",
   "id": "8ed5e653-6e9b-4206-8696-eac1eb8db09e",
   "metadata": {},
   "source": [
    "### Fitting"
   ]
  },
  {
   "cell_type": "code",
   "execution_count": null,
   "id": "7c6d63ae-c446-4e8a-9b80-6e2921c8544e",
   "metadata": {},
   "outputs": [],
   "source": [
    "heat_source = 'Ring'\n",
    "free_energy = 'Fitting'\n",
    "\n",
    "import subprocess\n",
    "subprocess.call(['ffmpeg', '-y', '-framerate', '25.000', '-i', f'../temperoray_figures/{heat_source}/{free_energy}/temperature/f_%d.png', '-c:v', 'libx264', '-r', '25.000', '-s', '1920x1080', '-pix_fmt', 'yuv420p', f'../video_animations/{heat_source}/{free_energy}/TEMPERATURE.mp4'])\n",
    "subprocess.call(['ffmpeg', '-y', '-framerate', '25.000', '-i', f'../temperoray_figures/{heat_source}/{free_energy}/phase/f_%d.png',      '-c:v', 'libx264', '-r', '25.000', '-s', '1920x1080', '-pix_fmt', 'yuv420p', f'../video_animations/{heat_source}/{free_energy}/PHASE.mp4'])\n",
    "subprocess.call(['ffmpeg', '-y', '-framerate', '25.000', '-i', f'../temperoray_figures/{heat_source}/{free_energy}/velocity/f_%d.png',    '-c:v', 'libx264', '-r', '25.000', '-s', '1920x1080', '-pix_fmt', 'yuv420p', f'../video_animations/{heat_source}/{free_energy}/VELOCITY.mp4'])"
   ]
  },
  {
   "cell_type": "code",
   "execution_count": null,
   "id": "2d2d9d93-8e16-4e8b-a85b-e45f6e07e2d4",
   "metadata": {},
   "outputs": [],
   "source": [
    "heat_source = 'Ring'\n",
    "free_energy = 'Fitting'\n",
    "\n",
    "phase_in = f'../temperoray_figures/{heat_source}/{free_energy}/phase/'\n",
    "temp_in = f'../temperoray_figures/{heat_source}/{free_energy}/temperature/'\n",
    "vel_in = f'../temperoray_figures/{heat_source}/{free_energy}/velocity/'\n",
    "\n",
    "phase_out = f'../video_animations/{heat_source}/{free_energy}/gif/Phase.gif'\n",
    "temp_out = f'../video_animations/{heat_source}/{free_energy}/gif/Temperature.gif'\n",
    "vel_out = f'../video_animations/{heat_source}/{free_energy}/gif/Velocity.gif'\n",
    "\n",
    "create_gif_from_pngs(IP_folder=phase_in, OP_folder=phase_out, FPS=30, resize_factor=0.5)\n",
    "create_gif_from_pngs(IP_folder=temp_in, OP_folder=temp_out, FPS=30, resize_factor=0.5)\n",
    "create_gif_from_pngs(IP_folder=vel_in, OP_folder=vel_out, FPS=30, resize_factor=0.5)"
   ]
  },
  {
   "cell_type": "markdown",
   "id": "b74d07e7-db97-49bf-bce0-94c672f41ecf",
   "metadata": {},
   "source": [
    "## Bessel"
   ]
  },
  {
   "cell_type": "markdown",
   "id": "7abbad78-91c9-4dad-a86d-99d120a2206d",
   "metadata": {},
   "source": [
    "### TDB"
   ]
  },
  {
   "cell_type": "code",
   "execution_count": null,
   "id": "ebd1963f-7396-4304-af0a-59f2d646a556",
   "metadata": {},
   "outputs": [],
   "source": [
    "heat_source = 'Bessel'\n",
    "free_energy = 'TDB'\n",
    "\n",
    "import subprocess\n",
    "subprocess.call(['ffmpeg', '-y', '-framerate', '25.000', '-i', f'../temperoray_figures/{heat_source}/{free_energy}/temperature/f_%d.png', '-c:v', 'libx264', '-r', '25.000', '-s', '1920x1080', '-pix_fmt', 'yuv420p', f'../video_animations/{heat_source}/{free_energy}/TEMPERATURE.mp4'])\n",
    "subprocess.call(['ffmpeg', '-y', '-framerate', '25.000', '-i', f'../temperoray_figures/{heat_source}/{free_energy}/phase/f_%d.png',      '-c:v', 'libx264', '-r', '25.000', '-s', '1920x1080', '-pix_fmt', 'yuv420p', f'../video_animations/{heat_source}/{free_energy}/PHASE.mp4'])\n",
    "subprocess.call(['ffmpeg', '-y', '-framerate', '25.000', '-i', f'../temperoray_figures/{heat_source}/{free_energy}/velocity/f_%d.png',    '-c:v', 'libx264', '-r', '25.000', '-s', '1920x1080', '-pix_fmt', 'yuv420p', f'../video_animations/{heat_source}/{free_energy}/VELOCITY.mp4'])"
   ]
  },
  {
   "cell_type": "code",
   "execution_count": null,
   "id": "45249a5c-f8ba-4029-a80a-99bcceed41d0",
   "metadata": {},
   "outputs": [],
   "source": [
    "heat_source = 'Bessel'\n",
    "free_energy = 'TDB'\n",
    "\n",
    "phase_in = f'../temperoray_figures/{heat_source}/{free_energy}/phase/'\n",
    "temp_in = f'../temperoray_figures/{heat_source}/{free_energy}/temperature/'\n",
    "vel_in = f'../temperoray_figures/{heat_source}/{free_energy}/velocity/'\n",
    "\n",
    "phase_out = f'../video_animations/{heat_source}/{free_energy}/gif/Phase.gif'\n",
    "temp_out = f'../video_animations/{heat_source}/{free_energy}/gif/Temperature.gif'\n",
    "vel_out = f'../video_animations/{heat_source}/{free_energy}/gif/Velocity.gif'\n",
    "\n",
    "create_gif_from_pngs(IP_folder=phase_in, OP_folder=phase_out, FPS=30, resize_factor=0.5)\n",
    "create_gif_from_pngs(IP_folder=temp_in, OP_folder=temp_out, FPS=30, resize_factor=0.5)\n",
    "create_gif_from_pngs(IP_folder=vel_in, OP_folder=vel_out, FPS=30, resize_factor=0.5)"
   ]
  },
  {
   "cell_type": "markdown",
   "id": "41abea7f-6ab7-4f61-afa6-59ee96cdfd9b",
   "metadata": {},
   "source": [
    "### Fitting"
   ]
  },
  {
   "cell_type": "code",
   "execution_count": null,
   "id": "2dba51a2-cf17-4204-a9f9-d28c415a1f6f",
   "metadata": {},
   "outputs": [],
   "source": [
    "heat_source = 'Bessel'\n",
    "free_energy = 'Fitting'\n",
    "\n",
    "import subprocess\n",
    "subprocess.call(['ffmpeg', '-y', '-framerate', '25.000', '-i', f'../temperoray_figures/{heat_source}/{free_energy}/temperature/f_%d.png', '-c:v', 'libx264', '-r', '25.000', '-s', '1920x1080', '-pix_fmt', 'yuv420p', f'../video_animations/{heat_source}/{free_energy}/TEMPERATURE.mp4'])\n",
    "subprocess.call(['ffmpeg', '-y', '-framerate', '25.000', '-i', f'../temperoray_figures/{heat_source}/{free_energy}/phase/f_%d.png',      '-c:v', 'libx264', '-r', '25.000', '-s', '1920x1080', '-pix_fmt', 'yuv420p', f'../video_animations/{heat_source}/{free_energy}/PHASE.mp4'])\n",
    "subprocess.call(['ffmpeg', '-y', '-framerate', '25.000', '-i', f'../temperoray_figures/{heat_source}/{free_energy}/velocity/f_%d.png',    '-c:v', 'libx264', '-r', '25.000', '-s', '1920x1080', '-pix_fmt', 'yuv420p', f'../video_animations/{heat_source}/{free_energy}/VELOCITY.mp4'])"
   ]
  },
  {
   "cell_type": "code",
   "execution_count": 4,
   "id": "d9401fc7-84c0-4f1c-99c4-9782be7932b1",
   "metadata": {},
   "outputs": [
    {
     "name": "stdout",
     "output_type": "stream",
     "text": [
      "GIF created successfully: ../video_animations/Bessel/Fitting/gif/Velocity.gif\n"
     ]
    }
   ],
   "source": [
    "heat_source = 'Bessel'\n",
    "free_energy = 'Fitting'\n",
    "\n",
    "phase_in = f'../temperoray_figures/{heat_source}/{free_energy}/phase/'\n",
    "temp_in = f'../temperoray_figures/{heat_source}/{free_energy}/temperature/'\n",
    "vel_in = f'../temperoray_figures/{heat_source}/{free_energy}/velocity/'\n",
    "\n",
    "phase_out = f'../video_animations/{heat_source}/{free_energy}/gif/Phase.gif'\n",
    "temp_out = f'../video_animations/{heat_source}/{free_energy}/gif/Temperature.gif'\n",
    "vel_out = f'../video_animations/{heat_source}/{free_energy}/gif/Velocity.gif'\n",
    "\n",
    "create_gif_from_pngs(IP_folder=phase_in, OP_folder=phase_out, FPS=30, resize_factor=0.5)\n",
    "create_gif_from_pngs(IP_folder=temp_in, OP_folder=temp_out, FPS=30, resize_factor=0.5)\n",
    "create_gif_from_pngs(IP_folder=vel_in, OP_folder=vel_out, FPS=30, resize_factor=0.5)"
   ]
  },
  {
   "cell_type": "code",
   "execution_count": null,
   "id": "9881552a-ada4-43a6-9593-634391639a3a",
   "metadata": {},
   "outputs": [],
   "source": []
  },
  {
   "cell_type": "code",
   "execution_count": null,
   "id": "37790835-7b55-4165-a869-732bd4844b30",
   "metadata": {},
   "outputs": [],
   "source": []
  }
 ],
 "metadata": {
  "kernelspec": {
   "display_name": "Python 3 (ipykernel)",
   "language": "python",
   "name": "python3"
  },
  "language_info": {
   "codemirror_mode": {
    "name": "ipython",
    "version": 3
   },
   "file_extension": ".py",
   "mimetype": "text/x-python",
   "name": "python",
   "nbconvert_exporter": "python",
   "pygments_lexer": "ipython3",
   "version": "3.10.12"
  }
 },
 "nbformat": 4,
 "nbformat_minor": 5
}
