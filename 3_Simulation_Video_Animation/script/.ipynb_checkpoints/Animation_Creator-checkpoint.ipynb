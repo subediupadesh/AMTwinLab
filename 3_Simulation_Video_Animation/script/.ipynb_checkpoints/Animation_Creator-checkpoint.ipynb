{
 "cells": [
  {
   "cell_type": "markdown",
   "id": "44f6ecc5-3295-42b6-a375-ff74251a0e18",
   "metadata": {},
   "source": [
    "# GIF Creator"
   ]
  },
  {
   "cell_type": "code",
   "execution_count": 3,
   "id": "1df466a2-276f-4aa0-b184-08f62059fa09",
   "metadata": {},
   "outputs": [],
   "source": [
    "import cv2\n",
    "import imageio\n",
    "import os\n",
    "from natsort import natsorted\n",
    "\n",
    "def create_gif_from_pngs(IP_folder, OP_folder, FPS=30, resize_factor=0.5):\n",
    "    images = []\n",
    "    png_files = natsorted([f for f in os.listdir(IP_folder) if f.endswith('.png')])\n",
    "\n",
    "    for file_name in png_files:\n",
    "        img_path = os.path.join(IP_folder, file_name)\n",
    "        img = cv2.imread(img_path)\n",
    "\n",
    "        if resize_factor != 1.0:\n",
    "            img = cv2.resize(img, None, fx=resize_factor, fy=resize_factor, interpolation=cv2.INTER_AREA)\n",
    "        \n",
    "        # Convert the image from BGR (OpenCV format) to RGB (imageio format)\n",
    "        img_rgb = cv2.cvtColor(img, cv2.COLOR_BGR2RGB)\n",
    "        images.append(img_rgb)\n",
    "\n",
    "    imageio.mimsave(OP_folder, images, format='GIF', fps=FPS,  loop=0)\n",
    "    print(f\"GIF created successfully: {OP_folder}\")"
   ]
  },
  {
   "cell_type": "markdown",
   "id": "512bd2d6-32e8-489f-9944-614dfde437db",
   "metadata": {},
   "source": [
    "## Gaussian"
   ]
  },
  {
   "cell_type": "markdown",
   "id": "a9ba917e-3e80-47df-87e1-b572be86a508",
   "metadata": {},
   "source": [
    "### TDB"
   ]
  },
  {
   "cell_type": "code",
   "execution_count": 2,
   "id": "388d2f99-e378-440d-b08a-5b54cd2a6ecc",
   "metadata": {},
   "outputs": [
    {
     "name": "stderr",
     "output_type": "stream",
     "text": [
      "ffmpeg version 6.1.1 Copyright (c) 2000-2023 the FFmpeg developers\n",
      "  built with gcc 12.3.0 (conda-forge gcc 12.3.0-5)\n",
      "  configuration: --prefix=/home/conda/feedstock_root/build_artifacts/ffmpeg_1710227007179/_h_env_placehold_placehold_placehold_placehold_placehold_placehold_placehold_placehold_placehold_placehold_placehold_placehold_placehold_placehold_placehold_placehold_placehold_placehold_plac --cc=/home/conda/feedstock_root/build_artifacts/ffmpeg_1710227007179/_build_env/bin/x86_64-conda-linux-gnu-cc --cxx=/home/conda/feedstock_root/build_artifacts/ffmpeg_1710227007179/_build_env/bin/x86_64-conda-linux-gnu-c++ --nm=/home/conda/feedstock_root/build_artifacts/ffmpeg_1710227007179/_build_env/bin/x86_64-conda-linux-gnu-nm --ar=/home/conda/feedstock_root/build_artifacts/ffmpeg_1710227007179/_build_env/bin/x86_64-conda-linux-gnu-ar --disable-doc --disable-openssl --enable-demuxer=dash --enable-hardcoded-tables --enable-libfreetype --enable-libharfbuzz --enable-libfontconfig --enable-libopenh264 --enable-libdav1d --enable-gnutls --enable-libmp3lame --enable-libvpx --enable-libass --enable-pthreads --enable-vaapi --enable-libopenvino --enable-gpl --enable-libx264 --enable-libx265 --enable-libaom --enable-libsvtav1 --enable-libxml2 --enable-pic --enable-shared --disable-static --enable-version3 --enable-zlib --enable-libopus --pkg-config=/home/conda/feedstock_root/build_artifacts/ffmpeg_1710227007179/_build_env/bin/pkg-config\n",
      "  libavutil      58. 29.100 / 58. 29.100\n",
      "  libavcodec     60. 31.102 / 60. 31.102\n",
      "  libavformat    60. 16.100 / 60. 16.100\n",
      "  libavdevice    60.  3.100 / 60.  3.100\n",
      "  libavfilter     9. 12.100 /  9. 12.100\n",
      "  libswscale      7.  5.100 /  7.  5.100\n",
      "  libswresample   4. 12.100 /  4. 12.100\n",
      "  libpostproc    57.  3.100 / 57.  3.100\n",
      "Input #0, image2, from '../temperoray_figures/Gaussian/TDB/temperature/f_%d.png':\n",
      "  Duration: 00:00:20.76, start: 0.000000, bitrate: N/A\n",
      "  Stream #0:0: Video: png, rgba(pc, gbr/unknown/unknown), 1535x497 [SAR 3937:3937 DAR 1535:497], 25 fps, 25 tbr, 25 tbn\n",
      "Stream mapping:\n",
      "  Stream #0:0 -> #0:0 (png (native) -> h264 (libx264))\n",
      "Press [q] to stop, [?] for help\n",
      "[libx264 @ 0x56737af52140] using SAR=1402/807\n",
      "[libx264 @ 0x56737af52140] using cpu capabilities: MMX2 SSE2Fast SSSE3 SSE4.2 AVX FMA3 BMI2 AVX2\n",
      "[libx264 @ 0x56737af52140] profile High, level 4.0, 4:2:0, 8-bit\n",
      "[libx264 @ 0x56737af52140] 264 - core 164 r3095 baee400 - H.264/MPEG-4 AVC codec - Copyleft 2003-2022 - http://www.videolan.org/x264.html - options: cabac=1 ref=3 deblock=1:0:0 analyse=0x3:0x113 me=hex subme=7 psy=1 psy_rd=1.00:0.00 mixed_ref=1 me_range=16 chroma_me=1 trellis=1 8x8dct=1 cqm=0 deadzone=21,11 fast_pskip=1 chroma_qp_offset=-2 threads=30 lookahead_threads=5 sliced_threads=0 nr=0 decimate=1 interlaced=0 bluray_compat=0 constrained_intra=0 bframes=3 b_pyramid=2 b_adapt=1 b_bias=0 direct=1 weightb=1 open_gop=0 weightp=2 keyint=250 keyint_min=25 scenecut=40 intra_refresh=0 rc_lookahead=40 rc=crf mbtree=1 crf=23.0 qcomp=0.60 qpmin=0 qpmax=69 qpstep=4 ip_ratio=1.40 aq=1:1.00\n",
      "Output #0, mp4, to '../video_animations/Gaussian/TDB/TEMPERATURE.mp4':\n",
      "  Metadata:\n",
      "    encoder         : Lavf60.16.100\n",
      "  Stream #0:0: Video: h264 (avc1 / 0x31637661), yuv420p(tv, progressive), 1920x1080 [SAR 13815:7952 DAR 1535:497], q=2-31, 25 fps, 12800 tbn\n",
      "    Metadata:\n",
      "      encoder         : Lavc60.31.102 libx264\n",
      "    Side data:\n",
      "      cpb: bitrate max/min/avg: 0/0/0 buffer size: 0 vbv_delay: N/A\n",
      "[out#0/mp4 @ 0x56737af50f80] video:1881kB audio:0kB subtitle:0kB other streams:0kB global headers:0kB muxing overhead: 0.369489%\n",
      "frame=  519 fps=206 q=-1.0 Lsize=    1888kB time=00:00:20.64 bitrate= 749.4kbits/s speed= 8.2x    \n",
      "[libx264 @ 0x56737af52140] frame I:3     Avg QP:16.24  size: 42822\n",
      "[libx264 @ 0x56737af52140] frame P:131   Avg QP:20.53  size:  7070\n",
      "[libx264 @ 0x56737af52140] frame B:385   Avg QP:25.13  size:  2263\n",
      "[libx264 @ 0x56737af52140] consecutive B-frames:  0.8%  0.8%  0.6% 97.9%\n",
      "[libx264 @ 0x56737af52140] mb I  I16..4: 36.6% 50.6% 12.7%\n",
      "[libx264 @ 0x56737af52140] mb P  I16..4:  1.1%  1.1%  0.2%  P16..4: 12.0%  2.3%  1.6%  0.0%  0.0%    skip:81.7%\n",
      "[libx264 @ 0x56737af52140] mb B  I16..4:  0.1%  0.1%  0.0%  B16..8: 15.6%  0.7%  0.1%  direct: 0.1%  skip:83.3%  L0:48.0% L1:51.1% BI: 0.9%\n",
      "[libx264 @ 0x56737af52140] 8x8 transform intra:45.1% inter:51.0%\n",
      "[libx264 @ 0x56737af52140] coded y,uvDC,uvAC intra: 11.3% 19.4% 6.7% inter: 0.8% 2.0% 0.5%\n",
      "[libx264 @ 0x56737af52140] i16 v,h,dc,p: 49% 22%  2% 26%\n",
      "[libx264 @ 0x56737af52140] i8 v,h,dc,ddl,ddr,vr,hd,vl,hu: 32% 12% 43%  2%  3%  4%  2%  2%  1%\n",
      "[libx264 @ 0x56737af52140] i4 v,h,dc,ddl,ddr,vr,hd,vl,hu: 43% 19% 17%  3%  4%  5%  2%  4%  2%\n",
      "[libx264 @ 0x56737af52140] i8c dc,h,v,p: 65% 11% 19%  5%\n",
      "[libx264 @ 0x56737af52140] Weighted P-Frames: Y:0.0% UV:0.0%\n",
      "[libx264 @ 0x56737af52140] ref P L0: 67.7%  3.4% 16.3% 12.5%\n",
      "[libx264 @ 0x56737af52140] ref B L0: 82.4% 14.3%  3.3%\n",
      "[libx264 @ 0x56737af52140] ref B L1: 93.9%  6.1%\n",
      "[libx264 @ 0x56737af52140] kb/s:742.10\n",
      "ffmpeg version 6.1.1 Copyright (c) 2000-2023 the FFmpeg developers\n",
      "  built with gcc 12.3.0 (conda-forge gcc 12.3.0-5)\n",
      "  configuration: --prefix=/home/conda/feedstock_root/build_artifacts/ffmpeg_1710227007179/_h_env_placehold_placehold_placehold_placehold_placehold_placehold_placehold_placehold_placehold_placehold_placehold_placehold_placehold_placehold_placehold_placehold_placehold_placehold_plac --cc=/home/conda/feedstock_root/build_artifacts/ffmpeg_1710227007179/_build_env/bin/x86_64-conda-linux-gnu-cc --cxx=/home/conda/feedstock_root/build_artifacts/ffmpeg_1710227007179/_build_env/bin/x86_64-conda-linux-gnu-c++ --nm=/home/conda/feedstock_root/build_artifacts/ffmpeg_1710227007179/_build_env/bin/x86_64-conda-linux-gnu-nm --ar=/home/conda/feedstock_root/build_artifacts/ffmpeg_1710227007179/_build_env/bin/x86_64-conda-linux-gnu-ar --disable-doc --disable-openssl --enable-demuxer=dash --enable-hardcoded-tables --enable-libfreetype --enable-libharfbuzz --enable-libfontconfig --enable-libopenh264 --enable-libdav1d --enable-gnutls --enable-libmp3lame --enable-libvpx --enable-libass --enable-pthreads --enable-vaapi --enable-libopenvino --enable-gpl --enable-libx264 --enable-libx265 --enable-libaom --enable-libsvtav1 --enable-libxml2 --enable-pic --enable-shared --disable-static --enable-version3 --enable-zlib --enable-libopus --pkg-config=/home/conda/feedstock_root/build_artifacts/ffmpeg_1710227007179/_build_env/bin/pkg-config\n",
      "  libavutil      58. 29.100 / 58. 29.100\n",
      "  libavcodec     60. 31.102 / 60. 31.102\n",
      "  libavformat    60. 16.100 / 60. 16.100\n",
      "  libavdevice    60.  3.100 / 60.  3.100\n",
      "  libavfilter     9. 12.100 /  9. 12.100\n",
      "  libswscale      7.  5.100 /  7.  5.100\n",
      "  libswresample   4. 12.100 /  4. 12.100\n",
      "  libpostproc    57.  3.100 / 57.  3.100\n",
      "Input #0, image2, from '../temperoray_figures/Gaussian/TDB/phase/f_%d.png':\n",
      "  Duration: 00:00:20.92, start: 0.000000, bitrate: N/A\n",
      "  Stream #0:0: Video: png, rgba(pc, gbr/unknown/unknown), 1311x497 [SAR 3937:3937 DAR 1311:497], 25 fps, 25 tbr, 25 tbn\n",
      "Stream mapping:\n",
      "  Stream #0:0 -> #0:0 (png (native) -> h264 (libx264))\n",
      "Press [q] to stop, [?] for help\n",
      "[libx264 @ 0x634938d852c0] using SAR=2561/1726\n",
      "[libx264 @ 0x634938d852c0] using cpu capabilities: MMX2 SSE2Fast SSSE3 SSE4.2 AVX FMA3 BMI2 AVX2\n",
      "[libx264 @ 0x634938d852c0] profile High, level 4.0, 4:2:0, 8-bit\n",
      "[libx264 @ 0x634938d852c0] 264 - core 164 r3095 baee400 - H.264/MPEG-4 AVC codec - Copyleft 2003-2022 - http://www.videolan.org/x264.html - options: cabac=1 ref=3 deblock=1:0:0 analyse=0x3:0x113 me=hex subme=7 psy=1 psy_rd=1.00:0.00 mixed_ref=1 me_range=16 chroma_me=1 trellis=1 8x8dct=1 cqm=0 deadzone=21,11 fast_pskip=1 chroma_qp_offset=-2 threads=30 lookahead_threads=5 sliced_threads=0 nr=0 decimate=1 interlaced=0 bluray_compat=0 constrained_intra=0 bframes=3 b_pyramid=2 b_adapt=1 b_bias=0 direct=1 weightb=1 open_gop=0 weightp=2 keyint=250 keyint_min=25 scenecut=40 intra_refresh=0 rc_lookahead=40 rc=crf mbtree=1 crf=23.0 qcomp=0.60 qpmin=0 qpmax=69 qpstep=4 ip_ratio=1.40 aq=1:1.00\n",
      "Output #0, mp4, to '../video_animations/Gaussian/TDB/PHASE.mp4':\n",
      "  Metadata:\n",
      "    encoder         : Lavf60.16.100\n",
      "  Stream #0:0: Video: h264 (avc1 / 0x31637661), yuv420p(tv, progressive), 1920x1080 [SAR 11799:7952 DAR 1311:497], q=2-31, 25 fps, 12800 tbn\n",
      "    Metadata:\n",
      "      encoder         : Lavc60.31.102 libx264\n",
      "    Side data:\n",
      "      cpb: bitrate max/min/avg: 0/0/0 buffer size: 0 vbv_delay: N/A\n",
      "[out#0/mp4 @ 0x634938d81c80] video:1845kB audio:0kB subtitle:0kB other streams:0kB global headers:0kB muxing overhead: 0.373880%\n",
      "frame=  523 fps=249 q=-1.0 Lsize=    1851kB time=00:00:20.80 bitrate= 729.2kbits/s speed=9.92x    \n",
      "[libx264 @ 0x634938d852c0] frame I:3     Avg QP:11.25  size: 29470\n",
      "[libx264 @ 0x634938d852c0] frame P:136   Avg QP:21.08  size:  6654\n",
      "[libx264 @ 0x634938d852c0] frame B:384   Avg QP:28.88  size:  2330\n",
      "[libx264 @ 0x634938d852c0] consecutive B-frames:  1.1%  0.4%  7.5% 91.0%\n",
      "[libx264 @ 0x634938d852c0] mb I  I16..4: 66.2% 25.8%  7.9%\n",
      "[libx264 @ 0x634938d852c0] mb P  I16..4:  0.6%  1.6%  0.4%  P16..4:  5.6%  2.0%  1.1%  0.0%  0.0%    skip:88.8%\n",
      "[libx264 @ 0x634938d852c0] mb B  I16..4:  0.1%  0.1%  0.0%  B16..8:  7.2%  1.1%  0.2%  direct: 0.2%  skip:91.0%  L0:53.3% L1:43.5% BI: 3.3%\n",
      "[libx264 @ 0x634938d852c0] 8x8 transform intra:43.4% inter:39.4%\n",
      "[libx264 @ 0x634938d852c0] coded y,uvDC,uvAC intra: 9.0% 13.3% 11.9% inter: 0.7% 1.9% 1.6%\n",
      "[libx264 @ 0x634938d852c0] i16 v,h,dc,p: 86% 12%  2%  0%\n",
      "[libx264 @ 0x634938d852c0] i8 v,h,dc,ddl,ddr,vr,hd,vl,hu: 15%  4% 79%  0%  0%  0%  0%  0%  0%\n",
      "[libx264 @ 0x634938d852c0] i4 v,h,dc,ddl,ddr,vr,hd,vl,hu: 35% 17% 28%  3%  4%  4%  3%  4%  2%\n",
      "[libx264 @ 0x634938d852c0] i8c dc,h,v,p: 60% 22% 17%  0%\n",
      "[libx264 @ 0x634938d852c0] Weighted P-Frames: Y:0.0% UV:0.0%\n",
      "[libx264 @ 0x634938d852c0] ref P L0: 55.8%  3.6% 20.7% 20.0%\n",
      "[libx264 @ 0x634938d852c0] ref B L0: 70.8% 20.8%  8.4%\n",
      "[libx264 @ 0x634938d852c0] ref B L1: 89.9% 10.1%\n",
      "[libx264 @ 0x634938d852c0] kb/s:722.05\n",
      "ffmpeg version 6.1.1 Copyright (c) 2000-2023 the FFmpeg developers\n",
      "  built with gcc 12.3.0 (conda-forge gcc 12.3.0-5)\n",
      "  configuration: --prefix=/home/conda/feedstock_root/build_artifacts/ffmpeg_1710227007179/_h_env_placehold_placehold_placehold_placehold_placehold_placehold_placehold_placehold_placehold_placehold_placehold_placehold_placehold_placehold_placehold_placehold_placehold_placehold_plac --cc=/home/conda/feedstock_root/build_artifacts/ffmpeg_1710227007179/_build_env/bin/x86_64-conda-linux-gnu-cc --cxx=/home/conda/feedstock_root/build_artifacts/ffmpeg_1710227007179/_build_env/bin/x86_64-conda-linux-gnu-c++ --nm=/home/conda/feedstock_root/build_artifacts/ffmpeg_1710227007179/_build_env/bin/x86_64-conda-linux-gnu-nm --ar=/home/conda/feedstock_root/build_artifacts/ffmpeg_1710227007179/_build_env/bin/x86_64-conda-linux-gnu-ar --disable-doc --disable-openssl --enable-demuxer=dash --enable-hardcoded-tables --enable-libfreetype --enable-libharfbuzz --enable-libfontconfig --enable-libopenh264 --enable-libdav1d --enable-gnutls --enable-libmp3lame --enable-libvpx --enable-libass --enable-pthreads --enable-vaapi --enable-libopenvino --enable-gpl --enable-libx264 --enable-libx265 --enable-libaom --enable-libsvtav1 --enable-libxml2 --enable-pic --enable-shared --disable-static --enable-version3 --enable-zlib --enable-libopus --pkg-config=/home/conda/feedstock_root/build_artifacts/ffmpeg_1710227007179/_build_env/bin/pkg-config\n",
      "  libavutil      58. 29.100 / 58. 29.100\n",
      "  libavcodec     60. 31.102 / 60. 31.102\n",
      "  libavformat    60. 16.100 / 60. 16.100\n",
      "  libavdevice    60.  3.100 / 60.  3.100\n",
      "  libavfilter     9. 12.100 /  9. 12.100\n",
      "  libswscale      7.  5.100 /  7.  5.100\n",
      "  libswresample   4. 12.100 /  4. 12.100\n",
      "  libpostproc    57.  3.100 / 57.  3.100\n",
      "Input #0, image2, from '../temperoray_figures/Gaussian/TDB/velocity/f_%d.png':\n",
      "  Duration: 00:00:17.48, start: 0.000000, bitrate: N/A\n",
      "  Stream #0:0: Video: png, rgba(pc, gbr/unknown/unknown), 1536x497 [SAR 3937:3937 DAR 1536:497], 25 fps, 25 tbr, 25 tbn\n",
      "Stream mapping:\n",
      "  Stream #0:0 -> #0:0 (png (native) -> h264 (libx264))\n",
      "Press [q] to stop, [?] for help\n",
      "[libx264 @ 0x5ef83eb51880] using SAR=864/497\n",
      "[libx264 @ 0x5ef83eb51880] using cpu capabilities: MMX2 SSE2Fast SSSE3 SSE4.2 AVX FMA3 BMI2 AVX2\n",
      "[libx264 @ 0x5ef83eb51880] profile High, level 4.0, 4:2:0, 8-bit\n",
      "[libx264 @ 0x5ef83eb51880] 264 - core 164 r3095 baee400 - H.264/MPEG-4 AVC codec - Copyleft 2003-2022 - http://www.videolan.org/x264.html - options: cabac=1 ref=3 deblock=1:0:0 analyse=0x3:0x113 me=hex subme=7 psy=1 psy_rd=1.00:0.00 mixed_ref=1 me_range=16 chroma_me=1 trellis=1 8x8dct=1 cqm=0 deadzone=21,11 fast_pskip=1 chroma_qp_offset=-2 threads=30 lookahead_threads=5 sliced_threads=0 nr=0 decimate=1 interlaced=0 bluray_compat=0 constrained_intra=0 bframes=3 b_pyramid=2 b_adapt=1 b_bias=0 direct=1 weightb=1 open_gop=0 weightp=2 keyint=250 keyint_min=25 scenecut=40 intra_refresh=0 rc_lookahead=40 rc=crf mbtree=1 crf=23.0 qcomp=0.60 qpmin=0 qpmax=69 qpstep=4 ip_ratio=1.40 aq=1:1.00\n",
      "Output #0, mp4, to '../video_animations/Gaussian/TDB/VELOCITY.mp4':\n",
      "  Metadata:\n",
      "    encoder         : Lavf60.16.100\n",
      "  Stream #0:0: Video: h264 (avc1 / 0x31637661), yuv420p(tv, progressive), 1920x1080 [SAR 864:497 DAR 1536:497], q=2-31, 25 fps, 12800 tbn\n",
      "    Metadata:\n",
      "      encoder         : Lavc60.31.102 libx264\n",
      "    Side data:\n",
      "      cpb: bitrate max/min/avg: 0/0/0 buffer size: 0 vbv_delay: N/A\n",
      "[out#0/mp4 @ 0x5ef83eb4e2c0] video:1430kB audio:0kB subtitle:0kB other streams:0kB global headers:0kB muxing overhead: 0.418136%\n",
      "frame=  437 fps=223 q=-1.0 Lsize=    1436kB time=00:00:17.36 bitrate= 677.5kbits/s speed=8.86x    \n",
      "[libx264 @ 0x5ef83eb51880] frame I:2     Avg QP:13.89  size: 37702\n",
      "[libx264 @ 0x5ef83eb51880] frame P:110   Avg QP:20.81  size:  6578\n",
      "[libx264 @ 0x5ef83eb51880] frame B:325   Avg QP:28.53  size:  2044\n",
      "[libx264 @ 0x5ef83eb51880] consecutive B-frames:  0.5%  0.5%  2.1% 97.0%\n",
      "[libx264 @ 0x5ef83eb51880] mb I  I16..4: 62.8% 27.2%  9.9%\n",
      "[libx264 @ 0x5ef83eb51880] mb P  I16..4:  1.4%  0.7%  0.3%  P16..4:  8.5%  2.1%  1.2%  0.0%  0.0%    skip:85.9%\n",
      "[libx264 @ 0x5ef83eb51880] mb B  I16..4:  0.1%  0.1%  0.0%  B16..8: 11.2%  1.0%  0.1%  direct: 0.1%  skip:87.3%  L0:53.7% L1:44.8% BI: 1.6%\n",
      "[libx264 @ 0x5ef83eb51880] 8x8 transform intra:27.3% inter:57.5%\n",
      "[libx264 @ 0x5ef83eb51880] coded y,uvDC,uvAC intra: 12.1% 15.0% 10.3% inter: 0.7% 1.7% 1.1%\n",
      "[libx264 @ 0x5ef83eb51880] i16 v,h,dc,p: 44% 54%  1%  1%\n",
      "[libx264 @ 0x5ef83eb51880] i8 v,h,dc,ddl,ddr,vr,hd,vl,hu: 25% 19% 50%  1%  1%  1%  1%  1%  1%\n",
      "[libx264 @ 0x5ef83eb51880] i4 v,h,dc,ddl,ddr,vr,hd,vl,hu: 37% 24% 20%  3%  3%  5%  2%  4%  1%\n",
      "[libx264 @ 0x5ef83eb51880] i8c dc,h,v,p: 44% 39% 15%  1%\n",
      "[libx264 @ 0x5ef83eb51880] Weighted P-Frames: Y:0.0% UV:0.0%\n",
      "[libx264 @ 0x5ef83eb51880] ref P L0: 55.6%  5.2% 17.2% 22.0%\n",
      "[libx264 @ 0x5ef83eb51880] ref B L0: 67.1% 27.4%  5.6%\n",
      "[libx264 @ 0x5ef83eb51880] ref B L1: 87.8% 12.2%\n",
      "[libx264 @ 0x5ef83eb51880] kb/s:669.76\n"
     ]
    },
    {
     "data": {
      "text/plain": [
       "0"
      ]
     },
     "execution_count": 2,
     "metadata": {},
     "output_type": "execute_result"
    }
   ],
   "source": [
    "heat_source = 'Gaussian'\n",
    "free_energy = 'TDB'\n",
    "\n",
    "import subprocess\n",
    "subprocess.call(['ffmpeg', '-y', '-framerate', '25.000', '-i', f'../temperoray_figures/{heat_source}/{free_energy}/temperature/f_%d.png', '-c:v', 'libx264', '-r', '25.000', '-s', '1920x1080', '-pix_fmt', 'yuv420p', f'../video_animations/{heat_source}/{free_energy}/TEMPERATURE.mp4'])\n",
    "subprocess.call(['ffmpeg', '-y', '-framerate', '25.000', '-i', f'../temperoray_figures/{heat_source}/{free_energy}/phase/f_%d.png',      '-c:v', 'libx264', '-r', '25.000', '-s', '1920x1080', '-pix_fmt', 'yuv420p', f'../video_animations/{heat_source}/{free_energy}/PHASE.mp4'])\n",
    "subprocess.call(['ffmpeg', '-y', '-framerate', '25.000', '-i', f'../temperoray_figures/{heat_source}/{free_energy}/velocity/f_%d.png',    '-c:v', 'libx264', '-r', '25.000', '-s', '1920x1080', '-pix_fmt', 'yuv420p', f'../video_animations/{heat_source}/{free_energy}/VELOCITY.mp4'])\n"
   ]
  },
  {
   "cell_type": "code",
   "execution_count": 3,
   "id": "87f4338d-d5dd-401c-a0b3-53f7db239b45",
   "metadata": {},
   "outputs": [
    {
     "ename": "ValueError",
     "evalue": "all input arrays must have the same shape",
     "output_type": "error",
     "traceback": [
      "\u001b[0;31m---------------------------------------------------------------------------\u001b[0m",
      "\u001b[0;31mValueError\u001b[0m                                Traceback (most recent call last)",
      "Cell \u001b[0;32mIn[3], line 12\u001b[0m\n\u001b[1;32m      9\u001b[0m temp_out \u001b[38;5;241m=\u001b[39m \u001b[38;5;124mf\u001b[39m\u001b[38;5;124m'\u001b[39m\u001b[38;5;124m../video_animations/\u001b[39m\u001b[38;5;132;01m{\u001b[39;00mheat_source\u001b[38;5;132;01m}\u001b[39;00m\u001b[38;5;124m/\u001b[39m\u001b[38;5;132;01m{\u001b[39;00mfree_energy\u001b[38;5;132;01m}\u001b[39;00m\u001b[38;5;124m/gif/Temperature.gif\u001b[39m\u001b[38;5;124m'\u001b[39m\n\u001b[1;32m     10\u001b[0m vel_out \u001b[38;5;241m=\u001b[39m \u001b[38;5;124mf\u001b[39m\u001b[38;5;124m'\u001b[39m\u001b[38;5;124m../video_animations/\u001b[39m\u001b[38;5;132;01m{\u001b[39;00mheat_source\u001b[38;5;132;01m}\u001b[39;00m\u001b[38;5;124m/\u001b[39m\u001b[38;5;132;01m{\u001b[39;00mfree_energy\u001b[38;5;132;01m}\u001b[39;00m\u001b[38;5;124m/gif/Velocity.gif\u001b[39m\u001b[38;5;124m'\u001b[39m\n\u001b[0;32m---> 12\u001b[0m \u001b[43mcreate_gif_from_pngs\u001b[49m\u001b[43m(\u001b[49m\u001b[43mIP_folder\u001b[49m\u001b[38;5;241;43m=\u001b[39;49m\u001b[43mphase_in\u001b[49m\u001b[43m,\u001b[49m\u001b[43m \u001b[49m\u001b[43mOP_folder\u001b[49m\u001b[38;5;241;43m=\u001b[39;49m\u001b[43mphase_out\u001b[49m\u001b[43m,\u001b[49m\u001b[43m \u001b[49m\u001b[43mFPS\u001b[49m\u001b[38;5;241;43m=\u001b[39;49m\u001b[38;5;241;43m30\u001b[39;49m\u001b[43m,\u001b[49m\u001b[43m \u001b[49m\u001b[43mresize_factor\u001b[49m\u001b[38;5;241;43m=\u001b[39;49m\u001b[38;5;241;43m0.5\u001b[39;49m\u001b[43m)\u001b[49m\n\u001b[1;32m     13\u001b[0m create_gif_from_pngs(IP_folder\u001b[38;5;241m=\u001b[39mtemp_in, OP_folder\u001b[38;5;241m=\u001b[39mtemp_out, FPS\u001b[38;5;241m=\u001b[39m\u001b[38;5;241m30\u001b[39m, resize_factor\u001b[38;5;241m=\u001b[39m\u001b[38;5;241m0.5\u001b[39m)\n\u001b[1;32m     14\u001b[0m create_gif_from_pngs(IP_folder\u001b[38;5;241m=\u001b[39mvel_in, OP_folder\u001b[38;5;241m=\u001b[39mvel_out, FPS\u001b[38;5;241m=\u001b[39m\u001b[38;5;241m30\u001b[39m, resize_factor\u001b[38;5;241m=\u001b[39m\u001b[38;5;241m0.5\u001b[39m)\n",
      "Cell \u001b[0;32mIn[1], line 21\u001b[0m, in \u001b[0;36mcreate_gif_from_pngs\u001b[0;34m(IP_folder, OP_folder, FPS, resize_factor)\u001b[0m\n\u001b[1;32m     18\u001b[0m     img_rgb \u001b[38;5;241m=\u001b[39m cv2\u001b[38;5;241m.\u001b[39mcvtColor(img, cv2\u001b[38;5;241m.\u001b[39mCOLOR_BGR2RGB)\n\u001b[1;32m     19\u001b[0m     images\u001b[38;5;241m.\u001b[39mappend(img_rgb)\n\u001b[0;32m---> 21\u001b[0m \u001b[43mimageio\u001b[49m\u001b[38;5;241;43m.\u001b[39;49m\u001b[43mmimsave\u001b[49m\u001b[43m(\u001b[49m\u001b[43mOP_folder\u001b[49m\u001b[43m,\u001b[49m\u001b[43m \u001b[49m\u001b[43mimages\u001b[49m\u001b[43m,\u001b[49m\u001b[43m \u001b[49m\u001b[38;5;28;43mformat\u001b[39;49m\u001b[38;5;241;43m=\u001b[39;49m\u001b[38;5;124;43m'\u001b[39;49m\u001b[38;5;124;43mGIF\u001b[39;49m\u001b[38;5;124;43m'\u001b[39;49m\u001b[43m,\u001b[49m\u001b[43m \u001b[49m\u001b[43mfps\u001b[49m\u001b[38;5;241;43m=\u001b[39;49m\u001b[43mFPS\u001b[49m\u001b[43m,\u001b[49m\u001b[43m  \u001b[49m\u001b[43mloop\u001b[49m\u001b[38;5;241;43m=\u001b[39;49m\u001b[38;5;241;43m0\u001b[39;49m\u001b[43m)\u001b[49m\n\u001b[1;32m     22\u001b[0m \u001b[38;5;28mprint\u001b[39m(\u001b[38;5;124mf\u001b[39m\u001b[38;5;124m\"\u001b[39m\u001b[38;5;124mGIF created successfully: \u001b[39m\u001b[38;5;132;01m{\u001b[39;00mOP_folder\u001b[38;5;132;01m}\u001b[39;00m\u001b[38;5;124m\"\u001b[39m)\n",
      "File \u001b[0;32m~/anaconda3/envs/phd/lib/python3.10/site-packages/imageio/v2.py:495\u001b[0m, in \u001b[0;36mmimwrite\u001b[0;34m(uri, ims, format, **kwargs)\u001b[0m\n\u001b[1;32m    493\u001b[0m imopen_args[\u001b[38;5;124m\"\u001b[39m\u001b[38;5;124mlegacy_mode\u001b[39m\u001b[38;5;124m\"\u001b[39m] \u001b[38;5;241m=\u001b[39m \u001b[38;5;28;01mTrue\u001b[39;00m\n\u001b[1;32m    494\u001b[0m \u001b[38;5;28;01mwith\u001b[39;00m imopen(uri, \u001b[38;5;124m\"\u001b[39m\u001b[38;5;124mwI\u001b[39m\u001b[38;5;124m\"\u001b[39m, \u001b[38;5;241m*\u001b[39m\u001b[38;5;241m*\u001b[39mimopen_args) \u001b[38;5;28;01mas\u001b[39;00m file:\n\u001b[0;32m--> 495\u001b[0m     \u001b[38;5;28;01mreturn\u001b[39;00m \u001b[43mfile\u001b[49m\u001b[38;5;241;43m.\u001b[39;49m\u001b[43mwrite\u001b[49m\u001b[43m(\u001b[49m\u001b[43mims\u001b[49m\u001b[43m,\u001b[49m\u001b[43m \u001b[49m\u001b[43mis_batch\u001b[49m\u001b[38;5;241;43m=\u001b[39;49m\u001b[38;5;28;43;01mTrue\u001b[39;49;00m\u001b[43m,\u001b[49m\u001b[43m \u001b[49m\u001b[38;5;241;43m*\u001b[39;49m\u001b[38;5;241;43m*\u001b[39;49m\u001b[43mkwargs\u001b[49m\u001b[43m)\u001b[49m\n",
      "File \u001b[0;32m~/anaconda3/envs/phd/lib/python3.10/site-packages/imageio/plugins/pillow.py:417\u001b[0m, in \u001b[0;36mPillowPlugin.write\u001b[0;34m(self, ndimage, mode, format, is_batch, **kwargs)\u001b[0m\n\u001b[1;32m    414\u001b[0m     kwargs[\u001b[38;5;124m\"\u001b[39m\u001b[38;5;124mduration\u001b[39m\u001b[38;5;124m\"\u001b[39m] \u001b[38;5;241m=\u001b[39m \u001b[38;5;241m1000\u001b[39m \u001b[38;5;241m*\u001b[39m \u001b[38;5;241m1\u001b[39m \u001b[38;5;241m/\u001b[39m kwargs\u001b[38;5;241m.\u001b[39mget(\u001b[38;5;124m\"\u001b[39m\u001b[38;5;124mfps\u001b[39m\u001b[38;5;124m\"\u001b[39m)\n\u001b[1;32m    416\u001b[0m \u001b[38;5;28;01mif\u001b[39;00m \u001b[38;5;28misinstance\u001b[39m(ndimage, \u001b[38;5;28mlist\u001b[39m):\n\u001b[0;32m--> 417\u001b[0m     ndimage \u001b[38;5;241m=\u001b[39m \u001b[43mnp\u001b[49m\u001b[38;5;241;43m.\u001b[39;49m\u001b[43mstack\u001b[49m\u001b[43m(\u001b[49m\u001b[43mndimage\u001b[49m\u001b[43m,\u001b[49m\u001b[43m \u001b[49m\u001b[43maxis\u001b[49m\u001b[38;5;241;43m=\u001b[39;49m\u001b[38;5;241;43m0\u001b[39;49m\u001b[43m)\u001b[49m\n\u001b[1;32m    418\u001b[0m     is_batch \u001b[38;5;241m=\u001b[39m \u001b[38;5;28;01mTrue\u001b[39;00m\n\u001b[1;32m    419\u001b[0m \u001b[38;5;28;01melse\u001b[39;00m:\n",
      "File \u001b[0;32m~/anaconda3/envs/phd/lib/python3.10/site-packages/numpy/core/shape_base.py:449\u001b[0m, in \u001b[0;36mstack\u001b[0;34m(arrays, axis, out, dtype, casting)\u001b[0m\n\u001b[1;32m    447\u001b[0m shapes \u001b[38;5;241m=\u001b[39m {arr\u001b[38;5;241m.\u001b[39mshape \u001b[38;5;28;01mfor\u001b[39;00m arr \u001b[38;5;129;01min\u001b[39;00m arrays}\n\u001b[1;32m    448\u001b[0m \u001b[38;5;28;01mif\u001b[39;00m \u001b[38;5;28mlen\u001b[39m(shapes) \u001b[38;5;241m!=\u001b[39m \u001b[38;5;241m1\u001b[39m:\n\u001b[0;32m--> 449\u001b[0m     \u001b[38;5;28;01mraise\u001b[39;00m \u001b[38;5;167;01mValueError\u001b[39;00m(\u001b[38;5;124m'\u001b[39m\u001b[38;5;124mall input arrays must have the same shape\u001b[39m\u001b[38;5;124m'\u001b[39m)\n\u001b[1;32m    451\u001b[0m result_ndim \u001b[38;5;241m=\u001b[39m arrays[\u001b[38;5;241m0\u001b[39m]\u001b[38;5;241m.\u001b[39mndim \u001b[38;5;241m+\u001b[39m \u001b[38;5;241m1\u001b[39m\n\u001b[1;32m    452\u001b[0m axis \u001b[38;5;241m=\u001b[39m normalize_axis_index(axis, result_ndim)\n",
      "\u001b[0;31mValueError\u001b[0m: all input arrays must have the same shape"
     ]
    }
   ],
   "source": [
    "heat_source = 'Gaussian'\n",
    "free_energy = 'TDB'\n",
    "\n",
    "phase_in = f'../temperoray_figures/{heat_source}/{free_energy}/phase/'\n",
    "temp_in = f'../temperoray_figures/{heat_source}/{free_energy}/temperature/'\n",
    "vel_in = f'../temperoray_figures/{heat_source}/{free_energy}/velocity/'\n",
    "\n",
    "phase_out = f'../video_animations/{heat_source}/{free_energy}/gif/Phase.gif'\n",
    "temp_out = f'../video_animations/{heat_source}/{free_energy}/gif/Temperature.gif'\n",
    "vel_out = f'../video_animations/{heat_source}/{free_energy}/gif/Velocity.gif'\n",
    "\n",
    "create_gif_from_pngs(IP_folder=phase_in, OP_folder=phase_out, FPS=30, resize_factor=0.5)\n",
    "create_gif_from_pngs(IP_folder=temp_in, OP_folder=temp_out, FPS=30, resize_factor=0.5)\n",
    "create_gif_from_pngs(IP_folder=vel_in, OP_folder=vel_out, FPS=30, resize_factor=0.5)"
   ]
  },
  {
   "cell_type": "code",
   "execution_count": null,
   "id": "75e0977c-61b2-4939-b7eb-edf423e6ba1a",
   "metadata": {},
   "outputs": [],
   "source": []
  },
  {
   "cell_type": "markdown",
   "id": "e5add405-dbf8-4123-935c-8b167ae45528",
   "metadata": {},
   "source": [
    "### Fitting"
   ]
  },
  {
   "cell_type": "code",
   "execution_count": null,
   "id": "cde6951a-2e5b-4e34-a534-fc3e261706a3",
   "metadata": {},
   "outputs": [],
   "source": [
    "heat_source = 'Gaussian'\n",
    "free_energy = 'Fitting'\n",
    "\n",
    "import subprocess\n",
    "subprocess.call(['ffmpeg', '-y', '-framerate', '25.000', '-i', f'../temperoray_figures/{heat_source}/{free_energy}/temperature/f_%d.png', '-c:v', 'libx264', '-r', '25.000', '-s', '1920x1080', '-pix_fmt', 'yuv420p', f'../video_animations/{heat_source}/{free_energy}/TEMPERATURE.mp4'])\n",
    "subprocess.call(['ffmpeg', '-y', '-framerate', '25.000', '-i', f'../temperoray_figures/{heat_source}/{free_energy}/phase/f_%d.png',      '-c:v', 'libx264', '-r', '25.000', '-s', '1920x1080', '-pix_fmt', 'yuv420p', f'../video_animations/{heat_source}/{free_energy}/PHASE.mp4'])\n",
    "subprocess.call(['ffmpeg', '-y', '-framerate', '25.000', '-i', f'../temperoray_figures/{heat_source}/{free_energy}/velocity/f_%d.png',    '-c:v', 'libx264', '-r', '25.000', '-s', '1920x1080', '-pix_fmt', 'yuv420p', f'../video_animations/{heat_source}/{free_energy}/VELOCITY.mp4'])\n"
   ]
  },
  {
   "cell_type": "code",
   "execution_count": null,
   "id": "88a083c4-1ecb-4d4e-bd76-cb0fa942afe1",
   "metadata": {},
   "outputs": [],
   "source": [
    "heat_source = 'Gaussian'\n",
    "free_energy = 'Fitting'\n",
    "\n",
    "phase_in = f'../temperoray_figures/{heat_source}/{free_energy}/phase/'\n",
    "temp_in = f'../temperoray_figures/{heat_source}/{free_energy}/temperature/'\n",
    "vel_in = f'../temperoray_figures/{heat_source}/{free_energy}/velocity/'\n",
    "\n",
    "phase_out = f'../video_animations/{heat_source}/{free_energy}/gif/Phase.gif'\n",
    "temp_out = f'../video_animations/{heat_source}/{free_energy}/gif/Temperature.gif'\n",
    "vel_out = f'../video_animations/{heat_source}/{free_energy}/gif/Velocity.gif'\n",
    "\n",
    "create_gif_from_pngs(IP_folder=phase_in, OP_folder=phase_out, FPS=30, resize_factor=0.5)\n",
    "create_gif_from_pngs(IP_folder=temp_in, OP_folder=temp_out, FPS=30, resize_factor=0.5)\n",
    "create_gif_from_pngs(IP_folder=vel_in, OP_folder=vel_out, FPS=30, resize_factor=0.5)"
   ]
  },
  {
   "cell_type": "markdown",
   "id": "d3d5ebb8-0b14-4055-bcf5-6fc5a03bd557",
   "metadata": {},
   "source": [
    "## FlatTop"
   ]
  },
  {
   "cell_type": "markdown",
   "id": "bb93b0b1-7f42-4a49-8184-ef4bd3b241af",
   "metadata": {},
   "source": [
    "### TDB"
   ]
  },
  {
   "cell_type": "code",
   "execution_count": null,
   "id": "a3e21322-85a6-4427-be54-4e260cc0a327",
   "metadata": {},
   "outputs": [],
   "source": [
    "heat_source = 'FlatTop'\n",
    "free_energy = 'TDB'\n",
    "\n",
    "import subprocess\n",
    "subprocess.call(['ffmpeg', '-y', '-framerate', '25.000', '-i', f'../temperoray_figures/{heat_source}/{free_energy}/temperature/f_%d.png', '-c:v', 'libx264', '-r', '25.000', '-s', '1920x1080', '-pix_fmt', 'yuv420p', f'../video_animations/{heat_source}/{free_energy}/TEMPERATURE.mp4'])\n",
    "subprocess.call(['ffmpeg', '-y', '-framerate', '25.000', '-i', f'../temperoray_figures/{heat_source}/{free_energy}/phase/f_%d.png',      '-c:v', 'libx264', '-r', '25.000', '-s', '1920x1080', '-pix_fmt', 'yuv420p', f'../video_animations/{heat_source}/{free_energy}/PHASE.mp4'])\n",
    "subprocess.call(['ffmpeg', '-y', '-framerate', '25.000', '-i', f'../temperoray_figures/{heat_source}/{free_energy}/velocity/f_%d.png',    '-c:v', 'libx264', '-r', '25.000', '-s', '1920x1080', '-pix_fmt', 'yuv420p', f'../video_animations/{heat_source}/{free_energy}/VELOCITY.mp4'])\n"
   ]
  },
  {
   "cell_type": "code",
   "execution_count": null,
   "id": "7832fb66-b776-4bf0-9088-6f217cf40bf0",
   "metadata": {},
   "outputs": [],
   "source": [
    "heat_source = 'FlatTop'\n",
    "free_energy = 'TDB'\n",
    "\n",
    "phase_in = f'../temperoray_figures/{heat_source}/{free_energy}/phase/'\n",
    "temp_in = f'../temperoray_figures/{heat_source}/{free_energy}/temperature/'\n",
    "vel_in = f'../temperoray_figures/{heat_source}/{free_energy}/velocity/'\n",
    "\n",
    "phase_out = f'../video_animations/{heat_source}/{free_energy}/gif/Phase.gif'\n",
    "temp_out = f'../video_animations/{heat_source}/{free_energy}/gif/Temperature.gif'\n",
    "vel_out = f'../video_animations/{heat_source}/{free_energy}/gif/Velocity.gif'\n",
    "\n",
    "create_gif_from_pngs(IP_folder=phase_in, OP_folder=phase_out, FPS=30, resize_factor=0.5)\n",
    "create_gif_from_pngs(IP_folder=temp_in, OP_folder=temp_out, FPS=30, resize_factor=0.5)\n",
    "create_gif_from_pngs(IP_folder=vel_in, OP_folder=vel_out, FPS=30, resize_factor=0.5)"
   ]
  },
  {
   "cell_type": "markdown",
   "id": "4e9ca5a5-39d7-49db-986e-0fe90c599f94",
   "metadata": {},
   "source": [
    "### Fitting"
   ]
  },
  {
   "cell_type": "code",
   "execution_count": null,
   "id": "a6525a03-3efc-4bef-9463-32b623fbe3d9",
   "metadata": {},
   "outputs": [],
   "source": [
    "heat_source = 'FlatTop'\n",
    "free_energy = 'Fitting'\n",
    "\n",
    "import subprocess\n",
    "subprocess.call(['ffmpeg', '-y', '-framerate', '25.000', '-i', f'../temperoray_figures/{heat_source}/{free_energy}/temperature/f_%d.png', '-c:v', 'libx264', '-r', '25.000', '-s', '1920x1080', '-pix_fmt', 'yuv420p', f'../video_animations/{heat_source}/{free_energy}/TEMPERATURE.mp4'])\n",
    "subprocess.call(['ffmpeg', '-y', '-framerate', '25.000', '-i', f'../temperoray_figures/{heat_source}/{free_energy}/phase/f_%d.png',      '-c:v', 'libx264', '-r', '25.000', '-s', '1920x1080', '-pix_fmt', 'yuv420p', f'../video_animations/{heat_source}/{free_energy}/PHASE.mp4'])\n",
    "subprocess.call(['ffmpeg', '-y', '-framerate', '25.000', '-i', f'../temperoray_figures/{heat_source}/{free_energy}/velocity/f_%d.png',    '-c:v', 'libx264', '-r', '25.000', '-s', '1920x1080', '-pix_fmt', 'yuv420p', f'../video_animations/{heat_source}/{free_energy}/VELOCITY.mp4'])"
   ]
  },
  {
   "cell_type": "code",
   "execution_count": null,
   "id": "a837abf1-64fd-4e32-a3c3-6bbc16adcd10",
   "metadata": {},
   "outputs": [],
   "source": [
    "heat_source = 'FlatTop'\n",
    "free_energy = 'Fitting'\n",
    "\n",
    "phase_in = f'../temperoray_figures/{heat_source}/{free_energy}/phase/'\n",
    "temp_in = f'../temperoray_figures/{heat_source}/{free_energy}/temperature/'\n",
    "vel_in = f'../temperoray_figures/{heat_source}/{free_energy}/velocity/'\n",
    "\n",
    "phase_out = f'../video_animations/{heat_source}/{free_energy}/gif/Phase.gif'\n",
    "temp_out = f'../video_animations/{heat_source}/{free_energy}/gif/Temperature.gif'\n",
    "vel_out = f'../video_animations/{heat_source}/{free_energy}/gif/Velocity.gif'\n",
    "\n",
    "create_gif_from_pngs(IP_folder=phase_in, OP_folder=phase_out, FPS=30, resize_factor=0.5)\n",
    "create_gif_from_pngs(IP_folder=temp_in, OP_folder=temp_out, FPS=30, resize_factor=0.5)\n",
    "create_gif_from_pngs(IP_folder=vel_in, OP_folder=vel_out, FPS=30, resize_factor=0.5)"
   ]
  },
  {
   "cell_type": "markdown",
   "id": "0bdfca66-8dcd-4ea7-a168-5d5cb7f0a01e",
   "metadata": {},
   "source": [
    "## Ring"
   ]
  },
  {
   "cell_type": "markdown",
   "id": "9d9dcc28-aed1-4bf5-9534-b9e85c891b7d",
   "metadata": {},
   "source": [
    "### TDB"
   ]
  },
  {
   "cell_type": "code",
   "execution_count": null,
   "id": "320c239d-05ca-42bd-947f-a308436d1b42",
   "metadata": {},
   "outputs": [],
   "source": [
    "heat_source = 'Ring'\n",
    "free_energy = 'TDB'\n",
    "\n",
    "import subprocess\n",
    "subprocess.call(['ffmpeg', '-y', '-framerate', '25.000', '-i', f'../temperoray_figures/{heat_source}/{free_energy}/temperature/f_%d.png', '-c:v', 'libx264', '-r', '25.000', '-s', '1920x1080', '-pix_fmt', 'yuv420p', f'../video_animations/{heat_source}/{free_energy}/TEMPERATURE.mp4'])\n",
    "subprocess.call(['ffmpeg', '-y', '-framerate', '25.000', '-i', f'../temperoray_figures/{heat_source}/{free_energy}/phase/f_%d.png',      '-c:v', 'libx264', '-r', '25.000', '-s', '1920x1080', '-pix_fmt', 'yuv420p', f'../video_animations/{heat_source}/{free_energy}/PHASE.mp4'])\n",
    "subprocess.call(['ffmpeg', '-y', '-framerate', '25.000', '-i', f'../temperoray_figures/{heat_source}/{free_energy}/velocity/f_%d.png',    '-c:v', 'libx264', '-r', '25.000', '-s', '1920x1080', '-pix_fmt', 'yuv420p', f'../video_animations/{heat_source}/{free_energy}/VELOCITY.mp4'])"
   ]
  },
  {
   "cell_type": "code",
   "execution_count": null,
   "id": "8f37537d-048f-4e48-b051-434651cbd985",
   "metadata": {},
   "outputs": [],
   "source": [
    "heat_source = 'Ring'\n",
    "free_energy = 'TDB'\n",
    "\n",
    "phase_in = f'../temperoray_figures/{heat_source}/{free_energy}/phase/'\n",
    "temp_in = f'../temperoray_figures/{heat_source}/{free_energy}/temperature/'\n",
    "vel_in = f'../temperoray_figures/{heat_source}/{free_energy}/velocity/'\n",
    "\n",
    "phase_out = f'../video_animations/{heat_source}/{free_energy}/gif/Phase.gif'\n",
    "temp_out = f'../video_animations/{heat_source}/{free_energy}/gif/Temperature.gif'\n",
    "vel_out = f'../video_animations/{heat_source}/{free_energy}/gif/Velocity.gif'\n",
    "\n",
    "create_gif_from_pngs(IP_folder=phase_in, OP_folder=phase_out, FPS=30, resize_factor=0.5)\n",
    "create_gif_from_pngs(IP_folder=temp_in, OP_folder=temp_out, FPS=30, resize_factor=0.5)\n",
    "create_gif_from_pngs(IP_folder=vel_in, OP_folder=vel_out, FPS=30, resize_factor=0.5)"
   ]
  },
  {
   "cell_type": "markdown",
   "id": "8ed5e653-6e9b-4206-8696-eac1eb8db09e",
   "metadata": {},
   "source": [
    "### Fitting"
   ]
  },
  {
   "cell_type": "code",
   "execution_count": null,
   "id": "7c6d63ae-c446-4e8a-9b80-6e2921c8544e",
   "metadata": {},
   "outputs": [],
   "source": [
    "heat_source = 'Ring'\n",
    "free_energy = 'Fitting'\n",
    "\n",
    "import subprocess\n",
    "subprocess.call(['ffmpeg', '-y', '-framerate', '25.000', '-i', f'../temperoray_figures/{heat_source}/{free_energy}/temperature/f_%d.png', '-c:v', 'libx264', '-r', '25.000', '-s', '1920x1080', '-pix_fmt', 'yuv420p', f'../video_animations/{heat_source}/{free_energy}/TEMPERATURE.mp4'])\n",
    "subprocess.call(['ffmpeg', '-y', '-framerate', '25.000', '-i', f'../temperoray_figures/{heat_source}/{free_energy}/phase/f_%d.png',      '-c:v', 'libx264', '-r', '25.000', '-s', '1920x1080', '-pix_fmt', 'yuv420p', f'../video_animations/{heat_source}/{free_energy}/PHASE.mp4'])\n",
    "subprocess.call(['ffmpeg', '-y', '-framerate', '25.000', '-i', f'../temperoray_figures/{heat_source}/{free_energy}/velocity/f_%d.png',    '-c:v', 'libx264', '-r', '25.000', '-s', '1920x1080', '-pix_fmt', 'yuv420p', f'../video_animations/{heat_source}/{free_energy}/VELOCITY.mp4'])"
   ]
  },
  {
   "cell_type": "code",
   "execution_count": null,
   "id": "2d2d9d93-8e16-4e8b-a85b-e45f6e07e2d4",
   "metadata": {},
   "outputs": [],
   "source": [
    "heat_source = 'Ring'\n",
    "free_energy = 'Fitting'\n",
    "\n",
    "phase_in = f'../temperoray_figures/{heat_source}/{free_energy}/phase/'\n",
    "temp_in = f'../temperoray_figures/{heat_source}/{free_energy}/temperature/'\n",
    "vel_in = f'../temperoray_figures/{heat_source}/{free_energy}/velocity/'\n",
    "\n",
    "phase_out = f'../video_animations/{heat_source}/{free_energy}/gif/Phase.gif'\n",
    "temp_out = f'../video_animations/{heat_source}/{free_energy}/gif/Temperature.gif'\n",
    "vel_out = f'../video_animations/{heat_source}/{free_energy}/gif/Velocity.gif'\n",
    "\n",
    "create_gif_from_pngs(IP_folder=phase_in, OP_folder=phase_out, FPS=30, resize_factor=0.5)\n",
    "create_gif_from_pngs(IP_folder=temp_in, OP_folder=temp_out, FPS=30, resize_factor=0.5)\n",
    "create_gif_from_pngs(IP_folder=vel_in, OP_folder=vel_out, FPS=30, resize_factor=0.5)"
   ]
  },
  {
   "cell_type": "markdown",
   "id": "b74d07e7-db97-49bf-bce0-94c672f41ecf",
   "metadata": {},
   "source": [
    "## Bessel"
   ]
  },
  {
   "cell_type": "markdown",
   "id": "7abbad78-91c9-4dad-a86d-99d120a2206d",
   "metadata": {},
   "source": [
    "### TDB"
   ]
  },
  {
   "cell_type": "code",
   "execution_count": null,
   "id": "ebd1963f-7396-4304-af0a-59f2d646a556",
   "metadata": {},
   "outputs": [],
   "source": [
    "heat_source = 'Bessel'\n",
    "free_energy = 'TDB'\n",
    "\n",
    "import subprocess\n",
    "subprocess.call(['ffmpeg', '-y', '-framerate', '25.000', '-i', f'../temperoray_figures/{heat_source}/{free_energy}/temperature/f_%d.png', '-c:v', 'libx264', '-r', '25.000', '-s', '1920x1080', '-pix_fmt', 'yuv420p', f'../video_animations/{heat_source}/{free_energy}/TEMPERATURE.mp4'])\n",
    "subprocess.call(['ffmpeg', '-y', '-framerate', '25.000', '-i', f'../temperoray_figures/{heat_source}/{free_energy}/phase/f_%d.png',      '-c:v', 'libx264', '-r', '25.000', '-s', '1920x1080', '-pix_fmt', 'yuv420p', f'../video_animations/{heat_source}/{free_energy}/PHASE.mp4'])\n",
    "subprocess.call(['ffmpeg', '-y', '-framerate', '25.000', '-i', f'../temperoray_figures/{heat_source}/{free_energy}/velocity/f_%d.png',    '-c:v', 'libx264', '-r', '25.000', '-s', '1920x1080', '-pix_fmt', 'yuv420p', f'../video_animations/{heat_source}/{free_energy}/VELOCITY.mp4'])"
   ]
  },
  {
   "cell_type": "code",
   "execution_count": null,
   "id": "45249a5c-f8ba-4029-a80a-99bcceed41d0",
   "metadata": {},
   "outputs": [],
   "source": [
    "heat_source = 'Bessel'\n",
    "free_energy = 'TDB'\n",
    "\n",
    "phase_in = f'../temperoray_figures/{heat_source}/{free_energy}/phase/'\n",
    "temp_in = f'../temperoray_figures/{heat_source}/{free_energy}/temperature/'\n",
    "vel_in = f'../temperoray_figures/{heat_source}/{free_energy}/velocity/'\n",
    "\n",
    "phase_out = f'../video_animations/{heat_source}/{free_energy}/gif/Phase.gif'\n",
    "temp_out = f'../video_animations/{heat_source}/{free_energy}/gif/Temperature.gif'\n",
    "vel_out = f'../video_animations/{heat_source}/{free_energy}/gif/Velocity.gif'\n",
    "\n",
    "create_gif_from_pngs(IP_folder=phase_in, OP_folder=phase_out, FPS=30, resize_factor=0.5)\n",
    "create_gif_from_pngs(IP_folder=temp_in, OP_folder=temp_out, FPS=30, resize_factor=0.5)\n",
    "create_gif_from_pngs(IP_folder=vel_in, OP_folder=vel_out, FPS=30, resize_factor=0.5)"
   ]
  },
  {
   "cell_type": "markdown",
   "id": "41abea7f-6ab7-4f61-afa6-59ee96cdfd9b",
   "metadata": {},
   "source": [
    "### Fitting"
   ]
  },
  {
   "cell_type": "code",
   "execution_count": 1,
   "id": "2dba51a2-cf17-4204-a9f9-d28c415a1f6f",
   "metadata": {},
   "outputs": [
    {
     "name": "stderr",
     "output_type": "stream",
     "text": [
      "ffmpeg version 6.1.1 Copyright (c) 2000-2023 the FFmpeg developers\n",
      "  built with gcc 12.3.0 (conda-forge gcc 12.3.0-5)\n",
      "  configuration: --prefix=/home/conda/feedstock_root/build_artifacts/ffmpeg_1710227007179/_h_env_placehold_placehold_placehold_placehold_placehold_placehold_placehold_placehold_placehold_placehold_placehold_placehold_placehold_placehold_placehold_placehold_placehold_placehold_plac --cc=/home/conda/feedstock_root/build_artifacts/ffmpeg_1710227007179/_build_env/bin/x86_64-conda-linux-gnu-cc --cxx=/home/conda/feedstock_root/build_artifacts/ffmpeg_1710227007179/_build_env/bin/x86_64-conda-linux-gnu-c++ --nm=/home/conda/feedstock_root/build_artifacts/ffmpeg_1710227007179/_build_env/bin/x86_64-conda-linux-gnu-nm --ar=/home/conda/feedstock_root/build_artifacts/ffmpeg_1710227007179/_build_env/bin/x86_64-conda-linux-gnu-ar --disable-doc --disable-openssl --enable-demuxer=dash --enable-hardcoded-tables --enable-libfreetype --enable-libharfbuzz --enable-libfontconfig --enable-libopenh264 --enable-libdav1d --enable-gnutls --enable-libmp3lame --enable-libvpx --enable-libass --enable-pthreads --enable-vaapi --enable-libopenvino --enable-gpl --enable-libx264 --enable-libx265 --enable-libaom --enable-libsvtav1 --enable-libxml2 --enable-pic --enable-shared --disable-static --enable-version3 --enable-zlib --enable-libopus --pkg-config=/home/conda/feedstock_root/build_artifacts/ffmpeg_1710227007179/_build_env/bin/pkg-config\n",
      "  libavutil      58. 29.100 / 58. 29.100\n",
      "  libavcodec     60. 31.102 / 60. 31.102\n",
      "  libavformat    60. 16.100 / 60. 16.100\n",
      "  libavdevice    60.  3.100 / 60.  3.100\n",
      "  libavfilter     9. 12.100 /  9. 12.100\n",
      "  libswscale      7.  5.100 /  7.  5.100\n",
      "  libswresample   4. 12.100 /  4. 12.100\n",
      "  libpostproc    57.  3.100 / 57.  3.100\n",
      "Input #0, image2, from '../temperoray_figures/Bessel/Fitting/temperature/f_%d.png':\n",
      "  Duration: 00:00:22.20, start: 0.000000, bitrate: N/A\n",
      "  Stream #0:0: Video: png, rgba(pc, gbr/unknown/unknown), 1535x498 [SAR 3937:3937 DAR 1535:498], 25 fps, 25 tbr, 25 tbn\n",
      "Stream mapping:\n",
      "  Stream #0:0 -> #0:0 (png (native) -> h264 (libx264))\n",
      "Press [q] to stop, [?] for help\n",
      "[libx264 @ 0x5dba05476380] using SAR=3882/2239\n",
      "[libx264 @ 0x5dba05476380] using cpu capabilities: MMX2 SSE2Fast SSSE3 SSE4.2 AVX FMA3 BMI2 AVX2\n",
      "[libx264 @ 0x5dba05476380] profile High, level 4.0, 4:2:0, 8-bit\n",
      "[libx264 @ 0x5dba05476380] 264 - core 164 r3095 baee400 - H.264/MPEG-4 AVC codec - Copyleft 2003-2022 - http://www.videolan.org/x264.html - options: cabac=1 ref=3 deblock=1:0:0 analyse=0x3:0x113 me=hex subme=7 psy=1 psy_rd=1.00:0.00 mixed_ref=1 me_range=16 chroma_me=1 trellis=1 8x8dct=1 cqm=0 deadzone=21,11 fast_pskip=1 chroma_qp_offset=-2 threads=30 lookahead_threads=5 sliced_threads=0 nr=0 decimate=1 interlaced=0 bluray_compat=0 constrained_intra=0 bframes=3 b_pyramid=2 b_adapt=1 b_bias=0 direct=1 weightb=1 open_gop=0 weightp=2 keyint=250 keyint_min=25 scenecut=40 intra_refresh=0 rc_lookahead=40 rc=crf mbtree=1 crf=23.0 qcomp=0.60 qpmin=0 qpmax=69 qpstep=4 ip_ratio=1.40 aq=1:1.00\n",
      "Output #0, mp4, to '../video_animations/Bessel/Fitting/TEMPERATURE.mp4':\n",
      "  Metadata:\n",
      "    encoder         : Lavf60.16.100\n",
      "  Stream #0:0: Video: h264 (avc1 / 0x31637661), yuv420p(tv, progressive), 1920x1080 [SAR 4605:2656 DAR 1535:498], q=2-31, 25 fps, 12800 tbn\n",
      "    Metadata:\n",
      "      encoder         : Lavc60.31.102 libx264\n",
      "    Side data:\n",
      "      cpb: bitrate max/min/avg: 0/0/0 buffer size: 0 vbv_delay: N/A\n",
      "[out#0/mp4 @ 0x5dba05477a40] video:2086kB audio:0kB subtitle:0kB other streams:0kB global headers:0kB muxing overhead: 0.354158%\n",
      "frame=  555 fps=207 q=-1.0 Lsize=    2094kB time=00:00:22.08 bitrate= 776.8kbits/s speed=8.22x    \n",
      "[libx264 @ 0x5dba05476380] frame I:3     Avg QP:17.13  size: 39655\n",
      "[libx264 @ 0x5dba05476380] frame P:140   Avg QP:20.22  size:  6984\n",
      "[libx264 @ 0x5dba05476380] frame B:412   Avg QP:23.62  size:  2522\n",
      "[libx264 @ 0x5dba05476380] consecutive B-frames:  0.7%  0.7%  0.5% 98.0%\n",
      "[libx264 @ 0x5dba05476380] mb I  I16..4: 41.6% 48.8%  9.6%\n",
      "[libx264 @ 0x5dba05476380] mb P  I16..4:  1.7%  1.2%  0.3%  P16..4: 13.0%  1.9%  1.9%  0.0%  0.0%    skip:80.1%\n",
      "[libx264 @ 0x5dba05476380] mb B  I16..4:  0.1%  0.0%  0.0%  B16..8: 14.4%  0.5%  0.1%  direct: 0.7%  skip:84.0%  L0:47.4% L1:51.9% BI: 0.7%\n",
      "[libx264 @ 0x5dba05476380] 8x8 transform intra:40.1% inter:58.4%\n",
      "[libx264 @ 0x5dba05476380] coded y,uvDC,uvAC intra: 9.3% 28.1% 11.8% inter: 0.5% 4.0% 0.9%\n",
      "[libx264 @ 0x5dba05476380] i16 v,h,dc,p: 48% 21%  2% 29%\n",
      "[libx264 @ 0x5dba05476380] i8 v,h,dc,ddl,ddr,vr,hd,vl,hu: 34% 11% 44%  2%  2%  3%  1%  2%  1%\n",
      "[libx264 @ 0x5dba05476380] i4 v,h,dc,ddl,ddr,vr,hd,vl,hu: 42% 20% 17%  4%  4%  5%  3%  4%  2%\n",
      "[libx264 @ 0x5dba05476380] i8c dc,h,v,p: 53% 12% 18% 17%\n",
      "[libx264 @ 0x5dba05476380] Weighted P-Frames: Y:0.0% UV:0.0%\n",
      "[libx264 @ 0x5dba05476380] ref P L0: 70.4%  2.8% 13.5% 13.3%\n",
      "[libx264 @ 0x5dba05476380] ref B L0: 84.7% 12.9%  2.5%\n",
      "[libx264 @ 0x5dba05476380] ref B L1: 93.2%  6.8%\n",
      "[libx264 @ 0x5dba05476380] kb/s:769.60\n",
      "ffmpeg version 6.1.1 Copyright (c) 2000-2023 the FFmpeg developers\n",
      "  built with gcc 12.3.0 (conda-forge gcc 12.3.0-5)\n",
      "  configuration: --prefix=/home/conda/feedstock_root/build_artifacts/ffmpeg_1710227007179/_h_env_placehold_placehold_placehold_placehold_placehold_placehold_placehold_placehold_placehold_placehold_placehold_placehold_placehold_placehold_placehold_placehold_placehold_placehold_plac --cc=/home/conda/feedstock_root/build_artifacts/ffmpeg_1710227007179/_build_env/bin/x86_64-conda-linux-gnu-cc --cxx=/home/conda/feedstock_root/build_artifacts/ffmpeg_1710227007179/_build_env/bin/x86_64-conda-linux-gnu-c++ --nm=/home/conda/feedstock_root/build_artifacts/ffmpeg_1710227007179/_build_env/bin/x86_64-conda-linux-gnu-nm --ar=/home/conda/feedstock_root/build_artifacts/ffmpeg_1710227007179/_build_env/bin/x86_64-conda-linux-gnu-ar --disable-doc --disable-openssl --enable-demuxer=dash --enable-hardcoded-tables --enable-libfreetype --enable-libharfbuzz --enable-libfontconfig --enable-libopenh264 --enable-libdav1d --enable-gnutls --enable-libmp3lame --enable-libvpx --enable-libass --enable-pthreads --enable-vaapi --enable-libopenvino --enable-gpl --enable-libx264 --enable-libx265 --enable-libaom --enable-libsvtav1 --enable-libxml2 --enable-pic --enable-shared --disable-static --enable-version3 --enable-zlib --enable-libopus --pkg-config=/home/conda/feedstock_root/build_artifacts/ffmpeg_1710227007179/_build_env/bin/pkg-config\n",
      "  libavutil      58. 29.100 / 58. 29.100\n",
      "  libavcodec     60. 31.102 / 60. 31.102\n",
      "  libavformat    60. 16.100 / 60. 16.100\n",
      "  libavdevice    60.  3.100 / 60.  3.100\n",
      "  libavfilter     9. 12.100 /  9. 12.100\n",
      "  libswscale      7.  5.100 /  7.  5.100\n",
      "  libswresample   4. 12.100 /  4. 12.100\n",
      "  libpostproc    57.  3.100 / 57.  3.100\n",
      "Input #0, image2, from '../temperoray_figures/Bessel/Fitting/phase/f_%d.png':\n",
      "  Duration: 00:00:22.12, start: 0.000000, bitrate: N/A\n",
      "  Stream #0:0: Video: png, rgba(pc, gbr/unknown/unknown), 1311x498 [SAR 3937:3937 DAR 437:166], 25 fps, 25 tbr, 25 tbn\n",
      "Stream mapping:\n",
      "  Stream #0:0 -> #0:0 (png (native) -> h264 (libx264))\n",
      "Press [q] to stop, [?] for help\n",
      "[libx264 @ 0x568eeea51900] using SAR=3933/2656\n",
      "[libx264 @ 0x568eeea51900] using cpu capabilities: MMX2 SSE2Fast SSSE3 SSE4.2 AVX FMA3 BMI2 AVX2\n",
      "[libx264 @ 0x568eeea51900] profile High, level 4.0, 4:2:0, 8-bit\n",
      "[libx264 @ 0x568eeea51900] 264 - core 164 r3095 baee400 - H.264/MPEG-4 AVC codec - Copyleft 2003-2022 - http://www.videolan.org/x264.html - options: cabac=1 ref=3 deblock=1:0:0 analyse=0x3:0x113 me=hex subme=7 psy=1 psy_rd=1.00:0.00 mixed_ref=1 me_range=16 chroma_me=1 trellis=1 8x8dct=1 cqm=0 deadzone=21,11 fast_pskip=1 chroma_qp_offset=-2 threads=30 lookahead_threads=5 sliced_threads=0 nr=0 decimate=1 interlaced=0 bluray_compat=0 constrained_intra=0 bframes=3 b_pyramid=2 b_adapt=1 b_bias=0 direct=1 weightb=1 open_gop=0 weightp=2 keyint=250 keyint_min=25 scenecut=40 intra_refresh=0 rc_lookahead=40 rc=crf mbtree=1 crf=23.0 qcomp=0.60 qpmin=0 qpmax=69 qpstep=4 ip_ratio=1.40 aq=1:1.00\n",
      "Output #0, mp4, to '../video_animations/Bessel/Fitting/PHASE.mp4':\n",
      "  Metadata:\n",
      "    encoder         : Lavf60.16.100\n",
      "  Stream #0:0: Video: h264 (avc1 / 0x31637661), yuv420p(tv, progressive), 1920x1080 [SAR 3933:2656 DAR 437:166], q=2-31, 25 fps, 12800 tbn\n",
      "    Metadata:\n",
      "      encoder         : Lavc60.31.102 libx264\n",
      "    Side data:\n",
      "      cpb: bitrate max/min/avg: 0/0/0 buffer size: 0 vbv_delay: N/A\n",
      "[out#0/mp4 @ 0x568eeea4ecc0] video:1916kB audio:0kB subtitle:0kB other streams:0kB global headers:0kB muxing overhead: 0.379551%\n",
      "frame=  553 fps=235 q=-1.0 Lsize=    1923kB time=00:00:22.00 bitrate= 716.1kbits/s speed=9.35x    \n",
      "[libx264 @ 0x568eeea51900] frame I:3     Avg QP:12.22  size: 31778\n",
      "[libx264 @ 0x568eeea51900] frame P:147   Avg QP:21.44  size:  6552\n",
      "[libx264 @ 0x568eeea51900] frame B:403   Avg QP:28.51  size:  2240\n",
      "[libx264 @ 0x568eeea51900] consecutive B-frames:  1.8%  1.4%  4.9% 91.9%\n",
      "[libx264 @ 0x568eeea51900] mb I  I16..4: 60.4% 31.5%  8.2%\n",
      "[libx264 @ 0x568eeea51900] mb P  I16..4:  0.7%  1.4%  0.4%  P16..4:  5.6%  1.9%  1.0%  0.0%  0.0%    skip:89.1%\n",
      "[libx264 @ 0x568eeea51900] mb B  I16..4:  0.1%  0.1%  0.0%  B16..8:  7.0%  1.0%  0.2%  direct: 0.2%  skip:91.3%  L0:53.2% L1:43.2% BI: 3.5%\n",
      "[libx264 @ 0x568eeea51900] 8x8 transform intra:44.4% inter:38.1%\n",
      "[libx264 @ 0x568eeea51900] coded y,uvDC,uvAC intra: 10.0% 12.5% 11.5% inter: 0.7% 1.8% 1.5%\n",
      "[libx264 @ 0x568eeea51900] i16 v,h,dc,p: 83% 15%  2%  0%\n",
      "[libx264 @ 0x568eeea51900] i8 v,h,dc,ddl,ddr,vr,hd,vl,hu: 22%  5% 70%  0%  0%  0%  0%  0%  0%\n",
      "[libx264 @ 0x568eeea51900] i4 v,h,dc,ddl,ddr,vr,hd,vl,hu: 34% 18% 28%  3%  4%  5%  3%  4%  2%\n",
      "[libx264 @ 0x568eeea51900] i8c dc,h,v,p: 68% 16% 16%  0%\n",
      "[libx264 @ 0x568eeea51900] Weighted P-Frames: Y:0.0% UV:0.0%\n",
      "[libx264 @ 0x568eeea51900] ref P L0: 60.7%  3.8% 19.3% 16.3%\n",
      "[libx264 @ 0x568eeea51900] ref B L0: 69.5% 21.9%  8.6%\n",
      "[libx264 @ 0x568eeea51900] ref B L1: 88.8% 11.2%\n",
      "[libx264 @ 0x568eeea51900] kb/s:709.26\n",
      "ffmpeg version 6.1.1 Copyright (c) 2000-2023 the FFmpeg developers\n",
      "  built with gcc 12.3.0 (conda-forge gcc 12.3.0-5)\n",
      "  configuration: --prefix=/home/conda/feedstock_root/build_artifacts/ffmpeg_1710227007179/_h_env_placehold_placehold_placehold_placehold_placehold_placehold_placehold_placehold_placehold_placehold_placehold_placehold_placehold_placehold_placehold_placehold_placehold_placehold_plac --cc=/home/conda/feedstock_root/build_artifacts/ffmpeg_1710227007179/_build_env/bin/x86_64-conda-linux-gnu-cc --cxx=/home/conda/feedstock_root/build_artifacts/ffmpeg_1710227007179/_build_env/bin/x86_64-conda-linux-gnu-c++ --nm=/home/conda/feedstock_root/build_artifacts/ffmpeg_1710227007179/_build_env/bin/x86_64-conda-linux-gnu-nm --ar=/home/conda/feedstock_root/build_artifacts/ffmpeg_1710227007179/_build_env/bin/x86_64-conda-linux-gnu-ar --disable-doc --disable-openssl --enable-demuxer=dash --enable-hardcoded-tables --enable-libfreetype --enable-libharfbuzz --enable-libfontconfig --enable-libopenh264 --enable-libdav1d --enable-gnutls --enable-libmp3lame --enable-libvpx --enable-libass --enable-pthreads --enable-vaapi --enable-libopenvino --enable-gpl --enable-libx264 --enable-libx265 --enable-libaom --enable-libsvtav1 --enable-libxml2 --enable-pic --enable-shared --disable-static --enable-version3 --enable-zlib --enable-libopus --pkg-config=/home/conda/feedstock_root/build_artifacts/ffmpeg_1710227007179/_build_env/bin/pkg-config\n",
      "  libavutil      58. 29.100 / 58. 29.100\n",
      "  libavcodec     60. 31.102 / 60. 31.102\n",
      "  libavformat    60. 16.100 / 60. 16.100\n",
      "  libavdevice    60.  3.100 / 60.  3.100\n",
      "  libavfilter     9. 12.100 /  9. 12.100\n",
      "  libswscale      7.  5.100 /  7.  5.100\n",
      "  libswresample   4. 12.100 /  4. 12.100\n",
      "  libpostproc    57.  3.100 / 57.  3.100\n",
      "Input #0, image2, from '../temperoray_figures/Bessel/Fitting/velocity/f_%d.png':\n",
      "  Duration: 00:00:19.84, start: 0.000000, bitrate: N/A\n",
      "  Stream #0:0: Video: png, rgba(pc, gbr/unknown/unknown), 1562x498 [SAR 3937:3937 DAR 781:249], 25 fps, 25 tbr, 25 tbn\n",
      "Stream mapping:\n",
      "  Stream #0:0 -> #0:0 (png (native) -> h264 (libx264))\n",
      "Press [q] to stop, [?] for help\n",
      "[libx264 @ 0x583a457dc6c0] using SAR=2343/1328\n",
      "[libx264 @ 0x583a457dc6c0] using cpu capabilities: MMX2 SSE2Fast SSSE3 SSE4.2 AVX FMA3 BMI2 AVX2\n",
      "[libx264 @ 0x583a457dc6c0] profile High, level 4.0, 4:2:0, 8-bit\n",
      "[libx264 @ 0x583a457dc6c0] 264 - core 164 r3095 baee400 - H.264/MPEG-4 AVC codec - Copyleft 2003-2022 - http://www.videolan.org/x264.html - options: cabac=1 ref=3 deblock=1:0:0 analyse=0x3:0x113 me=hex subme=7 psy=1 psy_rd=1.00:0.00 mixed_ref=1 me_range=16 chroma_me=1 trellis=1 8x8dct=1 cqm=0 deadzone=21,11 fast_pskip=1 chroma_qp_offset=-2 threads=30 lookahead_threads=5 sliced_threads=0 nr=0 decimate=1 interlaced=0 bluray_compat=0 constrained_intra=0 bframes=3 b_pyramid=2 b_adapt=1 b_bias=0 direct=1 weightb=1 open_gop=0 weightp=2 keyint=250 keyint_min=25 scenecut=40 intra_refresh=0 rc_lookahead=40 rc=crf mbtree=1 crf=23.0 qcomp=0.60 qpmin=0 qpmax=69 qpstep=4 ip_ratio=1.40 aq=1:1.00\n",
      "Output #0, mp4, to '../video_animations/Bessel/Fitting/VELOCITY.mp4':\n",
      "  Metadata:\n",
      "    encoder         : Lavf60.16.100\n",
      "  Stream #0:0: Video: h264 (avc1 / 0x31637661), yuv420p(tv, progressive), 1920x1080 [SAR 2343:1328 DAR 781:249], q=2-31, 25 fps, 12800 tbn\n",
      "    Metadata:\n",
      "      encoder         : Lavc60.31.102 libx264\n",
      "    Side data:\n",
      "      cpb: bitrate max/min/avg: 0/0/0 buffer size: 0 vbv_delay: N/A\n",
      "[out#0/mp4 @ 0x583a457d8f80] video:1720kB audio:0kB subtitle:0kB other streams:0kB global headers:0kB muxing overhead: 0.387781%\n",
      "frame=  496 fps=222 q=-1.0 Lsize=    1727kB time=00:00:19.72 bitrate= 717.3kbits/s speed=8.82x    \n",
      "[libx264 @ 0x583a457dc6c0] frame I:2     Avg QP:15.59  size: 36798\n",
      "[libx264 @ 0x583a457dc6c0] frame P:128   Avg QP:20.40  size:  6541\n",
      "[libx264 @ 0x583a457dc6c0] frame B:366   Avg QP:28.33  size:  2322\n",
      "[libx264 @ 0x583a457dc6c0] consecutive B-frames:  0.8%  2.0%  1.2% 96.0%\n",
      "[libx264 @ 0x583a457dc6c0] mb I  I16..4: 51.2% 39.7%  9.2%\n",
      "[libx264 @ 0x583a457dc6c0] mb P  I16..4:  1.2%  0.8%  0.3%  P16..4:  9.5%  1.9%  1.2%  0.0%  0.0%    skip:85.2%\n",
      "[libx264 @ 0x583a457dc6c0] mb B  I16..4:  0.1%  0.1%  0.0%  B16..8: 10.9%  1.1%  0.2%  direct: 0.1%  skip:87.4%  L0:54.5% L1:43.3% BI: 2.2%\n",
      "[libx264 @ 0x583a457dc6c0] 8x8 transform intra:34.7% inter:57.3%\n",
      "[libx264 @ 0x583a457dc6c0] coded y,uvDC,uvAC intra: 13.0% 15.3% 10.1% inter: 0.8% 1.8% 1.2%\n",
      "[libx264 @ 0x583a457dc6c0] i16 v,h,dc,p: 36% 61%  1%  1%\n",
      "[libx264 @ 0x583a457dc6c0] i8 v,h,dc,ddl,ddr,vr,hd,vl,hu: 30% 17% 46%  1%  1%  1%  1%  1%  1%\n",
      "[libx264 @ 0x583a457dc6c0] i4 v,h,dc,ddl,ddr,vr,hd,vl,hu: 37% 23% 19%  3%  4%  5%  2%  4%  2%\n",
      "[libx264 @ 0x583a457dc6c0] i8c dc,h,v,p: 46% 39% 14%  2%\n",
      "[libx264 @ 0x583a457dc6c0] Weighted P-Frames: Y:0.0% UV:0.0%\n",
      "[libx264 @ 0x583a457dc6c0] ref P L0: 57.7%  3.9% 19.8% 18.6%\n",
      "[libx264 @ 0x583a457dc6c0] ref B L0: 63.1% 27.9%  9.0%\n",
      "[libx264 @ 0x583a457dc6c0] ref B L1: 85.4% 14.6%\n",
      "[libx264 @ 0x583a457dc6c0] kb/s:709.92\n"
     ]
    },
    {
     "data": {
      "text/plain": [
       "0"
      ]
     },
     "execution_count": 1,
     "metadata": {},
     "output_type": "execute_result"
    }
   ],
   "source": [
    "heat_source = 'Bessel'\n",
    "free_energy = 'Fitting'\n",
    "\n",
    "import subprocess\n",
    "subprocess.call(['ffmpeg', '-y', '-framerate', '25.000', '-i', f'../temperoray_figures/{heat_source}/{free_energy}/temperature/f_%d.png', '-c:v', 'libx264', '-r', '25.000', '-s', '1920x1080', '-pix_fmt', 'yuv420p', f'../video_animations/{heat_source}/{free_energy}/TEMPERATURE.mp4'])\n",
    "subprocess.call(['ffmpeg', '-y', '-framerate', '25.000', '-i', f'../temperoray_figures/{heat_source}/{free_energy}/phase/f_%d.png',      '-c:v', 'libx264', '-r', '25.000', '-s', '1920x1080', '-pix_fmt', 'yuv420p', f'../video_animations/{heat_source}/{free_energy}/PHASE.mp4'])\n",
    "subprocess.call(['ffmpeg', '-y', '-framerate', '25.000', '-i', f'../temperoray_figures/{heat_source}/{free_energy}/velocity/f_%d.png',    '-c:v', 'libx264', '-r', '25.000', '-s', '1920x1080', '-pix_fmt', 'yuv420p', f'../video_animations/{heat_source}/{free_energy}/VELOCITY.mp4'])"
   ]
  },
  {
   "cell_type": "code",
   "execution_count": 4,
   "id": "d9401fc7-84c0-4f1c-99c4-9782be7932b1",
   "metadata": {},
   "outputs": [
    {
     "name": "stdout",
     "output_type": "stream",
     "text": [
      "GIF created successfully: ../video_animations/Bessel/Fitting/gif/Phase.gif\n",
      "GIF created successfully: ../video_animations/Bessel/Fitting/gif/Temperature.gif\n",
      "GIF created successfully: ../video_animations/Bessel/Fitting/gif/Velocity.gif\n"
     ]
    }
   ],
   "source": [
    "heat_source = 'Bessel'\n",
    "free_energy = 'Fitting'\n",
    "\n",
    "phase_in = f'../temperoray_figures/{heat_source}/{free_energy}/phase/'\n",
    "temp_in = f'../temperoray_figures/{heat_source}/{free_energy}/temperature/'\n",
    "vel_in = f'../temperoray_figures/{heat_source}/{free_energy}/velocity/'\n",
    "\n",
    "phase_out = f'../video_animations/{heat_source}/{free_energy}/gif/Phase.gif'\n",
    "temp_out = f'../video_animations/{heat_source}/{free_energy}/gif/Temperature.gif'\n",
    "vel_out = f'../video_animations/{heat_source}/{free_energy}/gif/Velocity.gif'\n",
    "\n",
    "create_gif_from_pngs(IP_folder=phase_in, OP_folder=phase_out, FPS=30, resize_factor=0.5)\n",
    "create_gif_from_pngs(IP_folder=temp_in, OP_folder=temp_out, FPS=30, resize_factor=0.5)\n",
    "create_gif_from_pngs(IP_folder=vel_in, OP_folder=vel_out, FPS=30, resize_factor=0.5)"
   ]
  },
  {
   "cell_type": "code",
   "execution_count": null,
   "id": "9881552a-ada4-43a6-9593-634391639a3a",
   "metadata": {},
   "outputs": [],
   "source": []
  },
  {
   "cell_type": "code",
   "execution_count": null,
   "id": "37790835-7b55-4165-a869-732bd4844b30",
   "metadata": {},
   "outputs": [],
   "source": []
  }
 ],
 "metadata": {
  "kernelspec": {
   "display_name": "Python 3 (ipykernel)",
   "language": "python",
   "name": "python3"
  },
  "language_info": {
   "codemirror_mode": {
    "name": "ipython",
    "version": 3
   },
   "file_extension": ".py",
   "mimetype": "text/x-python",
   "name": "python",
   "nbconvert_exporter": "python",
   "pygments_lexer": "ipython3",
   "version": "3.10.12"
  }
 },
 "nbformat": 4,
 "nbformat_minor": 5
}
