{
 "cells": [
  {
   "cell_type": "code",
   "execution_count": 1,
   "id": "1a80000c-cd55-41c5-aa3d-3a624cf4d573",
   "metadata": {},
   "outputs": [],
   "source": [
    "import numpy as np\n",
    "import pandas as pd\n",
    "import matplotlib.pyplot as plt\n",
    "import os\n",
    "import matplotlib.patches as patches\n",
    "from scipy.io import loadmat\n",
    "from matplotlib.colors import ListedColormap\n",
    "from matplotlib.lines import Line2D\n",
    "from matplotlib.text import Text"
   ]
  },
  {
   "cell_type": "code",
   "execution_count": 2,
   "id": "5a2096ea-6337-468c-bd6a-becab9f39a08",
   "metadata": {},
   "outputs": [],
   "source": [
    "path = os.path.abspath('../../1_Simulation_Results/numpy_files/')\n",
    "\n",
    "colormap_data = loadmat('../cold2hot.mat')\n",
    "cold2hot = ListedColormap(colormap_data['colormap'])\n",
    "hot2cold = ListedColormap(colormap_data['colormap'][::-1])"
   ]
  },
  {
   "cell_type": "code",
   "execution_count": 3,
   "id": "96c198f7-36c0-4b0c-ab1f-00554b933e09",
   "metadata": {},
   "outputs": [],
   "source": [
    "model_BesselFitting = np.load(path+'/Bessel/Fitting/Bessel_Fitting.npz')\n",
    "\n",
    "LIQ_BF     = model_BesselFitting['arr1']\n",
    "FCC_BF     = model_BesselFitting['arr2']\n",
    "vel_BF     = model_BesselFitting['arr3']\n",
    "temp_BF    = model_BesselFitting['arr4']\n",
    "timeS_BF  = model_BesselFitting['arr5']\n",
    "\n",
    "time_steps_BF =  timeS_BF.shape[0]"
   ]
  },
  {
   "cell_type": "code",
   "execution_count": 4,
   "id": "a35baefe-5130-498f-bfe4-13f27d0000da",
   "metadata": {},
   "outputs": [
    {
     "data": {
      "text/plain": [
       "(201, 401, 605)"
      ]
     },
     "execution_count": 4,
     "metadata": {},
     "output_type": "execute_result"
    }
   ],
   "source": [
    "LIQ_BF.shape"
   ]
  },
  {
   "cell_type": "markdown",
   "id": "54aee992-ddf6-472c-9d23-dd0719b89988",
   "metadata": {},
   "source": [
    "### Phases"
   ]
  },
  {
   "cell_type": "code",
   "execution_count": 10,
   "id": "5da823a7-7e10-4af8-a574-2436022d3458",
   "metadata": {},
   "outputs": [
    {
     "name": "stdout",
     "output_type": "stream",
     "text": [
      "FINISHED\n"
     ]
    }
   ],
   "source": [
    "def update_plot(t_step):\n",
    "    scan_speed = r'30 $\\mathbf{\\mu m/s}$'\n",
    "    power = r\"25 $\\mathbf{mW}$\"\n",
    "    \n",
    "    laser_speed = 30\n",
    "    scaling_factor = 401/1000 # scaling factor for plotting figure\n",
    "    laser_act_pos = 125 + timeS_BF[t_step]*laser_speed  # Laser actual position in true dimension\n",
    "    laser_pos = laser_act_pos*scaling_factor # Laser position in accordance with figure\n",
    "    \n",
    "    fig, ax1 = plt.subplots(1,1, figsize=(16,8), frameon=False)\n",
    "    ax1.set_facecolor((0, 0, 0, 0))\n",
    "    \n",
    "    cmap = plt.get_cmap('RdYlGn_r')\n",
    "    cmap.set_under('white', alpha=0)\n",
    "    hmap1 = ax1.imshow(LIQ_BF[:,:,t_step], cmap=cmap, vmin=0.5, vmax=1.0, aspect=0.5,  interpolation='quadric')\n",
    "    \n",
    "    cmap = plt.get_cmap('Wistia')\n",
    "    # cmap = cold2hot\n",
    "    cmap.set_under('white', alpha=0) \n",
    "    hmap2 = ax1.imshow(FCC_BF[:,:,t_step], cmap=cmap, vmin=0.5, vmax=1.5, aspect=0.5, interpolation='quadric')\n",
    "    \n",
    "    contour_level_LIQ = [0.8]\n",
    "    contour_LIQ = plt.contour(LIQ_BF[:, :, t_step], levels=contour_level_LIQ, colors='k', linestyles='--', linewidths=2,)\n",
    "    \n",
    "    contour_levels = [400, 700,  1337]\n",
    "    label_colors = ['k', 'k', 'aqua']\n",
    "    contour = ax1.contour(temp_BF[:, :, t_step], levels=contour_levels, colors='crimson', linewidths=3, linestyles='dashdot')\n",
    "    [(label.set_fontweight('bold'), label.set_color(color)) for label, color in zip(plt.clabel(contour, inline=True, fontsize=24, fmt='%1.0f K'), label_colors)]\n",
    "        \n",
    "    if timeS_BF[t_step] <= 25:\n",
    "        ax1.arrow(laser_pos, -80, 0, 76,  width = 4.5, color='red', length_includes_head=True, clip_on=False)\n",
    "        ax1.text(laser_pos-15,-12, power, rotation=90, color='k', fontsize=20, weight='bold')\n",
    "        if laser_act_pos < 500:\n",
    "            ax1.set_title(f't = {timeS_BF[t_step]:.2f}s', pad=10, loc='right', fontsize=25, weight='bold')\n",
    "            ax1.text(laser_pos+10, -40, s=f'{scan_speed}', fontsize=20, weight = 'bold')\n",
    "            ax1.arrow(laser_pos+10, -28, 30, 0,  width = 3, color='k', fill=False, clip_on=False)\n",
    "        else:\n",
    "            ax1.set_title(f't = {timeS_BF[t_step]:.2f}s', pad=10, loc='left', fontsize=25, weight='bold')\n",
    "            ax1.text(laser_pos-65, -40, s=f'{scan_speed}', fontsize=20, weight = 'bold')\n",
    "            ax1.arrow(laser_pos-65, -28, 30, 0,  width = 3, color='k', fill=False, clip_on=False)\n",
    "    else:\n",
    "        ax1.set_title(f't = {timeS_BF[t_step]:.2f}s', pad=10, loc='left', fontsize=25, weight='bold')\n",
    "        ax1.text(350, -40, \"LASER\", rotation=0, color='k', alpha=1, fontsize=20, weight='bold')\n",
    "        ax1.text(350, -20, \"OFF\", rotation=0, color='k', alpha=1, fontsize=20, weight='bold')\n",
    "        ax1.arrow(400, -10, -50, 0, fill=False, hatch='x', overhang=1, linestyle='--',  width = 3, color='blue', alpha=1, length_includes_head=True, clip_on=False)\n",
    "        ax1.arrow(350, -80, 0, 76,  width = 4.5, color='none', length_includes_head=True, clip_on=False) # to make the figure height same after laser is turned off\n",
    "    \n",
    "    AuFCC_txt = ax1.text(20,180,'FCC', fontsize = 40, weight='bold', color='white')\n",
    "    if timeS_BF[t_step] <= 25:\n",
    "        AuLIQ_txt = ax1.text(laser_pos-20, 30,'LIQ', fontsize = 35, weight='bold', color='white')\n",
    "        \n",
    "    ax1.set_ylim(201, -1)    \n",
    "    ax1.set_xlim(-1,401)\n",
    "    \n",
    "    ################## Dimensions ###################\n",
    "    ax1.set_xlabel('$\\mathbf{\\longleftarrow}$                 1000 $ \\mathbf{\\mu m}$                $\\mathbf{\\longrightarrow}$', fontsize = 27, weight ='bold',)\n",
    "    ax1.annotate(r'$\\mathbf{\\leftarrow}$ 250 $\\mathbf{\\mu m}$ $\\mathbf{\\rightarrow}$', xy=(0.5, 0.5), xytext=(-0.025, 0.5), rotation=90,\n",
    "                 xycoords='axes fraction', textcoords='axes fraction', fontsize = 27, weight = 'bold', color='k', ha='center', va='center')\n",
    "    \n",
    "    ax1.tick_params(axis='both', labelcolor='black', labelsize=65, bottom=False, top=False, left=False, right=False, labelbottom=False, labelleft=False)\n",
    "    ax1.spines[:].set_linewidth(4)\n",
    "\n",
    "t_steps = 553\n",
    "############ To save the image as well #############\n",
    "# for t_step in range(0, 1, 1):\n",
    "for t_step in range(t_steps):\n",
    "    update_plot(t_step)\n",
    "    plt.savefig(f'../temperoray_figures/Bessel/Fitting/phase/f_{t_step}.png',bbox_inches='tight', dpi=100)\n",
    "    plt.close() \n",
    "print(\"FINISHED\")"
   ]
  },
  {
   "cell_type": "code",
   "execution_count": null,
   "id": "defd5912-fd48-4116-bb3d-b5729e44ed4f",
   "metadata": {},
   "outputs": [],
   "source": []
  },
  {
   "cell_type": "markdown",
   "id": "63c387f4-b256-404c-be99-536d8fe07d4b",
   "metadata": {},
   "source": [
    "### Temperature"
   ]
  },
  {
   "cell_type": "code",
   "execution_count": null,
   "id": "17c283bd-64e6-4f99-8d32-4b5fdfb7aabf",
   "metadata": {},
   "outputs": [],
   "source": []
  },
  {
   "cell_type": "code",
   "execution_count": 11,
   "id": "efba3687-5abe-4937-9629-0804995eebf0",
   "metadata": {},
   "outputs": [
    {
     "name": "stdout",
     "output_type": "stream",
     "text": [
      "FINISHED\n"
     ]
    }
   ],
   "source": [
    "def update_plot(t_step):\n",
    "    scan_speed = r'30 $\\mathbf{\\mu m/s}$'\n",
    "    power = r\"25 $\\mathbf{mW}$\"\n",
    "    \n",
    "    laser_speed = 30\n",
    "    scaling_factor = 401/1000 # scaling factor for plotting figure\n",
    "    laser_act_pos = 125 + timeS_BF[t_step]*laser_speed  # Laser actual position in true dimension\n",
    "    laser_pos = laser_act_pos*scaling_factor # Laser position in accordance with figure\n",
    "    \n",
    "    fig, ax1 = plt.subplots(1,1, figsize=(16,8), frameon=False)\n",
    "    ax1.set_facecolor((0, 0, 0, 0))\n",
    "    \n",
    "    hmap1 = ax1.imshow(temp_BF[:,:,t_step], cmap='rainbow', vmin=300, aspect=0.5,  interpolation='quadric')\n",
    "    \n",
    "    if timeS_BF[t_step] <= 25:\n",
    "        ax1.arrow(laser_pos, -80, 0, 76,  width = 4.5, color='red', length_includes_head=True, clip_on=False)\n",
    "        ax1.text(laser_pos-15,-12, power, rotation=90, color='k', fontsize=20, weight='bold')\n",
    "        if laser_act_pos < 500:\n",
    "            ax1.set_title(f't = {timeS_BF[t_step]:.2f}s', pad=10, loc='right', fontsize=25, weight='bold')\n",
    "            ax1.text(laser_pos+10, -40, s=f'{scan_speed}', fontsize=20, weight = 'bold')\n",
    "            ax1.arrow(laser_pos+10, -28, 30, 0,  width = 3, color='k', fill=False, clip_on=False)\n",
    "        else:\n",
    "            ax1.set_title(f't = {timeS_BF[t_step]:.2f}s', pad=10, loc='left', fontsize=25, weight='bold')\n",
    "            ax1.text(laser_pos-65, -40, s=f'{scan_speed}', fontsize=20, weight = 'bold')\n",
    "            ax1.arrow(laser_pos-65, -28, 30, 0,  width = 3, color='k', fill=False, clip_on=False)\n",
    "    else:\n",
    "        ax1.set_title(f't = {timeS_BF[t_step]:.2f}s', pad=10, loc='left', fontsize=25, weight='bold')\n",
    "        ax1.text(350, -40, \"LASER\", rotation=0, color='k', alpha=1, fontsize=20, weight='bold')\n",
    "        ax1.text(350, -20, \"OFF\", rotation=0, color='k', alpha=1, fontsize=20, weight='bold')\n",
    "        ax1.arrow(400, -10, -50, 0, fill=False, hatch='x', overhang=1, linestyle='--',  width = 3, color='blue', alpha=1, length_includes_head=True, clip_on=False)\n",
    "        ax1.arrow(350, -80, 0, 76,  width = 4.5, color='none', length_includes_head=True, clip_on=False) # to make the figure height same after laser is turned off\n",
    "    \n",
    "    ax1.set_ylim(201, -1)    \n",
    "    ax1.set_xlim(-1,401)\n",
    "    \n",
    "    contour_levels = [400, 700,  1337]\n",
    "    label_colors = ['tomato', 'orangered', 'k']\n",
    "    contour = plt.contour(temp_BF[:, :, t_step], levels=contour_levels, colors='white', linewidths=4,)\n",
    "    [(label.set_fontweight('bold'), label.set_color(color)) for label, color in zip(plt.clabel(contour, inline=True, fontsize=24, fmt='%1.0f K'), label_colors)]\n",
    "    \n",
    "    ################## Dimensions ###################\n",
    "    ax1.set_xlabel('$\\mathbf{\\longleftarrow}$                 1000 $ \\mathbf{\\mu m}$                $\\mathbf{\\longrightarrow}$', fontsize = 27, weight ='bold',)\n",
    "    ax1.annotate(r'$\\mathbf{\\leftarrow}$ 250 $\\mathbf{\\mu m}$ $\\mathbf{\\rightarrow}$', xy=(0.5, 0.5), xytext=(-0.025, 0.5), rotation=90,\n",
    "                 xycoords='axes fraction', textcoords='axes fraction', fontsize = 27, weight = 'bold', color='k', ha='center', va='center')\n",
    "    \n",
    "    ############## Color Bar ###########\n",
    "    ax2 = fig.add_axes([0.92, 0.3, 0.05, 0.39]) \n",
    "    ax2.tick_params(axis='both', labelcolor='black', labelsize=1, bottom=False, top=False, left=False, right=False, labelbottom=False, labelleft=False)\n",
    "    cbar = fig.colorbar(hmap1, cax=ax2, orientation='vertical')\n",
    "    cbar.ax.tick_params(labelsize=25, direction='in', length=0) \n",
    "    # cbar.set_label(r'$\\mathbf{\\leftarrow}$   T [K]  $\\mathbf{\\rightarrow}$', color='k',  labelpad=-115, fontsize=30, rotation=90, weight='bold')\n",
    "    text = Text(x=0.935, y=0.335, text=r'$\\mathbf{\\leftarrow}$   T [K]  $\\mathbf{\\rightarrow}$', fontsize=30, color='k', rotation=90, weight='bold')\n",
    "    fig.add_artist(text)\n",
    "    \n",
    "    if timeS_BF[t_step] <= 25:\n",
    "        cbar.set_ticks([np.min(temp_BF[:,:,t_step])*1.06, (np.max(temp_BF[:,:,t_step]))/2, np.max(temp_BF[:,:,t_step])*0.96], labels=[f'{np.min(temp_BF[:,:,t_step]):.0f}', f'{np.max(temp_BF[:,:,t_step])/2 :.0f}', f'{np.max(temp_BF[:,:,t_step])*0.95:.0f}'], weight='bold') \n",
    "    else:\n",
    "        cbar.set_ticks([np.min(temp_BF[:,:,t_step]), (np.max(temp_BF[:,:,t_step])+np.min(temp_BF[:,:,t_step]))/2, np.max(temp_BF[:,:,t_step])], labels=[f'{np.min(temp_BF[:,:,t_step]):.0f}', f'{(np.max(temp_BF[:,:,t_step])+np.min(temp_BF[:,:,t_step]))/2 :.0f}', f'{np.max(temp_BF[:,:,t_step]):.0f}'], weight='bold') \n",
    "    \n",
    "    ax1.tick_params(axis='both', labelcolor='black', labelsize=65, bottom=False, top=False, left=False, right=False, labelbottom=False, labelleft=False)\n",
    "    ax1.spines[:].set_linewidth(4)\n",
    "    ax1.spines[:].set_color('k')\n",
    "    ax2.spines[:].set_linewidth(4)\n",
    "    line = Line2D([1.04, 1.04], [0.35, 0.65], transform=fig.transFigure, color=\"none\", linewidth=3, linestyle='-')\n",
    "    fig.add_artist(line)\n",
    "\n",
    "t_steps = 555\n",
    "############ To save the image as well #############\n",
    "# for t_step in range(500, 555, 1):\n",
    "for t_step in range(t_steps):\n",
    "    update_plot(t_step)\n",
    "    plt.savefig(f'../temperoray_figures/Bessel/Fitting/temperature/f_{t_step}.png',bbox_inches='tight', dpi=100)\n",
    "    plt.close() \n",
    "print(\"FINISHED\")"
   ]
  },
  {
   "cell_type": "code",
   "execution_count": null,
   "id": "8aa0411d-5c39-4eee-8cea-b64511b48965",
   "metadata": {},
   "outputs": [],
   "source": []
  },
  {
   "cell_type": "markdown",
   "id": "44c579d1-6f4d-4f7a-a898-b82f622a9516",
   "metadata": {},
   "source": [
    "## Velocity"
   ]
  },
  {
   "cell_type": "code",
   "execution_count": 12,
   "id": "434edd91-aa9d-4fdd-9058-8cfd36a0ec8a",
   "metadata": {},
   "outputs": [
    {
     "name": "stdout",
     "output_type": "stream",
     "text": [
      "FINISHED\n"
     ]
    }
   ],
   "source": [
    "def update_plot(t_step):\n",
    "    scan_speed = r'30 $\\mathbf{\\mu m/s}$'\n",
    "    power = r\"25 $\\mathbf{mW}$\"\n",
    "    \n",
    "    laser_speed = 30\n",
    "    scaling_factor = 401/1000 # scaling factor for plotting figure\n",
    "    laser_act_pos = 125 + timeS_BF[t_step]*laser_speed  # Laser actual position in true dimension\n",
    "    laser_pos = laser_act_pos*scaling_factor # Laser position in accordance with figure\n",
    "    \n",
    "    \n",
    "    fig, ax1 = plt.subplots(1,1, figsize=(16,8), frameon=False)\n",
    "    ax1.set_facecolor((0, 0, 0, 0))\n",
    "    \n",
    "    \n",
    "    hmap1 = ax1.imshow(vel_BF[:,:,t_step], cmap='gist_ncar_r', vmin=2, aspect=0.5,  interpolation='bilinear')\n",
    "    # AuFCC_txt = ax1.text(320,180,'FCC', fontsize = 35, weight='bold', color='green')\n",
    "    # AuLIQ_txt = ax1.text(laser_pos-20, 30,'LIQ', fontsize = 35, weight='bold', color='white')\n",
    "    \n",
    "    ######################### Laser Arrow ###########################\n",
    "    if timeS_BF[t_step] <= 25:\n",
    "        ax1.arrow(laser_pos, -80, 0, 76,  width = 4.5, color='red', length_includes_head=True, clip_on=False)\n",
    "        ax1.text(laser_pos-15,-12, power, rotation=90, color='k', fontsize=20, weight='bold')\n",
    "        if laser_act_pos < 500:\n",
    "            ax1.set_title(f't = {timeS_BF[t_step]:.2f}s', pad=10, loc='right', fontsize=25, weight='bold')\n",
    "            ax1.text(laser_pos+10, -40, s=f'{scan_speed}', fontsize=20, weight = 'bold')\n",
    "            ax1.arrow(laser_pos+10, -28, 30, 0,  width = 3, color='k', fill=False, clip_on=False)\n",
    "        else:\n",
    "            ax1.set_title(f't = {timeS_BF[t_step]:.2f}s', pad=10, loc='left', fontsize=25, weight='bold')\n",
    "            ax1.text(laser_pos-65, -40, s=f'{scan_speed}', fontsize=20, weight = 'bold')\n",
    "            ax1.arrow(laser_pos-65, -28, 30, 0,  width = 3, color='k', fill=False, clip_on=False)\n",
    "    else:\n",
    "        ax1.set_title(f't = {timeS_BF[t_step]:.2f}s', pad=10, loc='left', fontsize=25, weight='bold')\n",
    "        ax1.text(350, -40, \"LASER\", rotation=0, color='k', alpha=1, fontsize=20, weight='bold')\n",
    "        ax1.text(350, -20, \"OFF\", rotation=0, color='k', alpha=1, fontsize=20, weight='bold')\n",
    "        ax1.arrow(400, -10, -50, 0, fill=False, hatch='x', overhang=1, linestyle='--',  width = 3, color='blue', alpha=1, length_includes_head=True, clip_on=False)\n",
    "        ax1.arrow(350, -80, 0, 76,  width = 4.5, color='none', length_includes_head=True, clip_on=False) # to make the figure height same after laser is turned off\n",
    "        \n",
    "    contour_level_LIQ = [0.8]\n",
    "    contour_LIQ = plt.contour(LIQ_BF[:, :, t_step], levels=contour_level_LIQ, colors='orangered', linestyles='-', linewidths=5,)\n",
    "    \n",
    "    contour_levels = [450, 700, 1337]\n",
    "    contour = plt.contour(temp_BF[:, :, t_step], levels=contour_levels, colors='lime', linewidths=2,)\n",
    "    clabels = plt.clabel(contour, inline=True, fontsize=24, colors='k', fmt='%1.0f K')\n",
    "    \n",
    "    ax1.set_ylim(201, -1)    \n",
    "    ax1.set_xlim(-1,401)\n",
    "    \n",
    "    for label in clabels: label.set_fontweight('bold')\n",
    "        \n",
    "    ################## Dimensions ###################\n",
    "    ax1.set_xlabel('$\\mathbf{\\longleftarrow}$                 1000 $ \\mathbf{\\mu m}$                $\\mathbf{\\longrightarrow}$', fontsize = 27, weight ='bold',)\n",
    "    ax1.annotate(r'$\\mathbf{\\leftarrow}$ 250 $\\mathbf{\\mu m}$ $\\mathbf{\\rightarrow}$', xy=(0.5, 0.5), xytext=(-0.025, 0.5), rotation=90,\n",
    "                 xycoords='axes fraction', textcoords='axes fraction', fontsize = 27, weight = 'bold', color='k', ha='center', va='center')\n",
    "    \n",
    "    ############## Color Bar ###########\n",
    "    ax2 = fig.add_axes([0.92, 0.3, 0.05, 0.39]) \n",
    "    ax2.tick_params(axis='both', labelcolor='black', labelsize=1, bottom=False, top=False, left=False, right=False, labelbottom=False, labelleft=False)\n",
    "    cbar = fig.colorbar(hmap1, cax=ax2, orientation='vertical')\n",
    "    cbar.ax.tick_params(labelsize=25, direction='in', length=0) \n",
    "    cbar.set_label(r'$\\mathbf{\\leftarrow}$   Vel $\\mathbf{[\\mu m/s]}$  $\\mathbf{\\rightarrow}$', color='k',  labelpad=20, fontsize=20, rotation=90, weight='bold')\n",
    "    cbar.set_ticks([np.max(vel_BF[:,:,t_step])*0.06, (np.max(vel_BF[:,:,t_step]))/2, np.max(vel_BF[:,:,t_step])*0.96], labels=[f'{np.min(vel_BF[:,:,t_step]):.0f}', f'{np.max(vel_BF[:,:,t_step])/2 :.0f}', f'{np.max(vel_BF[:,:,t_step]):.0f}'], weight='bold') \n",
    "    \n",
    "    ax1.tick_params(axis='both', labelcolor='black', labelsize=65, bottom=False, top=False, left=False, right=False, labelbottom=False, labelleft=False)\n",
    "    ax1.spines[:].set_linewidth(4)\n",
    "    ax1.spines[:].set_color('b')\n",
    "    ax2.spines[:].set_linewidth(4)\n",
    "    line = Line2D([1.057, 1.057], [0.35, 0.65], transform=fig.transFigure, color=\"none\", linewidth=3, linestyle='-')\n",
    "    fig.add_artist(line)\n",
    "\n",
    "t_steps = 496\n",
    "############ To save the image as well #############\n",
    "# for t_step in range(250, 496, 1):\n",
    "for t_step in range(t_steps):\n",
    "    update_plot(t_step)\n",
    "    plt.savefig(f'../temperoray_figures/Bessel/Fitting/velocity/f_{t_step}.png',bbox_inches='tight', dpi=100)\n",
    "    plt.close() \n",
    "print(\"FINISHED\")"
   ]
  },
  {
   "cell_type": "code",
   "execution_count": null,
   "id": "15784453-8e7b-48fa-a013-96487b6f775d",
   "metadata": {},
   "outputs": [],
   "source": []
  },
  {
   "cell_type": "code",
   "execution_count": null,
   "id": "5a634bbe-4320-4f00-837a-b2204d899923",
   "metadata": {},
   "outputs": [],
   "source": []
  }
 ],
 "metadata": {
  "kernelspec": {
   "display_name": "Python 3 (ipykernel)",
   "language": "python",
   "name": "python3"
  },
  "language_info": {
   "codemirror_mode": {
    "name": "ipython",
    "version": 3
   },
   "file_extension": ".py",
   "mimetype": "text/x-python",
   "name": "python",
   "nbconvert_exporter": "python",
   "pygments_lexer": "ipython3",
   "version": "3.10.12"
  }
 },
 "nbformat": 4,
 "nbformat_minor": 5
}
