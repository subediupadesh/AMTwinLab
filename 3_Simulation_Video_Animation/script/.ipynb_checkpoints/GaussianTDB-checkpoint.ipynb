{
 "cells": [
  {
   "cell_type": "code",
   "execution_count": 1,
   "id": "1a80000c-cd55-41c5-aa3d-3a624cf4d573",
   "metadata": {},
   "outputs": [],
   "source": [
    "import numpy as np\n",
    "import pandas as pd\n",
    "import matplotlib.pyplot as plt\n",
    "import os\n",
    "import matplotlib.patches as patches\n",
    "from scipy.io import loadmat\n",
    "from matplotlib.colors import ListedColormap\n",
    "from matplotlib.lines import Line2D\n",
    "from matplotlib.text import Text"
   ]
  },
  {
   "cell_type": "code",
   "execution_count": 2,
   "id": "691fedb4-ccb8-498b-9876-e4a50c05a59f",
   "metadata": {},
   "outputs": [],
   "source": [
    "path = os.path.abspath('../../1_Simulation_Results/numpy_files/')\n",
    "\n",
    "colormap_data = loadmat('../cold2hot.mat')\n",
    "cold2hot = ListedColormap(colormap_data['colormap'])\n",
    "hot2cold = ListedColormap(colormap_data['colormap'][::-1])"
   ]
  },
  {
   "cell_type": "code",
   "execution_count": 3,
   "id": "6fb832b0-dd6a-4b8b-99e7-b3d9b16426e4",
   "metadata": {},
   "outputs": [],
   "source": [
    "model_GaussianTDB = np.load(path+'/Gaussian/TDB/Gaussian_TDB.npz')\n",
    "\n",
    "LIQ_GT     = model_GaussianTDB['arr1']\n",
    "FCC_GT     = model_GaussianTDB['arr2']\n",
    "vel_GT     = model_GaussianTDB['arr3']\n",
    "temp_GT    = model_GaussianTDB['arr4']\n",
    "timeS_GT  = model_GaussianTDB['arr5']\n",
    "\n",
    "time_steps_GT =  timeS_GT.shape[0]"
   ]
  },
  {
   "cell_type": "markdown",
   "id": "7b648f0b-b6f7-4600-b6d3-1a2e9626a586",
   "metadata": {
    "jp-MarkdownHeadingCollapsed": true
   },
   "source": [
    "## Phase"
   ]
  },
  {
   "cell_type": "code",
   "execution_count": 4,
   "id": "7b5c9961-a552-4808-802e-b2a3a2eefdaf",
   "metadata": {},
   "outputs": [
    {
     "name": "stdout",
     "output_type": "stream",
     "text": [
      "FINISHED\n"
     ]
    }
   ],
   "source": [
    "def update_plot(t_step):\n",
    "    scan_speed = r'30 $\\mathbf{\\mu m/s}$'\n",
    "    power = r\"25 $\\mathbf{mW}$\"\n",
    "    laser_speed = 30\n",
    "    scaling_factor = 401/1000 # scaling factor for plotting figure\n",
    "    laser_act_pos = 125 + timeS_GT[t_step]*laser_speed  # Laser actual position in true dimension\n",
    "    laser_pos = laser_act_pos*scaling_factor # Laser position in accordance with figure\n",
    "    \n",
    "    fig, ax1 = plt.subplots(1,1, figsize=(16,8), frameon=False)\n",
    "    ax1.set_facecolor((0, 0, 0, 0))\n",
    "    \n",
    "    cmap = plt.get_cmap('RdYlGn_r')\n",
    "    cmap.set_under('white', alpha=0)\n",
    "    hmap1 = ax1.imshow(LIQ_GT[:,:,t_step], cmap=cmap, vmin=0.5, vmax=1.0, aspect=0.5,  interpolation='quadric')\n",
    "    \n",
    "    cmap = plt.get_cmap('Wistia')\n",
    "    cmap.set_under('white', alpha=0) \n",
    "    hmap2 = ax1.imshow(FCC_GT[:,:,t_step], cmap=cmap, vmin=0.5, vmax=1.5, aspect=0.5, interpolation='quadric')\n",
    "    \n",
    "    contour_level_LIQ = [0.8]\n",
    "    contour_LIQ = plt.contour(LIQ_GT[:, :, t_step], levels=contour_level_LIQ, colors='k', linestyles='--', linewidths=3,)\n",
    "    \n",
    "    contour_levels = [450, 700,  1337]\n",
    "    label_colors = ['k', 'k', 'aqua']\n",
    "    contour = ax1.contour(temp_GT[:, :, t_step], levels=contour_levels, colors='crimson', linewidths=3, linestyles='dashdot')\n",
    "    [(label.set_fontweight('bold'), label.set_color(color)) for label, color in zip(plt.clabel(contour, inline=True, fontsize=24, fmt='%1.0f K'), label_colors)]\n",
    "        \n",
    "    if timeS_GT[t_step] <= 25:\n",
    "        ax1.arrow(laser_pos, -80, 0, 76,  width = 4.5, color='red', length_includes_head=True, clip_on=False)\n",
    "        ax1.text(laser_pos-15,-12, power, rotation=90, color='k', fontsize=20, weight='bold')\n",
    "        if laser_act_pos < 500:\n",
    "            ax1.set_title(f't = {timeS_GT[t_step]:.2f}s', pad=10, loc='right', fontsize=25, weight='bold')\n",
    "            ax1.text(laser_pos+10, -40, s=f'{scan_speed}', fontsize=20, weight = 'bold')\n",
    "            ax1.arrow(laser_pos+10, -28, 30, 0,  width = 3, color='k', fill=False, clip_on=False)\n",
    "        else:\n",
    "            ax1.set_title(f't = {timeS_GT[t_step]:.2f}s', pad=10, loc='left', fontsize=25, weight='bold')\n",
    "            ax1.text(laser_pos-65, -40, s=f'{scan_speed}', fontsize=20, weight = 'bold')\n",
    "            ax1.arrow(laser_pos-65, -28, 30, 0,  width = 3, color='k', fill=False, clip_on=False)\n",
    "    else:\n",
    "        ax1.set_title(f't = {timeS_GT[t_step]:.2f}s', pad=10, loc='left', fontsize=25, weight='bold')\n",
    "        ax1.text(350, -40, \"LASER\", rotation=0, color='k', alpha=1, fontsize=20, weight='bold')\n",
    "        ax1.text(350, -20, \"OFF\", rotation=0, color='k', alpha=1, fontsize=20, weight='bold')\n",
    "        ax1.arrow(400, -10, -50, 0, fill=False, hatch='x', overhang=1, linestyle='--',  width = 3, color='blue', alpha=1, length_includes_head=True, clip_on=False)\n",
    "        ax1.arrow(350, -80, 0, 76,  width = 4.5, color='none', length_includes_head=True, clip_on=False) # to make the figure height same after laser is turned off\n",
    "    \n",
    "    AuFCC_txt = ax1.text(20,180,'FCC', fontsize = 40, weight='bold', color='white')\n",
    "    if timeS_GT[t_step] <= 25:\n",
    "        AuLIQ_txt = ax1.text(laser_pos-20, 30,'LIQ_GT', fontsize = 35, weight='bold', color='white')\n",
    "    \n",
    "    ax1.set_ylim(201, -1)    \n",
    "    ax1.set_xlim(-1,401)\n",
    "    \n",
    "    ################## Dimensions ###################\n",
    "    ax1.set_xlabel('$\\mathbf{\\longleftarrow}$                 1000 $ \\mathbf{\\mu m}$                $\\mathbf{\\longrightarrow}$', fontsize = 27, weight ='bold',)\n",
    "    ax1.annotate(r'$\\mathbf{\\leftarrow}$ 250 $\\mathbf{\\mu m}$ $\\mathbf{\\rightarrow}$', xy=(0.5, 0.5), xytext=(-0.025, 0.5), rotation=90,\n",
    "                 xycoords='axes fraction', textcoords='axes fraction', fontsize = 27, weight = 'bold', color='k', ha='center', va='center')\n",
    "    \n",
    "    ax1.tick_params(axis='both', labelcolor='black', labelsize=65, bottom=False, top=False, left=False, right=False, labelbottom=False, labelleft=False)\n",
    "    ax1.spines[:].set_linewidth(4)\n",
    "\n",
    "\n",
    "t_steps = 523\n",
    "############ To save the image as well #############\n",
    "# for t_step in range(300, 523, 1):\n",
    "for t_step in range(t_steps):\n",
    "    update_plot(t_step)\n",
    "    plt.savefig(f'../temperoray_figures/Gaussian/TDB/phase/f_{t_step}.png',bbox_inches='tight', dpi=100)\n",
    "    plt.close() \n",
    "print(\"FINISHED\")"
   ]
  },
  {
   "cell_type": "code",
   "execution_count": null,
   "id": "01151d1c-2278-4144-8f24-f8eaf4840693",
   "metadata": {},
   "outputs": [],
   "source": []
  },
  {
   "cell_type": "markdown",
   "id": "3ff19982-0c2f-48c1-8938-9066580ad8a8",
   "metadata": {
    "jp-MarkdownHeadingCollapsed": true
   },
   "source": [
    "## Temperature"
   ]
  },
  {
   "cell_type": "code",
   "execution_count": 5,
   "id": "8e0ea812-8a1e-4f41-ad20-b2db144dce7e",
   "metadata": {},
   "outputs": [
    {
     "name": "stdout",
     "output_type": "stream",
     "text": [
      "FINISHED\n"
     ]
    }
   ],
   "source": [
    "def update_plot(t_step):\n",
    "    scan_speed = r'30 $\\mathbf{\\mu m/s}$'\n",
    "    power = r\"25 $\\mathbf{mW}$\"\n",
    "    laser_speed = 30\n",
    "    scaling_factor = 401/1000 # scaling factor for plotting figure\n",
    "    laser_act_pos = 125 + timeS_GT[t_step]*laser_speed  # Laser actual position in true dimension\n",
    "    laser_pos = laser_act_pos*scaling_factor # Laser position in accordance with figure\n",
    "    \n",
    "    fig, ax1 = plt.subplots(1,1, figsize=(16,8), frameon=False)\n",
    "    ax1.set_facecolor((0, 0, 0, 0))\n",
    "    \n",
    "    hmap1 = ax1.imshow(temp_GT[:,:,t_step], cmap='RdYlBu_r', vmin=300, aspect=0.5,  interpolation='quadric')\n",
    "    \n",
    "    if timeS_GT[t_step] <= 25:\n",
    "        ax1.arrow(laser_pos, -80, 0, 76,  width = 4.5, color='red', length_includes_head=True, clip_on=False)\n",
    "        ax1.text(laser_pos-15,-12, power, rotation=90, color='k', fontsize=20, weight='bold')\n",
    "        if laser_act_pos < 500:\n",
    "            ax1.set_title(f't = {timeS_GT[t_step]:.2f}s', pad=10, loc='right', fontsize=25, weight='bold')\n",
    "            ax1.text(laser_pos+10, -40, s=f'{scan_speed}', fontsize=20, weight = 'bold')\n",
    "            ax1.arrow(laser_pos+10, -28, 30, 0,  width = 3, color='k', fill=False, clip_on=False)\n",
    "        else:\n",
    "            ax1.set_title(f't = {timeS_GT[t_step]:.2f}s', pad=10, loc='left', fontsize=25, weight='bold')\n",
    "            ax1.text(laser_pos-65, -40, s=f'{scan_speed}', fontsize=20, weight = 'bold')\n",
    "            ax1.arrow(laser_pos-65, -28, 30, 0,  width = 3, color='k', fill=False, clip_on=False)\n",
    "    else:\n",
    "        ax1.set_title(f't = {timeS_GT[t_step]:.2f}s', pad=10, loc='left', fontsize=25, weight='bold')\n",
    "        ax1.text(350, -40, \"LASER\", rotation=0, color='k', alpha=1, fontsize=20, weight='bold')\n",
    "        ax1.text(350, -20, \"OFF\", rotation=0, color='k', alpha=1, fontsize=20, weight='bold')\n",
    "        ax1.arrow(400, -10, -50, 0, fill=False, hatch='x', overhang=1, linestyle='--',  width = 3, color='blue', alpha=1, length_includes_head=True, clip_on=False)\n",
    "        ax1.arrow(350, -80, 0, 76,  width = 4.5, color='none', length_includes_head=True, clip_on=False) # to make the figure height same after laser is turned off\n",
    "    \n",
    "    ax1.set_ylim(201, -1)    \n",
    "    ax1.set_xlim(-1,401)\n",
    "    \n",
    "    contour_levels = [450, 700,  1337]\n",
    "    label_colors = ['tomato', 'orangered', 'k']\n",
    "    contour = plt.contour(temp_GT[:, :, t_step], levels=contour_levels, colors='black', linewidths=4, linestyles='dotted')\n",
    "    [(label.set_fontweight('bold'), label.set_color(color)) for label, color in zip(plt.clabel(contour, inline=True, fontsize=24, fmt='%1.0f K'), label_colors)]\n",
    "    \n",
    "    ################## Dimensions ###################\n",
    "    ax1.set_xlabel('$\\mathbf{\\longleftarrow}$                 1000 $ \\mathbf{\\mu m}$                $\\mathbf{\\longrightarrow}$', fontsize = 27, weight ='bold',)\n",
    "    ax1.annotate(r'$\\mathbf{\\leftarrow}$ 250 $\\mathbf{\\mu m}$ $\\mathbf{\\rightarrow}$', xy=(0.5, 0.5), xytext=(-0.025, 0.5), rotation=90,\n",
    "                 xycoords='axes fraction', textcoords='axes fraction', fontsize = 27, weight = 'bold', color='k', ha='center', va='center')\n",
    "    \n",
    "    ############## Color Bar ###########\n",
    "    ax2 = fig.add_axes([0.92, 0.3, 0.05, 0.39]) \n",
    "    ax2.tick_params(axis='both', labelcolor='black', labelsize=1, bottom=False, top=False, left=False, right=False, labelbottom=False, labelleft=False)\n",
    "    cbar = fig.colorbar(hmap1, cax=ax2, orientation='vertical')\n",
    "    cbar.ax.tick_params(labelsize=25, direction='in', length=0) \n",
    "    # cbar.set_label(r'$\\mathbf{\\leftarrow}$   T [K]  $\\mathbf{\\rightarrow}$', color='k',  labelpad=-115, fontsize=30, rotation=90, weight='bold')\n",
    "    text = Text(x=0.935, y=0.335, text=r'$\\mathbf{\\leftarrow}$   T [K]  $\\mathbf{\\rightarrow}$', fontsize=30, color='k', rotation=90, weight='bold')\n",
    "    fig.add_artist(text)\n",
    "    if timeS_GT[t_step] <= 25:\n",
    "        cbar.set_ticks([np.min(temp_GT[:,:,t_step])*1.06, (np.max(temp_GT[:,:,t_step]))/2, np.max(temp_GT[:,:,t_step])*0.96], labels=[f'  {np.min(temp_GT[:,:,t_step]):.0f}', f'{np.max(temp_GT[:,:,t_step])/2 :.0f}', f'{np.max(temp_GT[:,:,t_step])*0.95:.0f}'], weight='bold') \n",
    "    else:\n",
    "        cbar.set_ticks([np.min(temp_GT[:,:,t_step]), (np.max(temp_GT[:,:,t_step])+np.min(temp_GT[:,:,t_step]))/2, np.max(temp_GT[:,:,t_step])], labels=[f'  {np.min(temp_GT[:,:,t_step]):.0f}', f'  {(np.max(temp_GT[:,:,t_step])+np.min(temp_GT[:,:,t_step]))/2 :.0f}', f'  {np.max(temp_GT[:,:,t_step]):.0f}'], weight='bold') \n",
    "    \n",
    "    ax1.tick_params(axis='both', labelcolor='black', labelsize=65, bottom=False, top=False, left=False, right=False, labelbottom=False, labelleft=False)\n",
    "    ax1.spines[:].set_linewidth(4)\n",
    "    ax1.spines[:].set_color('k')\n",
    "    ax2.spines[:].set_linewidth(4)\n",
    "    line = Line2D([1.04, 1.04], [0.35, 0.65], transform=fig.transFigure, color=\"none\", linewidth=3, linestyle='-')\n",
    "    fig.add_artist(line)\n",
    "\n",
    "t_steps = 520\n",
    "############ To save the image as well #############\n",
    "# for t_step in range(500, 520, 1):\n",
    "for t_step in range(t_steps):\n",
    "    update_plot(t_step)\n",
    "    plt.savefig(f'../temperoray_figures/Gaussian/TDB/temperature/f_{t_step}.png',bbox_inches='tight', dpi=100)\n",
    "    plt.close() \n",
    "print(\"FINISHED\")"
   ]
  },
  {
   "cell_type": "code",
   "execution_count": null,
   "id": "74aad492-2782-4cd1-a625-429e4fea8c6a",
   "metadata": {},
   "outputs": [],
   "source": []
  },
  {
   "cell_type": "markdown",
   "id": "e4216b1c-9368-4c69-b95d-479a3a27c076",
   "metadata": {
    "jp-MarkdownHeadingCollapsed": true
   },
   "source": [
    "## Velocity"
   ]
  },
  {
   "cell_type": "code",
   "execution_count": 6,
   "id": "4eae7fe5-9c7b-4e98-94f8-20fe481d1b3e",
   "metadata": {},
   "outputs": [
    {
     "name": "stdout",
     "output_type": "stream",
     "text": [
      "FINISHED\n"
     ]
    }
   ],
   "source": [
    "def update_plot(t_step):\n",
    "    scan_speed = r'30 $\\mathbf{\\mu m/s}$'\n",
    "    power = r\"25 $\\mathbf{mW}$\"\n",
    "    laser_speed = 30\n",
    "    scaling_factor = 401/1000 # scaling factor for plotting figure\n",
    "    laser_act_pos = 125 + timeS_GT[t_step]*laser_speed  # Laser actual position in true dimension\n",
    "    laser_pos = laser_act_pos*scaling_factor # Laser position in accordance with figure\n",
    "    \n",
    "    fig, ax1 = plt.subplots(1,1, figsize=(16,8), frameon=False)\n",
    "    ax1.set_facecolor((0, 0, 0, 0))\n",
    "    \n",
    "    hmap1 = ax1.imshow(vel_GT[:,:,t_step], cmap='gist_ncar_r', vmin=2, aspect=0.5,  interpolation='bilinear')\n",
    "    \n",
    "    ######################### Laser Arrow ###########################\n",
    "    if timeS_GT[t_step] <= 25:\n",
    "        ax1.arrow(laser_pos, -80, 0, 76,  width = 4.5, color='red', length_includes_head=True, clip_on=False)\n",
    "        ax1.text(laser_pos-15,-12, power, rotation=90, color='k', fontsize=20, weight='bold')\n",
    "        if laser_act_pos < 500:\n",
    "            ax1.set_title(f't = {timeS_GT[t_step]:.2f}s', pad=10, loc='right', fontsize=25, weight='bold')\n",
    "            ax1.text(laser_pos+10, -40, s=f'{scan_speed}', fontsize=20, weight = 'bold')\n",
    "            ax1.arrow(laser_pos+10, -28, 30, 0,  width = 3, color='k', fill=False, clip_on=False)\n",
    "        else:\n",
    "            ax1.set_title(f't = {timeS_GT[t_step]:.2f}s', pad=10, loc='left', fontsize=25, weight='bold')\n",
    "            ax1.text(laser_pos-65, -40, s=f'{scan_speed}', fontsize=20, weight = 'bold')\n",
    "            ax1.arrow(laser_pos-65, -28, 30, 0,  width = 3, color='k', fill=False, clip_on=False)\n",
    "    else:\n",
    "        ax1.set_title(f't = {timeS_GT[t_step]:.2f}s', pad=10, loc='left', fontsize=25, weight='bold')\n",
    "        ax1.text(350, -40, \"LASER\", rotation=0, color='k', alpha=1, fontsize=20, weight='bold')\n",
    "        ax1.text(350, -20, \"OFF\", rotation=0, color='k', alpha=1, fontsize=20, weight='bold')\n",
    "        ax1.arrow(400, -10, -50, 0, fill=False, hatch='x', overhang=1, linestyle='--',  width = 3, color='blue', alpha=1, length_includes_head=True, clip_on=False)\n",
    "        ax1.arrow(350, -80, 0, 76,  width = 4.5, color='none', length_includes_head=True, clip_on=False) # to make the figure height same after laser is turned off\n",
    "        \n",
    "    contour_level_LIQ = [0.8]\n",
    "    contour_LIQ = plt.contour(LIQ_GT[:, :, t_step], levels=contour_level_LIQ, colors='orangered', linestyles='-', linewidths=5,)\n",
    "    \n",
    "    contour_levels = [450, 700, 1337]\n",
    "    contour = plt.contour(temp_GT[:, :, t_step], levels=contour_levels, colors='lime', linewidths=2,)\n",
    "    clabels = plt.clabel(contour, inline=True, fontsize=24, colors='k', fmt='%1.0f K')\n",
    "    \n",
    "    ax1.set_ylim(201, -1)    \n",
    "    ax1.set_xlim(-1,401)\n",
    "    \n",
    "    for label in clabels: label.set_fontweight('bold')\n",
    "        \n",
    "    ################## Dimensions ###################\n",
    "    ax1.set_xlabel('$\\mathbf{\\longleftarrow}$                 1000 $ \\mathbf{\\mu m}$                $\\mathbf{\\longrightarrow}$', fontsize = 27, weight ='bold',)\n",
    "    ax1.annotate(r'$\\mathbf{\\leftarrow}$ 250 $\\mathbf{\\mu m}$ $\\mathbf{\\rightarrow}$', xy=(0.5, 0.5), xytext=(-0.025, 0.5), rotation=90,\n",
    "                 xycoords='axes fraction', textcoords='axes fraction', fontsize = 27, weight = 'bold', color='k', ha='center', va='center')\n",
    "    \n",
    "    ############## Color Bar ###########\n",
    "    ax2 = fig.add_axes([0.92, 0.3, 0.05, 0.39]) \n",
    "    ax2.tick_params(axis='both', labelcolor='black', labelsize=1, bottom=False, top=False, left=False, right=False, labelbottom=False, labelleft=False)\n",
    "    cbar = fig.colorbar(hmap1, cax=ax2, orientation='vertical')\n",
    "    cbar.ax.tick_params(labelsize=25, direction='in', length=0) \n",
    "    cbar.set_label(r'$\\mathbf{\\leftarrow}$   Vel $\\mathbf{[\\mu m/s]}$  $\\mathbf{\\rightarrow}$', color='k',  labelpad=20, fontsize=20, rotation=90, weight='bold')\n",
    "    cbar.set_ticks([np.max(vel_GT[:,:,t_step])*0.06, (np.max(vel_GT[:,:,t_step]))/2, np.max(vel_GT[:,:,t_step])*0.96], labels=[f'{np.min(vel_GT[:,:,t_step]):.0f}', f'{np.max(vel_GT[:,:,t_step])/2 :.0f}', f'{np.max(vel_GT[:,:,t_step]):.0f}'], weight='bold') \n",
    "    \n",
    "    ax1.tick_params(axis='both', labelcolor='black', labelsize=65, bottom=False, top=False, left=False, right=False, labelbottom=False, labelleft=False)\n",
    "    ax1.spines[:].set_linewidth(4)\n",
    "    ax1.spines[:].set_color('b')\n",
    "    ax2.spines[:].set_linewidth(4)\n",
    "    line = Line2D([1.041, 1.041], [0.35, 0.65], transform=fig.transFigure, color=\"none\", linewidth=3, linestyle='-')\n",
    "    fig.add_artist(line)\n",
    "\n",
    "t_steps = 437\n",
    "############ To save the image as well #############\n",
    "# for t_step in range(100, 437, 1):\n",
    "for t_step in range(t_steps):\n",
    "    update_plot(t_step)\n",
    "    plt.savefig(f'../temperoray_figures/Gaussian/TDB/velocity/f_{t_step}.png',bbox_inches='tight', dpi=100)\n",
    "    plt.close() \n",
    "print(\"FINISHED\")"
   ]
  },
  {
   "cell_type": "code",
   "execution_count": null,
   "id": "c6298a7b-685a-4ed7-b574-2a7e5370be18",
   "metadata": {},
   "outputs": [],
   "source": []
  },
  {
   "cell_type": "markdown",
   "id": "62c5678a-35d6-4b71-b4f5-e1da1f93b303",
   "metadata": {},
   "source": [
    "## Lead_Lag"
   ]
  },
  {
   "cell_type": "code",
   "execution_count": 13,
   "id": "5994ecbc-b23b-490d-a560-17ba66a9b08e",
   "metadata": {},
   "outputs": [],
   "source": [
    "import warnings\n",
    "warnings.filterwarnings(\"ignore\", message=\"No artists with labels found to put in legend\")"
   ]
  },
  {
   "cell_type": "code",
   "execution_count": 4,
   "id": "2ab9b1e0-1129-4212-9dd2-afeb5b0ebbff",
   "metadata": {},
   "outputs": [
    {
     "data": {
      "text/plain": [
       "435"
      ]
     },
     "execution_count": 4,
     "metadata": {},
     "output_type": "execute_result"
    }
   ],
   "source": [
    "end_step = max((i for i, v in enumerate(list(timeS_GT)) if v <= 25), key=lambda i: list(timeS_GT)[i])\n",
    "end_step"
   ]
  },
  {
   "cell_type": "code",
   "execution_count": 5,
   "id": "8d97e798-7c7c-460b-80ed-9e6db0d23e77",
   "metadata": {},
   "outputs": [],
   "source": [
    "def leading_front(array, condition, end_time_step):\n",
    "    condition = condition\n",
    "    end_step = end_time_step\n",
    "    leading_front = []\n",
    "    for t in range(end_step):\n",
    "        A = array[0:1,:,t][0]\n",
    "        for i in range(len(A)-1,0,-1):\n",
    "            if A[i]>=condition:\n",
    "                # print(i)\n",
    "                break\n",
    "        leading_front.append(i)\n",
    "    return leading_front"
   ]
  },
  {
   "cell_type": "code",
   "execution_count": 6,
   "id": "854b9b44-057c-49cc-b047-2b7680a9c5b1",
   "metadata": {},
   "outputs": [],
   "source": [
    "leading_temperature = leading_front(array=temp_GT[:,:,:end_step], condition=1337, end_time_step=end_step)\n",
    "leading_LIQ = leading_front(array=LIQ_GT[:,:,:end_step], condition=0.5, end_time_step= end_step)\n",
    "time_duration = np.arange(end_step)\n",
    "time_lead_lag =  timeS_GT[:end_step]"
   ]
  },
  {
   "cell_type": "code",
   "execution_count": 7,
   "id": "24db528c-a534-45fc-8ada-85aaf017e897",
   "metadata": {},
   "outputs": [
    {
     "name": "stderr",
     "output_type": "stream",
     "text": [
      "/tmp/ipykernel_46150/2066266000.py:3: RankWarning: Polyfit may be poorly conditioned\n",
      "  coefficients_real = np.polyfit(position, time_lead_lag, order)\n"
     ]
    }
   ],
   "source": [
    "def fit_real_time(data, order):\n",
    "    position, time_lead_lag = data\n",
    "    coefficients_real = np.polyfit(position, time_lead_lag, order)\n",
    "    fitted_real_time = np.poly1d(coefficients_real)\n",
    "    return fitted_real_time\n",
    "    \n",
    "common_position = leading_LIQ.index(leading_temperature[1]) # = 36 ## => comes from nearest value of starting point of leading temp_GT i.e. => leading_temperature[1]\n",
    "phase_fit_real_time = fit_real_time([leading_LIQ[1:], time_lead_lag[1:]], 15)\n",
    "temp_fit_real_time = fit_real_time([leading_temperature[1:], time_lead_lag[1:]], 15)"
   ]
  },
  {
   "cell_type": "code",
   "execution_count": 8,
   "id": "2713f354-93bf-45da-82af-1057ba485662",
   "metadata": {},
   "outputs": [],
   "source": [
    "lag_time = []\n",
    "for t in range(end_step):\n",
    "    lag_time.append(phase_fit_real_time(leading_LIQ[t]) - temp_fit_real_time(leading_LIQ[t]))"
   ]
  },
  {
   "cell_type": "markdown",
   "id": "b2e26160-4cb3-4ea4-b246-ace4ee34fb07",
   "metadata": {},
   "source": [
    "#### loop"
   ]
  },
  {
   "cell_type": "code",
   "execution_count": null,
   "id": "7d812477-a5ae-4165-9fb8-654c1572eab1",
   "metadata": {},
   "outputs": [],
   "source": [
    "def update_plot(t_step):\n",
    "    scan_speed = r'30 $\\mathbf{\\mu m/s}$'\n",
    "    power = r\"25 $\\mathbf{mW}$\"\n",
    "    \n",
    "    laser_speed = 30\n",
    "    scaling_factor = 401/1000 # scaling factor for plotting figure\n",
    "    laser_act_pos = 125 + timeS_GT[t_step]*laser_speed  # Laser actual position in true dimension\n",
    "    laser_pos = laser_act_pos*scaling_factor # Laser position in accordance with figure\n",
    "    \n",
    "    x = np.arange(time_steps_GT-1)\n",
    "    \n",
    "    fig, ax1 = plt.subplots(1,1, figsize=(16,8), frameon=False)\n",
    "    ax1.set_facecolor((0, 0, 0, 0))\n",
    "    \n",
    "    hmap1 = ax1.imshow(temp_GT[:,:,t_step], cmap='Spectral_r', vmin=300, aspect=0.5,  interpolation='quadric')\n",
    "    \n",
    "    ax1.tick_params(axis='both', labelcolor='black', labelsize=65, bottom=False, top=False, left=False, right=False, labelbottom=False, labelleft=False)\n",
    "    ax1.spines[:].set_linewidth(4)\n",
    "    ax1.spines[:].set_color('k')\n",
    "    \n",
    "    if timeS_GT[t_step] <= 25:\n",
    "        ax1.arrow(laser_pos,-75, 0, 71,  width = 4, color='red', length_includes_head=True, clip_on=False)\n",
    "        ax1.text(laser_pos-15,-12, power, rotation=90, color='k', fontsize=20, weight='bold')\n",
    "        if laser_act_pos < 500:\n",
    "            ax1.set_title(f't = {timeS_GT[t_step]:.2f}s', pad=10, loc='right', fontsize=25, weight='bold')\n",
    "            ax1.text(laser_pos+10, -40, s=f'{scan_speed}', fontsize=20, weight = 'bold')\n",
    "            ax1.arrow(laser_pos+10, -28, 30, 0,  width = 3, color='k', fill=False, clip_on=False)\n",
    "        else:\n",
    "            ax1.set_title(f't = {timeS_GT[t_step]:.2f}s', pad=10, loc='left', fontsize=25, weight='bold')\n",
    "            ax1.text(laser_pos-55, -40, s=f'{scan_speed}', fontsize=20, weight = 'bold')\n",
    "            ax1.arrow(laser_pos-55, -28, 30, 0,  width = 3, color='k', fill=False, clip_on=False)\n",
    "    else:\n",
    "        ax1.set_title(f't = {timeS_GT[t_step]:.2f}s', pad=10, loc='left', fontsize=25, weight='bold')\n",
    "        ax1.text(350, -40, \"LASER\", rotation=0, color='k', alpha=1, fontsize=20, weight='bold')\n",
    "        ax1.text(350, -20, \"OFF\", rotation=0, color='k', alpha=1, fontsize=20, weight='bold')\n",
    "        ax1.arrow(400, -10, -50, 0, fill=False, hatch='x', overhang=1, linestyle='--',  width = 3, color='blue', alpha=1, length_includes_head=True, clip_on=False)\n",
    "        ax1.arrow(350, -75, 0, 71,  width = 4, color='none', length_includes_head=True, clip_on=False) # to make the figure height same after laser is turned off\n",
    "    \n",
    "    \n",
    "    ################## Meltpool and Isotherm ################\n",
    "    cmap = plt.get_cmap('Wistia')\n",
    "    cmap.set_under('white', alpha=0) \n",
    "    meltpool_1 = ax1.imshow(LIQ_GT[:,:,t_step], cmap=cmap, vmin=0.5, vmax=1.0, aspect=0.5,  interpolation='quadric')\n",
    "    ax1.arrow(leading_temperature[t_step], -14, 0, 10,  width = 7, head_width=7, color='lime', length_includes_head=True, clip_on=False)\n",
    "    ax1.text(leading_temperature[t_step]+3, -8, s=r'$\\tau$', fontsize=25, weight = 'bold')\n",
    "    ax1.arrow(leading_LIQ[t_step], 11, 0, -10,  width = 7, head_width=7,  color='b', length_includes_head=True, clip_on=False)\n",
    "    ax1.text(leading_LIQ[t_step]+5, 20, s=r'$\\mathfrak{D}$', fontsize=25, weight = 'bold')\n",
    "    \n",
    "    ################# Contour ##################\n",
    "    contour_levels = [1337]\n",
    "    contour = plt.contour(temp_GT[:, :, t_step], levels=contour_levels, colors='orangered', linewidths=4,)\n",
    "    clabels = plt.clabel(contour, inline=True, fontsize=15, colors='k', fmt='%1.0f K')\n",
    "    for label in clabels: label.set_fontweight('bold')\n",
    "    \n",
    "    ############## Color Bar ###########\n",
    "    ax2 = fig.add_axes([0.92, 0.3, 0.05, 0.39]) \n",
    "    ax2.tick_params(axis='both', labelcolor='black', labelsize=1, bottom=False, top=False, left=False, right=False, labelbottom=False, labelleft=False)\n",
    "    cbar = fig.colorbar(hmap1, cax=ax2, orientation='vertical')\n",
    "    cbar.ax.tick_params(labelsize=25, direction='in', length=0) \n",
    "    text = Text(x=0.935, y=0.335, text=r'$\\mathbf{\\leftarrow}$   T [K]  $\\mathbf{\\rightarrow}$', fontsize=30, color='k', rotation=90, weight='bold')\n",
    "    fig.add_artist(text)\n",
    "    ax2.spines[:].set_linewidth(4)\n",
    "    \n",
    "    if timeS_GT[t_step] <= 25:\n",
    "        cbar.set_ticks([np.min(temp_GT[:,:,t_step])*1.06, (np.max(temp_GT[:,:,t_step]))/2, np.max(temp_GT[:,:,t_step])*0.96], labels=[f'{np.min(temp_GT[:,:,t_step]):.0f}', f'{np.max(temp_GT[:,:,t_step])/2 :.0f}', f'{np.max(temp_GT[:,:,t_step])*0.95:.0f}'], weight='bold') \n",
    "    else:\n",
    "        cbar.set_ticks([np.min(temp_GT[:,:,t_step]), (np.max(temp_GT[:,:,t_step])+np.min(temp_GT[:,:,t_step]))/2, np.max(temp_GT[:,:,t_step])], labels=[f'{np.min(temp_GT[:,:,t_step]):.0f}', f'{(np.max(temp_GT[:,:,t_step])+np.min(temp_GT[:,:,t_step]))/2 :.0f}', f'{np.max(temp_GT[:,:,t_step]):.0f}'], weight='bold') \n",
    "    \n",
    "    ################## Dimensions ###################\n",
    "    ax1.set_xlabel('$\\mathbf{\\longleftarrow}$                 1000 $ \\mathbf{\\mu m}$                $\\mathbf{\\longrightarrow}$', fontsize = 27, weight ='bold',)\n",
    "    ax1.annotate(r'$\\mathbf{\\leftarrow}$ 250 $\\mathbf{\\mu m}$ $\\mathbf{\\rightarrow}$', xy=(0.5, 0.5), xytext=(-0.025, 0.5), rotation=90,\n",
    "                 xycoords='axes fraction', textcoords='axes fraction', fontsize = 27, weight = 'bold', color='k', ha='center', va='center')\n",
    "    \n",
    "    ax1.set_ylim(201, -1)\n",
    "    ax1.set_xlim(-1,401)\n",
    "    \n",
    "    ##############################################\n",
    "    ##############################################\n",
    "    if laser_act_pos > 500:\n",
    "        ax3 = fig.add_axes([0.18, 0.34, 0.2, 0.18], frameon=True)  # [left, bottom, width, height]\n",
    "    \n",
    "    else:\n",
    "        ax3 = fig.add_axes([0.63, 0.34, 0.2, 0.18], frameon=True)  # [left, bottom, width, height]\n",
    "    # ax3.set_facecolor((0, 0, 0, 0))\n",
    "    ax3.plot(leading_temperature[1:t_step], time_lead_lag[1:t_step], marker='o', c='lime',markersize=1, linewidth=2, label =r'$\\tau$')\n",
    "    ax3.plot(leading_LIQ[1:t_step], time_lead_lag[1:t_step], marker='.', c='blue',markersize=1,linewidth=2, label =r'$\\mathfrak{D}$')\n",
    "    ax3.set_ylabel(\"t [s]\",  weight = 'bold', size=20, color='blue',labelpad=-1 )\n",
    "    ax3.set_xticks([55, 200, 380], labels=[ r'X$\\mathbf{[\\mu m]}\\rightarrow$', f'{200*(1000/400):.0f}', f'1000'], size=15, color='white', weight='bold',)\n",
    "    ax3.xaxis.set_tick_params(direction='in', length=0) \n",
    "    ax3.yaxis.set_tick_params(labelcolor='lime', labelsize=15,  direction='inout', length=8, width=2, color='k',)\n",
    "    for label in ax3.get_yticklabels(): label.set_fontweight('bold')\n",
    "    ax3.yaxis.set_major_locator(plt.MaxNLocator(4))\n",
    "    legend_1 = ax3.legend(loc=(0.41,0.57), ncol=2, columnspacing=0.5, prop={'weight':'bold', 'size':'30',}, handletextpad=0.1, handlelength=0.7,   frameon=False).get_frame().set_facecolor('none')\n",
    "    \n",
    "    ax4 = ax3.twinx()\n",
    "    if t_step>common_position:\n",
    "        ax4.plot(leading_LIQ[common_position:t_step],lag_time[common_position:t_step], linestyle='-',  c='red', linewidth=3, label =r'$\\Delta t_{x}$') # positional_timelag\n",
    "    legend_2 = ax4.legend(loc=(0.74,-0.05),  prop={'weight':'bold', 'size':'20',}, handletextpad=0.1, handlelength=0.75,   frameon=False).get_frame().set_facecolor('none')\n",
    "    ax4.set_ylabel(r\"$\\mathbf{\\delta t_{pos}}$ [s]\",  weight = 'bold', size=20, color='red')\n",
    "    ax4.yaxis.set_tick_params(labelcolor='red', labelsize=17, direction='inout', length=8, width=2, color='k',)\n",
    "    ax4.yaxis.set_major_locator(plt.MaxNLocator(4))\n",
    "    for label in ax4.get_yticklabels(): label.set_fontweight('bold')\n",
    "    ax4.set_ylim(1.25,1.75)\n",
    "    \n",
    "    ax3.spines[:].set_linewidth(2)\n",
    "    ax3.set_ylim([-2,28])\n",
    "    ax3.set_xlim([0,420])\n",
    "\n",
    "    # plt.show()\n",
    "   \n",
    "t_steps = 434\n",
    "############ To save the image as well #############\n",
    "for t_step in range(300, 437, 1):\n",
    "# for t_step in range(t_steps):\n",
    "    update_plot(t_step)\n",
    "    plt.savefig(f'../temperoray_figures/Gaussian/TDB/lead_lag/f_{t_step}.png',bbox_inches='tight', dpi=100)\n",
    "    plt.close() \n",
    "print(\"FINISHED\")"
   ]
  },
  {
   "cell_type": "code",
   "execution_count": null,
   "id": "dae0fcb8-d2f7-4a22-b824-63f505034871",
   "metadata": {},
   "outputs": [],
   "source": []
  }
 ],
 "metadata": {
  "kernelspec": {
   "display_name": "Python 3 (ipykernel)",
   "language": "python",
   "name": "python3"
  },
  "language_info": {
   "codemirror_mode": {
    "name": "ipython",
    "version": 3
   },
   "file_extension": ".py",
   "mimetype": "text/x-python",
   "name": "python",
   "nbconvert_exporter": "python",
   "pygments_lexer": "ipython3",
   "version": "3.11.8"
  }
 },
 "nbformat": 4,
 "nbformat_minor": 5
}
