{
 "cells": [
  {
   "cell_type": "code",
   "execution_count": null,
   "id": "b25013e0-646a-4973-9eed-be51c07d1103",
   "metadata": {},
   "outputs": [],
   "source": [
    "import numpy as np\n",
    "import pandas as pd\n",
    "import matplotlib.pyplot as plt\n",
    "import os\n",
    "import matplotlib.patches as patches\n",
    "from matplotlib.patches import Polygon \n",
    "from scipy.io import loadmat\n",
    "from matplotlib.colors import ListedColormap\n",
    "from matplotlib.lines import Line2D\n",
    "from matplotlib.text import Text"
   ]
  },
  {
   "cell_type": "code",
   "execution_count": null,
   "id": "22fb5aee-b515-4ce2-a3e7-8dc092e3e356",
   "metadata": {},
   "outputs": [],
   "source": [
    "path = os.path.abspath('../../../1_Simulation_Results/numpy_files/')\n",
    "\n",
    "colormap_data = loadmat('../cold2hot.mat')\n",
    "cold2hot = ListedColormap(colormap_data['colormap'])\n",
    "hot2cold = ListedColormap(colormap_data['colormap'][::-1])"
   ]
  },
  {
   "cell_type": "markdown",
   "id": "ec72711a-7924-4400-ac85-4e13cc35c932",
   "metadata": {},
   "source": [
    "## Gaussian HS"
   ]
  },
  {
   "cell_type": "code",
   "execution_count": null,
   "id": "ba11f305-046d-409a-b95d-efb627f1c92b",
   "metadata": {},
   "outputs": [],
   "source": [
    "LIQ   = np.load(path+'/Gaussian/TDB/LIQ.npy')\n",
    "temp  = np.load(path+'/Gaussian/TDB/temp.npy')\n",
    "timeS = np.load(path+'/Gaussian/TDB/time.npy')\n",
    "time_steps =  timeS.shape[0]"
   ]
  },
  {
   "cell_type": "markdown",
   "id": "0670537e-dff4-43a1-a2c7-b6f967dc4bc8",
   "metadata": {},
   "source": [
    "## FlatTop HS"
   ]
  },
  {
   "cell_type": "code",
   "execution_count": null,
   "id": "0a420e20-49a2-4653-af2a-1400bae317c0",
   "metadata": {},
   "outputs": [],
   "source": [
    "LIQ   = np.load(path+'/FlatTop/TDB/LIQ.npy')\n",
    "temp  = np.load(path+'/FlatTop/TDB/temp.npy')\n",
    "timeS = np.load(path+'/FlatTop/TDB/time.npy')\n",
    "time_steps =  timeS.shape[0]"
   ]
  },
  {
   "cell_type": "markdown",
   "id": "82e74e78-15fd-49b4-90f9-303aa8e508cf",
   "metadata": {},
   "source": [
    "## Ring HS"
   ]
  },
  {
   "cell_type": "code",
   "execution_count": null,
   "id": "7165c09c-89d8-45de-9494-0201cbb9a919",
   "metadata": {},
   "outputs": [],
   "source": [
    "LIQ   = np.load(path+'/Ring/TDB/LIQ.npy')\n",
    "temp  = np.load(path+'/Ring/TDB/temp.npy')\n",
    "timeS = np.load(path+'/Ring/TDB/time.npy')\n",
    "time_steps =  timeS.shape[0]"
   ]
  },
  {
   "cell_type": "markdown",
   "id": "61dfbe3b-c1b1-46dc-a216-9932c54eb5a7",
   "metadata": {},
   "source": [
    "## Bessel HS"
   ]
  },
  {
   "cell_type": "code",
   "execution_count": null,
   "id": "cdb0fb21-d7c4-4239-b67c-40cbbb913c22",
   "metadata": {},
   "outputs": [],
   "source": [
    "LIQ   = np.load(path+'/Bessel/TDB/LIQ.npy')\n",
    "temp  = np.load(path+'/Bessel/TDB/temp.npy')\n",
    "timeS = np.load(path+'/Bessel/TDB/time.npy')\n",
    "time_steps =  timeS.shape[0]"
   ]
  },
  {
   "cell_type": "markdown",
   "id": "148c47d5-ebdd-4fe8-8f41-1a7f16ca1527",
   "metadata": {},
   "source": [
    "### Fitting the gap"
   ]
  },
  {
   "cell_type": "code",
   "execution_count": null,
   "id": "0c08d248-bac2-483f-a351-d87d24b468a0",
   "metadata": {},
   "outputs": [],
   "source": [
    "end_step = max((i for i, v in enumerate(list(timeS)) if v <= 25), key=lambda i: list(timeS)[i])\n",
    "end_step"
   ]
  },
  {
   "cell_type": "code",
   "execution_count": null,
   "id": "0068aeb2-d7a2-4ffd-8a1a-0a50f2f8eb54",
   "metadata": {},
   "outputs": [],
   "source": [
    "def leading_front(array, condition, end_time_step):\n",
    "    condition = condition\n",
    "    end_step = end_time_step\n",
    "    leading_front = []\n",
    "    for t in range(end_step):\n",
    "        A = array[0:1,:,t][0]\n",
    "        for i in range(len(A)-1,0,-1):\n",
    "            if A[i]>=condition:\n",
    "                # print(i)\n",
    "                break\n",
    "        leading_front.append(i)\n",
    "    return leading_front"
   ]
  },
  {
   "cell_type": "code",
   "execution_count": null,
   "id": "d97b058b-9609-4c57-9a8c-1311c8a6b174",
   "metadata": {},
   "outputs": [],
   "source": [
    "leading_temperature = leading_front(array=temp[:,:,:end_step], condition=1337, end_time_step=end_step)\n",
    "leading_LIQ = leading_front(array=LIQ[:,:,:end_step], condition=0.5, end_time_step= end_step)\n",
    "time_duration = np.arange(end_step)\n",
    "time_lead_lag =  timeS[:end_step]"
   ]
  },
  {
   "cell_type": "code",
   "execution_count": null,
   "id": "bafe7b5d-bc56-4c25-a363-f2d0a24b17bb",
   "metadata": {},
   "outputs": [],
   "source": [
    "def fit_real_time(data, order):\n",
    "    position, time_lead_lag = data\n",
    "    coefficients_real = np.polyfit(position, time_lead_lag, order)\n",
    "    fitted_real_time = np.poly1d(coefficients_real)\n",
    "    return fitted_real_time\n",
    "    \n",
    "common_position = leading_LIQ.index(leading_temperature[1]) # = 36 ## => comes from nearest value of starting point of leading temp i.e. => leading_temperature[1]\n",
    "phase_fit_real_time = fit_real_time([leading_LIQ[1:], time_lead_lag[1:]], 15)\n",
    "temp_fit_real_time = fit_real_time([leading_temperature[1:], time_lead_lag[1:]], 15)"
   ]
  },
  {
   "cell_type": "code",
   "execution_count": null,
   "id": "9b066db2-3975-4bdd-8e1d-6390520b4ef8",
   "metadata": {},
   "outputs": [],
   "source": [
    "lag_time = []\n",
    "for t in range(end_step):\n",
    "    lag_time.append(phase_fit_real_time(leading_LIQ[t]) - temp_fit_real_time(leading_LIQ[t]))"
   ]
  },
  {
   "cell_type": "code",
   "execution_count": null,
   "id": "a05332cb-df9c-48e3-b39a-2a2455b943b9",
   "metadata": {},
   "outputs": [],
   "source": [
    "t_step = 400\n",
    "\n",
    "fig, (ax1) = plt.subplots(1, 1, figsize=(12,6), frameon=False)\n",
    "ax1.set_facecolor((0, 0, 0, 0))\n",
    "\n",
    "ax1.plot(leading_temperature[1:t_step], time_lead_lag[1:t_step], marker='o', c='green',markersize=1, linewidth=6, label =r'$\\tau$')\n",
    "ax1.plot(leading_LIQ[1:t_step], time_lead_lag[1:t_step], marker='.', c='red',markersize=1,linewidth=6, label =r'$\\mathfrak{D}$')\n",
    "\n",
    "ax1.set_ylabel(\"Time Duration [s]\",  weight = 'bold', size=20,  color='red')\n",
    "ax1.set_xlabel(r\"Horizontal position $\\mathbf{\\mu}$m $\\longrightarrow$\", weight='bold', size=25, color='m', labelpad=1, ha='center')\n",
    "ax1.set_xticks([50, 200, 350], labels=['125', '500', '875'], size=25, color='m', weight='bold')\n",
    "ax1.yaxis.set_tick_params(labelcolor='green', labelsize=25, pad=3,  direction='inout', length=20, width=5, color='k',)\n",
    "ax1.xaxis.set_tick_params(labelcolor='m', labelsize=25, pad=3,  direction='inout', length=20, width=5, color='k',)\n",
    "for label in ax1.get_yticklabels(): label.set_fontweight('bold')\n",
    "\n",
    "if t_step>=common_position:\n",
    "    ax1.hlines(y=phase_fit_real_time(leading_LIQ[t_step]), xmax=leading_LIQ[t_step], xmin=leading_LIQ[t_step]-55, linewidth=3, linestyle=':', color='red')\n",
    "    ax1.hlines(y=temp_fit_real_time(leading_LIQ[t_step]), xmax=leading_LIQ[t_step], xmin=leading_LIQ[t_step]-55, linewidth=3, linestyle=':', color='green')\n",
    "    ax1.text(x=leading_LIQ[t_step]-72, y=np.mean([phase_fit_real_time(leading_LIQ[t_step]), temp_fit_real_time(leading_LIQ[t_step])]), s=r\"$\\Delta$t\", color='blue', fontsize=30, rotation=90, weight='bold')\n",
    "    ax1.annotate(text=' ', xy=(leading_LIQ[t_step]-55+1, temp_fit_real_time(leading_LIQ[t_step])-0.5), xytext=(leading_LIQ[t_step]-55,phase_fit_real_time(leading_LIQ[t_step])+0.8), arrowprops=dict(arrowstyle='<->', color='blue'))\n",
    "\n",
    "ax1.yaxis.set_major_locator(plt.MaxNLocator(5))\n",
    "ax1.set_ylim([-1,28])\n",
    "ax1.set_xlim([0,420])\n",
    "legend_1 = ax1.legend(loc=(0.02,0.65), prop={'weight':'bold', 'size':'40',}, handletextpad=0.1, handlelength=1.0,   frameon=False).get_frame().set_facecolor('none')\n",
    "\n",
    "ax2 = ax1.twinx()\n",
    "if t_step>common_position:\n",
    "    ax2.plot(leading_LIQ[common_position:t_step],lag_time[common_position:t_step],   c='blue', linewidth=6, label =r'$\\Delta t_{x}$') # positional_timelag\n",
    "\n",
    "legend_2 = ax2.legend(loc=(0.80,0.01), prop={'weight':'bold', 'size':'40',}, handletextpad=0.1, handlelength=1.0, frameon=False).get_frame().set_facecolor('none')\n",
    "\n",
    "ax2.set_ylabel(r\"$\\mathbf{\\delta t_{pos}}$ [s]\",  weight = 'bold', size=30, labelpad=10, color='blue')\n",
    "ax2.yaxis.set_tick_params(labelcolor='blue', labelsize=30,direction='inout', length=20, width=5, color='k',)\n",
    "ax2.yaxis.set_major_locator(plt.MaxNLocator(4))\n",
    "for label in ax2.get_yticklabels(): label.set_fontweight('bold')\n",
    "ax2.set_ylim(1.25,1.75)\n",
    "ax2.set_xlim([0,420])\n",
    "\n",
    "ax1.spines[:].set_linewidth(4)\n",
    "\n",
    "\n",
    "plt.tight_layout()\n",
    "\n",
    "# plt.savefig('../../figures/LLD_GHS.png',bbox_inches='tight', dpi=800)\n",
    "# plt.savefig('../../figures/jpg/LLD_GHS.jpg',bbox_inches='tight',)\n",
    "# plt.savefig(f'../../../../0_GitHub_hostings/Digital_Additive_Manufacturing//4_Manuscript_Figures/Temperature_FT_{timeS_FT[t_step]:.0f}s.png',bbox_inches='tight', dpi=800)\n",
    "# plt.savefig(f'../../../../0_GitHub_hostings/Digital_Additive_Manufacturing//4_Manuscript_Figures/jpg/Temperature_FT_{timeS_FT[t_step]:.0f}s.jpg',bbox_inches='tight',)\n",
    "\n",
    "plt.show()"
   ]
  },
  {
   "cell_type": "code",
   "execution_count": null,
   "id": "62754e12-4b2f-464d-9d25-e8a15a388ae4",
   "metadata": {},
   "outputs": [],
   "source": [
    "t_step = 220\n",
    "\n",
    "scan_speed = r'30 $\\mathbf{\\mu m/s}$'\n",
    "power = r\"25 $\\mathbf{mW}$\"\n",
    "\n",
    "laser_speed = 30\n",
    "scaling_factor = 401/1000 # scaling factor for plotting figure\n",
    "laser_act_pos = 125 + timeS[t_step]*laser_speed  # Laser actual position in true dimension\n",
    "laser_pos = laser_act_pos*scaling_factor # Laser position in accordance with figure\n",
    "\n",
    "x = np.arange(time_steps-1)\n",
    "\n",
    "fig, ax1 = plt.subplots(1,1, figsize=(16,8), frameon=False)\n",
    "ax1.set_facecolor((0, 0, 0, 0))\n",
    "\n",
    "hmap1 = ax1.imshow(temp[:,:,t_step], cmap='Spectral_r', vmin=300, aspect=0.5,  interpolation='quadric')\n",
    "\n",
    "ax1.tick_params(axis='both', labelcolor='black', labelsize=65, bottom=False, top=False, left=False, right=False, labelbottom=False, labelleft=False)\n",
    "ax1.spines[:].set_linewidth(4)\n",
    "ax1.spines[:].set_color('k')\n",
    "\n",
    "if timeS[t_step] <= 25:\n",
    "    ax1.arrow(laser_pos,-75, 0, 71,  width = 4, color='red', length_includes_head=True, clip_on=False)\n",
    "    ax1.text(laser_pos-15,-12, power, rotation=90, color='k', fontsize=20, weight='bold')\n",
    "    if laser_act_pos < 500:\n",
    "        ax1.set_title(f't = {timeS[t_step]:.2f}s', pad=10, loc='right', fontsize=25, weight='bold')\n",
    "        ax1.text(laser_pos+10, -40, s=f'{scan_speed}', fontsize=20, weight = 'bold')\n",
    "        ax1.arrow(laser_pos+10, -28, 30, 0,  width = 3, color='k', fill=False, clip_on=False)\n",
    "    else:\n",
    "        ax1.set_title(f't = {timeS[t_step]:.2f}s', pad=10, loc='left', fontsize=25, weight='bold')\n",
    "        ax1.text(laser_pos-55, -40, s=f'{scan_speed}', fontsize=20, weight = 'bold')\n",
    "        ax1.arrow(laser_pos-55, -28, 30, 0,  width = 3, color='k', fill=False, clip_on=False)\n",
    "else:\n",
    "    ax1.set_title(f't = {timeS[t_step]:.2f}s', pad=10, loc='left', fontsize=25, weight='bold')\n",
    "    ax1.text(350, -40, \"LASER\", rotation=0, color='k', alpha=1, fontsize=20, weight='bold')\n",
    "    ax1.text(350, -20, \"OFF\", rotation=0, color='k', alpha=1, fontsize=20, weight='bold')\n",
    "    ax1.arrow(400, -10, -50, 0, fill=False, hatch='x', overhang=1, linestyle='--',  width = 3, color='blue', alpha=1, length_includes_head=True, clip_on=False)\n",
    "    ax1.arrow(350, -75, 0, 71,  width = 4, color='none', length_includes_head=True, clip_on=False) # to make the figure height same after laser is turned off\n",
    "\n",
    "\n",
    "################## Meltpool and Isotherm ################\n",
    "cmap = plt.get_cmap('Wistia')\n",
    "cmap.set_under('white', alpha=0) \n",
    "meltpool_1 = ax1.imshow(LIQ[:,:,t_step], cmap=cmap, vmin=0.5, vmax=1.0, aspect=0.5,  interpolation='quadric')\n",
    "ax1.arrow(leading_temperature[t_step], -14, 0, 10,  width = 7, head_width=7, color='lime', length_includes_head=True, clip_on=False)\n",
    "ax1.text(leading_temperature[t_step]+3, -8, s=r'$\\tau$', fontsize=25, weight = 'bold')\n",
    "ax1.arrow(leading_LIQ[t_step], 11, 0, -10,  width = 7, head_width=7,  color='b', length_includes_head=True, clip_on=False)\n",
    "ax1.text(leading_LIQ[t_step]+5, 20, s=r'$\\mathfrak{D}$', fontsize=25, weight = 'bold')\n",
    "\n",
    "################# Contour ##################\n",
    "contour_levels = [1337]\n",
    "contour = plt.contour(temp[:, :, t_step], levels=contour_levels, colors='orangered', linewidths=4,)\n",
    "clabels = plt.clabel(contour, inline=True, fontsize=15, colors='k', fmt='%1.0f K')\n",
    "for label in clabels: label.set_fontweight('bold')\n",
    "\n",
    "############## Color Bar ###########\n",
    "ax2 = fig.add_axes([0.92, 0.3, 0.05, 0.39]) \n",
    "ax2.tick_params(axis='both', labelcolor='black', labelsize=1, bottom=False, top=False, left=False, right=False, labelbottom=False, labelleft=False)\n",
    "cbar = fig.colorbar(hmap1, cax=ax2, orientation='vertical')\n",
    "cbar.ax.tick_params(labelsize=25, direction='in', length=0) \n",
    "text = Text(x=0.935, y=0.335, text=r'$\\mathbf{\\leftarrow}$   T [K]  $\\mathbf{\\rightarrow}$', fontsize=30, color='k', rotation=90, weight='bold')\n",
    "fig.add_artist(text)\n",
    "ax2.spines[:].set_linewidth(4)\n",
    "\n",
    "if timeS[t_step] <= 25:\n",
    "    cbar.set_ticks([np.min(temp[:,:,t_step])*1.06, (np.max(temp[:,:,t_step]))/2, np.max(temp[:,:,t_step])*0.96], labels=[f'{np.min(temp[:,:,t_step]):.0f}', f'{np.max(temp[:,:,t_step])/2 :.0f}', f'{np.max(temp[:,:,t_step])*0.95:.0f}'], weight='bold') \n",
    "else:\n",
    "    cbar.set_ticks([np.min(temp[:,:,t_step]), (np.max(temp[:,:,t_step])+np.min(temp[:,:,t_step]))/2, np.max(temp[:,:,t_step])], labels=[f'{np.min(temp[:,:,t_step]):.0f}', f'{(np.max(temp[:,:,t_step])+np.min(temp[:,:,t_step]))/2 :.0f}', f'{np.max(temp[:,:,t_step]):.0f}'], weight='bold') \n",
    "\n",
    "################## Dimensions ###################\n",
    "ax1.set_xlabel('$\\mathbf{\\longleftarrow}$                 1000 $ \\mathbf{\\mu m}$                $\\mathbf{\\longrightarrow}$', fontsize = 27, weight ='bold',)\n",
    "ax1.annotate(r'$\\mathbf{\\leftarrow}$ 250 $\\mathbf{\\mu m}$ $\\mathbf{\\rightarrow}$', xy=(0.5, 0.5), xytext=(-0.025, 0.5), rotation=90,\n",
    "             xycoords='axes fraction', textcoords='axes fraction', fontsize = 27, weight = 'bold', color='k', ha='center', va='center')\n",
    "\n",
    "ax1.set_ylim(201, -1)\n",
    "ax1.set_xlim(-1,401)\n",
    "\n",
    "##############################################\n",
    "##############################################\n",
    "if laser_act_pos > 500:\n",
    "    ax3 = fig.add_axes([0.18, 0.34, 0.2, 0.18], frameon=True)  # [left, bottom, width, height]\n",
    "\n",
    "else:\n",
    "    ax3 = fig.add_axes([0.63, 0.34, 0.2, 0.18], frameon=True)  # [left, bottom, width, height]\n",
    "# ax3.set_facecolor((0, 0, 0, 0))\n",
    "ax3.plot(leading_temperature[1:t_step], time_lead_lag[1:t_step], marker='o', c='lime',markersize=1, linewidth=2, label =r'$\\tau$')\n",
    "ax3.plot(leading_LIQ[1:t_step], time_lead_lag[1:t_step], marker='.', c='blue',markersize=1,linewidth=2, label =r'$\\mathfrak{D}$')\n",
    "ax3.set_ylabel(\"t [s]\",  weight = 'bold', size=20, color='blue',labelpad=-1 )\n",
    "ax3.set_xticks([55, 200, 380], labels=[ r'X$\\mathbf{[\\mu m]}\\rightarrow$', f'{200*(1000/400):.0f}', f'1000'], size=15, color='white', weight='bold',)\n",
    "ax3.xaxis.set_tick_params(direction='in', length=0) \n",
    "ax3.yaxis.set_tick_params(labelcolor='lime', labelsize=15,  direction='inout', length=8, width=2, color='k',)\n",
    "for label in ax3.get_yticklabels(): label.set_fontweight('bold')\n",
    "ax3.yaxis.set_major_locator(plt.MaxNLocator(4))\n",
    "legend_1 = ax3.legend(loc=(0.41,0.57), ncol=2, columnspacing=0.5, prop={'weight':'bold', 'size':'30',}, handletextpad=0.1, handlelength=0.7,   frameon=False).get_frame().set_facecolor('none')\n",
    "\n",
    "ax4 = ax3.twinx()\n",
    "if t_step>common_position:\n",
    "    ax4.plot(leading_LIQ[common_position:t_step],lag_time[common_position:t_step], linestyle='-',  c='red', linewidth=3, label =r'$\\Delta t_{x}$') # positional_timelag\n",
    "legend_2 = ax4.legend(loc=(0.74,-0.05),  prop={'weight':'bold', 'size':'20',}, handletextpad=0.1, handlelength=0.75,   frameon=False).get_frame().set_facecolor('none')\n",
    "ax4.set_ylabel(r\"$\\mathbf{\\delta t_{pos}}$ [s]\",  weight = 'bold', size=20, color='red')\n",
    "ax4.yaxis.set_tick_params(labelcolor='red', labelsize=17, direction='inout', length=8, width=2, color='k',)\n",
    "ax4.yaxis.set_major_locator(plt.MaxNLocator(4))\n",
    "for label in ax4.get_yticklabels(): label.set_fontweight('bold')\n",
    "ax4.set_ylim(1.25,1.75)\n",
    "\n",
    "ax3.spines[:].set_linewidth(2)\n",
    "ax3.set_ylim([-2,28])\n",
    "ax3.set_xlim([0,420])\n",
    "\n",
    "plt.show()"
   ]
  },
  {
   "cell_type": "code",
   "execution_count": null,
   "id": "88ec9038-099f-4d58-95c0-577bd652c1cd",
   "metadata": {},
   "outputs": [],
   "source": []
  }
 ],
 "metadata": {
  "kernelspec": {
   "display_name": "Python 3 (ipykernel)",
   "language": "python",
   "name": "python3"
  },
  "language_info": {
   "codemirror_mode": {
    "name": "ipython",
    "version": 3
   },
   "file_extension": ".py",
   "mimetype": "text/x-python",
   "name": "python",
   "nbconvert_exporter": "python",
   "pygments_lexer": "ipython3",
   "version": "3.11.8"
  }
 },
 "nbformat": 4,
 "nbformat_minor": 5
}
