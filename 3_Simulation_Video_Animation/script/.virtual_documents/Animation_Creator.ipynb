


import cv2
import imageio
import os
from natsort import natsorted

def create_gif_from_pngs(IP_folder, OP_folder, FPS=30, resize_factor=0.5):
    images = []
    png_files = natsorted([f for f in os.listdir(IP_folder) if f.endswith('.png')])

    for file_name in png_files:
        img_path = os.path.join(IP_folder, file_name)
        img = cv2.imread(img_path)

        if resize_factor != 1.0:
            img = cv2.resize(img, None, fx=resize_factor, fy=resize_factor, interpolation=cv2.INTER_AREA)
        
        # Convert the image from BGR (OpenCV format) to RGB (imageio format)
        img_rgb = cv2.cvtColor(img, cv2.COLOR_BGR2RGB)
        images.append(img_rgb)

    imageio.mimsave(OP_folder, images, format='GIF', fps=FPS,  loop=0)
    print(f"GIF created successfully: {OP_folder}")








heat_source = 'Gaussian'
free_energy = 'TDB'

import subprocess
subprocess.call(['ffmpeg', '-y', '-framerate', '25.000', '-i', f'../temperoray_figures/{heat_source}/{free_energy}/temperature/f_%d.png', '-c:v', 'libx264', '-r', '25.000', '-s', '1920x1080', '-pix_fmt', 'yuv420p', f'../video_animations/{heat_source}/{free_energy}/TEMPERATURE.mp4'])
subprocess.call(['ffmpeg', '-y', '-framerate', '25.000', '-i', f'../temperoray_figures/{heat_source}/{free_energy}/phase/f_%d.png',      '-c:v', 'libx264', '-r', '25.000', '-s', '1920x1080', '-pix_fmt', 'yuv420p', f'../video_animations/{heat_source}/{free_energy}/PHASE.mp4'])
subprocess.call(['ffmpeg', '-y', '-framerate', '25.000', '-i', f'../temperoray_figures/{heat_source}/{free_energy}/velocity/f_%d.png',    '-c:v', 'libx264', '-r', '25.000', '-s', '1920x1080', '-pix_fmt', 'yuv420p', f'../video_animations/{heat_source}/{free_energy}/VELOCITY.mp4'])



heat_source = 'Gaussian'
free_energy = 'TDB'

phase_in = f'../temperoray_figures/{heat_source}/{free_energy}/phase/'
temp_in = f'../temperoray_figures/{heat_source}/{free_energy}/temperature/'
vel_in = f'../temperoray_figures/{heat_source}/{free_energy}/velocity/'

phase_out = f'../video_animations/{heat_source}/{free_energy}/gif/Phase.gif'
temp_out = f'../video_animations/{heat_source}/{free_energy}/gif/Temperature.gif'
vel_out = f'../video_animations/{heat_source}/{free_energy}/gif/Velocity.gif'

create_gif_from_pngs(IP_folder=phase_in, OP_folder=phase_out, FPS=30, resize_factor=0.5)
create_gif_from_pngs(IP_folder=temp_in, OP_folder=temp_out, FPS=30, resize_factor=0.5)
create_gif_from_pngs(IP_folder=vel_in, OP_folder=vel_out, FPS=30, resize_factor=0.5)








heat_source = 'Gaussian'
free_energy = 'Fitting'

import subprocess
subprocess.call(['ffmpeg', '-y', '-framerate', '25.000', '-i', f'../temperoray_figures/{heat_source}/{free_energy}/temperature/f_%d.png', '-c:v', 'libx264', '-r', '25.000', '-s', '1920x1080', '-pix_fmt', 'yuv420p', f'../video_animations/{heat_source}/{free_energy}/TEMPERATURE.mp4'])
subprocess.call(['ffmpeg', '-y', '-framerate', '25.000', '-i', f'../temperoray_figures/{heat_source}/{free_energy}/phase/f_%d.png',      '-c:v', 'libx264', '-r', '25.000', '-s', '1920x1080', '-pix_fmt', 'yuv420p', f'../video_animations/{heat_source}/{free_energy}/PHASE.mp4'])
subprocess.call(['ffmpeg', '-y', '-framerate', '25.000', '-i', f'../temperoray_figures/{heat_source}/{free_energy}/velocity/f_%d.png',    '-c:v', 'libx264', '-r', '25.000', '-s', '1920x1080', '-pix_fmt', 'yuv420p', f'../video_animations/{heat_source}/{free_energy}/VELOCITY.mp4'])



heat_source = 'Gaussian'
free_energy = 'Fitting'

phase_in = f'../temperoray_figures/{heat_source}/{free_energy}/phase/'
temp_in = f'../temperoray_figures/{heat_source}/{free_energy}/temperature/'
vel_in = f'../temperoray_figures/{heat_source}/{free_energy}/velocity/'

phase_out = f'../video_animations/{heat_source}/{free_energy}/gif/Phase.gif'
temp_out = f'../video_animations/{heat_source}/{free_energy}/gif/Temperature.gif'
vel_out = f'../video_animations/{heat_source}/{free_energy}/gif/Velocity.gif'

create_gif_from_pngs(IP_folder=phase_in, OP_folder=phase_out, FPS=30, resize_factor=0.5)
create_gif_from_pngs(IP_folder=temp_in, OP_folder=temp_out, FPS=30, resize_factor=0.5)
create_gif_from_pngs(IP_folder=vel_in, OP_folder=vel_out, FPS=30, resize_factor=0.5)








heat_source = 'FlatTop'
free_energy = 'TDB'

import subprocess
subprocess.call(['ffmpeg', '-y', '-framerate', '25.000', '-i', f'../temperoray_figures/{heat_source}/{free_energy}/temperature/f_%d.png', '-c:v', 'libx264', '-r', '25.000', '-s', '1920x1080', '-pix_fmt', 'yuv420p', f'../video_animations/{heat_source}/{free_energy}/TEMPERATURE.mp4'])
subprocess.call(['ffmpeg', '-y', '-framerate', '25.000', '-i', f'../temperoray_figures/{heat_source}/{free_energy}/phase/f_%d.png',      '-c:v', 'libx264', '-r', '25.000', '-s', '1920x1080', '-pix_fmt', 'yuv420p', f'../video_animations/{heat_source}/{free_energy}/PHASE.mp4'])
subprocess.call(['ffmpeg', '-y', '-framerate', '25.000', '-i', f'../temperoray_figures/{heat_source}/{free_energy}/velocity/f_%d.png',    '-c:v', 'libx264', '-r', '25.000', '-s', '1920x1080', '-pix_fmt', 'yuv420p', f'../video_animations/{heat_source}/{free_energy}/VELOCITY.mp4'])



heat_source = 'FlatTop'
free_energy = 'TDB'

phase_in = f'../temperoray_figures/{heat_source}/{free_energy}/phase/'
temp_in = f'../temperoray_figures/{heat_source}/{free_energy}/temperature/'
vel_in = f'../temperoray_figures/{heat_source}/{free_energy}/velocity/'

phase_out = f'../video_animations/{heat_source}/{free_energy}/gif/Phase.gif'
temp_out = f'../video_animations/{heat_source}/{free_energy}/gif/Temperature.gif'
vel_out = f'../video_animations/{heat_source}/{free_energy}/gif/Velocity.gif'

create_gif_from_pngs(IP_folder=phase_in, OP_folder=phase_out, FPS=30, resize_factor=0.5)
create_gif_from_pngs(IP_folder=temp_in, OP_folder=temp_out, FPS=30, resize_factor=0.5)
create_gif_from_pngs(IP_folder=vel_in, OP_folder=vel_out, FPS=30, resize_factor=0.5)





heat_source = 'FlatTop'
free_energy = 'Fitting'

import subprocess
subprocess.call(['ffmpeg', '-y', '-framerate', '25.000', '-i', f'../temperoray_figures/{heat_source}/{free_energy}/temperature/f_%d.png', '-c:v', 'libx264', '-r', '25.000', '-s', '1920x1080', '-pix_fmt', 'yuv420p', f'../video_animations/{heat_source}/{free_energy}/TEMPERATURE.mp4'])
subprocess.call(['ffmpeg', '-y', '-framerate', '25.000', '-i', f'../temperoray_figures/{heat_source}/{free_energy}/phase/f_%d.png',      '-c:v', 'libx264', '-r', '25.000', '-s', '1920x1080', '-pix_fmt', 'yuv420p', f'../video_animations/{heat_source}/{free_energy}/PHASE.mp4'])
subprocess.call(['ffmpeg', '-y', '-framerate', '25.000', '-i', f'../temperoray_figures/{heat_source}/{free_energy}/velocity/f_%d.png',    '-c:v', 'libx264', '-r', '25.000', '-s', '1920x1080', '-pix_fmt', 'yuv420p', f'../video_animations/{heat_source}/{free_energy}/VELOCITY.mp4'])


heat_source = 'FlatTop'
free_energy = 'Fitting'

phase_in = f'../temperoray_figures/{heat_source}/{free_energy}/phase/'
temp_in = f'../temperoray_figures/{heat_source}/{free_energy}/temperature/'
vel_in = f'../temperoray_figures/{heat_source}/{free_energy}/velocity/'

phase_out = f'../video_animations/{heat_source}/{free_energy}/gif/Phase.gif'
temp_out = f'../video_animations/{heat_source}/{free_energy}/gif/Temperature.gif'
vel_out = f'../video_animations/{heat_source}/{free_energy}/gif/Velocity.gif'

create_gif_from_pngs(IP_folder=phase_in, OP_folder=phase_out, FPS=30, resize_factor=0.5)
create_gif_from_pngs(IP_folder=temp_in, OP_folder=temp_out, FPS=30, resize_factor=0.5)
create_gif_from_pngs(IP_folder=vel_in, OP_folder=vel_out, FPS=30, resize_factor=0.5)








heat_source = 'Ring'
free_energy = 'TDB'

import subprocess
subprocess.call(['ffmpeg', '-y', '-framerate', '25.000', '-i', f'../temperoray_figures/{heat_source}/{free_energy}/temperature/f_%d.png', '-c:v', 'libx264', '-r', '25.000', '-s', '1920x1080', '-pix_fmt', 'yuv420p', f'../video_animations/{heat_source}/{free_energy}/TEMPERATURE.mp4'])
subprocess.call(['ffmpeg', '-y', '-framerate', '25.000', '-i', f'../temperoray_figures/{heat_source}/{free_energy}/phase/f_%d.png',      '-c:v', 'libx264', '-r', '25.000', '-s', '1920x1080', '-pix_fmt', 'yuv420p', f'../video_animations/{heat_source}/{free_energy}/PHASE.mp4'])
subprocess.call(['ffmpeg', '-y', '-framerate', '25.000', '-i', f'../temperoray_figures/{heat_source}/{free_energy}/velocity/f_%d.png',    '-c:v', 'libx264', '-r', '25.000', '-s', '1920x1080', '-pix_fmt', 'yuv420p', f'../video_animations/{heat_source}/{free_energy}/VELOCITY.mp4'])


heat_source = 'Ring'
free_energy = 'TDB'

phase_in = f'../temperoray_figures/{heat_source}/{free_energy}/phase/'
temp_in = f'../temperoray_figures/{heat_source}/{free_energy}/temperature/'
vel_in = f'../temperoray_figures/{heat_source}/{free_energy}/velocity/'

phase_out = f'../video_animations/{heat_source}/{free_energy}/gif/Phase.gif'
temp_out = f'../video_animations/{heat_source}/{free_energy}/gif/Temperature.gif'
vel_out = f'../video_animations/{heat_source}/{free_energy}/gif/Velocity.gif'

create_gif_from_pngs(IP_folder=phase_in, OP_folder=phase_out, FPS=30, resize_factor=0.5)
create_gif_from_pngs(IP_folder=temp_in, OP_folder=temp_out, FPS=30, resize_factor=0.5)
create_gif_from_pngs(IP_folder=vel_in, OP_folder=vel_out, FPS=30, resize_factor=0.5)





heat_source = 'Ring'
free_energy = 'Fitting'

import subprocess
subprocess.call(['ffmpeg', '-y', '-framerate', '25.000', '-i', f'../temperoray_figures/{heat_source}/{free_energy}/temperature/f_%d.png', '-c:v', 'libx264', '-r', '25.000', '-s', '1920x1080', '-pix_fmt', 'yuv420p', f'../video_animations/{heat_source}/{free_energy}/TEMPERATURE.mp4'])
subprocess.call(['ffmpeg', '-y', '-framerate', '25.000', '-i', f'../temperoray_figures/{heat_source}/{free_energy}/phase/f_%d.png',      '-c:v', 'libx264', '-r', '25.000', '-s', '1920x1080', '-pix_fmt', 'yuv420p', f'../video_animations/{heat_source}/{free_energy}/PHASE.mp4'])
subprocess.call(['ffmpeg', '-y', '-framerate', '25.000', '-i', f'../temperoray_figures/{heat_source}/{free_energy}/velocity/f_%d.png',    '-c:v', 'libx264', '-r', '25.000', '-s', '1920x1080', '-pix_fmt', 'yuv420p', f'../video_animations/{heat_source}/{free_energy}/VELOCITY.mp4'])


heat_source = 'Ring'
free_energy = 'Fitting'

phase_in = f'../temperoray_figures/{heat_source}/{free_energy}/phase/'
temp_in = f'../temperoray_figures/{heat_source}/{free_energy}/temperature/'
vel_in = f'../temperoray_figures/{heat_source}/{free_energy}/velocity/'

phase_out = f'../video_animations/{heat_source}/{free_energy}/gif/Phase.gif'
temp_out = f'../video_animations/{heat_source}/{free_energy}/gif/Temperature.gif'
vel_out = f'../video_animations/{heat_source}/{free_energy}/gif/Velocity.gif'

create_gif_from_pngs(IP_folder=phase_in, OP_folder=phase_out, FPS=30, resize_factor=0.5)
create_gif_from_pngs(IP_folder=temp_in, OP_folder=temp_out, FPS=30, resize_factor=0.5)
create_gif_from_pngs(IP_folder=vel_in, OP_folder=vel_out, FPS=30, resize_factor=0.5)








heat_source = 'Bessel'
free_energy = 'TDB'

import subprocess
subprocess.call(['ffmpeg', '-y', '-framerate', '25.000', '-i', f'../temperoray_figures/{heat_source}/{free_energy}/temperature/f_%d.png', '-c:v', 'libx264', '-r', '25.000', '-s', '1920x1080', '-pix_fmt', 'yuv420p', f'../video_animations/{heat_source}/{free_energy}/TEMPERATURE.mp4'])
subprocess.call(['ffmpeg', '-y', '-framerate', '25.000', '-i', f'../temperoray_figures/{heat_source}/{free_energy}/phase/f_%d.png',      '-c:v', 'libx264', '-r', '25.000', '-s', '1920x1080', '-pix_fmt', 'yuv420p', f'../video_animations/{heat_source}/{free_energy}/PHASE.mp4'])
subprocess.call(['ffmpeg', '-y', '-framerate', '25.000', '-i', f'../temperoray_figures/{heat_source}/{free_energy}/velocity/f_%d.png',    '-c:v', 'libx264', '-r', '25.000', '-s', '1920x1080', '-pix_fmt', 'yuv420p', f'../video_animations/{heat_source}/{free_energy}/VELOCITY.mp4'])


heat_source = 'Bessel'
free_energy = 'TDB'

phase_in = f'../temperoray_figures/{heat_source}/{free_energy}/phase/'
temp_in = f'../temperoray_figures/{heat_source}/{free_energy}/temperature/'
vel_in = f'../temperoray_figures/{heat_source}/{free_energy}/velocity/'

phase_out = f'../video_animations/{heat_source}/{free_energy}/gif/Phase.gif'
temp_out = f'../video_animations/{heat_source}/{free_energy}/gif/Temperature.gif'
vel_out = f'../video_animations/{heat_source}/{free_energy}/gif/Velocity.gif'

create_gif_from_pngs(IP_folder=phase_in, OP_folder=phase_out, FPS=30, resize_factor=0.5)
create_gif_from_pngs(IP_folder=temp_in, OP_folder=temp_out, FPS=30, resize_factor=0.5)
create_gif_from_pngs(IP_folder=vel_in, OP_folder=vel_out, FPS=30, resize_factor=0.5)





heat_source = 'Bessel'
free_energy = 'Fitting'

import subprocess
subprocess.call(['ffmpeg', '-y', '-framerate', '25.000', '-i', f'../temperoray_figures/{heat_source}/{free_energy}/temperature/f_%d.png', '-c:v', 'libx264', '-r', '25.000', '-s', '1920x1080', '-pix_fmt', 'yuv420p', f'../video_animations/{heat_source}/{free_energy}/TEMPERATURE.mp4'])
subprocess.call(['ffmpeg', '-y', '-framerate', '25.000', '-i', f'../temperoray_figures/{heat_source}/{free_energy}/phase/f_%d.png',      '-c:v', 'libx264', '-r', '25.000', '-s', '1920x1080', '-pix_fmt', 'yuv420p', f'../video_animations/{heat_source}/{free_energy}/PHASE.mp4'])
subprocess.call(['ffmpeg', '-y', '-framerate', '25.000', '-i', f'../temperoray_figures/{heat_source}/{free_energy}/velocity/f_%d.png',    '-c:v', 'libx264', '-r', '25.000', '-s', '1920x1080', '-pix_fmt', 'yuv420p', f'../video_animations/{heat_source}/{free_energy}/VELOCITY.mp4'])


heat_source = 'Bessel'
free_energy = 'Fitting'

phase_in = f'../temperoray_figures/{heat_source}/{free_energy}/phase/'
temp_in = f'../temperoray_figures/{heat_source}/{free_energy}/temperature/'
vel_in = f'../temperoray_figures/{heat_source}/{free_energy}/velocity/'

phase_out = f'../video_animations/{heat_source}/{free_energy}/gif/Phase.gif'
temp_out = f'../video_animations/{heat_source}/{free_energy}/gif/Temperature.gif'
vel_out = f'../video_animations/{heat_source}/{free_energy}/gif/Velocity.gif'

create_gif_from_pngs(IP_folder=phase_in, OP_folder=phase_out, FPS=30, resize_factor=0.5)
create_gif_from_pngs(IP_folder=temp_in, OP_folder=temp_out, FPS=30, resize_factor=0.5)
create_gif_from_pngs(IP_folder=vel_in, OP_folder=vel_out, FPS=30, resize_factor=0.5)








import subprocess
subprocess.call(['ffmpeg', '-y', '-framerate', '25.000', '-i', f'../temperoray_figures/ML_pred/f_%d.png', '-c:v', 'libx264', '-r', '25.000', '-s', '1920x1080', '-pix_fmt', 'yuv420p', f'../video_animations/ML_Pred/Comparison.mp4'])


comparison_in = f'../temperoray_figures/ML_pred/'
comparison_out = f'../video_animations/ML_Pred/gif/Comparison.gif'

create_gif_from_pngs(IP_folder=comparison_in, OP_folder=comparison_out, FPS=30, resize_factor=0.5)



