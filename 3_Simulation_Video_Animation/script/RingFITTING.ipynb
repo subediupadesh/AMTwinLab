{
 "cells": [
  {
   "cell_type": "code",
   "execution_count": 1,
   "id": "1a80000c-cd55-41c5-aa3d-3a624cf4d573",
   "metadata": {},
   "outputs": [],
   "source": [
    "import numpy as np\n",
    "import pandas as pd\n",
    "import matplotlib.pyplot as plt\n",
    "import os\n",
    "import matplotlib.patches as patches\n",
    "from scipy.io import loadmat\n",
    "from matplotlib.colors import ListedColormap\n",
    "from matplotlib.lines import Line2D\n",
    "from matplotlib.text import Text"
   ]
  },
  {
   "cell_type": "code",
   "execution_count": 2,
   "id": "26b40844-1a08-4309-ba17-d1f2dad989b2",
   "metadata": {},
   "outputs": [],
   "source": [
    "path = os.path.abspath('../../1_Simulation_Results/numpy_files/')\n",
    "\n",
    "colormap_data = loadmat('../cold2hot.mat')\n",
    "cold2hot = ListedColormap(colormap_data['colormap'])\n",
    "hot2cold = ListedColormap(colormap_data['colormap'][::-1])"
   ]
  },
  {
   "cell_type": "code",
   "execution_count": 3,
   "id": "5cb0df80-70b6-4fe6-a27e-5ef967434302",
   "metadata": {},
   "outputs": [],
   "source": [
    "model_RingFitting = np.load(path+'/Ring/Fitting/Ring_Fitting.npz')\n",
    "\n",
    "LIQ_RF     = model_RingFitting['arr1']\n",
    "FCC_RF     = model_RingFitting['arr2']\n",
    "vel_RF     = model_RingFitting['arr3']\n",
    "temp_RF    = model_RingFitting['arr4']\n",
    "timeS_RF  = model_RingFitting['arr5']\n",
    "\n",
    "time_steps_RF =  timeS_RF.shape[0]"
   ]
  },
  {
   "cell_type": "code",
   "execution_count": 4,
   "id": "5ab7f339-6556-4d82-ad70-463cb4920a2b",
   "metadata": {},
   "outputs": [
    {
     "data": {
      "text/plain": [
       "(201, 401, 607)"
      ]
     },
     "execution_count": 4,
     "metadata": {},
     "output_type": "execute_result"
    }
   ],
   "source": [
    "LIQ_RF.shape"
   ]
  },
  {
   "cell_type": "markdown",
   "id": "d1a60c6f-00d5-42cf-a86a-933b7979458c",
   "metadata": {},
   "source": [
    "### Phases"
   ]
  },
  {
   "cell_type": "code",
   "execution_count": 5,
   "id": "c44b53dd-58c3-4abe-b7a7-eaf99435810e",
   "metadata": {},
   "outputs": [
    {
     "name": "stdout",
     "output_type": "stream",
     "text": [
      "FINISHED\n"
     ]
    }
   ],
   "source": [
    "def update_plot(t_step):\n",
    "    scan_speed = r'30 $\\mathbf{\\mu m/s}$'\n",
    "    power = r\"25 $\\mathbf{mW}$\"\n",
    "    \n",
    "    laser_speed = 30\n",
    "    scaling_factor = 401/1000 # scaling factor for plotting figure\n",
    "    laser_act_pos = 125 + timeS_RF[t_step]*laser_speed  # Laser actual position in true dimension\n",
    "    laser_pos = laser_act_pos*scaling_factor # Laser position in accordance with figure\n",
    "    \n",
    "    fig, ax1 = plt.subplots(1,1, figsize=(16,8), frameon=False)\n",
    "    ax1.set_facecolor((0, 0, 0, 0))\n",
    "    \n",
    "    cmap = plt.get_cmap('RdYlGn_r')\n",
    "    cmap.set_under('white', alpha=0)\n",
    "    hmap1 = ax1.imshow(LIQ_RF[:,:,t_step], cmap=cmap, vmin=0.5, vmax=1.0, aspect=0.5,  interpolation='quadric')\n",
    "    \n",
    "    cmap = plt.get_cmap('Wistia')\n",
    "    # cmap = cold2hot\n",
    "    cmap.set_under('white', alpha=0) \n",
    "    hmap2 = ax1.imshow(FCC_RF[:,:,t_step], cmap=cmap, vmin=0.5, vmax=1.5, aspect=0.5, interpolation='quadric')\n",
    "    \n",
    "    contour_level_LIQ = [0.8]\n",
    "    contour_LIQ = plt.contour(LIQ_RF[:, :, t_step], levels=contour_level_LIQ, colors='k', linestyles='--', linewidths=3,)\n",
    "    \n",
    "    contour_levels = [400, 700,  1337]\n",
    "    label_colors = ['k', 'k', 'aqua']\n",
    "    contour = ax1.contour(temp_RF[:, :, t_step], levels=contour_levels, colors='crimson', linewidths=3, linestyles='dashdot')\n",
    "    [(label.set_fontweight('bold'), label.set_color(color)) for label, color in zip(plt.clabel(contour, inline=True, fontsize=24, fmt='%1.0f K'), label_colors)]\n",
    "        \n",
    "        \n",
    "    if timeS_RF[t_step] <= 25:\n",
    "        ax1.arrow(laser_pos, -80, 0, 76,  width = 4.5, color='red', length_includes_head=True, clip_on=False)\n",
    "        ax1.text(laser_pos-15,-12, power, rotation=90, color='k', fontsize=20, weight='bold')\n",
    "        if laser_act_pos < 500:\n",
    "            ax1.set_title(f't = {timeS_RF[t_step]:.2f}s', pad=10, loc='right', fontsize=25, weight='bold')\n",
    "            ax1.text(laser_pos+10, -40, s=f'{scan_speed}', fontsize=20, weight = 'bold')\n",
    "            ax1.arrow(laser_pos+10, -28, 30, 0,  width = 3, color='k', fill=False, clip_on=False)\n",
    "        else:\n",
    "            ax1.set_title(f't = {timeS_RF[t_step]:.2f}s', pad=10, loc='left', fontsize=25, weight='bold')\n",
    "            ax1.text(laser_pos-65, -40, s=f'{scan_speed}', fontsize=20, weight = 'bold')\n",
    "            ax1.arrow(laser_pos-65, -28, 30, 0,  width = 3, color='k', fill=False, clip_on=False)\n",
    "    else:\n",
    "        ax1.set_title(f't = {timeS_RF[t_step]:.2f}s', pad=10, loc='left', fontsize=25, weight='bold')\n",
    "        ax1.text(350, -40, \"LASER\", rotation=0, color='k', alpha=1, fontsize=20, weight='bold')\n",
    "        ax1.text(350, -20, \"OFF\", rotation=0, color='k', alpha=1, fontsize=20, weight='bold')\n",
    "        ax1.arrow(400, -10, -50, 0, fill=False, hatch='x', overhang=1, linestyle='--',  width = 3, color='blue', alpha=1, length_includes_head=True, clip_on=False)\n",
    "        ax1.arrow(350, -80, 0, 76,  width = 4.5, color='none', length_includes_head=True, clip_on=False) # to make the figure height same after laser is turned off\n",
    "    \n",
    "        \n",
    "    AuFCC_txt = ax1.text(20,180,'FCC', fontsize = 40, weight='bold', color='white')\n",
    "    if timeS_RF[t_step] <= 25:\n",
    "        AuLIQ_txt = ax1.text(laser_pos-20, 30,'LIQ', fontsize = 35, weight='bold', color='white')\n",
    "    \n",
    "    \n",
    "    ax1.set_ylim(201, -1)    \n",
    "    ax1.set_xlim(-1,401)\n",
    "    \n",
    "    ################## Dimensions ###################\n",
    "    ax1.set_xlabel('$\\mathbf{\\longleftarrow}$                 1000 $ \\mathbf{\\mu m}$                $\\mathbf{\\longrightarrow}$', fontsize = 27, weight ='bold',)\n",
    "    ax1.annotate(r'$\\mathbf{\\leftarrow}$ 250 $\\mathbf{\\mu m}$ $\\mathbf{\\rightarrow}$', xy=(0.5, 0.5), xytext=(-0.025, 0.5), rotation=90,\n",
    "                 xycoords='axes fraction', textcoords='axes fraction', fontsize = 27, weight = 'bold', color='k', ha='center', va='center')\n",
    "    \n",
    "    ax1.tick_params(axis='both', labelcolor='black', labelsize=65, bottom=False, top=False, left=False, right=False, labelbottom=False, labelleft=False)\n",
    "    ax1.spines[:].set_linewidth(4)\n",
    "\n",
    "\n",
    "t_steps = 555\n",
    "############ To save the image as well #############\n",
    "# for t_step in range(554, 555, 1):\n",
    "for t_step in range(t_steps):\n",
    "    update_plot(t_step)\n",
    "    plt.savefig(f'../temperoray_figures/Ring/Fitting/phase/f_{t_step}.png',bbox_inches='tight', dpi=100)\n",
    "    plt.close() \n",
    "print(\"FINISHED\")"
   ]
  },
  {
   "cell_type": "code",
   "execution_count": null,
   "id": "15a0d85a-26a3-4810-9790-dafdf7f0cf07",
   "metadata": {},
   "outputs": [],
   "source": []
  },
  {
   "cell_type": "markdown",
   "id": "990c5373-cc05-4db8-934d-ec9e9cddfe62",
   "metadata": {},
   "source": [
    "### Temperature"
   ]
  },
  {
   "cell_type": "code",
   "execution_count": 6,
   "id": "25a9fe0f-3cfe-49ed-9e9f-26c1d66c0acc",
   "metadata": {},
   "outputs": [
    {
     "name": "stdout",
     "output_type": "stream",
     "text": [
      "FINISHED\n"
     ]
    }
   ],
   "source": [
    "def update_plot(t_step):\n",
    "    scan_speed = r'30 $\\mathbf{\\mu m/s}$'\n",
    "    power = r\"25 $\\mathbf{mW}$\"\n",
    "    \n",
    "    laser_speed = 30\n",
    "    scaling_factor = 401/1000 # scaling factor for plotting figure\n",
    "    laser_act_pos = 125 + timeS_RF[t_step]*laser_speed  # Laser actual position in true dimension\n",
    "    laser_pos = laser_act_pos*scaling_factor # Laser position in accordance with figure\n",
    "    \n",
    "    fig, ax1 = plt.subplots(1,1, figsize=(16,8), frameon=False)\n",
    "    ax1.set_facecolor((0, 0, 0, 0))\n",
    "    \n",
    "    hmap1 = ax1.imshow(temp_RF[:,:,t_step], cmap='rainbow', vmin=300, aspect=0.5,  interpolation='quadric')\n",
    "    \n",
    "    if timeS_RF[t_step] <= 25:\n",
    "        ax1.arrow(laser_pos, -80, 0, 76,  width = 4.5, color='red', length_includes_head=True, clip_on=False)\n",
    "        ax1.text(laser_pos-15,-12, power, rotation=90, color='k', fontsize=20, weight='bold')\n",
    "        if laser_act_pos < 500:\n",
    "            ax1.set_title(f't = {timeS_RF[t_step]:.2f}s', pad=10, loc='right', fontsize=25, weight='bold')\n",
    "            ax1.text(laser_pos+10, -40, s=f'{scan_speed}', fontsize=20, weight = 'bold')\n",
    "            ax1.arrow(laser_pos+10, -28, 30, 0,  width = 3, color='k', fill=False, clip_on=False)\n",
    "        else:\n",
    "            ax1.set_title(f't = {timeS_RF[t_step]:.2f}s', pad=10, loc='left', fontsize=25, weight='bold')\n",
    "            ax1.text(laser_pos-65, -40, s=f'{scan_speed}', fontsize=20, weight = 'bold')\n",
    "            ax1.arrow(laser_pos-65, -28, 30, 0,  width = 3, color='k', fill=False, clip_on=False)\n",
    "    else:\n",
    "        ax1.set_title(f't = {timeS_RF[t_step]:.2f}s', pad=10, loc='left', fontsize=25, weight='bold')\n",
    "        ax1.text(350, -40, \"LASER\", rotation=0, color='k', alpha=1, fontsize=20, weight='bold')\n",
    "        ax1.text(350, -20, \"OFF\", rotation=0, color='k', alpha=1, fontsize=20, weight='bold')\n",
    "        ax1.arrow(400, -10, -50, 0, fill=False, hatch='x', overhang=1, linestyle='--',  width = 3, color='blue', alpha=1, length_includes_head=True, clip_on=False)\n",
    "        ax1.arrow(350, -80, 0, 76,  width = 4.5, color='none', length_includes_head=True, clip_on=False) # to make the figure height same after laser is turned off\n",
    "    \n",
    "    ax1.set_ylim(201, -1)    \n",
    "    ax1.set_xlim(-1,401)\n",
    "    \n",
    "    contour_levels = [400, 700,  1337]\n",
    "    label_colors = ['tomato', 'orangered', 'k']\n",
    "    contour = plt.contour(temp_RF[:, :, t_step], levels=contour_levels, colors='white', linewidths=4,)\n",
    "    [(label.set_fontweight('bold'), label.set_color(color)) for label, color in zip(plt.clabel(contour, inline=True, fontsize=24, fmt='%1.0f K'), label_colors)]\n",
    "    \n",
    "    ################## Dimensions ###################\n",
    "    ax1.set_xlabel('$\\mathbf{\\longleftarrow}$                 1000 $ \\mathbf{\\mu m}$                $\\mathbf{\\longrightarrow}$', fontsize = 27, weight ='bold',)\n",
    "    ax1.annotate(r'$\\mathbf{\\leftarrow}$ 250 $\\mathbf{\\mu m}$ $\\mathbf{\\rightarrow}$', xy=(0.5, 0.5), xytext=(-0.025, 0.5), rotation=90,\n",
    "                 xycoords='axes fraction', textcoords='axes fraction', fontsize = 27, weight = 'bold', color='k', ha='center', va='center')\n",
    "    \n",
    "    ############## Color Bar ###########\n",
    "    ax2 = fig.add_axes([0.92, 0.3, 0.05, 0.39]) \n",
    "    ax2.tick_params(axis='both', labelcolor='black', labelsize=1, bottom=False, top=False, left=False, right=False, labelbottom=False, labelleft=False)\n",
    "    cbar = fig.colorbar(hmap1, cax=ax2, orientation='vertical')\n",
    "    cbar.ax.tick_params(labelsize=25, direction='in', length=0) \n",
    "    # cbar.set_label(r'$\\mathbf{\\leftarrow}$   T [K]  $\\mathbf{\\rightarrow}$', color='k',  labelpad=-115, fontsize=30, rotation=90, weight='bold')\n",
    "    text = Text(x=0.935, y=0.335, text=r'$\\mathbf{\\leftarrow}$   T [K]  $\\mathbf{\\rightarrow}$', fontsize=30, color='k', rotation=90, weight='bold')\n",
    "    fig.add_artist(text)\n",
    "    \n",
    "    if timeS_RF[t_step] <= 25:\n",
    "        cbar.set_ticks([np.min(temp_RF[:,:,t_step])*1.06, (np.max(temp_RF[:,:,t_step]))/2, np.max(temp_RF[:,:,t_step])*0.96], labels=[f'{np.min(temp_RF[:,:,t_step]):.0f}', f'{np.max(temp_RF[:,:,t_step])/2 :.0f}', f'{np.max(temp_RF[:,:,t_step])*0.95:.0f}'], weight='bold') \n",
    "    else:\n",
    "        cbar.set_ticks([np.min(temp_RF[:,:,t_step]), (np.max(temp_RF[:,:,t_step])+np.min(temp_RF[:,:,t_step]))/2, np.max(temp_RF[:,:,t_step])], labels=[f'{np.min(temp_RF[:,:,t_step]):.0f}', f'{(np.max(temp_RF[:,:,t_step])+np.min(temp_RF[:,:,t_step]))/2 :.0f}', f'{np.max(temp_RF[:,:,t_step]):.0f}'], weight='bold') \n",
    "    \n",
    "    \n",
    "    ax1.tick_params(axis='both', labelcolor='black', labelsize=65, bottom=False, top=False, left=False, right=False, labelbottom=False, labelleft=False)\n",
    "    ax1.spines[:].set_linewidth(4)\n",
    "    ax1.spines[:].set_color('k')\n",
    "    ax2.spines[:].set_linewidth(4)\n",
    "    line = Line2D([1.04, 1.04], [0.35, 0.65], transform=fig.transFigure, color=\"none\", linewidth=3, linestyle='-')\n",
    "    fig.add_artist(line)\n",
    "\n",
    "t_steps = 555\n",
    "############ To save the image as well #############\n",
    "# for t_step in range(300, 555, 1):\n",
    "for t_step in range(t_steps):\n",
    "    update_plot(t_step)\n",
    "    plt.savefig(f'../temperoray_figures/Ring/Fitting/temperature/f_{t_step}.png',bbox_inches='tight', dpi=100)\n",
    "    plt.close() \n",
    "print(\"FINISHED\")"
   ]
  },
  {
   "cell_type": "code",
   "execution_count": null,
   "id": "71d34e10-b577-466c-af2a-cffa49faed25",
   "metadata": {},
   "outputs": [],
   "source": []
  },
  {
   "cell_type": "markdown",
   "id": "5d0579e2-064f-4a46-97e4-41329d3d7cc6",
   "metadata": {},
   "source": [
    "### Velocity"
   ]
  },
  {
   "cell_type": "code",
   "execution_count": 7,
   "id": "1c923804-d94b-4647-b0e0-7de669897163",
   "metadata": {},
   "outputs": [
    {
     "name": "stdout",
     "output_type": "stream",
     "text": [
      "FINISHED\n"
     ]
    }
   ],
   "source": [
    "def update_plot(t_step):\n",
    "    scan_speed = r'30 $\\mathbf{\\mu m/s}$'\n",
    "    power = r\"25 $\\mathbf{mW}$\"\n",
    "    \n",
    "    laser_speed = 30\n",
    "    scaling_factor = 401/1000 # scaling factor for plotting figure\n",
    "    laser_act_pos = 125 + timeS_RF[t_step]*laser_speed  # Laser actual position in true dimension\n",
    "    laser_pos = laser_act_pos*scaling_factor # Laser position in accordance with figure\n",
    "    \n",
    "    \n",
    "    fig, ax1 = plt.subplots(1,1, figsize=(16,8), frameon=False)\n",
    "    ax1.set_facecolor((0, 0, 0, 0))\n",
    "    \n",
    "    \n",
    "    hmap1 = ax1.imshow(vel_RF[:,:,t_step], cmap='gist_ncar_r', vmin=2, aspect=0.5,  interpolation='bilinear')\n",
    "    # AuFCC_txt = ax1.text(320,180,'FCC', fontsize = 35, weight='bold', color='green')\n",
    "    # AuLIQ_txt = ax1.text(laser_pos-20, 30,'LIQ', fontsize = 35, weight='bold', color='white')\n",
    "    \n",
    "    ######################### Laser Arrow ###########################\n",
    "    if timeS_RF[t_step] <= 25:\n",
    "        ax1.arrow(laser_pos, -80, 0, 76,  width = 4.5, color='red', length_includes_head=True, clip_on=False)\n",
    "        ax1.text(laser_pos-15,-12, power, rotation=90, color='k', fontsize=20, weight='bold')\n",
    "        if laser_act_pos < 500:\n",
    "            ax1.set_title(f't = {timeS_RF[t_step]:.2f}s', pad=10, loc='right', fontsize=25, weight='bold')\n",
    "            ax1.text(laser_pos+10, -40, s=f'{scan_speed}', fontsize=20, weight = 'bold')\n",
    "            ax1.arrow(laser_pos+10, -28, 30, 0,  width = 3, color='k', fill=False, clip_on=False)\n",
    "        else:\n",
    "            ax1.set_title(f't = {timeS_RF[t_step]:.2f}s', pad=10, loc='left', fontsize=25, weight='bold')\n",
    "            ax1.text(laser_pos-65, -40, s=f'{scan_speed}', fontsize=20, weight = 'bold')\n",
    "            ax1.arrow(laser_pos-65, -28, 30, 0,  width = 3, color='k', fill=False, clip_on=False)\n",
    "    else:\n",
    "        ax1.set_title(f't = {timeS_RF[t_step]:.2f}s', pad=10, loc='left', fontsize=25, weight='bold')\n",
    "        ax1.text(350, -40, \"LASER\", rotation=0, color='k', alpha=1, fontsize=20, weight='bold')\n",
    "        ax1.text(350, -20, \"OFF\", rotation=0, color='k', alpha=1, fontsize=20, weight='bold')\n",
    "        ax1.arrow(400, -10, -50, 0, fill=False, hatch='x', overhang=1, linestyle='--',  width = 3, color='blue', alpha=1, length_includes_head=True, clip_on=False)\n",
    "        ax1.arrow(350, -80, 0, 76,  width = 4.5, color='none', length_includes_head=True, clip_on=False) # to make the figure height same after laser is turned off\n",
    "        \n",
    "    contour_level_LIQ = [0.8]\n",
    "    contour_LIQ = plt.contour(LIQ_RF[:, :, t_step], levels=contour_level_LIQ, colors='orangered', linestyles='-', linewidths=5,)\n",
    "    \n",
    "    contour_levels = [450, 700, 1337]\n",
    "    contour = plt.contour(temp_RF[:, :, t_step], levels=contour_levels, colors='lime', linewidths=2,)\n",
    "    clabels = plt.clabel(contour, inline=True, fontsize=24, colors='k', fmt='%1.0f K')\n",
    "    \n",
    "    ax1.set_ylim(201, -1)    \n",
    "    ax1.set_xlim(-1,401)\n",
    "    \n",
    "    for label in clabels: label.set_fontweight('bold')\n",
    "        \n",
    "    ################## Dimensions ###################\n",
    "    ax1.set_xlabel('$\\mathbf{\\longleftarrow}$                 1000 $ \\mathbf{\\mu m}$                $\\mathbf{\\longrightarrow}$', fontsize = 27, weight ='bold',)\n",
    "    ax1.annotate(r'$\\mathbf{\\leftarrow}$ 250 $\\mathbf{\\mu m}$ $\\mathbf{\\rightarrow}$', xy=(0.5, 0.5), xytext=(-0.025, 0.5), rotation=90,\n",
    "                 xycoords='axes fraction', textcoords='axes fraction', fontsize = 27, weight = 'bold', color='k', ha='center', va='center')\n",
    "    \n",
    "    ############## Color Bar ###########\n",
    "    ax2 = fig.add_axes([0.92, 0.3, 0.05, 0.39]) \n",
    "    ax2.tick_params(axis='both', labelcolor='black', labelsize=1, bottom=False, top=False, left=False, right=False, labelbottom=False, labelleft=False)\n",
    "    cbar = fig.colorbar(hmap1, cax=ax2, orientation='vertical')\n",
    "    cbar.ax.tick_params(labelsize=25, direction='in', length=0) \n",
    "    cbar.set_label(r'$\\mathbf{\\leftarrow}$   Vel $\\mathbf{[\\mu m/s]}$  $\\mathbf{\\rightarrow}$', color='k',  labelpad=20, fontsize=20, rotation=90, weight='bold')\n",
    "    cbar.set_ticks([np.max(vel_RF[:,:,t_step])*0.06, (np.max(vel_RF[:,:,t_step]))/2, np.max(vel_RF[:,:,t_step])*0.96], labels=[f'{np.min(vel_RF[:,:,t_step]):.0f}', f'{np.max(vel_RF[:,:,t_step])/2 :.0f}', f'{np.max(vel_RF[:,:,t_step]):.0f}'], weight='bold') \n",
    "    \n",
    "    ax1.tick_params(axis='both', labelcolor='black', labelsize=65, bottom=False, top=False, left=False, right=False, labelbottom=False, labelleft=False)\n",
    "    ax1.spines[:].set_linewidth(4)\n",
    "    ax1.spines[:].set_color('b')\n",
    "    ax2.spines[:].set_linewidth(4)\n",
    "    line = Line2D([1.041, 1.041], [0.35, 0.65], transform=fig.transFigure, color=\"none\", linewidth=3, linestyle='-')\n",
    "    fig.add_artist(line)\n",
    "\n",
    "t_steps = 485\n",
    "############ To save the image as well #############\n",
    "# for t_step in range(300, 484, 1):\n",
    "for t_step in range(t_steps):\n",
    "    update_plot(t_step)\n",
    "    plt.savefig(f'../temperoray_figures/Ring/Fitting/velocity/f_{t_step}.png',bbox_inches='tight', dpi=100)\n",
    "    plt.close() \n",
    "print(\"FINISHED\")"
   ]
  },
  {
   "cell_type": "code",
   "execution_count": null,
   "id": "5dbe14f7-996c-4a27-9d5c-5bad6825fa19",
   "metadata": {},
   "outputs": [],
   "source": []
  }
 ],
 "metadata": {
  "kernelspec": {
   "display_name": "Python 3 (ipykernel)",
   "language": "python",
   "name": "python3"
  },
  "language_info": {
   "codemirror_mode": {
    "name": "ipython",
    "version": 3
   },
   "file_extension": ".py",
   "mimetype": "text/x-python",
   "name": "python",
   "nbconvert_exporter": "python",
   "pygments_lexer": "ipython3",
   "version": "3.10.12"
  }
 },
 "nbformat": 4,
 "nbformat_minor": 5
}
