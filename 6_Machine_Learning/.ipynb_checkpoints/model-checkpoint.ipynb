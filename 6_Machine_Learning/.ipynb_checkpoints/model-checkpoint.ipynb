{
 "cells": [
  {
   "cell_type": "code",
   "execution_count": 1,
   "id": "1a80000c-cd55-41c5-aa3d-3a624cf4d573",
   "metadata": {},
   "outputs": [],
   "source": [
    "import os\n",
    "import torch\n",
    "import numpy as np\n",
    "from torch import nn\n",
    "from torchmetrics import Accuracy\n",
    "import matplotlib.pyplot as plt\n",
    "from sklearn.model_selection import train_test_split\n",
    "device = 'cuda' if torch.cuda.is_available() else 'cpu'\n",
    "# device = 'cpu'"
   ]
  },
  {
   "cell_type": "code",
   "execution_count": 2,
   "id": "e02743c4-4f60-497e-9a1a-5081b2c083db",
   "metadata": {},
   "outputs": [
    {
     "data": {
      "text/plain": [
       "'/home/upadesh/3_Codes/6_Au_Au_Laser/1_Simulation_Results/ML_numpy_files'"
      ]
     },
     "execution_count": 2,
     "metadata": {},
     "output_type": "execute_result"
    }
   ],
   "source": [
    "path = os.path.abspath('../1_Simulation_Results/ML_numpy_files/')\n",
    "path"
   ]
  },
  {
   "cell_type": "code",
   "execution_count": 3,
   "id": "cdb3a88e-b813-4aab-b95c-eb0742a67e43",
   "metadata": {},
   "outputs": [],
   "source": [
    "X, y = np.load(path+'/X.npy'), np.load(path+'/y.npy')"
   ]
  },
  {
   "cell_type": "code",
   "execution_count": 4,
   "id": "d8a7f3c6-1a8a-4dd8-b508-a420eecc6eaf",
   "metadata": {},
   "outputs": [
    {
     "data": {
      "text/plain": [
       "((406, 201, 401), (406, 201, 401))"
      ]
     },
     "execution_count": 4,
     "metadata": {},
     "output_type": "execute_result"
    }
   ],
   "source": [
    "X.shape, y.shape"
   ]
  },
  {
   "cell_type": "code",
   "execution_count": 41,
   "id": "50fa36fa-b0a0-4a65-9580-785f08d56cbe",
   "metadata": {},
   "outputs": [
    {
     "name": "stdout",
     "output_type": "stream",
     "text": [
      "torch.Size([385, 1, 201, 401])\n",
      "torch.Size([385, 1, 201, 401])\n"
     ]
    }
   ],
   "source": [
    "# Reshape X and y to match PyTorch's Conv2d input format: (batch_size, channels, height, width)\n",
    "X_reshaped = X[:, np.newaxis, :, :]  # Shape: (406, 1, 201, 401)\n",
    "y_reshaped = y[:, np.newaxis, :, :]  # Shape: (406, 1, 201, 401)\n",
    "\n",
    "# Split data into training and testing sets\n",
    "X_train, X_test, y_train, y_test = train_test_split(X_reshaped, y_reshaped, test_size=0.05, random_state=42)\n",
    "\n",
    "# Convert numpy arrays to PyTorch tensors\n",
    "X_train_tensor = torch.tensor(X_train, dtype=torch.float32)\n",
    "y_train_tensor = torch.tensor(y_train, dtype=torch.float32)\n",
    "X_test_tensor = torch.tensor(X_test, dtype=torch.float32)\n",
    "y_test_tensor = torch.tensor(y_test, dtype=torch.float32)\n",
    "\n",
    "# Check tensor shapes\n",
    "print(X_train_tensor.shape)  # Should be (batch_size, 1, 201, 401)\n",
    "print(y_train_tensor.shape)"
   ]
  },
  {
   "cell_type": "code",
   "execution_count": 42,
   "id": "3ee740d4-364a-4fd7-be0f-011f3792decd",
   "metadata": {},
   "outputs": [],
   "source": [
    "import torch\n",
    "import torch.nn as nn\n",
    "import torch.optim as optim\n",
    "\n",
    "# Define the CNN model\n",
    "class CNNModel(nn.Module):\n",
    "    def __init__(self):\n",
    "        super(CNNModel, self).__init__()\n",
    "        \n",
    "        # Define the layers\n",
    "        self.conv1 = nn.Conv2d(in_channels=1, out_channels=32, kernel_size=3, padding=1)\n",
    "        self.conv2 = nn.Conv2d(in_channels=32, out_channels=64, kernel_size=3, padding=1)\n",
    "        self.conv3 = nn.Conv2d(in_channels=64, out_channels=1, kernel_size=3, padding=1)  # Output 1 channel\n",
    "        \n",
    "        self.relu = nn.ReLU()\n",
    "        self.sigmoid = nn.Sigmoid()  # Output activation for binary classification\n",
    "    \n",
    "    def forward(self, x):\n",
    "        # Forward pass through the network\n",
    "        x = self.relu(self.conv1(x))\n",
    "        x = self.relu(self.conv2(x))\n",
    "        x = self.sigmoid(self.conv3(x))  # Sigmoid to get output as probabilities between 0 and 1\n",
    "        \n",
    "        return x\n",
    "\n",
    "# Instantiate the model\n",
    "model = CNNModel()\n",
    "\n",
    "# Loss function for binary classification\n",
    "criterion = nn.BCELoss()\n",
    "\n",
    "# Adam optimizer\n",
    "optimizer = optim.Adam(model.parameters(), lr=0.001)\n",
    "\n",
    "# Move the model to GPU if available\n",
    "device = torch.device(\"cuda\" if torch.cuda.is_available() else \"cpu\")\n",
    "model.to(device)\n",
    "\n",
    "# Assuming your training data is already prepared as PyTorch tensors\n",
    "X_train_tensor = X_train_tensor.to(device)\n",
    "y_train_tensor = y_train_tensor.to(device)\n",
    "X_test_tensor = X_test_tensor.to(device)\n",
    "y_test_tensor = y_test_tensor.to(device)\n"
   ]
  },
  {
   "cell_type": "code",
   "execution_count": 43,
   "id": "d2df14f4-f239-4f6f-92d1-b44d9db271ab",
   "metadata": {},
   "outputs": [
    {
     "name": "stdout",
     "output_type": "stream",
     "text": [
      "Epoch [1/50], Step [10], Loss: 0.5718\n",
      "Epoch [1/50], Step [20], Loss: 0.2707\n",
      "Epoch [2/50], Step [10], Loss: 0.0900\n",
      "Epoch [2/50], Step [20], Loss: 0.0864\n",
      "Epoch [3/50], Step [10], Loss: 0.0845\n",
      "Epoch [3/50], Step [20], Loss: 0.0822\n",
      "Epoch [4/50], Step [10], Loss: 0.0805\n",
      "Epoch [4/50], Step [20], Loss: 0.0800\n",
      "Epoch [5/50], Step [10], Loss: 0.0795\n",
      "Epoch [5/50], Step [20], Loss: 0.0787\n",
      "Epoch [6/50], Step [10], Loss: 0.0790\n",
      "Epoch [6/50], Step [20], Loss: 0.0769\n",
      "Epoch [7/50], Step [10], Loss: 0.0791\n",
      "Epoch [7/50], Step [20], Loss: 0.0786\n",
      "Epoch [8/50], Step [10], Loss: 0.0764\n",
      "Epoch [8/50], Step [20], Loss: 0.0777\n",
      "Epoch [9/50], Step [10], Loss: 0.0764\n",
      "Epoch [9/50], Step [20], Loss: 0.0765\n",
      "Epoch [10/50], Step [10], Loss: 0.0761\n",
      "Epoch [10/50], Step [20], Loss: 0.0757\n",
      "Epoch [11/50], Step [10], Loss: 0.0758\n",
      "Epoch [11/50], Step [20], Loss: 0.0760\n",
      "Epoch [12/50], Step [10], Loss: 0.0751\n",
      "Epoch [12/50], Step [20], Loss: 0.0757\n",
      "Epoch [13/50], Step [10], Loss: 0.0754\n",
      "Epoch [13/50], Step [20], Loss: 0.0755\n",
      "Epoch [14/50], Step [10], Loss: 0.0755\n",
      "Epoch [14/50], Step [20], Loss: 0.0752\n",
      "Epoch [15/50], Step [10], Loss: 0.0766\n",
      "Epoch [15/50], Step [20], Loss: 0.0757\n",
      "Epoch [16/50], Step [10], Loss: 0.0748\n",
      "Epoch [16/50], Step [20], Loss: 0.0752\n",
      "Epoch [17/50], Step [10], Loss: 0.0749\n",
      "Epoch [17/50], Step [20], Loss: 0.0752\n",
      "Epoch [18/50], Step [10], Loss: 0.0753\n",
      "Epoch [18/50], Step [20], Loss: 0.0738\n",
      "Epoch [19/50], Step [10], Loss: 0.0748\n",
      "Epoch [19/50], Step [20], Loss: 0.0748\n",
      "Epoch [20/50], Step [10], Loss: 0.0752\n",
      "Epoch [20/50], Step [20], Loss: 0.0749\n",
      "Epoch [21/50], Step [10], Loss: 0.0745\n",
      "Epoch [21/50], Step [20], Loss: 0.0744\n",
      "Epoch [22/50], Step [10], Loss: 0.0763\n",
      "Epoch [22/50], Step [20], Loss: 0.0747\n",
      "Epoch [23/50], Step [10], Loss: 0.0746\n",
      "Epoch [23/50], Step [20], Loss: 0.0746\n",
      "Epoch [24/50], Step [10], Loss: 0.0747\n",
      "Epoch [24/50], Step [20], Loss: 0.0747\n",
      "Epoch [25/50], Step [10], Loss: 0.0747\n",
      "Epoch [25/50], Step [20], Loss: 0.0739\n",
      "Epoch [26/50], Step [10], Loss: 0.0738\n",
      "Epoch [26/50], Step [20], Loss: 0.0740\n",
      "Epoch [27/50], Step [10], Loss: 0.0740\n",
      "Epoch [27/50], Step [20], Loss: 0.0743\n",
      "Epoch [28/50], Step [10], Loss: 0.0744\n",
      "Epoch [28/50], Step [20], Loss: 0.0734\n",
      "Epoch [29/50], Step [10], Loss: 0.0735\n",
      "Epoch [29/50], Step [20], Loss: 0.0743\n",
      "Epoch [30/50], Step [10], Loss: 0.0743\n",
      "Epoch [30/50], Step [20], Loss: 0.0731\n",
      "Epoch [31/50], Step [10], Loss: 0.0738\n",
      "Epoch [31/50], Step [20], Loss: 0.0739\n",
      "Epoch [32/50], Step [10], Loss: 0.0737\n",
      "Epoch [32/50], Step [20], Loss: 0.0737\n",
      "Epoch [33/50], Step [10], Loss: 0.0742\n",
      "Epoch [33/50], Step [20], Loss: 0.0736\n",
      "Epoch [34/50], Step [10], Loss: 0.0733\n",
      "Epoch [34/50], Step [20], Loss: 0.0737\n",
      "Epoch [35/50], Step [10], Loss: 0.0741\n",
      "Epoch [35/50], Step [20], Loss: 0.0731\n",
      "Epoch [36/50], Step [10], Loss: 0.0739\n",
      "Epoch [36/50], Step [20], Loss: 0.0733\n",
      "Epoch [37/50], Step [10], Loss: 0.0742\n",
      "Epoch [37/50], Step [20], Loss: 0.0736\n",
      "Epoch [38/50], Step [10], Loss: 0.0733\n",
      "Epoch [38/50], Step [20], Loss: 0.0733\n",
      "Epoch [39/50], Step [10], Loss: 0.0736\n",
      "Epoch [39/50], Step [20], Loss: 0.0734\n",
      "Epoch [40/50], Step [10], Loss: 0.0731\n",
      "Epoch [40/50], Step [20], Loss: 0.0737\n",
      "Epoch [41/50], Step [10], Loss: 0.0738\n",
      "Epoch [41/50], Step [20], Loss: 0.0728\n",
      "Epoch [42/50], Step [10], Loss: 0.0741\n",
      "Epoch [42/50], Step [20], Loss: 0.0725\n",
      "Epoch [43/50], Step [10], Loss: 0.0757\n",
      "Epoch [43/50], Step [20], Loss: 0.0737\n",
      "Epoch [44/50], Step [10], Loss: 0.0740\n",
      "Epoch [44/50], Step [20], Loss: 0.0735\n",
      "Epoch [45/50], Step [10], Loss: 0.0735\n",
      "Epoch [45/50], Step [20], Loss: 0.0732\n",
      "Epoch [46/50], Step [10], Loss: 0.0738\n",
      "Epoch [46/50], Step [20], Loss: 0.0727\n",
      "Epoch [47/50], Step [10], Loss: 0.0733\n",
      "Epoch [47/50], Step [20], Loss: 0.0728\n",
      "Epoch [48/50], Step [10], Loss: 0.0728\n",
      "Epoch [48/50], Step [20], Loss: 0.0733\n",
      "Epoch [49/50], Step [10], Loss: 0.0738\n",
      "Epoch [49/50], Step [20], Loss: 0.0732\n",
      "Epoch [50/50], Step [10], Loss: 0.0730\n",
      "Epoch [50/50], Step [20], Loss: 0.0729\n",
      "Finished Training\n"
     ]
    }
   ],
   "source": [
    "# Training loop\n",
    "num_epochs = 50\n",
    "batch_size = 16\n",
    "\n",
    "# Create a data loader\n",
    "train_dataset = torch.utils.data.TensorDataset(X_train_tensor, y_train_tensor)\n",
    "train_loader = torch.utils.data.DataLoader(train_dataset, batch_size=batch_size, shuffle=True)\n",
    "\n",
    "for epoch in range(num_epochs):\n",
    "    model.train()  # Set model to training mode\n",
    "    running_loss = 0.0\n",
    "    \n",
    "    for i, (inputs, labels) in enumerate(train_loader):\n",
    "        # Zero the parameter gradients\n",
    "        optimizer.zero_grad()\n",
    "        \n",
    "        # Forward pass\n",
    "        outputs = model(inputs)\n",
    "        loss = criterion(outputs, labels)\n",
    "        \n",
    "        # Backward pass and optimization\n",
    "        loss.backward()\n",
    "        optimizer.step()\n",
    "        \n",
    "        # Print statistics\n",
    "        running_loss += loss.item()\n",
    "        if i % 10 == 9:  # Print every 10 mini-batches\n",
    "            print(f'Epoch [{epoch+1}/{num_epochs}], Step [{i+1}], Loss: {running_loss / 10:.4f}')\n",
    "            running_loss = 0.0\n",
    "\n",
    "print('Finished Training')\n"
   ]
  },
  {
   "cell_type": "code",
   "execution_count": null,
   "id": "242afb9a-3441-4bf6-83b4-f08bfe62d707",
   "metadata": {},
   "outputs": [],
   "source": []
  },
  {
   "cell_type": "code",
   "execution_count": 44,
   "id": "d7fb6302-b58d-476e-8124-ae690a5da827",
   "metadata": {},
   "outputs": [
    {
     "name": "stdout",
     "output_type": "stream",
     "text": [
      "Model saved successfully!\n"
     ]
    }
   ],
   "source": [
    "torch.save(model.state_dict(), 'cnn_model.pth')\n",
    "print('Model saved successfully!')"
   ]
  },
  {
   "cell_type": "code",
   "execution_count": 45,
   "id": "41f15f15-a775-444b-8222-a6ace4f5ea27",
   "metadata": {},
   "outputs": [
    {
     "name": "stdout",
     "output_type": "stream",
     "text": [
      "Model loaded successfully!\n"
     ]
    }
   ],
   "source": [
    "# Load the model architecture first\n",
    "model = CNNModel()\n",
    "\n",
    "# Load the saved model weights\n",
    "model.load_state_dict(torch.load('cnn_model.pth'))\n",
    "\n",
    "# Move the model to GPU if available\n",
    "model.to(device)\n",
    "\n",
    "print('Model loaded successfully!')\n"
   ]
  },
  {
   "cell_type": "code",
   "execution_count": 46,
   "id": "2fbaef8f-c4fa-4c7b-b763-f1fc3c4f1834",
   "metadata": {},
   "outputs": [
    {
     "name": "stdout",
     "output_type": "stream",
     "text": [
      "Test Loss: 0.0761\n",
      "Accuracy: 0.9803\n"
     ]
    }
   ],
   "source": [
    "import torch\n",
    "import numpy as np\n",
    "\n",
    "# Set model to evaluation mode\n",
    "model.eval()\n",
    "\n",
    "# Evaluate the model on the test set\n",
    "with torch.no_grad():\n",
    "    # Get model outputs\n",
    "    test_outputs = model(X_test_tensor)\n",
    "    \n",
    "    # Apply a threshold of 0.5 to get binary predictions\n",
    "    test_predictions = (test_outputs > 0.5).float()\n",
    "    \n",
    "    # Convert predictions and labels to NumPy arrays for comparison\n",
    "    test_predictions_np = test_predictions.cpu().numpy()\n",
    "    y_test_np = y_test_tensor.cpu().numpy()\n",
    "    \n",
    "    # Calculate test loss\n",
    "    test_loss = criterion(test_outputs, y_test_tensor)\n",
    "    print(f'Test Loss: {test_loss.item():.4f}')\n",
    "    \n",
    "    # Calculate binary accuracy or other metrics\n",
    "    correct_predictions = np.sum(test_predictions_np == y_test_np)\n",
    "    total_predictions = y_test_np.size\n",
    "    accuracy = correct_predictions / total_predictions\n",
    "    print(f'Accuracy: {accuracy:.4f}')\n"
   ]
  },
  {
   "cell_type": "code",
   "execution_count": 56,
   "id": "6439a730-e2a2-4dde-bc23-773eb246082a",
   "metadata": {},
   "outputs": [
    {
     "data": {
      "text/plain": [
       "(21, 1, 201, 401)"
      ]
     },
     "execution_count": 56,
     "metadata": {},
     "output_type": "execute_result"
    }
   ],
   "source": [
    "test_predictions_np.shape"
   ]
  },
  {
   "cell_type": "code",
   "execution_count": 54,
   "id": "7c666c53-0f4c-4b57-a4e6-b901843a018f",
   "metadata": {},
   "outputs": [
    {
     "data": {
      "text/plain": [
       "(array([0., 1.], dtype=float32), array([0., 1.], dtype=float32))"
      ]
     },
     "execution_count": 54,
     "metadata": {},
     "output_type": "execute_result"
    }
   ],
   "source": [
    "np.unique(test_predictions_np), np.unique(y_test_np)"
   ]
  },
  {
   "cell_type": "code",
   "execution_count": 61,
   "id": "7112f12d-995e-41bd-93e8-3e1417d9453a",
   "metadata": {},
   "outputs": [],
   "source": [
    "X_test_tensor_np = X_test_tensor.cpu().numpy()"
   ]
  },
  {
   "cell_type": "code",
   "execution_count": 63,
   "id": "8fb54f24-0134-49b3-95b7-46bccec7cb51",
   "metadata": {},
   "outputs": [
    {
     "data": {
      "image/png": "[encoded data removed]",
      "text/plain": [
       "<Figure size 1200x1200 with 3 Axes>"
      ]
     },
     "metadata": {},
     "output_type": "display_data"
    }
   ],
   "source": [
    "t_step = 5\n",
    "# laser_pos = (125 + time[t_step]*laser_speed)* 401/1000  # Laser actual position in true dimension\n",
    "\n",
    "fig, (ax1, ax2, ax3) = plt.subplots(3,1, figsize=(12,12), frameon=True)\n",
    "cmap = plt.get_cmap('RdYlGn_r')\n",
    "cmap.set_under('white', alpha=0)\n",
    "hmap1 = ax1.imshow(test_predictions_np[t_step][0], cmap=cmap, vmin=0.5, vmax=1.0, aspect=0.5,  interpolation='quadric')\n",
    "cmap = plt.get_cmap('Wistia')\n",
    "cmap.set_under('white', alpha=0) \n",
    "hmap2 = ax1.imshow(1-test_predictions_np[t_step][0], cmap=cmap, vmin=0.5, vmax=1.5, aspect=0.5, interpolation='quadric')\n",
    "\n",
    "\n",
    "cmap = plt.get_cmap('RdYlGn_r')\n",
    "cmap.set_under('white', alpha=0)\n",
    "hmap1 = ax2.imshow(y_test_np[t_step][0], cmap=cmap, vmin=0.5, vmax=1.0, aspect=0.5,  interpolation='quadric')\n",
    "cmap = plt.get_cmap('Wistia')\n",
    "cmap.set_under('white', alpha=0) \n",
    "hmap2 = ax2.imshow(1-y_test_np[t_step][0], cmap=cmap, vmin=0.5, vmax=1.5, aspect=0.5, interpolation='quadric')\n",
    "\n",
    "cmap = plt.get_cmap('RdYlGn_r')\n",
    "cmap.set_under('white', alpha=0)\n",
    "hmap1 = ax3.imshow(X_test_tensor_np[t_step][0], cmap=cmap, vmin=0.5, vmax=1.0, aspect=0.5,  interpolation='quadric')\n",
    "cmap = plt.get_cmap('Wistia')\n",
    "cmap.set_under('white', alpha=0) \n",
    "hmap2 = ax3.imshow(1-X_test_tensor_np[t_step][0], cmap=cmap, vmin=0.5, vmax=1.5, aspect=0.5, interpolation='quadric')\n"
   ]
  },
  {
   "cell_type": "code",
   "execution_count": null,
   "id": "5b9f3748-32d0-4f72-b49f-af366f2f1557",
   "metadata": {},
   "outputs": [],
   "source": []
  },
  {
   "cell_type": "code",
   "execution_count": null,
   "id": "cea1e0b0-5c70-4e47-94c9-1d53b7cc4187",
   "metadata": {},
   "outputs": [],
   "source": []
  },
  {
   "cell_type": "code",
   "execution_count": null,
   "id": "c7107b40-b9a9-407a-9b60-981847fd254d",
   "metadata": {},
   "outputs": [],
   "source": []
  }
 ],
 "metadata": {
  "kernelspec": {
   "display_name": "Python 3 (ipykernel)",
   "language": "python",
   "name": "python3"
  },
  "language_info": {
   "codemirror_mode": {
    "name": "ipython",
    "version": 3
   },
   "file_extension": ".py",
   "mimetype": "text/x-python",
   "name": "python",
   "nbconvert_exporter": "python",
   "pygments_lexer": "ipython3",
   "version": "3.10.12"
  }
 },
 "nbformat": 4,
 "nbformat_minor": 5
}
