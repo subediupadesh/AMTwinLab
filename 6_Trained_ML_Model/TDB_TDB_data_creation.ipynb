{
 "cells": [
  {
   "cell_type": "code",
   "execution_count": 1,
   "id": "2b47cf24-4067-4f2d-8351-104a01a58d5a",
   "metadata": {},
   "outputs": [],
   "source": [
    "import netCDF4\n",
    "import numpy as np\n",
    "import matplotlib.pyplot as plt\n",
    "import pandas as pd\n",
    "import os\n",
    "\n",
    "import subprocess\n",
    "from matplotlib.animation import FuncAnimation\n",
    "import matplotlib.patches as patches\n",
    "from matplotlib.colors import ListedColormap\n",
    "from scipy.io import loadmat\n",
    "import natsort, pathlib\n",
    "import os\n",
    "import glob\n",
    "\n",
    "from sklearn.model_selection import train_test_split\n",
    "from torch.utils.data import Dataset, DataLoader, TensorDataset"
   ]
  },
  {
   "cell_type": "code",
   "execution_count": 2,
   "id": "b2d9458f-9d22-465a-9794-b1759efb8e16",
   "metadata": {},
   "outputs": [],
   "source": [
    "colormap_data = loadmat('cold2hot.mat')\n",
    "cold2hot = ListedColormap(colormap_data['colormap'])\n",
    "hot2cold = ListedColormap(colormap_data['colormap'][::-1])"
   ]
  },
  {
   "cell_type": "code",
   "execution_count": 3,
   "id": "f8fa4f78-faf5-4979-90ad-3be80b85f0b0",
   "metadata": {},
   "outputs": [],
   "source": [
    "path = os.path.abspath('../0_MOOSE_Input_Files/Heat_Sources/')"
   ]
  },
  {
   "cell_type": "code",
   "execution_count": 4,
   "id": "27f73363-271c-46ae-97d4-eea9cc9d8d3b",
   "metadata": {},
   "outputs": [],
   "source": [
    "model_path_BHS = path+'/Bessel/TDB/exodus/Au-Au.e'\n",
    "model_path_GHS = path+'/Gaussian/TDB/exodus/Au-Au.e'\n",
    "model_path_FTHS = path+'/FlatTop/TDB/exodus/Au-Au.e'\n",
    "model_path_RHS = path+'/Ring/TDB/exodus/Au-Au.e'"
   ]
  },
  {
   "cell_type": "code",
   "execution_count": 23,
   "id": "dd5a5fd2-e443-46a0-b523-3fd59c469083",
   "metadata": {},
   "outputs": [],
   "source": [
    "model = netCDF4.Dataset(model_path_RHS)"
   ]
  },
  {
   "cell_type": "code",
   "execution_count": 24,
   "id": "7da477b9-ec5c-43ee-ab1b-47aa7e536a1b",
   "metadata": {},
   "outputs": [
    {
     "name": "stdout",
     "output_type": "stream",
     "text": [
      "['eta1', 'p', 'temp', 'vel_x', 'vel_y']\n"
     ]
    }
   ],
   "source": [
    "names = model.variables[\"name_nod_var\"]\n",
    "names.set_auto_mask(False)\n",
    "param_in_exodus = [b\"\".join(c).decode(\"latin1\") for c in names[:]]\n",
    "print(param_in_exodus)"
   ]
  },
  {
   "cell_type": "code",
   "execution_count": 25,
   "id": "e6da2187-364e-42b9-95e6-5688df53c3dd",
   "metadata": {},
   "outputs": [],
   "source": [
    "parameters = ['vals_nod_var1', 'vals_nod_var3', 'vals_nod_var4', 'vals_nod_var5',]"
   ]
  },
  {
   "cell_type": "code",
   "execution_count": 26,
   "id": "6edb0048-5b62-4d10-a4f1-6e0632bdfee7",
   "metadata": {},
   "outputs": [],
   "source": [
    "LIQ, temp, velX, velY = [], [], [], []\n",
    "\n",
    "for i in range(4):\n",
    "    param = model.variables[parameters[i]][:]\n",
    "\n",
    "    X_all = model.variables['coordx'][:]\n",
    "    Y_all = model.variables['coordy'][:]\n",
    "    \n",
    "    points = np.vstack([Y_all,X_all,param]).T\n",
    "    \n",
    "    column_names = ['X', 'Y'] + list(range(param.shape[0]))\n",
    "    df = pd.DataFrame(points, columns=column_names)\n",
    "    df = df.sort_values(by = ['X', 'Y'], ascending = [True, True], ignore_index=True)\n",
    "    df_param = df.iloc[:, 2:]\n",
    "    \n",
    "    x_dim  = model.dimensions['num_nod_ns1'].size\n",
    "    y_dim =  model.dimensions['num_nod_ns2'].size\n",
    "    time_steps = model.dimensions['time_step'].size\n",
    "    array_ = df_param.to_numpy().flatten().reshape(y_dim, x_dim, time_steps)\n",
    "    array = np.flip(array_, axis=0)\n",
    "    if i == 0:\n",
    "        LIQ.append(array)\n",
    "    elif i == 1:\n",
    "        temp.append(array)\n",
    "    elif i == 2:\n",
    "        velX.append(array)\n",
    "    else:\n",
    "        velY.append(array)\n",
    "\n",
    "# time = np.array(model.variables['time_whole'][:]).reshape((-1, ))\n",
    "# LIQ, temp, = np.clip(LIQ[0][:,:,:], 0, 1), temp[0][:,:,:]\n",
    "# FCC = 1- LIQ"
   ]
  },
  {
   "cell_type": "code",
   "execution_count": 27,
   "id": "7c26b2b1-be89-4674-89c8-82fea435b90d",
   "metadata": {},
   "outputs": [
    {
     "data": {
      "text/plain": [
       "402"
      ]
     },
     "execution_count": 27,
     "metadata": {},
     "output_type": "execute_result"
    }
   ],
   "source": [
    "## BHS 66;477 | GHS 52;455 | FTHS 62;469 | RHS 17;419 \n",
    "source_type = \"RHS\"\n",
    "\n",
    "if source_type == \"BHS\":\n",
    "    t_ST, time_steps = 66, 477\n",
    "elif source_type == \"GHS\":\n",
    "    t_ST, time_steps = 52, 455\n",
    "elif source_type == \"FTHS\":\n",
    "    t_ST, time_steps = 62, 469\n",
    "else:\n",
    "    t_ST, time_steps = 17, 419\n",
    "\n",
    "dt = time_steps - t_ST\n",
    "time = np.array(model.variables['time_whole'][:]).reshape((-1, ))[np.r_[t_ST:time_steps]]\n",
    "LIQ, temp, velX, velY = np.where(LIQ[0] < 0.5, 0, 1)[:, :, np.r_[t_ST:time_steps]], temp[0][:, :, np.r_[t_ST:time_steps]], velX[0][:, :, np.r_[t_ST:time_steps]], velY[0][:, :, np.r_[t_ST:time_steps]]\n",
    "vel = (velX**2 + velY**2)**0.5\n",
    "\n",
    "## BHS 2;max | GHS 2;max | FTHS 2;max | RHS 2;max \n",
    "vel = np.round(np.where(vel < 2, 0, vel), decimals=2)  # Setting velocity in SOLID (FCC) Region to 0 and rounding off the decimal to 2 places\n",
    "\n",
    "X_, y_, V_, = np.moveaxis(temp, -1, 0), np.moveaxis(LIQ, -1, 0), np.moveaxis(vel, -1, 0)\n",
    "\n",
    "dt\n",
    "# temperature = np.where(temp < 1337, 0, 1)\n",
    "# X_, y_ = np.moveaxis(temperature, -1, 0), np.moveaxis(LIQ, -1, 0)"
   ]
  },
  {
   "cell_type": "code",
   "execution_count": null,
   "id": "2f55817b-05ba-408a-8548-8fd01b2f0d25",
   "metadata": {},
   "outputs": [],
   "source": [
    "411+403+407+402"
   ]
  },
  {
   "cell_type": "code",
   "execution_count": 10,
   "id": "0c15fdb0-8ae2-4dee-b72b-267335aa2741",
   "metadata": {},
   "outputs": [],
   "source": [
    "X, y, V, TIME = X_, y_, V_, time.copy() # Run this only for the first time"
   ]
  },
  {
   "cell_type": "code",
   "execution_count": null,
   "id": "ab39933c-8505-439e-b6b2-3a935a9847de",
   "metadata": {},
   "outputs": [],
   "source": []
  },
  {
   "cell_type": "code",
   "execution_count": 28,
   "id": "05394c85-91ba-4d58-8270-1849a74393e8",
   "metadata": {},
   "outputs": [
    {
     "data": {
      "text/plain": [
       "((1623, 201, 401), (1623, 201, 401), (1623, 201, 401), (1623,))"
      ]
     },
     "execution_count": 28,
     "metadata": {},
     "output_type": "execute_result"
    }
   ],
   "source": [
    "X, y, V, TIME = np.concatenate((X, X_), axis=0), np.concatenate((y, y_), axis=0), np.concatenate((V, V_), axis=0), np.concatenate((TIME, time), axis=0)\n",
    "X.shape, y.shape, V.shape, TIME.shape"
   ]
  },
  {
   "cell_type": "code",
   "execution_count": null,
   "id": "c9843a12-bfe1-4e8f-9322-b23433dc9268",
   "metadata": {},
   "outputs": [],
   "source": []
  },
  {
   "cell_type": "code",
   "execution_count": null,
   "id": "b3773715-333e-4f88-aad7-d7ff16f6b362",
   "metadata": {},
   "outputs": [],
   "source": [
    "t_step = 150\n",
    "laser_speed = 30\n",
    "laser_pos = (125 + time[t_step]*laser_speed)* 401/1000  # Laser actual position in true dimension\n",
    "\n",
    "fig, (ax1, ax2, ax3) = plt.subplots(3,1, figsize=(12,12), frameon=True)\n",
    "cmap = plt.get_cmap('RdYlGn_r')\n",
    "cmap.set_under('white', alpha=0)\n",
    "hmap1 = ax1.imshow(y_[0], cmap=cmap, vmin=0.5, vmax=1.0, aspect=0.5,  interpolation='quadric')\n",
    "cmap = plt.get_cmap('Wistia')\n",
    "cmap.set_under('white', alpha=0) \n",
    "hmap2 = ax1.imshow(1-y_[0], cmap=cmap, vmin=0.5, vmax=1.5, aspect=0.5, interpolation='quadric')\n",
    "ax1.arrow(50.125,-75, 0, 71,  width = 8.5, color='red', length_includes_head=True, clip_on=False)\n",
    "ax1.set_title(f't = {time[0]:.2f}s', pad=10, loc='right', fontsize=25, weight='bold')\n",
    "\n",
    "cmap = plt.get_cmap('RdYlGn_r')\n",
    "cmap.set_under('white', alpha=0)\n",
    "hmap3 = ax2.imshow(y_[t_step], cmap=cmap, vmin=0.5, vmax=1.0, aspect=0.5,  interpolation='quadric')\n",
    "cmap = plt.get_cmap('Wistia')\n",
    "cmap.set_under('white', alpha=0) \n",
    "hmap4 = ax2.imshow(1-y_[t_step], cmap=cmap, vmin=0.5, vmax=1.5, aspect=0.5, interpolation='quadric')\n",
    "ax2.arrow(laser_pos,-75, 0, 71,  width = 8.5, color='red', length_includes_head=True, clip_on=False)\n",
    "ax2.set_title(f't = {time[t_step]:.2f}s', pad=10, loc='right', fontsize=25, weight='bold')\n",
    "\n",
    "\n",
    "cmap = plt.get_cmap('gist_ncar_r')\n",
    "cmap.set_under('white', alpha=0)\n",
    "hmap5 = ax3.imshow(V_[t_step], cmap=cmap, vmin=2, aspect=0.5,  interpolation='quadric')\n",
    "ax3.arrow(laser_pos,-75, 0, 71,  width = 8.5, color='red', length_includes_head=True, clip_on=False)\n",
    "ax3.set_title(f't = {time[t_step]:.2f}s', pad=10, loc='right', fontsize=25, weight='bold')\n",
    "\n",
    "\n",
    "for ax in [ax1, ax2, ax3]: ax.set_ylim(201, -1); ax.set_xlim(-1, 401); ax.tick_params(axis='both', labelcolor='black', labelsize=65, bottom=False, top=False, left=False, right=False, labelbottom=False, labelleft=False); ax.spines[:].set_linewidth(4)\n",
    "for label in ax2.clabel(ax2.contour(X_[t_step], levels=[450, 700, 1337], colors='deepskyblue', linewidths=5, linestyles='dashdot'), inline=True, fontsize=25, colors='k', fmt='%1.0f K'): label.set_fontweight('bold')\n",
    "for label in ax3.clabel(ax3.contour(y_[t_step], levels=[0.99], colors='red', linewidths=5, linestyles='-'), inline=True,): label.set_fontweight('bold')"
   ]
  },
  {
   "cell_type": "code",
   "execution_count": null,
   "id": "3960bae4-6477-4c19-b4ff-798ed5d6ac4d",
   "metadata": {},
   "outputs": [],
   "source": []
  },
  {
   "cell_type": "code",
   "execution_count": 29,
   "id": "5d591682-cc91-4fcb-9a79-37b99363a1c4",
   "metadata": {},
   "outputs": [],
   "source": [
    "##########################################\n",
    "# Saving as Numpy Files\n",
    "path = os.path.abspath('../1_Simulation_Results/ML_numpy_files/')\n",
    "np.save(path+'/Temperature.npy', X)\n",
    "np.save(path+'/Phase.npy', y)\n",
    "np.save(path+'/Velocity.npy', V)\n",
    "np.save(path+'/Time.npy', TIME)"
   ]
  },
  {
   "cell_type": "code",
   "execution_count": null,
   "id": "c22b7c34-7086-42ae-99fb-9a83b7a8b130",
   "metadata": {},
   "outputs": [],
   "source": []
  },
  {
   "cell_type": "markdown",
   "id": "72aee85c-e4d7-47d1-8de2-54c407d7fb90",
   "metadata": {},
   "source": [
    "# Splitting Train Test Validation Dataset"
   ]
  },
  {
   "cell_type": "code",
   "execution_count": null,
   "id": "48dc6c64-79d5-4d5a-8d66-739c3c17bb8a",
   "metadata": {},
   "outputs": [],
   "source": [
    "path = os.path.abspath('data/')\n",
    "X, y = np.load(path+'/X.npy'), np.load(path+'/y.npy')"
   ]
  },
  {
   "cell_type": "code",
   "execution_count": null,
   "id": "bd740655-d695-4e01-90d6-51e057ba9c2e",
   "metadata": {},
   "outputs": [],
   "source": [
    "## Train Validation Test Split\n",
    "# Reshape X and y to match PyTorch's Conv2d input format: (batch_size, channels, width, height)\n",
    "X_reshaped = X[:, np.newaxis, :, :] \n",
    "y_reshaped = y[:, np.newaxis, :, :] \n",
    "\n",
    "# Split data into training, testing, validation sets\n",
    "X_, X_test, y_, y_test = train_test_split(X_reshaped, y_reshaped, test_size=0.1, random_state=69)\n",
    "X_train, X_val, y_train, y_val = train_test_split(X_, y_, test_size=0.111, random_state=69)  #test_size=0.109\n"
   ]
  },
  {
   "cell_type": "code",
   "execution_count": null,
   "id": "70d1d952-72b4-4ad3-93dc-3f59ae84d421",
   "metadata": {},
   "outputs": [],
   "source": [
    "np.save('data/X_test.npy', X_test)\n",
    "np.save('data/y_test.npy', y_test)"
   ]
  },
  {
   "cell_type": "code",
   "execution_count": null,
   "id": "277e4994-0a39-493e-8fb9-1d72d0cd0274",
   "metadata": {},
   "outputs": [],
   "source": []
  },
  {
   "cell_type": "code",
   "execution_count": null,
   "id": "9c107a89-409f-458f-81c1-aeb433a0ec7f",
   "metadata": {},
   "outputs": [],
   "source": []
  },
  {
   "cell_type": "markdown",
   "id": "684dc9ba-5b46-4462-ac14-b49f1a1b7e5c",
   "metadata": {},
   "source": [
    "## OLD"
   ]
  },
  {
   "cell_type": "code",
   "execution_count": null,
   "id": "1a80000c-cd55-41c5-aa3d-3a624cf4d573",
   "metadata": {},
   "outputs": [],
   "source": [
    "import netCDF4\n",
    "import numpy as np\n",
    "import matplotlib.pyplot as plt\n",
    "import pandas as pd\n",
    "import os\n",
    "\n",
    "import subprocess\n",
    "from matplotlib.animation import FuncAnimation\n",
    "import matplotlib.patches as patches\n",
    "from matplotlib.colors import ListedColormap\n",
    "from scipy.io import loadmat\n",
    "import natsort, pathlib\n",
    "import os\n",
    "import glob"
   ]
  },
  {
   "cell_type": "code",
   "execution_count": null,
   "id": "fad75f30-cc2a-46ae-840a-748f0ec0275f",
   "metadata": {},
   "outputs": [],
   "source": [
    "colormap_data = loadmat('cold2hot.mat')\n",
    "cold2hot = ListedColormap(colormap_data['colormap'])\n",
    "hot2cold = ListedColormap(colormap_data['colormap'][::-1])"
   ]
  },
  {
   "cell_type": "code",
   "execution_count": null,
   "id": "7ddaa426-389b-4c85-8821-e8da4b8289b6",
   "metadata": {},
   "outputs": [],
   "source": [
    "path = os.path.abspath('../0_MOOSE_Input_Files/Heat_Sources/ML_Data/Bessel/TDB/exodus/')"
   ]
  },
  {
   "cell_type": "code",
   "execution_count": null,
   "id": "a78cfba9-07f2-4f7d-9f47-46e7446da2f7",
   "metadata": {},
   "outputs": [],
   "source": [
    "model_path = path+'/Au-Au.e'\n",
    "model = netCDF4.Dataset(model_path)"
   ]
  },
  {
   "cell_type": "code",
   "execution_count": null,
   "id": "b5ad8b41-672c-41ae-9989-64980eb95c41",
   "metadata": {},
   "outputs": [],
   "source": [
    "model.dimensions"
   ]
  },
  {
   "cell_type": "code",
   "execution_count": null,
   "id": "a2ca8179-6782-44f1-a915-4b6dd242a30d",
   "metadata": {},
   "outputs": [],
   "source": [
    "model.variables.keys()"
   ]
  },
  {
   "cell_type": "code",
   "execution_count": null,
   "id": "3c648837-ab0b-4dfb-882d-34df2af0adff",
   "metadata": {},
   "outputs": [],
   "source": [
    "names = model.variables[\"name_nod_var\"]\n",
    "names.set_auto_mask(False)\n",
    "param_in_exodus = [b\"\".join(c).decode(\"latin1\") for c in names[:]]\n",
    "print(param_in_exodus)"
   ]
  },
  {
   "cell_type": "code",
   "execution_count": null,
   "id": "37a6973c-6660-4b76-93e4-0b844924c811",
   "metadata": {},
   "outputs": [],
   "source": [
    "parameters = ['vals_nod_var1', 'vals_nod_var3',]"
   ]
  },
  {
   "cell_type": "code",
   "execution_count": null,
   "id": "6ae1f343-b92c-4f18-8fd1-7b9c5a9c09f5",
   "metadata": {},
   "outputs": [],
   "source": [
    "area_df1 = pd.read_csv(path+'/Au-Au.csv',  encoding='utf-8')\n",
    "real_time = np.array(area_df1['time'])\n",
    "area_df1.head()"
   ]
  },
  {
   "cell_type": "code",
   "execution_count": null,
   "id": "b6602e1d-60bd-4102-be3f-d07c4b80ff60",
   "metadata": {},
   "outputs": [],
   "source": []
  },
  {
   "cell_type": "code",
   "execution_count": null,
   "id": "03de247f-54cb-4052-8f32-7d6fe35fcc53",
   "metadata": {},
   "outputs": [],
   "source": [
    "LIQ, temp = [], []\n",
    "\n",
    "for i in range(2):\n",
    "    param = model.variables[parameters[i]][:]\n",
    "\n",
    "    X_all = model.variables['coordx'][:]\n",
    "    Y_all = model.variables['coordy'][:]\n",
    "    \n",
    "    points = np.vstack([Y_all,X_all,param]).T\n",
    "    \n",
    "    column_names = ['X', 'Y'] + list(range(param.shape[0]))\n",
    "    df = pd.DataFrame(points, columns=column_names)\n",
    "    df = df.sort_values(by = ['X', 'Y'], ascending = [True, True], ignore_index=True)\n",
    "    df_param = df.iloc[:, 2:]\n",
    "    \n",
    "    x_dim  = model.dimensions['num_nod_ns1'].size\n",
    "    y_dim =  model.dimensions['num_nod_ns2'].size\n",
    "    time_steps = model.dimensions['time_step'].size\n",
    "    array_ = df_param.to_numpy().flatten().reshape(y_dim, x_dim, time_steps)\n",
    "    array = np.flip(array_, axis=0)\n",
    "    if i == 0:\n",
    "        LIQ.append(array)\n",
    "    else:\n",
    "        temp.append(array)\n",
    "\n",
    "# time = np.array(model.variables['time_whole'][:]).reshape((-1, ))\n",
    "# LIQ, temp, = np.clip(LIQ[0][:,:,:], 0, 1), temp[0][:,:,:]\n",
    "# FCC = 1- LIQ"
   ]
  },
  {
   "cell_type": "code",
   "execution_count": null,
   "id": "87f2970c-92ff-486e-8167-a510466fdb48",
   "metadata": {},
   "outputs": [],
   "source": [
    "t_ST = 61\n",
    "time_steps = 467\n",
    "dt = time_steps - t_ST\n",
    "time = np.array(model.variables['time_whole'][:]).reshape((-1, ))[np.r_[t_ST:time_steps]]\n",
    "LIQ, temp = np.where(LIQ[0] < 0.5, 0, 1)[:, :, np.r_[t_ST:time_steps]], temp[0][:, :, np.r_[t_ST:time_steps]]\n",
    "\n",
    "temperature = np.where(temp < 1337, 0, 1)\n",
    "LIQ, temperature = np.moveaxis(LIQ, -1, 0), np.moveaxis(temperature, -1, 0)\n",
    "# LIQ, temperature = LIQ.reshape(dt, 201 * 401), temperature.reshape(dt, 201 * 401)"
   ]
  },
  {
   "cell_type": "code",
   "execution_count": null,
   "id": "ed3d4060-0924-4090-b795-2f940eb20d27",
   "metadata": {},
   "outputs": [],
   "source": [
    "##########################################\n",
    "# Saving as Numpy Files\n",
    "path = os.path.abspath('../1_Simulation_Results/ML_numpy_files/')\n",
    "np.save(path+'/X.npy', temperature)\n",
    "np.save(path+'/y.npy', LIQ)\n",
    "np.save(path+'/time.npy', time)"
   ]
  },
  {
   "cell_type": "code",
   "execution_count": null,
   "id": "2730a871-58f9-4c7f-9b07-ba88fa69e166",
   "metadata": {},
   "outputs": [],
   "source": []
  },
  {
   "cell_type": "code",
   "execution_count": null,
   "id": "fa2a12df-f180-41d7-8aca-3e699211585e",
   "metadata": {},
   "outputs": [],
   "source": []
  },
  {
   "cell_type": "code",
   "execution_count": null,
   "id": "18906eed-018f-4c0a-8481-78fd4738a536",
   "metadata": {},
   "outputs": [],
   "source": []
  },
  {
   "cell_type": "code",
   "execution_count": null,
   "id": "6db21922-1353-4a8d-b67c-1106866649f0",
   "metadata": {},
   "outputs": [],
   "source": [
    "LIQ, temperature = LIQ.reshape(dt, 201, 401), temperature.reshape(dt, 201, 401)"
   ]
  },
  {
   "cell_type": "code",
   "execution_count": null,
   "id": "00590b8a-03c1-421b-8527-3b7707ebe107",
   "metadata": {},
   "outputs": [],
   "source": [
    "t_step = -1\n",
    "laser_speed = 30\n",
    "laser_pos = (125 + time[t_step]*laser_speed)* 401/1000  # Laser actual position in true dimension\n",
    "\n",
    "fig, (ax1, ax2) = plt.subplots(2,1, figsize=(12,8), frameon=True)\n",
    "cmap = plt.get_cmap('RdYlGn_r')\n",
    "cmap.set_under('white', alpha=0)\n",
    "hmap1 = ax1.imshow(LIQ[0], cmap=cmap, vmin=0.5, vmax=1.0, aspect=0.5,  interpolation='quadric')\n",
    "cmap = plt.get_cmap('Wistia')\n",
    "cmap.set_under('white', alpha=0) \n",
    "hmap2 = ax1.imshow(1-LIQ[0], cmap=cmap, vmin=0.5, vmax=1.5, aspect=0.5, interpolation='quadric')\n",
    "ax1.arrow(50.125,-75, 0, 71,  width = 8.5, color='red', length_includes_head=True, clip_on=False)\n",
    "ax1.set_title(f't = {time[0]:.2f}s', pad=10, loc='right', fontsize=25, weight='bold')\n",
    "\n",
    "cmap = plt.get_cmap('RdYlGn_r')\n",
    "cmap.set_under('white', alpha=0)\n",
    "hmap3 = ax2.imshow(LIQ[t_step], cmap=cmap, vmin=0.5, vmax=1.0, aspect=0.5,  interpolation='quadric')\n",
    "cmap = plt.get_cmap('Wistia')\n",
    "cmap.set_under('white', alpha=0) \n",
    "hmap4 = ax2.imshow(1-LIQ[t_step], cmap=cmap, vmin=0.5, vmax=1.5, aspect=0.5, interpolation='quadric')\n",
    "ax2.arrow(laser_pos,-75, 0, 71,  width = 8.5, color='red', length_includes_head=True, clip_on=False)\n",
    "ax2.set_title(f't = {time[t_step]:.2f}s', pad=10, loc='right', fontsize=25, weight='bold')\n",
    "\n",
    "for ax in [ax1, ax2]: ax.set_ylim(201, -1); ax.set_xlim(-1, 401); ax.tick_params(axis='both', labelcolor='black', labelsize=65, bottom=False, top=False, left=False, right=False, labelbottom=False, labelleft=False); ax.spines[:].set_linewidth(4)\n",
    "for label in ax2.clabel(ax2.contour(temp[:, :, t_step], levels=[450, 700, 1337], colors='deepskyblue', linewidths=5, linestyles='dashdot'), inline=True, fontsize=25, colors='k', fmt='%1.0f K'): label.set_fontweight('bold')"
   ]
  },
  {
   "cell_type": "code",
   "execution_count": null,
   "id": "b1859be7-f05f-4f3e-989f-01eec8fc5f49",
   "metadata": {},
   "outputs": [],
   "source": []
  },
  {
   "cell_type": "code",
   "execution_count": null,
   "id": "eacbfb20-4a71-4e4d-aecc-52b809de6bb2",
   "metadata": {},
   "outputs": [],
   "source": []
  },
  {
   "cell_type": "code",
   "execution_count": null,
   "id": "05ea6e0a-33ee-499e-ad3d-a622cb222bbc",
   "metadata": {},
   "outputs": [],
   "source": []
  }
 ],
 "metadata": {
  "kernelspec": {
   "display_name": "Python 3 (ipykernel)",
   "language": "python",
   "name": "python3"
  },
  "language_info": {
   "codemirror_mode": {
    "name": "ipython",
    "version": 3
   },
   "file_extension": ".py",
   "mimetype": "text/x-python",
   "name": "python",
   "nbconvert_exporter": "python",
   "pygments_lexer": "ipython3",
   "version": "3.11.8"
  }
 },
 "nbformat": 4,
 "nbformat_minor": 5
}
