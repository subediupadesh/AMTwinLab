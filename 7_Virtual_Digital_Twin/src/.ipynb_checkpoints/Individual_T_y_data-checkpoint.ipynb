{
 "cells": [
  {
   "cell_type": "code",
   "execution_count": 1,
   "id": "1a80000c-cd55-41c5-aa3d-3a624cf4d573",
   "metadata": {},
   "outputs": [],
   "source": [
    "import netCDF4\n",
    "import numpy as np\n",
    "import matplotlib.pyplot as plt\n",
    "import pandas as pd\n",
    "import os\n",
    "\n",
    "import subprocess\n",
    "from matplotlib.animation import FuncAnimation\n",
    "import matplotlib.patches as patches\n",
    "from matplotlib.colors import ListedColormap\n",
    "from scipy.io import loadmat\n",
    "import natsort, pathlib\n",
    "import os\n",
    "import glob"
   ]
  },
  {
   "cell_type": "code",
   "execution_count": 2,
   "id": "fb07c0e3-9519-4ee3-a120-6696f9d86fc3",
   "metadata": {},
   "outputs": [],
   "source": [
    "colormap_data = loadmat('../cold2hot.mat')\n",
    "cold2hot = ListedColormap(colormap_data['colormap'])\n",
    "hot2cold = ListedColormap(colormap_data['colormap'][::-1])"
   ]
  },
  {
   "cell_type": "code",
   "execution_count": 3,
   "id": "75f5e6a6-aacf-41f1-9402-a459dd37e54d",
   "metadata": {},
   "outputs": [],
   "source": [
    "path = os.path.abspath('../../0_MOOSE_Input_Files/Heat_Sources/')"
   ]
  },
  {
   "cell_type": "markdown",
   "id": "25e4ceaf-9338-4e37-9d52-627e81b1c553",
   "metadata": {},
   "source": [
    "# Ring HS"
   ]
  },
  {
   "cell_type": "code",
   "execution_count": 4,
   "id": "1e6be5aa-dd33-4068-ae75-f3157d95321f",
   "metadata": {},
   "outputs": [],
   "source": [
    "model_path_pf_temp = path+'/ML_Data/Ring/TDB/exodus/Au-Au.e'\n",
    "model_path_temp_only = path+'/ML_Data/Ring/temp_only/exodus/Au-Au.e'"
   ]
  },
  {
   "cell_type": "markdown",
   "id": "97739d7f-151f-490f-b982-fd2d6ea206c6",
   "metadata": {},
   "source": [
    "## Temperature only data"
   ]
  },
  {
   "cell_type": "code",
   "execution_count": 5,
   "id": "03fad016-c662-4a47-b18b-e6d66f458595",
   "metadata": {},
   "outputs": [
    {
     "data": {
      "text/html": [
       "<div>\n",
       "<style scoped>\n",
       "    .dataframe tbody tr th:only-of-type {\n",
       "        vertical-align: middle;\n",
       "    }\n",
       "\n",
       "    .dataframe tbody tr th {\n",
       "        vertical-align: top;\n",
       "    }\n",
       "\n",
       "    .dataframe thead th {\n",
       "        text-align: right;\n",
       "    }\n",
       "</style>\n",
       "<table border=\"1\" class=\"dataframe\">\n",
       "  <thead>\n",
       "    <tr style=\"text-align: right;\">\n",
       "      <th></th>\n",
       "      <th>time</th>\n",
       "      <th>temp_avg</th>\n",
       "      <th>temp_max</th>\n",
       "      <th>temp_min</th>\n",
       "    </tr>\n",
       "  </thead>\n",
       "  <tbody>\n",
       "    <tr>\n",
       "      <th>0</th>\n",
       "      <td>0.00</td>\n",
       "      <td>0.000000</td>\n",
       "      <td>0.000000</td>\n",
       "      <td>0.000000</td>\n",
       "    </tr>\n",
       "    <tr>\n",
       "      <th>1</th>\n",
       "      <td>0.06</td>\n",
       "      <td>581.127028</td>\n",
       "      <td>2171.698467</td>\n",
       "      <td>300.028397</td>\n",
       "    </tr>\n",
       "    <tr>\n",
       "      <th>2</th>\n",
       "      <td>0.12</td>\n",
       "      <td>585.371712</td>\n",
       "      <td>2181.580875</td>\n",
       "      <td>300.031036</td>\n",
       "    </tr>\n",
       "    <tr>\n",
       "      <th>3</th>\n",
       "      <td>0.18</td>\n",
       "      <td>586.164783</td>\n",
       "      <td>2178.176205</td>\n",
       "      <td>300.031485</td>\n",
       "    </tr>\n",
       "    <tr>\n",
       "      <th>4</th>\n",
       "      <td>0.24</td>\n",
       "      <td>586.880866</td>\n",
       "      <td>2174.893405</td>\n",
       "      <td>300.031828</td>\n",
       "    </tr>\n",
       "  </tbody>\n",
       "</table>\n",
       "</div>"
      ],
      "text/plain": [
       "   time    temp_avg     temp_max    temp_min\n",
       "0  0.00    0.000000     0.000000    0.000000\n",
       "1  0.06  581.127028  2171.698467  300.028397\n",
       "2  0.12  585.371712  2181.580875  300.031036\n",
       "3  0.18  586.164783  2178.176205  300.031485\n",
       "4  0.24  586.880866  2174.893405  300.031828"
      ]
     },
     "execution_count": 5,
     "metadata": {},
     "output_type": "execute_result"
    }
   ],
   "source": [
    "df1 = pd.read_csv(path+'/ML_Data/Ring/temp_only/exodus/Au-Au.csv',  encoding='utf-8')\n",
    "real_time = np.array(df1['time'])\n",
    "df1.head()"
   ]
  },
  {
   "cell_type": "code",
   "execution_count": 6,
   "id": "7ccf20f4-a495-4916-b6b2-a238b2ff7d59",
   "metadata": {},
   "outputs": [],
   "source": [
    "model = netCDF4.Dataset(model_path_temp_only)"
   ]
  },
  {
   "cell_type": "code",
   "execution_count": 7,
   "id": "34324a1b-d35a-43ab-bd62-cadd5fae3a19",
   "metadata": {},
   "outputs": [],
   "source": [
    "parameters = ['vals_nod_var2']"
   ]
  },
  {
   "cell_type": "code",
   "execution_count": 8,
   "id": "28015f3f-9012-4f9f-a705-d7d2fddaf1dc",
   "metadata": {},
   "outputs": [],
   "source": [
    "temp = []\n",
    "i = 0\n",
    "param = model.variables[parameters[i]][:]\n",
    "X_all = model.variables['coordx'][:]\n",
    "Y_all = model.variables['coordy'][:]\n",
    "points = np.vstack([Y_all,X_all,param]).T\n",
    "column_names = ['X', 'Y'] + list(range(param.shape[0]))\n",
    "df = pd.DataFrame(points, columns=column_names)\n",
    "df = df.sort_values(by = ['X', 'Y'], ascending = [True, True], ignore_index=True)\n",
    "df_param = df.iloc[:, 2:]\n",
    "\n",
    "x_dim  = model.dimensions['num_nod_ns1'].size\n",
    "y_dim =  model.dimensions['num_nod_ns2'].size\n",
    "time_steps = model.dimensions['time_step'].size\n",
    "array_ = df_param.to_numpy().flatten().reshape(y_dim, x_dim, time_steps)\n",
    "array = np.flip(array_, axis=0)\n",
    "temp.append(array)"
   ]
  },
  {
   "cell_type": "code",
   "execution_count": 9,
   "id": "fd0d6cb8-d9cf-4d16-b3d7-30d1f8a79a4e",
   "metadata": {},
   "outputs": [],
   "source": [
    "t_ST = 16\n",
    "time_steps = 401\n",
    "dt = time_steps - t_ST\n",
    "time = np.array(model.variables['time_whole'][:]).reshape((-1, ))[np.r_[t_ST:time_steps]]\n",
    "temp = temp[0][:, :, np.r_[t_ST:time_steps]]\n",
    "X_= np.moveaxis(temp, -1, 0)\n",
    "\n",
    "X_, time = X_[0::8], time[0::8]"
   ]
  },
  {
   "cell_type": "code",
   "execution_count": 10,
   "id": "6c7ea319-32e9-46e4-9578-a61309b50cc8",
   "metadata": {},
   "outputs": [
    {
     "data": {
      "image/png": "[encoded data removed]",
      "text/plain": [
       "<Figure size 1200x400 with 1 Axes>"
      ]
     },
     "metadata": {},
     "output_type": "display_data"
    }
   ],
   "source": [
    "t_step = -1\n",
    "laser_speed = 30\n",
    "laser_pos = (125 + time[t_step]*laser_speed)* 401/1000  # Laser actual position in true dimension\n",
    "\n",
    "fig, (ax1) = plt.subplots(1,1, figsize=(12,4), frameon=True)\n",
    "cmap = plt.get_cmap('rainbow')\n",
    "cmap.set_under('white', alpha=0)\n",
    "hmap1 = ax1.imshow(X_[t_step], cmap=cmap, vmin=300,  aspect=0.5,  interpolation='quadric')\n",
    "ax1.arrow(laser_pos,-75, 0, 71,  width = 8.5, color='red', length_includes_head=True, clip_on=False)\n",
    "ax1.set_title(f't = {time[t_step]:.2f}s', pad=10, loc='right', fontsize=25, weight='bold')\n",
    "for label in ax1.clabel(ax1.contour(X_[t_step], levels=[450, 700, 1337], colors='deepskyblue', linewidths=5, linestyles='dashdot'), inline=True, fontsize=25, colors='k', fmt='%1.0f K'): label.set_fontweight('bold')\n",
    "\n",
    "ax1.set_ylim(201, -1); ax1.set_xlim(-1, 401); ax1.tick_params(axis='both', labelcolor='black', labelsize=65, bottom=False, top=False, left=False, right=False, labelbottom=False, labelleft=False); ax1.spines[:].set_linewidth(4)\n"
   ]
  },
  {
   "cell_type": "markdown",
   "id": "c20ce37e-494d-46a1-9bf1-20a78a79cd80",
   "metadata": {},
   "source": [
    "### Saving Individual frame as single numpy file"
   ]
  },
  {
   "cell_type": "code",
   "execution_count": 11,
   "id": "ef97ccc5-1d3e-4b6c-802b-00709ba5fb9a",
   "metadata": {},
   "outputs": [
    {
     "data": {
      "text/plain": [
       "(49, 1, 201, 401)"
      ]
     },
     "execution_count": 11,
     "metadata": {},
     "output_type": "execute_result"
    }
   ],
   "source": [
    "## Reshaping to torch model format\n",
    "X_ = X_[:, np.newaxis, :, :]\n",
    "X_.shape"
   ]
  },
  {
   "cell_type": "code",
   "execution_count": 12,
   "id": "ce72976e-9eed-4940-b9a2-dea037ca318f",
   "metadata": {},
   "outputs": [],
   "source": [
    "save_path = os.path.abspath('../../7_Virtual_Digital_Twin/T_data/individual_T_data/')"
   ]
  },
  {
   "cell_type": "code",
   "execution_count": 13,
   "id": "86c0366b-8af7-4d2d-b1c3-8b67edd9026d",
   "metadata": {},
   "outputs": [],
   "source": [
    "for i in range(len(time)):\n",
    "    np.save(save_path+f'/Ring_X_{i}.npy', X_[i:i+1,:,:])"
   ]
  },
  {
   "cell_type": "code",
   "execution_count": null,
   "id": "655972a7-64a0-45df-825f-ecf9dc7f32f8",
   "metadata": {},
   "outputs": [],
   "source": []
  },
  {
   "cell_type": "markdown",
   "id": "04b39926-164c-48bb-b8d9-81f9b5db275d",
   "metadata": {},
   "source": [
    "## Phase only data from PF simulation"
   ]
  },
  {
   "cell_type": "code",
   "execution_count": 5,
   "id": "c5f6fb42-2578-439d-a3a7-dd36b74497b8",
   "metadata": {},
   "outputs": [
    {
     "data": {
      "text/html": [
       "<div>\n",
       "<style scoped>\n",
       "    .dataframe tbody tr th:only-of-type {\n",
       "        vertical-align: middle;\n",
       "    }\n",
       "\n",
       "    .dataframe tbody tr th {\n",
       "        vertical-align: top;\n",
       "    }\n",
       "\n",
       "    .dataframe thead th {\n",
       "        text-align: right;\n",
       "    }\n",
       "</style>\n",
       "<table border=\"1\" class=\"dataframe\">\n",
       "  <thead>\n",
       "    <tr style=\"text-align: right;\">\n",
       "      <th></th>\n",
       "      <th>time</th>\n",
       "      <th>area_h1</th>\n",
       "      <th>temp_avg</th>\n",
       "      <th>temp_max</th>\n",
       "      <th>temp_min</th>\n",
       "    </tr>\n",
       "  </thead>\n",
       "  <tbody>\n",
       "    <tr>\n",
       "      <th>0</th>\n",
       "      <td>0.00</td>\n",
       "      <td>2680.208333</td>\n",
       "      <td>0.000000</td>\n",
       "      <td>0.000000</td>\n",
       "      <td>0.000000</td>\n",
       "    </tr>\n",
       "    <tr>\n",
       "      <th>1</th>\n",
       "      <td>0.06</td>\n",
       "      <td>2837.614059</td>\n",
       "      <td>566.238679</td>\n",
       "      <td>1886.099307</td>\n",
       "      <td>300.030249</td>\n",
       "    </tr>\n",
       "    <tr>\n",
       "      <th>2</th>\n",
       "      <td>0.12</td>\n",
       "      <td>3084.136185</td>\n",
       "      <td>568.963675</td>\n",
       "      <td>1892.472841</td>\n",
       "      <td>300.031222</td>\n",
       "    </tr>\n",
       "    <tr>\n",
       "      <th>3</th>\n",
       "      <td>0.18</td>\n",
       "      <td>3306.816108</td>\n",
       "      <td>569.655601</td>\n",
       "      <td>1889.718467</td>\n",
       "      <td>300.031558</td>\n",
       "    </tr>\n",
       "    <tr>\n",
       "      <th>4</th>\n",
       "      <td>0.24</td>\n",
       "      <td>3565.791747</td>\n",
       "      <td>570.329372</td>\n",
       "      <td>1887.332106</td>\n",
       "      <td>300.031890</td>\n",
       "    </tr>\n",
       "  </tbody>\n",
       "</table>\n",
       "</div>"
      ],
      "text/plain": [
       "   time      area_h1    temp_avg     temp_max    temp_min\n",
       "0  0.00  2680.208333    0.000000     0.000000    0.000000\n",
       "1  0.06  2837.614059  566.238679  1886.099307  300.030249\n",
       "2  0.12  3084.136185  568.963675  1892.472841  300.031222\n",
       "3  0.18  3306.816108  569.655601  1889.718467  300.031558\n",
       "4  0.24  3565.791747  570.329372  1887.332106  300.031890"
      ]
     },
     "execution_count": 5,
     "metadata": {},
     "output_type": "execute_result"
    }
   ],
   "source": [
    "df2 = pd.read_csv(path+'/ML_Data/Ring/TDB/exodus/Au-Au.csv',  encoding='utf-8')\n",
    "real_time = np.array(df2['time'])\n",
    "df2.head()"
   ]
  },
  {
   "cell_type": "code",
   "execution_count": 6,
   "id": "42498f32-ad1c-4abc-964c-5072741ba87a",
   "metadata": {},
   "outputs": [],
   "source": [
    "model = netCDF4.Dataset(model_path_pf_temp)"
   ]
  },
  {
   "cell_type": "code",
   "execution_count": 24,
   "id": "f37e9b83-c69c-4a0a-8a2b-5ec4950133d7",
   "metadata": {},
   "outputs": [],
   "source": [
    "parameters = ['vals_nod_var1']"
   ]
  },
  {
   "cell_type": "code",
   "execution_count": 25,
   "id": "9cb6686c-5727-4954-8c86-b719a54207e6",
   "metadata": {},
   "outputs": [],
   "source": [
    "LIQ = []\n",
    "i = 0\n",
    "param = model.variables[parameters[i]][:]\n",
    "X_all = model.variables['coordx'][:]\n",
    "Y_all = model.variables['coordy'][:]\n",
    "points = np.vstack([Y_all,X_all,param]).T\n",
    "column_names = ['X', 'Y'] + list(range(param.shape[0]))\n",
    "df = pd.DataFrame(points, columns=column_names)\n",
    "df = df.sort_values(by = ['X', 'Y'], ascending = [True, True], ignore_index=True)\n",
    "df_param = df.iloc[:, 2:]\n",
    "\n",
    "x_dim  = model.dimensions['num_nod_ns1'].size\n",
    "y_dim =  model.dimensions['num_nod_ns2'].size\n",
    "time_steps = model.dimensions['time_step'].size\n",
    "array_ = df_param.to_numpy().flatten().reshape(y_dim, x_dim, time_steps)\n",
    "array = np.flip(array_, axis=0)\n",
    "LIQ.append(array)"
   ]
  },
  {
   "cell_type": "code",
   "execution_count": 26,
   "id": "79306506-19ea-4ef3-9133-02662d7db6b3",
   "metadata": {},
   "outputs": [],
   "source": [
    "## BHS 66;477 | GHS 52;455 | FTHS 62;469 | RHS 17;419 \n",
    "t_ST = 2*8\n",
    "time_steps = 1+2*200\n",
    "dt = time_steps - t_ST\n",
    "time = np.array(model.variables['time_whole'][:]).reshape((-1, ))[np.r_[t_ST:time_steps]]\n",
    "LIQ = np.where(LIQ[0] < 0.5, 0, 1)[:, :, np.r_[t_ST:time_steps]]\n",
    "\n",
    "y_ = np.moveaxis(LIQ, -1, 0)\n",
    "y_, time = y_[0::8], time[0::8]"
   ]
  },
  {
   "cell_type": "code",
   "execution_count": 28,
   "id": "11889314-6bd4-4c2b-b990-465c67414644",
   "metadata": {},
   "outputs": [
    {
     "data": {
      "image/png": "[encoded data removed]",
      "text/plain": [
       "<Figure size 1200x400 with 1 Axes>"
      ]
     },
     "metadata": {},
     "output_type": "display_data"
    }
   ],
   "source": [
    "t_step = 10\n",
    "laser_speed = 30\n",
    "laser_pos = (125 + time[t_step]*laser_speed)* 401/1000  # Laser actual position in true dimension\n",
    "\n",
    "fig, ax1 = plt.subplots(1,1, figsize=(12,4), frameon=True)\n",
    "cmap = plt.get_cmap('RdYlGn_r')\n",
    "cmap.set_under('white', alpha=0)\n",
    "hmap3 = ax1.imshow(y_[t_step], cmap=cmap, vmin=0.5, vmax=1.0, aspect=0.5,  interpolation='quadric')\n",
    "cmap = plt.get_cmap('Wistia')\n",
    "cmap.set_under('white', alpha=0) \n",
    "hmap4 = ax1.imshow(1-y_[t_step], cmap=cmap, vmin=0.5, vmax=1.5, aspect=0.5, interpolation='quadric')\n",
    "ax1.arrow(laser_pos,-75, 0, 71,  width = 8.5, color='red', length_includes_head=True, clip_on=False)\n",
    "ax1.set_title(f't = {time[t_step]:.2f}s', pad=10, loc='right', fontsize=25, weight='bold')\n",
    "ax1.set_ylim(201, -1); ax1.set_xlim(-1, 401); ax1.tick_params(axis='both', labelcolor='black', labelsize=65, bottom=False, top=False, left=False, right=False, labelbottom=False, labelleft=False); ax1.spines[:].set_linewidth(4)\n"
   ]
  },
  {
   "cell_type": "code",
   "execution_count": 30,
   "id": "e4cd18ea-a4b7-458b-b5c0-e53c294286e2",
   "metadata": {},
   "outputs": [
    {
     "data": {
      "text/plain": [
       "(49, 1, 201, 401)"
      ]
     },
     "execution_count": 30,
     "metadata": {},
     "output_type": "execute_result"
    }
   ],
   "source": [
    "## Reshaping to torch model format\n",
    "y_ = y_[:, np.newaxis, :, :]\n",
    "y_.shape"
   ]
  },
  {
   "cell_type": "code",
   "execution_count": 31,
   "id": "dd5534b5-89b7-4554-bbca-6bf4e641bba5",
   "metadata": {},
   "outputs": [],
   "source": [
    "save_path = os.path.abspath('../../7_Virtual_Digital_Twin/T_data/individual_y_data/')"
   ]
  },
  {
   "cell_type": "code",
   "execution_count": 32,
   "id": "e0e7f221-09c0-46ad-8710-22f805fa4227",
   "metadata": {},
   "outputs": [],
   "source": [
    "for i in range(len(time)):\n",
    "    np.save(save_path+f'/Ring_y_{i}.npy', y_[i:i+1,:,:])"
   ]
  },
  {
   "cell_type": "code",
   "execution_count": null,
   "id": "9d9745d6-d817-40b8-8362-54a2b0f9b022",
   "metadata": {},
   "outputs": [],
   "source": []
  }
 ],
 "metadata": {
  "kernelspec": {
   "display_name": "Python 3 (ipykernel)",
   "language": "python",
   "name": "python3"
  },
  "language_info": {
   "codemirror_mode": {
    "name": "ipython",
    "version": 3
   },
   "file_extension": ".py",
   "mimetype": "text/x-python",
   "name": "python",
   "nbconvert_exporter": "python",
   "pygments_lexer": "ipython3",
   "version": "3.10.12"
  }
 },
 "nbformat": 4,
 "nbformat_minor": 5
}
